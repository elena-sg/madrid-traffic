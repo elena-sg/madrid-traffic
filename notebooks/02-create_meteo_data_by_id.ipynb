{
 "cells": [
  {
   "cell_type": "code",
   "execution_count": 4,
   "id": "01dd47fb-088b-4836-8a46-24783e387c11",
   "metadata": {
    "pycharm": {
     "name": "#%%\n"
    }
   },
   "outputs": [],
   "source": [
    "import pandas as pd\n",
    "import numpy as np\n",
    "from graph_traffic.config import data_path\n",
    "\n",
    "import matplotlib as mpl\n",
    "import os\n",
    "\n",
    "mpl.rcParams['figure.figsize'] = (8, 6)\n",
    "mpl.rcParams['axes.grid'] = False"
   ]
  },
  {
   "cell_type": "markdown",
   "id": "abc3aaf4-efdb-4208-91c6-6cf545d3f3e2",
   "metadata": {
    "pycharm": {
     "name": "#%% md\n"
    }
   },
   "source": [
    "### Locations data"
   ]
  },
  {
   "cell_type": "code",
   "execution_count": 6,
   "id": "ea7da8a4-4afd-4f28-8196-974edd5c3838",
   "metadata": {
    "pycharm": {
     "name": "#%%\n"
    }
   },
   "outputs": [
    {
     "data": {
      "text/plain": "   codigo_corto  longitud    latitud\n0           4.0 -3.712257  40.423882\n1           8.0 -3.682316  40.421553\n2          16.0 -3.639242  40.440046\n3          18.0 -3.731836  40.394782\n4          24.0 -3.747345  40.419358",
      "text/html": "<div>\n<style scoped>\n    .dataframe tbody tr th:only-of-type {\n        vertical-align: middle;\n    }\n\n    .dataframe tbody tr th {\n        vertical-align: top;\n    }\n\n    .dataframe thead th {\n        text-align: right;\n    }\n</style>\n<table border=\"1\" class=\"dataframe\">\n  <thead>\n    <tr style=\"text-align: right;\">\n      <th></th>\n      <th>codigo_corto</th>\n      <th>longitud</th>\n      <th>latitud</th>\n    </tr>\n  </thead>\n  <tbody>\n    <tr>\n      <th>0</th>\n      <td>4.0</td>\n      <td>-3.712257</td>\n      <td>40.423882</td>\n    </tr>\n    <tr>\n      <th>1</th>\n      <td>8.0</td>\n      <td>-3.682316</td>\n      <td>40.421553</td>\n    </tr>\n    <tr>\n      <th>2</th>\n      <td>16.0</td>\n      <td>-3.639242</td>\n      <td>40.440046</td>\n    </tr>\n    <tr>\n      <th>3</th>\n      <td>18.0</td>\n      <td>-3.731836</td>\n      <td>40.394782</td>\n    </tr>\n    <tr>\n      <th>4</th>\n      <td>24.0</td>\n      <td>-3.747345</td>\n      <td>40.419358</td>\n    </tr>\n  </tbody>\n</table>\n</div>"
     },
     "execution_count": 6,
     "metadata": {},
     "output_type": "execute_result"
    }
   ],
   "source": [
    "locs = pd.read_csv(f'{data_path}/01-raw/meteo/Estaciones_control_datos_meteorologicos.csv', sep=';', encoding=\"cp1252\", usecols=['CÓDIGO_CORTO', 'LONGITUD', 'LATITUD'])\\\n",
    "    .dropna(subset=['CÓDIGO_CORTO'])\n",
    "locs.columns = ['codigo_corto', 'longitud', 'latitud']\n",
    "locs.to_csv(f'{data_path}/02-by-location-month/estaciones.csv', index=False)\n",
    "locs.head()"
   ]
  },
  {
   "cell_type": "code",
   "execution_count": 9,
   "id": "5a040ff2-6cfb-4068-8e2b-66629372eff6",
   "metadata": {
    "pycharm": {
     "name": "#%%\n"
    }
   },
   "outputs": [
    {
     "data": {
      "text/plain": "[4.0,\n 8.0,\n 16.0,\n 18.0,\n 24.0,\n 35.0,\n 36.0,\n 38.0,\n 39.0,\n 54.0,\n 56.0,\n 58.0,\n 59.0,\n 102.0,\n 103.0,\n 104.0,\n 106.0,\n 107.0,\n 108.0,\n 109.0,\n 110.0,\n 111.0,\n 112.0,\n 113.0,\n 114.0,\n 115.0]"
     },
     "execution_count": 9,
     "metadata": {},
     "output_type": "execute_result"
    }
   ],
   "source": [
    "cods_cortos = sorted(locs.codigo_corto.values)\n",
    "cods_cortos"
   ]
  },
  {
   "cell_type": "markdown",
   "id": "3d72edde-38fb-4806-886c-cc9ca58ad45d",
   "metadata": {
    "pycharm": {
     "name": "#%% md\n"
    }
   },
   "source": [
    "#### Historical data"
   ]
  },
  {
   "cell_type": "code",
   "execution_count": 8,
   "outputs": [
    {
     "data": {
      "text/plain": "['19', '20', '21']"
     },
     "execution_count": 8,
     "metadata": {},
     "output_type": "execute_result"
    }
   ],
   "source": [
    "month_dict = {\n",
    "    1: \"ene\", 2: \"feb\", 3: \"mar\", 4: \"abr\", 5: \"may\", 6: \"jun\", 7: \"jul\", 8: \"ago\", 9: \"sep\", 10: \"oct\", 11: \"nov\", 12: \"dic\"\n",
    "}\n",
    "hcols = [f\"H{d:02}\" for d in range(1, 25)]\n",
    "vcols = [f\"V{d:02}\" for d in range(1, 25)]\n",
    "\n",
    "years = sorted(list(set([file_name.split(\".\")[0][-2:] for file_name in os.listdir(f\"{data_path}/01-raw/meteo/history\")])))\n",
    "years"
   ],
   "metadata": {
    "collapsed": false,
    "pycharm": {
     "name": "#%%\n"
    }
   }
  },
  {
   "cell_type": "code",
   "execution_count": 16,
   "id": "83a75c5d-c6f1-4f09-8d87-64fe803ee5e3",
   "metadata": {
    "pycharm": {
     "name": "#%%\n"
    }
   },
   "outputs": [
    {
     "name": "stdout",
     "output_type": "stream",
     "text": [
      "36/36\r"
     ]
    }
   ],
   "source": [
    "files = []\n",
    "for year in years:\n",
    "    files += [f\"{data_path}/01-raw/meteo/history/{month_dict[i]}_meteo{year}.csv\" for i in range(1, 13)]\n",
    "n_files = len(files)\n",
    "for i, file in enumerate(files):\n",
    "    print(f\"{i+1}/{n_files}\", end=\"\\r\")\n",
    "    df = pd.read_csv(file, sep=';')\n",
    "    df['fecha'] = pd.to_datetime(dict(year=df.ANO, month=df.MES, day=df.DIA))\n",
    "    magnitudes = {\n",
    "        80: 'radiacion_ultravioleta',\n",
    "        81: 'velocidad_viento',\n",
    "        82: 'dir_viento',\n",
    "        83: 'temperatura',\n",
    "        86: 'humedad_relativa',\n",
    "        87: 'presion_barometrica',\n",
    "        88: 'radiacion_solar',\n",
    "        89: 'precipitacion'\n",
    "    }\n",
    "    df['magnitud'] = df.MAGNITUD.apply(lambda x: magnitudes[x])\n",
    "    df = df[df.magnitud!='radiacion_ultravioleta']\n",
    "    del df['PROVINCIA'], df['MUNICIPIO'], df['PUNTO_MUESTREO'], df['ANO'], df['MES'], df['DIA'], df['MAGNITUD']\n",
    "    df = df.rename(columns={'ESTACION': 'estacion'})\n",
    "    fechas = sorted(df.fecha.unique())\n",
    "\n",
    "    magnitudes = ['velocidad_viento', 'dir_viento', 'temperatura', 'humedad_relativa', 'presion_barometrica', 'radiacion_solar', 'precipitacion']\n",
    "    magnitudes_x = [f'{m}_x' for m in magnitudes]\n",
    "    magnitudes_y = [f'{m}_y' for m in magnitudes]\n",
    "    dfn = pd.DataFrame([], columns=['estacion', 'fecha', 'hora'] + magnitudes_x + magnitudes_y)\n",
    "\n",
    "    for estacion in cods_cortos:\n",
    "        for fecha in fechas:\n",
    "            dff = df[(df.fecha==fecha) & (df.estacion==estacion)]\n",
    "\n",
    "            dfh = dff[['magnitud']+hcols].set_index('magnitud').transpose()\n",
    "            dfh['hora'] = dfh.index.to_series().apply(lambda x: int(x[1:]))\n",
    "\n",
    "            dfv = dff[['magnitud']+vcols].set_index('magnitud').transpose()\n",
    "            dfv['hora'] = dfv.index.to_series().apply(lambda x: int(x[1:]))\n",
    "\n",
    "            dfm = dfh.merge(dfv, on='hora')\n",
    "            dfm['estacion'] = estacion\n",
    "            dfm['fecha'] = fecha\n",
    "\n",
    "            dfn = pd.concat([dfn, dfm])\n",
    "\n",
    "    dfn[magnitudes_x] = np.where(dfn[magnitudes_y]=='V', dfn[magnitudes_x], np.nan)\n",
    "    dfn = dfn.rename(columns=dict(zip(magnitudes_x, magnitudes)))\n",
    "    for m in magnitudes_y:\n",
    "        del dfn[m]\n",
    "\n",
    "    dfn.loc[dfn.hora==24, 'fecha'] = dfn.loc[dfn.hora==24, 'fecha'] + pd.DateOffset(days=1)\n",
    "    dfn.loc[dfn.hora==24, 'hora'] = 0\n",
    "    dfn['hora'] = dfn.hora.apply(lambda x: f'{x:02}:00:00')\n",
    "    dfn.fecha = pd.to_datetime(dfn.fecha.astype(str) + \" \" + dfn.hora)\n",
    "    del dfn['hora']\n",
    "    dfn.to_csv(f'{data_path}/02-by-location-month/meteo/{file.split(\"/\")[-1]}', index=False)"
   ]
  },
  {
   "cell_type": "code",
   "execution_count": 17,
   "id": "f1300037-e1d5-4e6c-85b3-b3ca664adb1b",
   "metadata": {
    "pycharm": {
     "name": "#%%\n"
    }
   },
   "outputs": [],
   "source": [
    "def transform_df(df):\n",
    "    df.loc[df.temperatura<-25] = np.nan\n",
    "    df.loc[df.humedad_relativa<0] = np.nan\n",
    "\n",
    "    wv = df.pop('velocidad_viento')\n",
    "    wd_rad = df.pop('dir_viento')*np.pi / 180\n",
    "    df['vientox'] = wv*np.cos(wd_rad)\n",
    "    df['vientoy'] = wv*np.sin(wd_rad)\n",
    "    \n",
    "    return df"
   ]
  },
  {
   "cell_type": "code",
   "execution_count": 22,
   "outputs": [
    {
     "name": "stdout",
     "output_type": "stream",
     "text": [
      "26/26\r"
     ]
    }
   ],
   "source": [
    "for j, estacion in enumerate(cods_cortos):\n",
    "    print(f\"{j+1}/{len(cods_cortos)}\", end=\"\\r\")\n",
    "    df = pd.DataFrame([])\n",
    "    for year in years:\n",
    "        paths = [f'{data_path}/02-by-location-month/meteo/{month_dict[i]}_meteo{year}.csv' for i in range(1, 13)]\n",
    "        for path in paths:\n",
    "            dfi = pd.read_csv(path, parse_dates=[\"fecha\"])\n",
    "            dfi = dfi[dfi.estacion==estacion]\n",
    "            df = pd.concat([df, dfi])\n",
    "    df = df.sort_values(\"fecha\")\n",
    "    df = transform_df(df)\n",
    "    df.to_csv(f\"{data_path}/03-by-location/meteo/estacion-{estacion:.0f}.csv\", index=False)"
   ],
   "metadata": {
    "collapsed": false,
    "pycharm": {
     "name": "#%%\n"
    }
   }
  },
  {
   "cell_type": "code",
   "execution_count": null,
   "id": "ef38ba13-372a-4934-aa9e-77471a77a00a",
   "metadata": {
    "pycharm": {
     "name": "#%%\n"
    }
   },
   "outputs": [],
   "source": []
  }
 ],
 "metadata": {
  "kernelspec": {
   "display_name": "Python 3 (ipykernel)",
   "language": "python",
   "name": "python3"
  },
  "language_info": {
   "codemirror_mode": {
    "name": "ipython",
    "version": 3
   },
   "file_extension": ".py",
   "mimetype": "text/x-python",
   "name": "python",
   "nbconvert_exporter": "python",
   "pygments_lexer": "ipython3",
   "version": "3.9.12"
  }
 },
 "nbformat": 4,
 "nbformat_minor": 5
}