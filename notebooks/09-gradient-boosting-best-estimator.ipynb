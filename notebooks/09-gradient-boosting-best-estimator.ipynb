{
 "cells": [
  {
   "cell_type": "code",
   "execution_count": 1,
   "metadata": {
    "collapsed": true,
    "pycharm": {
     "name": "#%%\n"
    }
   },
   "outputs": [
    {
     "name": "stderr",
     "output_type": "stream",
     "text": [
      "C:\\Users\\Bened\\PycharmProjects\\madrid-traffic\\env\\lib\\site-packages\\tqdm\\auto.py:22: TqdmWarning: IProgress not found. Please update jupyter and ipywidgets. See https://ipywidgets.readthedocs.io/en/stable/user_install.html\n",
      "  from .autonotebook import tqdm as notebook_tqdm\n"
     ]
    },
    {
     "name": "stdout",
     "output_type": "stream",
     "text": [
      "\n",
      "5126\n",
      "2021-11-30 00:00:00\r\n",
      "9847\n",
      "2021-11-30 00:00:00\r\n",
      "5045\n",
      "2021-11-30 00:00:00\r\n",
      "3685\n",
      "2021-11-30 00:00:00\r\n",
      "5046\n",
      "2021-11-30 00:00:00\r\n",
      "5125\n",
      "2021-11-30 00:00:00\r\n",
      "5061\n",
      "2021-11-30 00:00:00\r\n",
      "5122\n",
      "2021-11-30 00:00:00\r\n",
      "5245\n",
      "2021-11-30 00:00:00\r\n",
      "5047\n",
      "2021-11-30 00:00:00\r\n",
      "5055\n",
      "2021-11-30 00:00:00\r\n",
      "5054\n",
      "2021-11-30 00:00:00\r\n",
      "5108\n",
      "2021-11-30 00:00:00\r\n",
      "3686\n",
      "2021-11-30 00:00:00\r\n",
      "5052\n",
      "2021-11-30 00:00:00\r\n",
      "5050\n",
      "2021-11-30 00:00:00\r\n",
      "5051\n",
      "2021-11-30 00:00:00\r\n",
      "5048\n",
      "2021-11-30 00:00:00\r\n",
      "10025\n",
      "2021-11-30 00:00:00\r\n",
      "3576\n",
      "2021-11-30 00:00:00\r\n",
      "5105\n",
      "2021-11-30 00:00:00\r\n",
      "5121\n",
      "2021-11-30 00:00:00\r\n",
      "5044\n",
      "2021-11-30 00:00:00\r\n",
      "5120\n",
      "2021-11-30 00:00:00\r\n",
      "5049\n",
      "2021-11-30 00:00:00\r\n",
      "5118\n",
      "2021-11-30 00:00:00\r\n",
      "3628\n",
      "2021-11-30 00:00:00\r\n",
      "3572\n",
      "2021-11-30 00:00:00\r\n",
      "5114\n",
      "2021-11-30 00:00:00\r\n",
      "3684\n",
      "2021-11-30 00:00:00\r\n",
      "5102\n",
      "2021-11-30 00:00:00\r\n",
      "3481\n",
      "2021-11-30 00:00:00\r\n",
      "5100\n",
      "2021-11-30 00:00:00\r\n",
      "5119\n",
      "2021-11-30 00:00:00\r\n",
      "5101\n",
      "2021-11-30 00:00:00\r\n",
      "5099\n",
      "2021-11-30 00:00:00\r\n",
      "5109\n",
      "2021-11-30 00:00:00\r"
     ]
    }
   ],
   "source": [
    "import pandas as pd\n",
    "from graph_traffic.merge_data import merge_data\n",
    "from graph_traffic.get_data import get_mmagns\n",
    "from graph_traffic.custom_transformer import get_column_names, transform_df\n",
    "from graph_traffic.config import project_path\n",
    "from graph_traffic.model_selection import get_node_ids\n",
    "from sklearn.metrics import mean_absolute_error, mean_squared_error\n",
    "import xgboost as xgb\n",
    "import pickle\n",
    "import matplotlib.pyplot as plt\n",
    "\n",
    "ids_to_use = get_node_ids()\n",
    "\n",
    "data_dict = dict(\n",
    "    ids_list=ids_to_use,  #[1001],#[3532, 3542, 3544, 3545, 3546, 3577, 3637, 3640, 3641, 4761, 4763],\n",
    "    seq_len=4 * 24,\n",
    "    with_graph=False,\n",
    "    from_date=\"2019-01-01\",\n",
    "    to_date=\"2021-12-31\",\n",
    "    dataset_name=\"small\",\n",
    "    target=\"ocupacion\",\n",
    "    interactions=\"drop\"\n",
    ")\n",
    "\n",
    "meteo_dict = {\n",
    "    'rain': 'numerico_power',\n",
    "    'wind': 'drop',\n",
    "    'temperature': 'passthrough',\n",
    "    'humidity': 'passthrough',\n",
    "    'pressure': 'drop',\n",
    "    'radiation': 'passthrough'\n",
    "}\n",
    "mmagns = get_mmagns(meteo_dict)\n",
    "\n",
    "temporal_dict = {\n",
    "    'year': 'passthrough',\n",
    "    'season': 'ordinal',\n",
    "    'month': 'passthrough',\n",
    "    'day_of_month': 'passthrough',\n",
    "    'weekday': 'drop',\n",
    "    'hour': 'one_hot',\n",
    "    'minute': 'drop',\n",
    "    'bank_holiday': 'passthrough',\n",
    "    'school_holiday': 'drop',\n",
    "    'working_day': 'passthrough',\n",
    "    'state_of_alarm': 'passthrough'\n",
    "}\n",
    "\n",
    "column_names = get_column_names(meteo_dict, temporal_dict, \"drop\", data_dict[\"target\"])[1:]\n",
    "\n",
    "with open(f\"{project_path}/training_history/xgboost/bestparams.pkl\", \"rb\") as f:\n",
    "    best_params = pickle.load(f)\n",
    "\n",
    "dfs_dict = {}\n",
    "maes_per_sensor = {}\n",
    "mses_per_sensor = {}\n",
    "train_x = dict()\n",
    "train_y = dict()\n",
    "test_x = dict()\n",
    "test_y = dict()\n",
    "\n",
    "for node_id in ids_to_use:\n",
    "    df = merge_data(node_id, data_dict[\"from_date\"], data_dict[\"to_date\"], data_dict[\"target\"], mmagns)\n",
    "    dfs_dict[node_id] = transform_df(df, meteo_dict, temporal_dict, data_dict[\"interactions\"], data_dict[\"target\"])\n",
    "\n",
    "for node_id in ids_to_use:\n",
    "    print()\n",
    "    print(node_id)\n",
    "    maes_per_sensor[node_id] = dict()\n",
    "    mses_per_sensor[node_id] = dict()\n",
    "    for train_until in pd.date_range(\"2021-05-27\", \"2021-11-30\", freq=\"1M\"):\n",
    "        print(train_until, end=\"\\r\")\n",
    "        # all observations before or on 27th April 2021 are in the training\n",
    "        train_data_size = dfs_dict[node_id][(dfs_dict[node_id][:, 28] <= 2020) |\n",
    "                                            ((dfs_dict[node_id][:, 30] <= train_until.month) & (\n",
    "                                                        dfs_dict[node_id][:, 31] <= train_until.day))].shape[0]\n",
    "        test_data_size = dfs_dict[node_id][(dfs_dict[node_id][:, 28] >= 2020) &\n",
    "                                           ((dfs_dict[node_id][:, 30] >= train_until.month) & (\n",
    "                                                       dfs_dict[node_id][:, 31] >= train_until.day)) &\n",
    "                                           ((dfs_dict[node_id][:, 30] <= train_until.month + 1) & (\n",
    "                                                       dfs_dict[node_id][:, 31] <= 31))\n",
    "                                           ].shape[0]\n",
    "        train_x[node_id] = dfs_dict[node_id][:train_data_size, 1:]\n",
    "        train_y[node_id] = dfs_dict[node_id][:train_data_size, 0].ravel()\n",
    "\n",
    "        test_x[node_id] = dfs_dict[node_id][train_data_size:train_data_size + test_data_size, 1:]\n",
    "        test_y[node_id] = dfs_dict[node_id][train_data_size:train_data_size + test_data_size, 0].ravel()\n",
    "\n",
    "        reg = xgb.XGBRegressor(\n",
    "            n_estimators=best_params[\"n_estimators\"][node_id],\n",
    "            max_depth=best_params[\"max_depth\"][node_id],\n",
    "            min_child_weight=best_params[\"min_child_weight\"][node_id],\n",
    "            gamma=best_params[\"gamma\"][node_id],\n",
    "            subsample=best_params[\"subsample\"][node_id],\n",
    "            colsample_bytree=best_params[\"colsample_bytree\"][node_id],\n",
    "            reg_alpha=best_params[\"reg_alpha\"][node_id],\n",
    "            reg_lambda=best_params[\"reg_lambda\"][node_id],\n",
    "            learning_rate=best_params[\"learning_rate\"][node_id]\n",
    "        )\n",
    "\n",
    "        reg.fit(train_x[node_id], train_y[node_id])\n",
    "        pred = reg.predict(test_x[node_id])\n",
    "        maes_per_sensor[node_id][train_until] = mean_absolute_error(test_y[node_id], pred)\n",
    "        mses_per_sensor[node_id][train_until] = mean_squared_error(test_y[node_id], pred)\n",
    "\n"
   ]
  },
  {
   "cell_type": "code",
   "execution_count": 2,
   "outputs": [],
   "source": [
    "with open(f\"{project_path}/training_history/xgboost/maes.pkl\", \"wb\") as f:\n",
    "    pickle.dump(maes_per_sensor, f)\n",
    "\n",
    "with open(f\"{project_path}/training_history/xgboost/mses.pkl\", \"wb\") as f:\n",
    "    pickle.dump(mses_per_sensor, f)"
   ],
   "metadata": {
    "collapsed": false,
    "pycharm": {
     "name": "#%%\n"
    }
   }
  },
  {
   "cell_type": "code",
   "execution_count": 3,
   "outputs": [
    {
     "data": {
      "text/plain": "<Figure size 576x432 with 9 Axes>",
      "image/png": "[encoded data removed]"
     },
     "metadata": {
      "needs_background": "light"
     },
     "output_type": "display_data"
    }
   ],
   "source": [
    "best_params = {k: v for (k, v) in best_params.items() if not k.endswith(\"1\")}\n",
    "fig, axs = plt.subplots(3, 3, figsize=(8, 3 * 2))\n",
    "for i, (param, values) in enumerate(best_params.items()):\n",
    "    row = i // 3\n",
    "    column = i % 3\n",
    "    ax = axs[row, column]\n",
    "    ax.hist(values.values())\n",
    "    ax.set_title(param)\n",
    "#axs[-1, 1].axis(\"off\")\n",
    "#axs[-1, 2].axis(\"off\")\n",
    "fig.tight_layout()\n",
    "fig.savefig(f\"{project_path}/training_history/xgboost/parameters.png\")"
   ],
   "metadata": {
    "collapsed": false,
    "pycharm": {
     "name": "#%%\n"
    }
   }
  },
  {
   "cell_type": "code",
   "execution_count": 11,
   "outputs": [
    {
     "data": {
      "text/plain": "           Jun      Jul      Aug      Sep      Oct      Nov      Dec      avg  \\\n5126    6.8996   7.4763   6.9903   7.2942   7.8414   7.7308   9.2904   7.6461   \n9847    4.6899   4.0150   3.4106   4.3769   4.8746   4.5473   4.8495   4.3948   \n5045    1.4749   1.2375   1.5966   1.4315   2.0065   1.5629   2.2318   1.6488   \n3685    1.8281   1.7625   1.4426   1.5325   2.1099   1.5824   2.0035   1.7517   \n5046    2.4059   1.6503   1.2913   3.1530   3.6934   1.9043   2.4443   2.3632   \n5125    6.3790   6.2174   6.3604   7.0468   7.2862   8.0610   7.6189   6.9957   \n5061    1.8540   1.7741   1.3036   1.8390   2.5309   1.6682   1.9109   1.8401   \n5122    1.8461   2.0869   2.6607   1.7007   1.7993   1.6052   1.7681   1.9239   \n5245   22.0393   3.4744   1.4162   4.7687   7.4013   2.6533   4.4580   6.6016   \n5047    1.7797   1.4185   1.0671   1.2746   2.2084   1.2688   1.6492   1.5238   \n5055    6.6401   3.4486   1.8440   4.2295   5.1436   3.8297   3.9931   4.1612   \n5054    1.5444   1.0569   0.8983   1.1218   1.5434   1.3049   1.3388   1.2584   \n5108    2.3658   2.3406   1.8809  39.4781  43.3255   4.4796   2.9375  13.8297   \n3686    3.4708   3.0202   2.0835   2.8258   4.0722   3.4358   2.8799   3.1126   \n5052    2.4388   1.7607   1.2284   1.8152   2.5836   1.8795   2.0444   1.9644   \n5050    1.0149   0.9725   0.9213   1.0808   1.1515   1.1069   1.0672   1.0450   \n5051   10.9551   5.0933   2.6551   4.3353   8.4287   2.0619   1.7248   5.0363   \n5048    1.8216   1.1779   0.8311   1.1841   1.6796   1.3711   1.4871   1.3646   \n10025   1.8269   1.7231   1.0870   1.8848   2.4506   1.6091   1.6620   1.7491   \n3576    2.3365   2.3508   1.5687   2.9414   2.2572  28.4112   2.7997   6.0951   \n5105    1.7673   1.8326   1.2249   1.7410   1.9143   2.0236   2.0426   1.7923   \n5121    3.2254   3.4952   2.9627   2.4794   3.8084   2.7745   3.1156   3.1230   \n5044    0.8427   0.8621   0.7900   0.7822   0.8673   1.0403   0.9206   0.8722   \n5120    1.4531   1.3418   0.9345   1.0087   1.3679   0.9352   1.0666   1.1582   \n5049    1.1754   1.0364   0.8372   0.9792   2.1231   1.1247   1.2658   1.2203   \n5118    4.5087   4.4199   4.2478   3.2716   4.3688   3.8668   4.0794   4.1090   \n3628    2.3192   2.1954   1.1774   1.9066   2.4715   2.0432   2.0969   2.0300   \n3572    2.0133   1.7901   1.0070   2.1572   2.6688   1.6792   2.4421   1.9654   \n5114    1.4105   1.2406   1.0480   1.3095   1.6217  58.7894   6.7779  10.3139   \n3684    1.0756   1.1918   0.8751   3.7178   3.5479   1.6586   1.3391   1.9151   \n5102    1.0259   1.0999   0.9354   0.9706   0.8916  40.1113  19.3676   9.2003   \n3481    4.0974   4.3618   3.9530   5.1965   5.0991   3.4921   4.5206   4.3886   \n5100   22.9329  27.1362  26.5980  17.5415  19.5103  45.8914  30.2912  27.1288   \n5119    0.7127   0.6857   0.7107   0.7349   0.7322   0.6592   0.6451   0.6972   \n5101   35.7424  19.6767   1.7653  35.0356  23.5431  38.5762  15.4822  24.2602   \n5099    4.0229  15.0002   5.0897  10.4229  13.8562  56.2318  33.0991  19.6747   \n5109    1.1955   1.3375   1.0659   1.2480   1.3065   1.2582   1.3581   1.2528   \n\n           std  \n5126    0.7454  \n9847    0.4871  \n5045    0.3217  \n3685    0.2299  \n5046    0.7810  \n5125    0.6547  \n5061    0.3389  \n5122    0.3310  \n5245    6.5375  \n5047    0.3579  \n5055    1.3696  \n5054    0.2270  \n5108   17.4851  \n3686    0.5804  \n5052    0.4188  \n5050    0.0741  \n5051    3.2186  \n5048    0.3106  \n10025   0.3747  \n3576    9.1197  \n5105    0.2558  \n5121    0.4106  \n5044    0.0815  \n5120    0.2053  \n5049    0.3904  \n5118    0.3971  \n3628    0.3878  \n3572    0.5060  \n5114   19.8799  \n3684    1.1099  \n5102   14.1238  \n3481    0.5674  \n5100    8.7004  \n5119    0.0324  \n5101   12.2911  \n5099   17.3849  \n5109    0.0921  ",
      "text/html": "<div>\n<style scoped>\n    .dataframe tbody tr th:only-of-type {\n        vertical-align: middle;\n    }\n\n    .dataframe tbody tr th {\n        vertical-align: top;\n    }\n\n    .dataframe thead th {\n        text-align: right;\n    }\n</style>\n<table border=\"1\" class=\"dataframe\">\n  <thead>\n    <tr style=\"text-align: right;\">\n      <th></th>\n      <th>Jun</th>\n      <th>Jul</th>\n      <th>Aug</th>\n      <th>Sep</th>\n      <th>Oct</th>\n      <th>Nov</th>\n      <th>Dec</th>\n      <th>avg</th>\n      <th>std</th>\n    </tr>\n  </thead>\n  <tbody>\n    <tr>\n      <th>5126</th>\n      <td>6.8996</td>\n      <td>7.4763</td>\n      <td>6.9903</td>\n      <td>7.2942</td>\n      <td>7.8414</td>\n      <td>7.7308</td>\n      <td>9.2904</td>\n      <td>7.6461</td>\n      <td>0.7454</td>\n    </tr>\n    <tr>\n      <th>9847</th>\n      <td>4.6899</td>\n      <td>4.0150</td>\n      <td>3.4106</td>\n      <td>4.3769</td>\n      <td>4.8746</td>\n      <td>4.5473</td>\n      <td>4.8495</td>\n      <td>4.3948</td>\n      <td>0.4871</td>\n    </tr>\n    <tr>\n      <th>5045</th>\n      <td>1.4749</td>\n      <td>1.2375</td>\n      <td>1.5966</td>\n      <td>1.4315</td>\n      <td>2.0065</td>\n      <td>1.5629</td>\n      <td>2.2318</td>\n      <td>1.6488</td>\n      <td>0.3217</td>\n    </tr>\n    <tr>\n      <th>3685</th>\n      <td>1.8281</td>\n      <td>1.7625</td>\n      <td>1.4426</td>\n      <td>1.5325</td>\n      <td>2.1099</td>\n      <td>1.5824</td>\n      <td>2.0035</td>\n      <td>1.7517</td>\n      <td>0.2299</td>\n    </tr>\n    <tr>\n      <th>5046</th>\n      <td>2.4059</td>\n      <td>1.6503</td>\n      <td>1.2913</td>\n      <td>3.1530</td>\n      <td>3.6934</td>\n      <td>1.9043</td>\n      <td>2.4443</td>\n      <td>2.3632</td>\n      <td>0.7810</td>\n    </tr>\n    <tr>\n      <th>5125</th>\n      <td>6.3790</td>\n      <td>6.2174</td>\n      <td>6.3604</td>\n      <td>7.0468</td>\n      <td>7.2862</td>\n      <td>8.0610</td>\n      <td>7.6189</td>\n      <td>6.9957</td>\n      <td>0.6547</td>\n    </tr>\n    <tr>\n      <th>5061</th>\n      <td>1.8540</td>\n      <td>1.7741</td>\n      <td>1.3036</td>\n      <td>1.8390</td>\n      <td>2.5309</td>\n      <td>1.6682</td>\n      <td>1.9109</td>\n      <td>1.8401</td>\n      <td>0.3389</td>\n    </tr>\n    <tr>\n      <th>5122</th>\n      <td>1.8461</td>\n      <td>2.0869</td>\n      <td>2.6607</td>\n      <td>1.7007</td>\n      <td>1.7993</td>\n      <td>1.6052</td>\n      <td>1.7681</td>\n      <td>1.9239</td>\n      <td>0.3310</td>\n    </tr>\n    <tr>\n      <th>5245</th>\n      <td>22.0393</td>\n      <td>3.4744</td>\n      <td>1.4162</td>\n      <td>4.7687</td>\n      <td>7.4013</td>\n      <td>2.6533</td>\n      <td>4.4580</td>\n      <td>6.6016</td>\n      <td>6.5375</td>\n    </tr>\n    <tr>\n      <th>5047</th>\n      <td>1.7797</td>\n      <td>1.4185</td>\n      <td>1.0671</td>\n      <td>1.2746</td>\n      <td>2.2084</td>\n      <td>1.2688</td>\n      <td>1.6492</td>\n      <td>1.5238</td>\n      <td>0.3579</td>\n    </tr>\n    <tr>\n      <th>5055</th>\n      <td>6.6401</td>\n      <td>3.4486</td>\n      <td>1.8440</td>\n      <td>4.2295</td>\n      <td>5.1436</td>\n      <td>3.8297</td>\n      <td>3.9931</td>\n      <td>4.1612</td>\n      <td>1.3696</td>\n    </tr>\n    <tr>\n      <th>5054</th>\n      <td>1.5444</td>\n      <td>1.0569</td>\n      <td>0.8983</td>\n      <td>1.1218</td>\n      <td>1.5434</td>\n      <td>1.3049</td>\n      <td>1.3388</td>\n      <td>1.2584</td>\n      <td>0.2270</td>\n    </tr>\n    <tr>\n      <th>5108</th>\n      <td>2.3658</td>\n      <td>2.3406</td>\n      <td>1.8809</td>\n      <td>39.4781</td>\n      <td>43.3255</td>\n      <td>4.4796</td>\n      <td>2.9375</td>\n      <td>13.8297</td>\n      <td>17.4851</td>\n    </tr>\n    <tr>\n      <th>3686</th>\n      <td>3.4708</td>\n      <td>3.0202</td>\n      <td>2.0835</td>\n      <td>2.8258</td>\n      <td>4.0722</td>\n      <td>3.4358</td>\n      <td>2.8799</td>\n      <td>3.1126</td>\n      <td>0.5804</td>\n    </tr>\n    <tr>\n      <th>5052</th>\n      <td>2.4388</td>\n      <td>1.7607</td>\n      <td>1.2284</td>\n      <td>1.8152</td>\n      <td>2.5836</td>\n      <td>1.8795</td>\n      <td>2.0444</td>\n      <td>1.9644</td>\n      <td>0.4188</td>\n    </tr>\n    <tr>\n      <th>5050</th>\n      <td>1.0149</td>\n      <td>0.9725</td>\n      <td>0.9213</td>\n      <td>1.0808</td>\n      <td>1.1515</td>\n      <td>1.1069</td>\n      <td>1.0672</td>\n      <td>1.0450</td>\n      <td>0.0741</td>\n    </tr>\n    <tr>\n      <th>5051</th>\n      <td>10.9551</td>\n      <td>5.0933</td>\n      <td>2.6551</td>\n      <td>4.3353</td>\n      <td>8.4287</td>\n      <td>2.0619</td>\n      <td>1.7248</td>\n      <td>5.0363</td>\n      <td>3.2186</td>\n    </tr>\n    <tr>\n      <th>5048</th>\n      <td>1.8216</td>\n      <td>1.1779</td>\n      <td>0.8311</td>\n      <td>1.1841</td>\n      <td>1.6796</td>\n      <td>1.3711</td>\n      <td>1.4871</td>\n      <td>1.3646</td>\n      <td>0.3106</td>\n    </tr>\n    <tr>\n      <th>10025</th>\n      <td>1.8269</td>\n      <td>1.7231</td>\n      <td>1.0870</td>\n      <td>1.8848</td>\n      <td>2.4506</td>\n      <td>1.6091</td>\n      <td>1.6620</td>\n      <td>1.7491</td>\n      <td>0.3747</td>\n    </tr>\n    <tr>\n      <th>3576</th>\n      <td>2.3365</td>\n      <td>2.3508</td>\n      <td>1.5687</td>\n      <td>2.9414</td>\n      <td>2.2572</td>\n      <td>28.4112</td>\n      <td>2.7997</td>\n      <td>6.0951</td>\n      <td>9.1197</td>\n    </tr>\n    <tr>\n      <th>5105</th>\n      <td>1.7673</td>\n      <td>1.8326</td>\n      <td>1.2249</td>\n      <td>1.7410</td>\n      <td>1.9143</td>\n      <td>2.0236</td>\n      <td>2.0426</td>\n      <td>1.7923</td>\n      <td>0.2558</td>\n    </tr>\n    <tr>\n      <th>5121</th>\n      <td>3.2254</td>\n      <td>3.4952</td>\n      <td>2.9627</td>\n      <td>2.4794</td>\n      <td>3.8084</td>\n      <td>2.7745</td>\n      <td>3.1156</td>\n      <td>3.1230</td>\n      <td>0.4106</td>\n    </tr>\n    <tr>\n      <th>5044</th>\n      <td>0.8427</td>\n      <td>0.8621</td>\n      <td>0.7900</td>\n      <td>0.7822</td>\n      <td>0.8673</td>\n      <td>1.0403</td>\n      <td>0.9206</td>\n      <td>0.8722</td>\n      <td>0.0815</td>\n    </tr>\n    <tr>\n      <th>5120</th>\n      <td>1.4531</td>\n      <td>1.3418</td>\n      <td>0.9345</td>\n      <td>1.0087</td>\n      <td>1.3679</td>\n      <td>0.9352</td>\n      <td>1.0666</td>\n      <td>1.1582</td>\n      <td>0.2053</td>\n    </tr>\n    <tr>\n      <th>5049</th>\n      <td>1.1754</td>\n      <td>1.0364</td>\n      <td>0.8372</td>\n      <td>0.9792</td>\n      <td>2.1231</td>\n      <td>1.1247</td>\n      <td>1.2658</td>\n      <td>1.2203</td>\n      <td>0.3904</td>\n    </tr>\n    <tr>\n      <th>5118</th>\n      <td>4.5087</td>\n      <td>4.4199</td>\n      <td>4.2478</td>\n      <td>3.2716</td>\n      <td>4.3688</td>\n      <td>3.8668</td>\n      <td>4.0794</td>\n      <td>4.1090</td>\n      <td>0.3971</td>\n    </tr>\n    <tr>\n      <th>3628</th>\n      <td>2.3192</td>\n      <td>2.1954</td>\n      <td>1.1774</td>\n      <td>1.9066</td>\n      <td>2.4715</td>\n      <td>2.0432</td>\n      <td>2.0969</td>\n      <td>2.0300</td>\n      <td>0.3878</td>\n    </tr>\n    <tr>\n      <th>3572</th>\n      <td>2.0133</td>\n      <td>1.7901</td>\n      <td>1.0070</td>\n      <td>2.1572</td>\n      <td>2.6688</td>\n      <td>1.6792</td>\n      <td>2.4421</td>\n      <td>1.9654</td>\n      <td>0.5060</td>\n    </tr>\n    <tr>\n      <th>5114</th>\n      <td>1.4105</td>\n      <td>1.2406</td>\n      <td>1.0480</td>\n      <td>1.3095</td>\n      <td>1.6217</td>\n      <td>58.7894</td>\n      <td>6.7779</td>\n      <td>10.3139</td>\n      <td>19.8799</td>\n    </tr>\n    <tr>\n      <th>3684</th>\n      <td>1.0756</td>\n      <td>1.1918</td>\n      <td>0.8751</td>\n      <td>3.7178</td>\n      <td>3.5479</td>\n      <td>1.6586</td>\n      <td>1.3391</td>\n      <td>1.9151</td>\n      <td>1.1099</td>\n    </tr>\n    <tr>\n      <th>5102</th>\n      <td>1.0259</td>\n      <td>1.0999</td>\n      <td>0.9354</td>\n      <td>0.9706</td>\n      <td>0.8916</td>\n      <td>40.1113</td>\n      <td>19.3676</td>\n      <td>9.2003</td>\n      <td>14.1238</td>\n    </tr>\n    <tr>\n      <th>3481</th>\n      <td>4.0974</td>\n      <td>4.3618</td>\n      <td>3.9530</td>\n      <td>5.1965</td>\n      <td>5.0991</td>\n      <td>3.4921</td>\n      <td>4.5206</td>\n      <td>4.3886</td>\n      <td>0.5674</td>\n    </tr>\n    <tr>\n      <th>5100</th>\n      <td>22.9329</td>\n      <td>27.1362</td>\n      <td>26.5980</td>\n      <td>17.5415</td>\n      <td>19.5103</td>\n      <td>45.8914</td>\n      <td>30.2912</td>\n      <td>27.1288</td>\n      <td>8.7004</td>\n    </tr>\n    <tr>\n      <th>5119</th>\n      <td>0.7127</td>\n      <td>0.6857</td>\n      <td>0.7107</td>\n      <td>0.7349</td>\n      <td>0.7322</td>\n      <td>0.6592</td>\n      <td>0.6451</td>\n      <td>0.6972</td>\n      <td>0.0324</td>\n    </tr>\n    <tr>\n      <th>5101</th>\n      <td>35.7424</td>\n      <td>19.6767</td>\n      <td>1.7653</td>\n      <td>35.0356</td>\n      <td>23.5431</td>\n      <td>38.5762</td>\n      <td>15.4822</td>\n      <td>24.2602</td>\n      <td>12.2911</td>\n    </tr>\n    <tr>\n      <th>5099</th>\n      <td>4.0229</td>\n      <td>15.0002</td>\n      <td>5.0897</td>\n      <td>10.4229</td>\n      <td>13.8562</td>\n      <td>56.2318</td>\n      <td>33.0991</td>\n      <td>19.6747</td>\n      <td>17.3849</td>\n    </tr>\n    <tr>\n      <th>5109</th>\n      <td>1.1955</td>\n      <td>1.3375</td>\n      <td>1.0659</td>\n      <td>1.2480</td>\n      <td>1.3065</td>\n      <td>1.2582</td>\n      <td>1.3581</td>\n      <td>1.2528</td>\n      <td>0.0921</td>\n    </tr>\n  </tbody>\n</table>\n</div>"
     },
     "execution_count": 11,
     "metadata": {},
     "output_type": "execute_result"
    }
   ],
   "source": [
    "maes = pd.DataFrame(maes_per_sensor)\n",
    "maes.index = [\"Jun\", \"Jul\", \"Aug\", \"Sep\", \"Oct\", \"Nov\", \"Dec\"]\n",
    "maes = maes.T\n",
    "maes[\"avg\"] = maes.mean(axis=1)\n",
    "maes[\"std\"] = maes.std(axis=1)\n",
    "maes = maes.round(4)\n",
    "#maes = maes[[\"avg MAE\", \"std MAE\"]].round(4)\n",
    "maes.to_csv(f\"{project_path}/training_history/xgboost/xgb_maes.csv\")\n",
    "maes"
   ],
   "metadata": {
    "collapsed": false,
    "pycharm": {
     "name": "#%%\n"
    }
   }
  },
  {
   "cell_type": "code",
   "execution_count": 14,
   "outputs": [
    {
     "data": {
      "text/plain": "           Jun     Jul     Aug      Sep      Oct      Nov      Dec      avg  \\\n5126     84.33  101.14   89.30    90.71   115.92   104.13   159.07   106.37   \n9847     35.79   28.29   16.96    36.85    45.13    44.68    46.31    36.29   \n5045      3.20    2.52    4.40     4.14    22.57     4.21    11.12     7.45   \n3685      5.43    5.74    3.48     4.35     8.06     5.16     8.68     5.84   \n5046     12.78    6.83    4.92    36.52    40.53     9.55    15.03    18.02   \n5125     74.45   66.06   65.89    87.57    96.66   114.46   103.67    86.96   \n5061      6.06    6.19    3.27     6.26    15.15     5.76     7.34     7.15   \n5122      7.78    9.16    9.47     6.81    10.08     7.72     6.90     8.27   \n5245   1194.45   35.53    3.61   104.79   319.64    33.43   106.64   256.87   \n5047      8.06    4.31    1.81     2.92    33.42     3.57     8.21     8.90   \n5055     78.62   24.15    6.18    34.92    57.62    40.26    32.50    39.18   \n5054      5.53    1.92    1.34     2.04     8.31     3.01     3.62     3.68   \n5108     16.40   22.66   11.46  1713.92  2255.58    27.65    26.20   581.98   \n3686     23.11   18.77    7.96    17.44    38.99    23.63    19.60    21.36   \n5052     13.62    6.09    2.74     5.61    28.82     7.31     8.61    10.40   \n5050      1.63    1.51    1.32     2.27     2.59     3.06     2.08     2.07   \n5051    464.18  105.19   27.56   177.82   411.49     7.19     6.84   171.47   \n5048      7.98    3.70    1.13     2.78     8.70     4.02     5.27     4.80   \n10025     8.90    9.73    2.27    10.62    20.32     7.59     9.26     9.81   \n3576     14.03   12.99    4.54    22.54    12.05  1553.34    21.17   234.38   \n5105      6.45    6.90    2.39     5.24     8.42     9.01     8.91     6.76   \n5121     21.14   24.72   12.88    13.68    55.93    19.14    21.37    24.12   \n5044      1.24    1.24    1.02     0.93     1.36     1.60     1.31     1.24   \n5120     13.00    8.17    2.68     2.13    13.36     1.56     2.42     6.19   \n5049      2.96    2.14    1.14     1.55    46.32     3.10     3.63     8.69   \n5118     35.90   35.56   25.32    23.38    39.75    34.64    34.70    32.75   \n3628     13.11   18.87    5.48    11.30    21.01    16.75    13.61    14.30   \n3572     12.83   12.84    2.29    14.37    39.40     9.50    22.77    16.28   \n5114      3.44    2.91    2.06     3.44     6.45  4238.86   401.27   665.49   \n3684      3.30    3.05    1.43    80.72    23.49     7.57     4.24    17.68   \n5102      2.25    2.39    1.51     1.79     2.59  1752.80   427.98   313.04   \n3481     40.17   42.23   32.68    72.46    86.68    37.00    58.08    52.76   \n5100    775.05  991.93  992.24   448.70   570.12  2443.82  1372.81  1084.95   \n5119      0.85    0.83    0.70     1.11     0.94     0.62     0.62     0.81   \n5101   1477.33  531.37    4.92  1351.82   715.96  1628.47   294.20   857.72   \n5099     29.71  677.85   32.34   403.57   362.40  3862.09  2153.37  1074.48   \n5109      3.48    3.78    1.91     2.63     3.51     3.20     3.58     3.16   \n\n           std  \n5126     23.67  \n9847      9.91  \n5045      6.71  \n3685      1.75  \n5046     13.38  \n5125     17.60  \n5061      3.46  \n5122      1.20  \n5245    394.92  \n5047     10.27  \n5055     21.63  \n5054      2.28  \n5108    898.94  \n3686      8.65  \n5052      8.13  \n5050      0.58  \n5051    178.29  \n5048      2.53  \n10025     4.99  \n3576    538.49  \n5105      2.20  \n5121     13.57  \n5044      0.20  \n5120      4.87  \n5049     15.39  \n5118      5.57  \n3628      4.79  \n3572     10.99  \n5114   1465.26  \n3684     26.66  \n5102    605.87  \n3481     18.85  \n5100    622.50  \n5119      0.17  \n5101    584.75  \n5099   1321.63  \n5109      0.61  ",
      "text/html": "<div>\n<style scoped>\n    .dataframe tbody tr th:only-of-type {\n        vertical-align: middle;\n    }\n\n    .dataframe tbody tr th {\n        vertical-align: top;\n    }\n\n    .dataframe thead th {\n        text-align: right;\n    }\n</style>\n<table border=\"1\" class=\"dataframe\">\n  <thead>\n    <tr style=\"text-align: right;\">\n      <th></th>\n      <th>Jun</th>\n      <th>Jul</th>\n      <th>Aug</th>\n      <th>Sep</th>\n      <th>Oct</th>\n      <th>Nov</th>\n      <th>Dec</th>\n      <th>avg</th>\n      <th>std</th>\n    </tr>\n  </thead>\n  <tbody>\n    <tr>\n      <th>5126</th>\n      <td>84.33</td>\n      <td>101.14</td>\n      <td>89.30</td>\n      <td>90.71</td>\n      <td>115.92</td>\n      <td>104.13</td>\n      <td>159.07</td>\n      <td>106.37</td>\n      <td>23.67</td>\n    </tr>\n    <tr>\n      <th>9847</th>\n      <td>35.79</td>\n      <td>28.29</td>\n      <td>16.96</td>\n      <td>36.85</td>\n      <td>45.13</td>\n      <td>44.68</td>\n      <td>46.31</td>\n      <td>36.29</td>\n      <td>9.91</td>\n    </tr>\n    <tr>\n      <th>5045</th>\n      <td>3.20</td>\n      <td>2.52</td>\n      <td>4.40</td>\n      <td>4.14</td>\n      <td>22.57</td>\n      <td>4.21</td>\n      <td>11.12</td>\n      <td>7.45</td>\n      <td>6.71</td>\n    </tr>\n    <tr>\n      <th>3685</th>\n      <td>5.43</td>\n      <td>5.74</td>\n      <td>3.48</td>\n      <td>4.35</td>\n      <td>8.06</td>\n      <td>5.16</td>\n      <td>8.68</td>\n      <td>5.84</td>\n      <td>1.75</td>\n    </tr>\n    <tr>\n      <th>5046</th>\n      <td>12.78</td>\n      <td>6.83</td>\n      <td>4.92</td>\n      <td>36.52</td>\n      <td>40.53</td>\n      <td>9.55</td>\n      <td>15.03</td>\n      <td>18.02</td>\n      <td>13.38</td>\n    </tr>\n    <tr>\n      <th>5125</th>\n      <td>74.45</td>\n      <td>66.06</td>\n      <td>65.89</td>\n      <td>87.57</td>\n      <td>96.66</td>\n      <td>114.46</td>\n      <td>103.67</td>\n      <td>86.96</td>\n      <td>17.60</td>\n    </tr>\n    <tr>\n      <th>5061</th>\n      <td>6.06</td>\n      <td>6.19</td>\n      <td>3.27</td>\n      <td>6.26</td>\n      <td>15.15</td>\n      <td>5.76</td>\n      <td>7.34</td>\n      <td>7.15</td>\n      <td>3.46</td>\n    </tr>\n    <tr>\n      <th>5122</th>\n      <td>7.78</td>\n      <td>9.16</td>\n      <td>9.47</td>\n      <td>6.81</td>\n      <td>10.08</td>\n      <td>7.72</td>\n      <td>6.90</td>\n      <td>8.27</td>\n      <td>1.20</td>\n    </tr>\n    <tr>\n      <th>5245</th>\n      <td>1194.45</td>\n      <td>35.53</td>\n      <td>3.61</td>\n      <td>104.79</td>\n      <td>319.64</td>\n      <td>33.43</td>\n      <td>106.64</td>\n      <td>256.87</td>\n      <td>394.92</td>\n    </tr>\n    <tr>\n      <th>5047</th>\n      <td>8.06</td>\n      <td>4.31</td>\n      <td>1.81</td>\n      <td>2.92</td>\n      <td>33.42</td>\n      <td>3.57</td>\n      <td>8.21</td>\n      <td>8.90</td>\n      <td>10.27</td>\n    </tr>\n    <tr>\n      <th>5055</th>\n      <td>78.62</td>\n      <td>24.15</td>\n      <td>6.18</td>\n      <td>34.92</td>\n      <td>57.62</td>\n      <td>40.26</td>\n      <td>32.50</td>\n      <td>39.18</td>\n      <td>21.63</td>\n    </tr>\n    <tr>\n      <th>5054</th>\n      <td>5.53</td>\n      <td>1.92</td>\n      <td>1.34</td>\n      <td>2.04</td>\n      <td>8.31</td>\n      <td>3.01</td>\n      <td>3.62</td>\n      <td>3.68</td>\n      <td>2.28</td>\n    </tr>\n    <tr>\n      <th>5108</th>\n      <td>16.40</td>\n      <td>22.66</td>\n      <td>11.46</td>\n      <td>1713.92</td>\n      <td>2255.58</td>\n      <td>27.65</td>\n      <td>26.20</td>\n      <td>581.98</td>\n      <td>898.94</td>\n    </tr>\n    <tr>\n      <th>3686</th>\n      <td>23.11</td>\n      <td>18.77</td>\n      <td>7.96</td>\n      <td>17.44</td>\n      <td>38.99</td>\n      <td>23.63</td>\n      <td>19.60</td>\n      <td>21.36</td>\n      <td>8.65</td>\n    </tr>\n    <tr>\n      <th>5052</th>\n      <td>13.62</td>\n      <td>6.09</td>\n      <td>2.74</td>\n      <td>5.61</td>\n      <td>28.82</td>\n      <td>7.31</td>\n      <td>8.61</td>\n      <td>10.40</td>\n      <td>8.13</td>\n    </tr>\n    <tr>\n      <th>5050</th>\n      <td>1.63</td>\n      <td>1.51</td>\n      <td>1.32</td>\n      <td>2.27</td>\n      <td>2.59</td>\n      <td>3.06</td>\n      <td>2.08</td>\n      <td>2.07</td>\n      <td>0.58</td>\n    </tr>\n    <tr>\n      <th>5051</th>\n      <td>464.18</td>\n      <td>105.19</td>\n      <td>27.56</td>\n      <td>177.82</td>\n      <td>411.49</td>\n      <td>7.19</td>\n      <td>6.84</td>\n      <td>171.47</td>\n      <td>178.29</td>\n    </tr>\n    <tr>\n      <th>5048</th>\n      <td>7.98</td>\n      <td>3.70</td>\n      <td>1.13</td>\n      <td>2.78</td>\n      <td>8.70</td>\n      <td>4.02</td>\n      <td>5.27</td>\n      <td>4.80</td>\n      <td>2.53</td>\n    </tr>\n    <tr>\n      <th>10025</th>\n      <td>8.90</td>\n      <td>9.73</td>\n      <td>2.27</td>\n      <td>10.62</td>\n      <td>20.32</td>\n      <td>7.59</td>\n      <td>9.26</td>\n      <td>9.81</td>\n      <td>4.99</td>\n    </tr>\n    <tr>\n      <th>3576</th>\n      <td>14.03</td>\n      <td>12.99</td>\n      <td>4.54</td>\n      <td>22.54</td>\n      <td>12.05</td>\n      <td>1553.34</td>\n      <td>21.17</td>\n      <td>234.38</td>\n      <td>538.49</td>\n    </tr>\n    <tr>\n      <th>5105</th>\n      <td>6.45</td>\n      <td>6.90</td>\n      <td>2.39</td>\n      <td>5.24</td>\n      <td>8.42</td>\n      <td>9.01</td>\n      <td>8.91</td>\n      <td>6.76</td>\n      <td>2.20</td>\n    </tr>\n    <tr>\n      <th>5121</th>\n      <td>21.14</td>\n      <td>24.72</td>\n      <td>12.88</td>\n      <td>13.68</td>\n      <td>55.93</td>\n      <td>19.14</td>\n      <td>21.37</td>\n      <td>24.12</td>\n      <td>13.57</td>\n    </tr>\n    <tr>\n      <th>5044</th>\n      <td>1.24</td>\n      <td>1.24</td>\n      <td>1.02</td>\n      <td>0.93</td>\n      <td>1.36</td>\n      <td>1.60</td>\n      <td>1.31</td>\n      <td>1.24</td>\n      <td>0.20</td>\n    </tr>\n    <tr>\n      <th>5120</th>\n      <td>13.00</td>\n      <td>8.17</td>\n      <td>2.68</td>\n      <td>2.13</td>\n      <td>13.36</td>\n      <td>1.56</td>\n      <td>2.42</td>\n      <td>6.19</td>\n      <td>4.87</td>\n    </tr>\n    <tr>\n      <th>5049</th>\n      <td>2.96</td>\n      <td>2.14</td>\n      <td>1.14</td>\n      <td>1.55</td>\n      <td>46.32</td>\n      <td>3.10</td>\n      <td>3.63</td>\n      <td>8.69</td>\n      <td>15.39</td>\n    </tr>\n    <tr>\n      <th>5118</th>\n      <td>35.90</td>\n      <td>35.56</td>\n      <td>25.32</td>\n      <td>23.38</td>\n      <td>39.75</td>\n      <td>34.64</td>\n      <td>34.70</td>\n      <td>32.75</td>\n      <td>5.57</td>\n    </tr>\n    <tr>\n      <th>3628</th>\n      <td>13.11</td>\n      <td>18.87</td>\n      <td>5.48</td>\n      <td>11.30</td>\n      <td>21.01</td>\n      <td>16.75</td>\n      <td>13.61</td>\n      <td>14.30</td>\n      <td>4.79</td>\n    </tr>\n    <tr>\n      <th>3572</th>\n      <td>12.83</td>\n      <td>12.84</td>\n      <td>2.29</td>\n      <td>14.37</td>\n      <td>39.40</td>\n      <td>9.50</td>\n      <td>22.77</td>\n      <td>16.28</td>\n      <td>10.99</td>\n    </tr>\n    <tr>\n      <th>5114</th>\n      <td>3.44</td>\n      <td>2.91</td>\n      <td>2.06</td>\n      <td>3.44</td>\n      <td>6.45</td>\n      <td>4238.86</td>\n      <td>401.27</td>\n      <td>665.49</td>\n      <td>1465.26</td>\n    </tr>\n    <tr>\n      <th>3684</th>\n      <td>3.30</td>\n      <td>3.05</td>\n      <td>1.43</td>\n      <td>80.72</td>\n      <td>23.49</td>\n      <td>7.57</td>\n      <td>4.24</td>\n      <td>17.68</td>\n      <td>26.66</td>\n    </tr>\n    <tr>\n      <th>5102</th>\n      <td>2.25</td>\n      <td>2.39</td>\n      <td>1.51</td>\n      <td>1.79</td>\n      <td>2.59</td>\n      <td>1752.80</td>\n      <td>427.98</td>\n      <td>313.04</td>\n      <td>605.87</td>\n    </tr>\n    <tr>\n      <th>3481</th>\n      <td>40.17</td>\n      <td>42.23</td>\n      <td>32.68</td>\n      <td>72.46</td>\n      <td>86.68</td>\n      <td>37.00</td>\n      <td>58.08</td>\n      <td>52.76</td>\n      <td>18.85</td>\n    </tr>\n    <tr>\n      <th>5100</th>\n      <td>775.05</td>\n      <td>991.93</td>\n      <td>992.24</td>\n      <td>448.70</td>\n      <td>570.12</td>\n      <td>2443.82</td>\n      <td>1372.81</td>\n      <td>1084.95</td>\n      <td>622.50</td>\n    </tr>\n    <tr>\n      <th>5119</th>\n      <td>0.85</td>\n      <td>0.83</td>\n      <td>0.70</td>\n      <td>1.11</td>\n      <td>0.94</td>\n      <td>0.62</td>\n      <td>0.62</td>\n      <td>0.81</td>\n      <td>0.17</td>\n    </tr>\n    <tr>\n      <th>5101</th>\n      <td>1477.33</td>\n      <td>531.37</td>\n      <td>4.92</td>\n      <td>1351.82</td>\n      <td>715.96</td>\n      <td>1628.47</td>\n      <td>294.20</td>\n      <td>857.72</td>\n      <td>584.75</td>\n    </tr>\n    <tr>\n      <th>5099</th>\n      <td>29.71</td>\n      <td>677.85</td>\n      <td>32.34</td>\n      <td>403.57</td>\n      <td>362.40</td>\n      <td>3862.09</td>\n      <td>2153.37</td>\n      <td>1074.48</td>\n      <td>1321.63</td>\n    </tr>\n    <tr>\n      <th>5109</th>\n      <td>3.48</td>\n      <td>3.78</td>\n      <td>1.91</td>\n      <td>2.63</td>\n      <td>3.51</td>\n      <td>3.20</td>\n      <td>3.58</td>\n      <td>3.16</td>\n      <td>0.61</td>\n    </tr>\n  </tbody>\n</table>\n</div>"
     },
     "execution_count": 14,
     "metadata": {},
     "output_type": "execute_result"
    }
   ],
   "source": [
    "mses = pd.DataFrame(mses_per_sensor)\n",
    "mses.index = [\"Jun\", \"Jul\", \"Aug\", \"Sep\", \"Oct\", \"Nov\", \"Dec\"]\n",
    "mses = mses.T\n",
    "mses[\"avg\"] = mses.mean(axis=1)\n",
    "mses[\"std\"] = mses.std(axis=1)\n",
    "#mses = mses[[\"avg MAE\", \"std MAE\"]].round(4)\n",
    "mses = mses.round(2)\n",
    "mses.to_csv(f\"{project_path}/training_history/xgboost/xgb_mses.csv\")\n",
    "mses"
   ],
   "metadata": {
    "collapsed": false,
    "pycharm": {
     "name": "#%%\n"
    }
   }
  },
  {
   "cell_type": "code",
   "execution_count": 13,
   "outputs": [
    {
     "data": {
      "text/plain": "       Media MAE  Desviación estándar MAE  Media MSE  Desviación estándar MSE\n5126      7.6461                   0.7454   106.3730                  23.6734\n9847      4.3948                   0.4871    36.2880                   9.9060\n5045      1.6488                   0.3217     7.4511                   6.7087\n3685      1.7517                   0.2299     5.8434                   1.7490\n5046      2.3632                   0.7810    18.0227                  13.3834\n5125      6.9957                   0.6547    86.9643                  17.5954\n5061      1.8401                   0.3389     7.1474                   3.4620\n5122      1.9239                   0.3310     8.2743                   1.1998\n5245      6.6016                   6.5375   256.8708                 394.9233\n5047      1.5238                   0.3579     8.9013                  10.2672\n5055      4.1612                   1.3696    39.1795                  21.6285\n5054      1.2584                   0.2270     3.6813                   2.2844\n5108     13.8297                  17.4851   581.9818                 898.9371\n3686      3.1126                   0.5804    21.3558                   8.6484\n5052      1.9644                   0.4188    10.4008                   8.1287\n5050      1.0450                   0.0741     2.0666                   0.5811\n5051      5.0363                   3.2186   171.4666                 178.2934\n5048      1.3646                   0.3106     4.7976                   2.5310\n10025     1.7491                   0.3747     9.8125                   4.9866\n3576      6.0951                   9.1197   234.3789                 538.4915\n5105      1.7923                   0.2558     6.7599                   2.2024\n5121      3.1230                   0.4106    24.1225                  13.5669\n5044      0.8722                   0.0815     1.2401                   0.2038\n5120      1.1582                   0.2053     6.1887                   4.8710\n5049      1.2203                   0.3904     8.6911                  15.3852\n5118      4.1090                   0.3971    32.7498                   5.5697\n3628      2.0300                   0.3878    14.3025                   4.7919\n3572      1.9654                   0.5060    16.2833                  10.9922\n5114     10.3139                  19.8799   665.4876                1465.2599\n3684      1.9151                   1.1099    17.6836                  26.6605\n5102      9.2003                  14.1238   313.0443                 605.8669\n3481      4.3886                   0.5674    52.7577                  18.8529\n5100     27.1288                   8.7004  1084.9547                 622.4993\n5119      0.6972                   0.0324     0.8092                   0.1660\n5101     24.2602                  12.2911   857.7230                 584.7475\n5099     19.6747                  17.3849  1074.4768                1321.6265\n5109      1.2528                   0.0921     3.1565                   0.6149",
      "text/html": "<div>\n<style scoped>\n    .dataframe tbody tr th:only-of-type {\n        vertical-align: middle;\n    }\n\n    .dataframe tbody tr th {\n        vertical-align: top;\n    }\n\n    .dataframe thead th {\n        text-align: right;\n    }\n</style>\n<table border=\"1\" class=\"dataframe\">\n  <thead>\n    <tr style=\"text-align: right;\">\n      <th></th>\n      <th>Media MAE</th>\n      <th>Desviación estándar MAE</th>\n      <th>Media MSE</th>\n      <th>Desviación estándar MSE</th>\n    </tr>\n  </thead>\n  <tbody>\n    <tr>\n      <th>5126</th>\n      <td>7.6461</td>\n      <td>0.7454</td>\n      <td>106.3730</td>\n      <td>23.6734</td>\n    </tr>\n    <tr>\n      <th>9847</th>\n      <td>4.3948</td>\n      <td>0.4871</td>\n      <td>36.2880</td>\n      <td>9.9060</td>\n    </tr>\n    <tr>\n      <th>5045</th>\n      <td>1.6488</td>\n      <td>0.3217</td>\n      <td>7.4511</td>\n      <td>6.7087</td>\n    </tr>\n    <tr>\n      <th>3685</th>\n      <td>1.7517</td>\n      <td>0.2299</td>\n      <td>5.8434</td>\n      <td>1.7490</td>\n    </tr>\n    <tr>\n      <th>5046</th>\n      <td>2.3632</td>\n      <td>0.7810</td>\n      <td>18.0227</td>\n      <td>13.3834</td>\n    </tr>\n    <tr>\n      <th>5125</th>\n      <td>6.9957</td>\n      <td>0.6547</td>\n      <td>86.9643</td>\n      <td>17.5954</td>\n    </tr>\n    <tr>\n      <th>5061</th>\n      <td>1.8401</td>\n      <td>0.3389</td>\n      <td>7.1474</td>\n      <td>3.4620</td>\n    </tr>\n    <tr>\n      <th>5122</th>\n      <td>1.9239</td>\n      <td>0.3310</td>\n      <td>8.2743</td>\n      <td>1.1998</td>\n    </tr>\n    <tr>\n      <th>5245</th>\n      <td>6.6016</td>\n      <td>6.5375</td>\n      <td>256.8708</td>\n      <td>394.9233</td>\n    </tr>\n    <tr>\n      <th>5047</th>\n      <td>1.5238</td>\n      <td>0.3579</td>\n      <td>8.9013</td>\n      <td>10.2672</td>\n    </tr>\n    <tr>\n      <th>5055</th>\n      <td>4.1612</td>\n      <td>1.3696</td>\n      <td>39.1795</td>\n      <td>21.6285</td>\n    </tr>\n    <tr>\n      <th>5054</th>\n      <td>1.2584</td>\n      <td>0.2270</td>\n      <td>3.6813</td>\n      <td>2.2844</td>\n    </tr>\n    <tr>\n      <th>5108</th>\n      <td>13.8297</td>\n      <td>17.4851</td>\n      <td>581.9818</td>\n      <td>898.9371</td>\n    </tr>\n    <tr>\n      <th>3686</th>\n      <td>3.1126</td>\n      <td>0.5804</td>\n      <td>21.3558</td>\n      <td>8.6484</td>\n    </tr>\n    <tr>\n      <th>5052</th>\n      <td>1.9644</td>\n      <td>0.4188</td>\n      <td>10.4008</td>\n      <td>8.1287</td>\n    </tr>\n    <tr>\n      <th>5050</th>\n      <td>1.0450</td>\n      <td>0.0741</td>\n      <td>2.0666</td>\n      <td>0.5811</td>\n    </tr>\n    <tr>\n      <th>5051</th>\n      <td>5.0363</td>\n      <td>3.2186</td>\n      <td>171.4666</td>\n      <td>178.2934</td>\n    </tr>\n    <tr>\n      <th>5048</th>\n      <td>1.3646</td>\n      <td>0.3106</td>\n      <td>4.7976</td>\n      <td>2.5310</td>\n    </tr>\n    <tr>\n      <th>10025</th>\n      <td>1.7491</td>\n      <td>0.3747</td>\n      <td>9.8125</td>\n      <td>4.9866</td>\n    </tr>\n    <tr>\n      <th>3576</th>\n      <td>6.0951</td>\n      <td>9.1197</td>\n      <td>234.3789</td>\n      <td>538.4915</td>\n    </tr>\n    <tr>\n      <th>5105</th>\n      <td>1.7923</td>\n      <td>0.2558</td>\n      <td>6.7599</td>\n      <td>2.2024</td>\n    </tr>\n    <tr>\n      <th>5121</th>\n      <td>3.1230</td>\n      <td>0.4106</td>\n      <td>24.1225</td>\n      <td>13.5669</td>\n    </tr>\n    <tr>\n      <th>5044</th>\n      <td>0.8722</td>\n      <td>0.0815</td>\n      <td>1.2401</td>\n      <td>0.2038</td>\n    </tr>\n    <tr>\n      <th>5120</th>\n      <td>1.1582</td>\n      <td>0.2053</td>\n      <td>6.1887</td>\n      <td>4.8710</td>\n    </tr>\n    <tr>\n      <th>5049</th>\n      <td>1.2203</td>\n      <td>0.3904</td>\n      <td>8.6911</td>\n      <td>15.3852</td>\n    </tr>\n    <tr>\n      <th>5118</th>\n      <td>4.1090</td>\n      <td>0.3971</td>\n      <td>32.7498</td>\n      <td>5.5697</td>\n    </tr>\n    <tr>\n      <th>3628</th>\n      <td>2.0300</td>\n      <td>0.3878</td>\n      <td>14.3025</td>\n      <td>4.7919</td>\n    </tr>\n    <tr>\n      <th>3572</th>\n      <td>1.9654</td>\n      <td>0.5060</td>\n      <td>16.2833</td>\n      <td>10.9922</td>\n    </tr>\n    <tr>\n      <th>5114</th>\n      <td>10.3139</td>\n      <td>19.8799</td>\n      <td>665.4876</td>\n      <td>1465.2599</td>\n    </tr>\n    <tr>\n      <th>3684</th>\n      <td>1.9151</td>\n      <td>1.1099</td>\n      <td>17.6836</td>\n      <td>26.6605</td>\n    </tr>\n    <tr>\n      <th>5102</th>\n      <td>9.2003</td>\n      <td>14.1238</td>\n      <td>313.0443</td>\n      <td>605.8669</td>\n    </tr>\n    <tr>\n      <th>3481</th>\n      <td>4.3886</td>\n      <td>0.5674</td>\n      <td>52.7577</td>\n      <td>18.8529</td>\n    </tr>\n    <tr>\n      <th>5100</th>\n      <td>27.1288</td>\n      <td>8.7004</td>\n      <td>1084.9547</td>\n      <td>622.4993</td>\n    </tr>\n    <tr>\n      <th>5119</th>\n      <td>0.6972</td>\n      <td>0.0324</td>\n      <td>0.8092</td>\n      <td>0.1660</td>\n    </tr>\n    <tr>\n      <th>5101</th>\n      <td>24.2602</td>\n      <td>12.2911</td>\n      <td>857.7230</td>\n      <td>584.7475</td>\n    </tr>\n    <tr>\n      <th>5099</th>\n      <td>19.6747</td>\n      <td>17.3849</td>\n      <td>1074.4768</td>\n      <td>1321.6265</td>\n    </tr>\n    <tr>\n      <th>5109</th>\n      <td>1.2528</td>\n      <td>0.0921</td>\n      <td>3.1565</td>\n      <td>0.6149</td>\n    </tr>\n  </tbody>\n</table>\n</div>"
     },
     "execution_count": 13,
     "metadata": {},
     "output_type": "execute_result"
    }
   ],
   "source": [
    "df = pd.merge(maes[[\"avg\", \"std\"]], mses[[\"avg\", \"std\"]], left_index=True, right_index=True)\n",
    "df.columns = [\"Media MAE\", \"Desviación estándar MAE\", \"Media MSE\", \"Desviación estándar MSE\"]\n",
    "df.to_csv(f\"{project_path}/training_history/xgboost/xgb_losses.csv\")\n",
    "df"
   ],
   "metadata": {
    "collapsed": false,
    "pycharm": {
     "name": "#%%\n"
    }
   }
  },
  {
   "cell_type": "code",
   "execution_count": null,
   "outputs": [],
   "source": [],
   "metadata": {
    "collapsed": false,
    "pycharm": {
     "name": "#%%\n"
    }
   }
  }
 ],
 "metadata": {
  "kernelspec": {
   "display_name": "Python 3",
   "language": "python",
   "name": "python3"
  },
  "language_info": {
   "codemirror_mode": {
    "name": "ipython",
    "version": 2
   },
   "file_extension": ".py",
   "mimetype": "text/x-python",
   "name": "python",
   "nbconvert_exporter": "python",
   "pygments_lexer": "ipython2",
   "version": "2.7.6"
  }
 },
 "nbformat": 4,
 "nbformat_minor": 0
}