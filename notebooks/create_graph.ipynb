{
 "cells": [
  {
   "cell_type": "code",
   "execution_count": 107,
   "id": "c89a1eca-6cef-46f6-bb83-5b276b5c2687",
   "metadata": {
    "pycharm": {
     "name": "#%%\n"
    }
   },
   "outputs": [],
   "source": [
    "import pandas as pd\n",
    "from time import time\n",
    "import requests\n",
    "import json\n",
    "import numpy as np\n",
    "from math import exp\n",
    "import haversine as hs\n",
    "\n",
    "from graph_traffic.config import data_path\n",
    "\n",
    "path = f\"{data_path}/04-traffic-meteo-merged\"\n",
    "ubs_path = f\"{data_path}/01-raw/traffic/ubs.csv\"\n",
    "dataset_id = 1"
   ]
  },
  {
   "cell_type": "markdown",
   "source": [
    "Select which ids we want to have in our model"
   ],
   "metadata": {
    "collapsed": false,
    "pycharm": {
     "name": "#%% md\n"
    }
   }
  },
  {
   "cell_type": "code",
   "execution_count": 108,
   "id": "388c8298-7ff4-4a36-a2ae-3c1a0833e092",
   "metadata": {
    "pycharm": {
     "name": "#%%\n"
    }
   },
   "outputs": [],
   "source": [
    "ids = [3954, 3973, 3976, 3977, 3978]"
   ]
  },
  {
   "cell_type": "markdown",
   "id": "0ead242e-c032-4710-9fa5-4ca58253aa62",
   "metadata": {
    "pycharm": {
     "name": "#%% md\n"
    }
   },
   "source": [
    "# 1. Define the data for the graph"
   ]
  },
  {
   "cell_type": "code",
   "execution_count": 5,
   "id": "b5a8f0d7-25c4-420d-bc28-b7461c0a8ebe",
   "metadata": {
    "pycharm": {
     "name": "#%%\n"
    }
   },
   "outputs": [
    {
     "data": {
      "text/plain": "      longitud    latitud\nid                       \n3954 -3.678813  40.440254\n3973 -3.678922  40.440663\n3976 -3.680269  40.440019\n3977 -3.679625  40.439718\n3978 -3.679097  40.441216",
      "text/html": "<div>\n<style scoped>\n    .dataframe tbody tr th:only-of-type {\n        vertical-align: middle;\n    }\n\n    .dataframe tbody tr th {\n        vertical-align: top;\n    }\n\n    .dataframe thead th {\n        text-align: right;\n    }\n</style>\n<table border=\"1\" class=\"dataframe\">\n  <thead>\n    <tr style=\"text-align: right;\">\n      <th></th>\n      <th>longitud</th>\n      <th>latitud</th>\n    </tr>\n    <tr>\n      <th>id</th>\n      <th></th>\n      <th></th>\n    </tr>\n  </thead>\n  <tbody>\n    <tr>\n      <th>3954</th>\n      <td>-3.678813</td>\n      <td>40.440254</td>\n    </tr>\n    <tr>\n      <th>3973</th>\n      <td>-3.678922</td>\n      <td>40.440663</td>\n    </tr>\n    <tr>\n      <th>3976</th>\n      <td>-3.680269</td>\n      <td>40.440019</td>\n    </tr>\n    <tr>\n      <th>3977</th>\n      <td>-3.679625</td>\n      <td>40.439718</td>\n    </tr>\n    <tr>\n      <th>3978</th>\n      <td>-3.679097</td>\n      <td>40.441216</td>\n    </tr>\n  </tbody>\n</table>\n</div>"
     },
     "execution_count": 5,
     "metadata": {},
     "output_type": "execute_result"
    }
   ],
   "source": [
    "ubs = pd.read_csv(ubs_path)\n",
    "ubs = ubs[ubs[\"id\"].isin(ids)].set_index(\"id\")\n",
    "ubs"
   ]
  },
  {
   "cell_type": "markdown",
   "source": [
    "Compute the weights of the edges between nodes between nodes"
   ],
   "metadata": {
    "collapsed": false,
    "pycharm": {
     "name": "#%% md\n"
    }
   }
  },
  {
   "cell_type": "code",
   "execution_count": 92,
   "outputs": [
    {
     "data": {
      "text/plain": "target    3954    3973    3976    3977    3978\norigin                                        \n3954    0.0000  0.2523  0.0192  0.0155  0.3520\n3973    0.0000  0.0000  0.0200  0.4712  0.0056\n3976    0.0016  0.0000  0.0000  0.0000  0.0000\n3977    0.0019  0.2180  0.2915  0.0000  0.1000\n3978    0.0416  0.1000  0.3932  0.1465  0.0000",
      "text/html": "<div>\n<style scoped>\n    .dataframe tbody tr th:only-of-type {\n        vertical-align: middle;\n    }\n\n    .dataframe tbody tr th {\n        vertical-align: top;\n    }\n\n    .dataframe thead th {\n        text-align: right;\n    }\n</style>\n<table border=\"1\" class=\"dataframe\">\n  <thead>\n    <tr style=\"text-align: right;\">\n      <th>target</th>\n      <th>3954</th>\n      <th>3973</th>\n      <th>3976</th>\n      <th>3977</th>\n      <th>3978</th>\n    </tr>\n    <tr>\n      <th>origin</th>\n      <th></th>\n      <th></th>\n      <th></th>\n      <th></th>\n      <th></th>\n    </tr>\n  </thead>\n  <tbody>\n    <tr>\n      <th>3954</th>\n      <td>0.0000</td>\n      <td>0.2523</td>\n      <td>0.0192</td>\n      <td>0.0155</td>\n      <td>0.3520</td>\n    </tr>\n    <tr>\n      <th>3973</th>\n      <td>0.0000</td>\n      <td>0.0000</td>\n      <td>0.0200</td>\n      <td>0.4712</td>\n      <td>0.0056</td>\n    </tr>\n    <tr>\n      <th>3976</th>\n      <td>0.0016</td>\n      <td>0.0000</td>\n      <td>0.0000</td>\n      <td>0.0000</td>\n      <td>0.0000</td>\n    </tr>\n    <tr>\n      <th>3977</th>\n      <td>0.0019</td>\n      <td>0.2180</td>\n      <td>0.2915</td>\n      <td>0.0000</td>\n      <td>0.1000</td>\n    </tr>\n    <tr>\n      <th>3978</th>\n      <td>0.0416</td>\n      <td>0.1000</td>\n      <td>0.3932</td>\n      <td>0.1465</td>\n      <td>0.0000</td>\n    </tr>\n  </tbody>\n</table>\n</div>"
     },
     "execution_count": 92,
     "metadata": {},
     "output_type": "execute_result"
    }
   ],
   "source": [
    "distances = pd.DataFrame(index=ubs.index.rename(\"origin\"), columns=ubs.index.rename(\"target\"))\n",
    "for origin in ubs.index.values:\n",
    "    olong = ubs.loc[origin, \"longitud\"]\n",
    "    olat = ubs.loc[origin, \"latitud\"]\n",
    "    d = []\n",
    "    for target in ubs.index.values:\n",
    "        if origin == target:\n",
    "            continue\n",
    "        tlong = ubs.loc[target, \"longitud\"]\n",
    "        tlat = ubs.loc[target, \"latitud\"]\n",
    "        request_path = f\"http://router.project-osrm.org/route/v1/car/{olong},{olat};{tlong},{tlat}?overview=false\"\n",
    "        r = requests.get(request_path)# then you load the response using the json libray\n",
    "        # by default you get only one alternative so you access 0-th element of the `routes`\n",
    "        routes = json.loads(r.content)\n",
    "        route_1 = routes.get(\"routes\")[0]\n",
    "        distances.loc[origin, target] = route_1[\"duration\"]\n",
    "distances = distances.astype(float)\n",
    "\n",
    "# manual manipulation of distances\n",
    "distances.loc[3978, 3973] = 60\n",
    "distances.loc[3973, 3978] = 90\n",
    "distances.loc[3976, 3978] = 150\n",
    "distances.loc[3977, 3978] = 60\n",
    "\n",
    "\n",
    "std = np.nanstd(distances.to_numpy().ravel())\n",
    "def get_weight(distance):\n",
    "    return exp(-distance**2 / std**2)\n",
    "\n",
    "weights = distances.applymap(get_weight).fillna(0).round(4)#.rename(index=ubs_dict, columns=ubs_dict)\n",
    "weights"
   ],
   "metadata": {
    "collapsed": false,
    "pycharm": {
     "name": "#%%\n"
    }
   }
  },
  {
   "cell_type": "code",
   "execution_count": 93,
   "outputs": [
    {
     "data": {
      "text/plain": "target   3954   3973  3976   3977   3978\norigin                                  \n3954      NaN   46.4  78.6   80.7   40.4\n3973    133.1    NaN  78.2   34.3   90.0\n3976    100.1  139.6   NaN  173.9  150.0\n3977     98.8   48.8  43.9    NaN   60.0\n3978     70.5   60.0  38.2   54.8    NaN",
      "text/html": "<div>\n<style scoped>\n    .dataframe tbody tr th:only-of-type {\n        vertical-align: middle;\n    }\n\n    .dataframe tbody tr th {\n        vertical-align: top;\n    }\n\n    .dataframe thead th {\n        text-align: right;\n    }\n</style>\n<table border=\"1\" class=\"dataframe\">\n  <thead>\n    <tr style=\"text-align: right;\">\n      <th>target</th>\n      <th>3954</th>\n      <th>3973</th>\n      <th>3976</th>\n      <th>3977</th>\n      <th>3978</th>\n    </tr>\n    <tr>\n      <th>origin</th>\n      <th></th>\n      <th></th>\n      <th></th>\n      <th></th>\n      <th></th>\n    </tr>\n  </thead>\n  <tbody>\n    <tr>\n      <th>3954</th>\n      <td>NaN</td>\n      <td>46.4</td>\n      <td>78.6</td>\n      <td>80.7</td>\n      <td>40.4</td>\n    </tr>\n    <tr>\n      <th>3973</th>\n      <td>133.1</td>\n      <td>NaN</td>\n      <td>78.2</td>\n      <td>34.3</td>\n      <td>90.0</td>\n    </tr>\n    <tr>\n      <th>3976</th>\n      <td>100.1</td>\n      <td>139.6</td>\n      <td>NaN</td>\n      <td>173.9</td>\n      <td>150.0</td>\n    </tr>\n    <tr>\n      <th>3977</th>\n      <td>98.8</td>\n      <td>48.8</td>\n      <td>43.9</td>\n      <td>NaN</td>\n      <td>60.0</td>\n    </tr>\n    <tr>\n      <th>3978</th>\n      <td>70.5</td>\n      <td>60.0</td>\n      <td>38.2</td>\n      <td>54.8</td>\n      <td>NaN</td>\n    </tr>\n  </tbody>\n</table>\n</div>"
     },
     "execution_count": 93,
     "metadata": {},
     "output_type": "execute_result"
    }
   ],
   "source": [
    "distances"
   ],
   "metadata": {
    "collapsed": false,
    "pycharm": {
     "name": "#%%\n"
    }
   }
  },
  {
   "cell_type": "markdown",
   "source": [
    "The ids in the graph need to start from 0 -> We reindex the ids"
   ],
   "metadata": {
    "collapsed": false,
    "pycharm": {
     "name": "#%% md\n"
    }
   }
  },
  {
   "cell_type": "code",
   "execution_count": 41,
   "id": "5ad21c5c-445e-4667-8e62-4322b738ad00",
   "metadata": {
    "collapsed": true,
    "jupyter": {
     "outputs_hidden": true
    },
    "tags": [],
    "pycharm": {
     "name": "#%%\n"
    }
   },
   "outputs": [
    {
     "data": {
      "text/plain": "{3954: 0, 3973: 1, 3976: 2, 3977: 3, 3978: 4}"
     },
     "execution_count": 41,
     "metadata": {},
     "output_type": "execute_result"
    }
   ],
   "source": [
    "ubs_dict = ubs.reset_index()[[\"id\"]].reset_index().set_index(\"id\").to_dict()[\"index\"]\n",
    "ubs_dict"
   ]
  },
  {
   "cell_type": "code",
   "execution_count": 44,
   "id": "2823913f-2d24-4972-b7e8-bce672d0bba7",
   "metadata": {
    "pycharm": {
     "name": "#%%\n"
    }
   },
   "outputs": [
    {
     "data": {
      "text/plain": "      longitud    latitud  id_graph\nid                                 \n3954 -3.678813  40.440254         0\n3973 -3.678922  40.440663         1\n3976 -3.680269  40.440019         2\n3977 -3.679625  40.439718         3\n3978 -3.679097  40.441216         4",
      "text/html": "<div>\n<style scoped>\n    .dataframe tbody tr th:only-of-type {\n        vertical-align: middle;\n    }\n\n    .dataframe tbody tr th {\n        vertical-align: top;\n    }\n\n    .dataframe thead th {\n        text-align: right;\n    }\n</style>\n<table border=\"1\" class=\"dataframe\">\n  <thead>\n    <tr style=\"text-align: right;\">\n      <th></th>\n      <th>longitud</th>\n      <th>latitud</th>\n      <th>id_graph</th>\n    </tr>\n    <tr>\n      <th>id</th>\n      <th></th>\n      <th></th>\n      <th></th>\n    </tr>\n  </thead>\n  <tbody>\n    <tr>\n      <th>3954</th>\n      <td>-3.678813</td>\n      <td>40.440254</td>\n      <td>0</td>\n    </tr>\n    <tr>\n      <th>3973</th>\n      <td>-3.678922</td>\n      <td>40.440663</td>\n      <td>1</td>\n    </tr>\n    <tr>\n      <th>3976</th>\n      <td>-3.680269</td>\n      <td>40.440019</td>\n      <td>2</td>\n    </tr>\n    <tr>\n      <th>3977</th>\n      <td>-3.679625</td>\n      <td>40.439718</td>\n      <td>3</td>\n    </tr>\n    <tr>\n      <th>3978</th>\n      <td>-3.679097</td>\n      <td>40.441216</td>\n      <td>4</td>\n    </tr>\n  </tbody>\n</table>\n</div>"
     },
     "execution_count": 44,
     "metadata": {},
     "output_type": "execute_result"
    }
   ],
   "source": [
    "ubs[\"id_graph\"] = ubs.index.map(lambda x: ubs_dict[x])\n",
    "ubs"
   ]
  },
  {
   "cell_type": "markdown",
   "source": [
    "Distribution of the weights"
   ],
   "metadata": {
    "collapsed": false,
    "pycharm": {
     "name": "#%% md\n"
    }
   }
  },
  {
   "cell_type": "code",
   "execution_count": 57,
   "outputs": [
    {
     "data": {
      "text/plain": "0.0    0.00000\n0.1    0.00000\n0.2    0.00000\n0.3    0.00000\n0.4    0.00178\n0.5    0.01550\n0.6    0.02864\n0.7    0.10000\n0.8    0.22486\n0.9    0.32780\n1.0    0.47120\ndtype: float64"
     },
     "execution_count": 57,
     "metadata": {},
     "output_type": "execute_result"
    }
   ],
   "source": [
    "pd.Series(weights.values.ravel()).quantile([0.1*x for x in range(11)])"
   ],
   "metadata": {
    "collapsed": false,
    "pycharm": {
     "name": "#%%\n"
    }
   }
  },
  {
   "cell_type": "markdown",
   "source": [
    "Define a threshold for the weights of the edges.\n",
    "List of source/target nodes"
   ],
   "metadata": {
    "collapsed": false,
    "pycharm": {
     "name": "#%% md\n"
    }
   }
  },
  {
   "cell_type": "code",
   "execution_count": 110,
   "id": "89bb25f0-ace5-4199-84dc-edf86f03d582",
   "metadata": {
    "pycharm": {
     "name": "#%%\n"
    }
   },
   "outputs": [
    {
     "data": {
      "text/plain": "origin  target\n3954    3973      0.2523\n        3976      0.0192\n        3977      0.0155\n        3978      0.3520\n3973    3976      0.0200\n        3977      0.4712\n3977    3973      0.2180\n        3976      0.2915\n        3978      0.1000\n3978    3954      0.0416\n        3973      0.1000\n        3976      0.3932\n        3977      0.1465\ndtype: float64"
     },
     "execution_count": 110,
     "metadata": {},
     "output_type": "execute_result"
    }
   ],
   "source": [
    "weights_lim = weights[weights>0.01].stack()\n",
    "nodes_src, nodes_target = zip(*weights_lim.index)\n",
    "nodes_src = np.array(nodes_src)\n",
    "nodes_target = np.array(nodes_target)\n",
    "weights_lim"
   ]
  },
  {
   "cell_type": "markdown",
   "source": [
    "Reindex the lists of source/target nodes"
   ],
   "metadata": {
    "collapsed": false,
    "pycharm": {
     "name": "#%% md\n"
    }
   }
  },
  {
   "cell_type": "code",
   "execution_count": 73,
   "outputs": [],
   "source": [
    "nodes_src_graph = np.array([ubs_dict[x] for x in nodes_src])\n",
    "nodes_target_graph = np.array([ubs_dict[x] for x in nodes_target])"
   ],
   "metadata": {
    "collapsed": false,
    "pycharm": {
     "name": "#%%\n"
    }
   }
  },
  {
   "cell_type": "markdown",
   "source": [
    "# 2. Create the DGLDataset"
   ],
   "metadata": {
    "collapsed": false,
    "pycharm": {
     "name": "#%% md\n"
    }
   }
  },
  {
   "cell_type": "code",
   "execution_count": 74,
   "id": "fa66b494-6fba-4c84-8629-6fb2297325c8",
   "metadata": {
    "pycharm": {
     "name": "#%%\n"
    }
   },
   "outputs": [
    {
     "name": "stdout",
     "output_type": "stream",
     "text": [
      "Graph(num_nodes=5, num_edges=13,\n",
      "      ndata_schemes={'train_mask': Scheme(shape=(), dtype=torch.bool), 'val_mask': Scheme(shape=(), dtype=torch.bool), 'test_mask': Scheme(shape=(), dtype=torch.bool)}\n",
      "      edata_schemes={'weight': Scheme(shape=(), dtype=torch.float64)})\n"
     ]
    }
   ],
   "source": [
    "import dgl\n",
    "from dgl.data import DGLDataset\n",
    "import torch\n",
    "import os\n",
    "\n",
    "class MadridTrafficDataset(DGLDataset):\n",
    "    def __init__(self):\n",
    "        super().__init__(name='madrid_traffic')\n",
    "\n",
    "    def process(self):\n",
    "        #nodes_data = ubs\n",
    "        #node_features = torch.from_numpy(nodes_data['longitud'].to_numpy())\n",
    "        #edge_features = weights.values\n",
    "        edges_src = torch.from_numpy(nodes_src_graph)\n",
    "        edges_dst = torch.from_numpy(nodes_target_graph)\n",
    "\n",
    "        self.graph = dgl.graph((edges_src, edges_dst), num_nodes=ubs.shape[0])\n",
    "        #self.graph.ndata['feat'] = node_features\n",
    "        self.graph.edata['weight'] = torch.from_numpy(weights_lim.values)\n",
    "\n",
    "        # If your dataset is a node classification dataset, you will need to assign\n",
    "        # masks indicating whether a node belongs to training, validation, and test set.\n",
    "        n_nodes = ubs.shape[0]\n",
    "        n_train = int(n_nodes * 0.6)\n",
    "        n_val = int(n_nodes * 0.2)\n",
    "        train_mask = torch.zeros(n_nodes, dtype=torch.bool)\n",
    "        val_mask = torch.zeros(n_nodes, dtype=torch.bool)\n",
    "        test_mask = torch.zeros(n_nodes, dtype=torch.bool)\n",
    "        train_mask[:n_train] = True\n",
    "        val_mask[n_train:n_train + n_val] = True\n",
    "        test_mask[n_train + n_val:] = True\n",
    "        self.graph.ndata['train_mask'] = train_mask\n",
    "        self.graph.ndata['val_mask'] = val_mask\n",
    "        self.graph.ndata['test_mask'] = test_mask\n",
    "\n",
    "    def __getitem__(self, i):\n",
    "        return self.graph\n",
    "\n",
    "    def __len__(self):\n",
    "        return 1\n",
    "\n",
    "dataset = MadridTrafficDataset()\n",
    "graph = dataset[0]\n",
    "\n",
    "print(graph)"
   ]
  },
  {
   "cell_type": "code",
   "execution_count": 77,
   "outputs": [
    {
     "data": {
      "text/plain": "{0: 3954, 1: 3973, 2: 3976, 3: 3977, 4: 3978}"
     },
     "execution_count": 77,
     "metadata": {},
     "output_type": "execute_result"
    }
   ],
   "source": [
    "ubs_dict\n",
    "labels_dict = {v: k for (k, v) in ubs_dict.items()}\n",
    "labels_dict"
   ],
   "metadata": {
    "collapsed": false,
    "pycharm": {
     "name": "#%%\n"
    }
   }
  },
  {
   "cell_type": "code",
   "execution_count": 91,
   "outputs": [
    {
     "data": {
      "text/plain": "<Figure size 432x288 with 1 Axes>",
      "image/png": "[encoded data removed]"
     },
     "metadata": {},
     "output_type": "display_data"
    }
   ],
   "source": [
    "import networkx as nx\n",
    "nx_G = graph.to_networkx()\n",
    "# Kamada-Kawaii layout usually looks pretty for arbitrary graphs\n",
    "pos = nx.kamada_kawai_layout(nx_G)\n",
    "nx.draw(nx_G, pos, with_labels=True, labels=labels_dict, width=graph.edata[\"weight\"].numpy()*30, node_size=1000)\n",
    "#labels = nx.get_edge_attributes(nx_G,'weight')\n",
    "#nx.draw_networkx_edge_labels(nx_G,pos,edge_labels=labels)"
   ],
   "metadata": {
    "collapsed": false,
    "pycharm": {
     "name": "#%%\n"
    }
   }
  },
  {
   "cell_type": "markdown",
   "source": [
    "Save the graph"
   ],
   "metadata": {
    "collapsed": false,
    "pycharm": {
     "name": "#%% md\n"
    }
   }
  },
  {
   "cell_type": "code",
   "execution_count": 101,
   "id": "adbf176a-040c-4aae-a470-5942a1055a4a",
   "metadata": {
    "pycharm": {
     "name": "#%%\n"
    }
   },
   "outputs": [],
   "source": [
    "dgl.save_graphs(f\"{data_path}/05-graph-data/{dataset_id:03d}-dataset/graph.bin\", [graph])"
   ]
  },
  {
   "cell_type": "code",
   "execution_count": 3,
   "outputs": [],
   "source": [
    "data = {}\n",
    "\n",
    "for i in ids:\n",
    "    data[i] = pd.read_csv(f\"{path}/{i}.csv\", parse_dates=[\"fecha\"])"
   ],
   "metadata": {
    "collapsed": false,
    "pycharm": {
     "name": "#%%\n"
    }
   }
  },
  {
   "cell_type": "code",
   "execution_count": 105,
   "id": "328b62c3-3814-4a88-a362-ad2553158721",
   "metadata": {
    "pycharm": {
     "name": "#%%\n"
    }
   },
   "outputs": [
    {
     "data": {
      "text/plain": "                    fecha      0      1      2      3      4\n0     2019-01-01 00:00:00   67.0   20.0   40.0   75.0   83.0\n2     2019-01-01 00:30:00   85.0   27.0   60.0  184.0  136.0\n3     2019-01-01 00:45:00  172.0   57.0   74.0  415.0  206.0\n4     2019-01-01 01:00:00  334.0  106.0  147.0  575.0  296.0\n5     2019-01-01 01:15:00  397.0  157.0  127.0  579.0  378.0\n...                   ...    ...    ...    ...    ...    ...\n63784 2020-10-26 10:00:00  647.0  665.0  546.0  649.0  416.0\n63790 2020-10-26 11:30:00  600.0  826.0  515.0  907.0  346.0\n63803 2020-10-26 14:45:00  480.0  685.0  705.0  953.0  393.0\n63827 2020-10-26 20:45:00  375.0  500.0  507.0  500.0  235.0\n63828 2020-10-26 21:00:00  467.0  384.0  502.0  582.0  254.0\n\n[44991 rows x 6 columns]",
      "text/html": "<div>\n<style scoped>\n    .dataframe tbody tr th:only-of-type {\n        vertical-align: middle;\n    }\n\n    .dataframe tbody tr th {\n        vertical-align: top;\n    }\n\n    .dataframe thead th {\n        text-align: right;\n    }\n</style>\n<table border=\"1\" class=\"dataframe\">\n  <thead>\n    <tr style=\"text-align: right;\">\n      <th></th>\n      <th>fecha</th>\n      <th>0</th>\n      <th>1</th>\n      <th>2</th>\n      <th>3</th>\n      <th>4</th>\n    </tr>\n  </thead>\n  <tbody>\n    <tr>\n      <th>0</th>\n      <td>2019-01-01 00:00:00</td>\n      <td>67.0</td>\n      <td>20.0</td>\n      <td>40.0</td>\n      <td>75.0</td>\n      <td>83.0</td>\n    </tr>\n    <tr>\n      <th>2</th>\n      <td>2019-01-01 00:30:00</td>\n      <td>85.0</td>\n      <td>27.0</td>\n      <td>60.0</td>\n      <td>184.0</td>\n      <td>136.0</td>\n    </tr>\n    <tr>\n      <th>3</th>\n      <td>2019-01-01 00:45:00</td>\n      <td>172.0</td>\n      <td>57.0</td>\n      <td>74.0</td>\n      <td>415.0</td>\n      <td>206.0</td>\n    </tr>\n    <tr>\n      <th>4</th>\n      <td>2019-01-01 01:00:00</td>\n      <td>334.0</td>\n      <td>106.0</td>\n      <td>147.0</td>\n      <td>575.0</td>\n      <td>296.0</td>\n    </tr>\n    <tr>\n      <th>5</th>\n      <td>2019-01-01 01:15:00</td>\n      <td>397.0</td>\n      <td>157.0</td>\n      <td>127.0</td>\n      <td>579.0</td>\n      <td>378.0</td>\n    </tr>\n    <tr>\n      <th>...</th>\n      <td>...</td>\n      <td>...</td>\n      <td>...</td>\n      <td>...</td>\n      <td>...</td>\n      <td>...</td>\n    </tr>\n    <tr>\n      <th>63784</th>\n      <td>2020-10-26 10:00:00</td>\n      <td>647.0</td>\n      <td>665.0</td>\n      <td>546.0</td>\n      <td>649.0</td>\n      <td>416.0</td>\n    </tr>\n    <tr>\n      <th>63790</th>\n      <td>2020-10-26 11:30:00</td>\n      <td>600.0</td>\n      <td>826.0</td>\n      <td>515.0</td>\n      <td>907.0</td>\n      <td>346.0</td>\n    </tr>\n    <tr>\n      <th>63803</th>\n      <td>2020-10-26 14:45:00</td>\n      <td>480.0</td>\n      <td>685.0</td>\n      <td>705.0</td>\n      <td>953.0</td>\n      <td>393.0</td>\n    </tr>\n    <tr>\n      <th>63827</th>\n      <td>2020-10-26 20:45:00</td>\n      <td>375.0</td>\n      <td>500.0</td>\n      <td>507.0</td>\n      <td>500.0</td>\n      <td>235.0</td>\n    </tr>\n    <tr>\n      <th>63828</th>\n      <td>2020-10-26 21:00:00</td>\n      <td>467.0</td>\n      <td>384.0</td>\n      <td>502.0</td>\n      <td>582.0</td>\n      <td>254.0</td>\n    </tr>\n  </tbody>\n</table>\n<p>44991 rows × 6 columns</p>\n</div>"
     },
     "execution_count": 105,
     "metadata": {},
     "output_type": "execute_result"
    }
   ],
   "source": [
    "intensidades = pd.DataFrame([])\n",
    "intensidades[\"fecha\"] = pd.date_range(\"2019-01-01\", \"2020-12-31\", freq=\"15min\")\n",
    "for sensor, df in data.items():\n",
    "    intensidades = intensidades.merge(df[[\"fecha\", \"intensidad\"]].rename(columns={\"intensidad\": str(ubs_dict[sensor])}), on=\"fecha\", how=\"left\")\n",
    "#intensidades[\"fraccion_dia\"] = (intensidades.fecha.dt.hour*60 + intensidades.fecha.dt.minute) / (24*60)\n",
    "intensidades.dropna(inplace=True)\n",
    "intensidades"
   ]
  },
  {
   "cell_type": "code",
   "execution_count": 106,
   "outputs": [
    {
     "data": {
      "text/plain": "{3954:                     fecha    id  intensidad  ocupacion  vmed  temperatura  \\\n 0     2019-01-01 00:00:00  3954        67.0        NaN   NaN          NaN   \n 1     2019-01-01 00:15:00  3954        25.0        NaN   NaN          NaN   \n 2     2019-01-01 00:30:00  3954        85.0        NaN   NaN          NaN   \n 3     2019-01-01 00:45:00  3954       172.0        NaN   NaN          NaN   \n 4     2019-01-01 01:00:00  3954       334.0        NaN   NaN         8.90   \n ...                   ...   ...         ...        ...   ...          ...   \n 52349 2020-10-26 10:00:00  3954       647.0        3.0   NaN        10.70   \n 52350 2020-10-26 11:30:00  3954       600.0        3.0   NaN        10.75   \n 52351 2020-10-26 14:45:00  3954       480.0        2.0   NaN        10.80   \n 52352 2020-10-26 20:45:00  3954       375.0        2.0   NaN        10.85   \n 52353 2020-10-26 21:00:00  3954       467.0        3.0   NaN        10.90   \n \n        humedad_relativa  presion_barometrica  radiacion_solar  precipitacion  \\\n 0                   NaN                  NaN              NaN            NaN   \n 1                   NaN                  NaN              NaN            NaN   \n 2                   NaN                  NaN              NaN            NaN   \n 3                   NaN                  NaN              NaN            NaN   \n 4                  42.0                949.0              0.0            0.0   \n ...                 ...                  ...              ...            ...   \n 52349              59.0                939.0            146.0            0.0   \n 52350              58.0                939.5            109.5            0.0   \n 52351              57.0                940.0             73.0            0.0   \n 52352              56.0                940.5             36.5            0.0   \n 52353              55.0                941.0              0.0            0.0   \n \n         vientox   vientoy  domingo/festivo  laborable  sabado  \n 0           NaN       NaN                0          1       0  \n 1           NaN       NaN                0          1       0  \n 2           NaN       NaN                0          1       0  \n 3           NaN       NaN                0          1       0  \n 4      0.339619  0.295227                0          1       0  \n ...         ...       ...              ...        ...     ...  \n 52349  0.025306 -1.449779                0          1       0  \n 52350 -0.103598 -1.327906                0          1       0  \n 52351 -0.232502 -1.206033                0          1       0  \n 52352 -0.361406 -1.084160                0          1       0  \n 52353 -0.490310 -0.962287                0          1       0  \n \n [52354 rows x 15 columns],\n 3973:                     fecha    id  intensidad  ocupacion  vmed  temperatura  \\\n 0     2019-01-01 00:00:00  3973        20.0        0.0   NaN          NaN   \n 1     2019-01-01 00:30:00  3973        27.0        0.0   NaN          NaN   \n 2     2019-01-01 00:45:00  3973        57.0        0.0   NaN          NaN   \n 3     2019-01-01 01:00:00  3973       106.0        1.0   NaN        8.900   \n 4     2019-01-01 01:15:00  3973       157.0        1.0   NaN        8.725   \n ...                   ...   ...         ...        ...   ...          ...   \n 61019 2020-12-31 22:45:00  3973        50.0        NaN   NaN        6.000   \n 61020 2020-12-31 23:00:00  3973        63.0        NaN   NaN        6.000   \n 61021 2020-12-31 23:15:00  3973        40.0        NaN   NaN        6.000   \n 61022 2020-12-31 23:30:00  3973        80.0        NaN   NaN        6.000   \n 61023 2020-12-31 23:45:00  3973        87.0        NaN   NaN        6.000   \n \n        humedad_relativa  presion_barometrica  radiacion_solar  precipitacion  \\\n 0                   NaN                  NaN              NaN            NaN   \n 1                   NaN                  NaN              NaN            NaN   \n 2                   NaN                  NaN              NaN            NaN   \n 3                 42.00                949.0             0.00           0.00   \n 4                 42.25                949.0             0.00           0.00   \n ...                 ...                  ...              ...            ...   \n 61019             87.50                934.0             0.25           1.35   \n 61020             87.00                934.0             0.00           1.80   \n 61021             87.00                934.0             0.00           1.80   \n 61022             87.00                934.0             0.00           1.80   \n 61023             87.00                934.0             0.00           1.80   \n \n         vientox   vientoy  domingo/festivo  laborable  sabado  \n 0           NaN       NaN                0          1       0  \n 1           NaN       NaN                0          1       0  \n 2           NaN       NaN                0          1       0  \n 3      0.339619  0.295227                0          1       0  \n 4      0.339615  0.242588                0          1       0  \n ...         ...       ...              ...        ...     ...  \n 61019 -0.809051 -1.316727                0          1       0  \n 61020 -0.572075 -1.032051                0          1       0  \n 61021 -0.572075 -1.032051                0          1       0  \n 61022 -0.572075 -1.032051                0          1       0  \n 61023 -0.572075 -1.032051                0          1       0  \n \n [61024 rows x 15 columns],\n 3976:                     fecha    id  intensidad  ocupacion  vmed  temperatura  \\\n 0     2019-01-01 00:00:00  3976        40.0        NaN   NaN          NaN   \n 1     2019-01-01 00:30:00  3976        60.0        NaN   NaN          NaN   \n 2     2019-01-01 00:45:00  3976        74.0        NaN   NaN          NaN   \n 3     2019-01-01 01:00:00  3976       147.0        NaN   NaN        8.900   \n 4     2019-01-01 01:15:00  3976       127.0        NaN   NaN        8.725   \n ...                   ...   ...         ...        ...   ...          ...   \n 53936 2020-12-31 22:30:00  3976       112.0        0.0   NaN        6.000   \n 53937 2020-12-31 22:45:00  3976       142.0        1.0   NaN        6.000   \n 53938 2020-12-31 23:00:00  3976        87.0        0.0   NaN        6.000   \n 53939 2020-12-31 23:30:00  3976       110.0        0.0   NaN        6.000   \n 53940 2020-12-31 23:45:00  3976        80.0        0.0   NaN        6.000   \n \n        humedad_relativa  presion_barometrica  radiacion_solar  precipitacion  \\\n 0                   NaN                  NaN              NaN            NaN   \n 1                   NaN                  NaN              NaN            NaN   \n 2                   NaN                  NaN              NaN            NaN   \n 3                 42.00                949.0             0.00           0.00   \n 4                 42.25                949.0             0.00           0.00   \n ...                 ...                  ...              ...            ...   \n 53936             88.00                934.0             0.50           0.90   \n 53937             87.50                934.0             0.25           1.35   \n 53938             87.00                934.0             0.00           1.80   \n 53939             87.00                934.0             0.00           1.80   \n 53940             87.00                934.0             0.00           1.80   \n \n         vientox   vientoy  domingo/festivo  laborable  sabado  \n 0           NaN       NaN                0          1       0  \n 1           NaN       NaN                0          1       0  \n 2           NaN       NaN                0          1       0  \n 3      0.339619  0.295227                0          1       0  \n 4      0.339615  0.242588                0          1       0  \n ...         ...       ...              ...        ...     ...  \n 53936 -1.046026 -1.601402                0          1       0  \n 53937 -0.809051 -1.316727                0          1       0  \n 53938 -0.572075 -1.032051                0          1       0  \n 53939 -0.572075 -1.032051                0          1       0  \n 53940 -0.572075 -1.032051                0          1       0  \n \n [53941 rows x 15 columns],\n 3977:                     fecha    id  intensidad  ocupacion  vmed  temperatura  \\\n 0     2019-01-01 00:00:00  3977        75.0        0.0   NaN          NaN   \n 1     2019-01-01 00:15:00  3977        53.0        0.0   NaN          NaN   \n 2     2019-01-01 00:30:00  3977       184.0        0.0   NaN          NaN   \n 3     2019-01-01 00:45:00  3977       415.0        2.0   NaN          NaN   \n 4     2019-01-01 01:00:00  3977       575.0        7.0   NaN          8.9   \n ...                   ...   ...         ...        ...   ...          ...   \n 56544 2020-12-31 22:45:00  3977       108.0        NaN   NaN          6.0   \n 56545 2020-12-31 23:00:00  3977       126.0        NaN   NaN          6.0   \n 56546 2020-12-31 23:15:00  3977        97.0        NaN   NaN          6.0   \n 56547 2020-12-31 23:30:00  3977       102.0        NaN   NaN          6.0   \n 56548 2020-12-31 23:45:00  3977        71.0        NaN   NaN          6.0   \n \n        humedad_relativa  presion_barometrica  radiacion_solar  precipitacion  \\\n 0                   NaN                  NaN              NaN            NaN   \n 1                   NaN                  NaN              NaN            NaN   \n 2                   NaN                  NaN              NaN            NaN   \n 3                   NaN                  NaN              NaN            NaN   \n 4                  42.0                949.0             0.00           0.00   \n ...                 ...                  ...              ...            ...   \n 56544              87.5                934.0             0.25           1.35   \n 56545              87.0                934.0             0.00           1.80   \n 56546              87.0                934.0             0.00           1.80   \n 56547              87.0                934.0             0.00           1.80   \n 56548              87.0                934.0             0.00           1.80   \n \n         vientox   vientoy  domingo/festivo  laborable  sabado  \n 0           NaN       NaN                0          1       0  \n 1           NaN       NaN                0          1       0  \n 2           NaN       NaN                0          1       0  \n 3           NaN       NaN                0          1       0  \n 4      0.339619  0.295227                0          1       0  \n ...         ...       ...              ...        ...     ...  \n 56544 -0.809051 -1.316727                0          1       0  \n 56545 -0.572075 -1.032051                0          1       0  \n 56546 -0.572075 -1.032051                0          1       0  \n 56547 -0.572075 -1.032051                0          1       0  \n 56548 -0.572075 -1.032051                0          1       0  \n \n [56549 rows x 15 columns],\n 3978:                     fecha    id  intensidad  ocupacion  vmed  temperatura  \\\n 0     2019-01-01 00:00:00  3978        83.0        0.0   NaN          NaN   \n 1     2019-01-01 00:15:00  3978        23.0        0.0   NaN          NaN   \n 2     2019-01-01 00:30:00  3978       136.0        0.0   NaN          NaN   \n 3     2019-01-01 00:45:00  3978       206.0        1.0   NaN          NaN   \n 4     2019-01-01 01:00:00  3978       296.0        2.0   NaN          8.9   \n ...                   ...   ...         ...        ...   ...          ...   \n 69273 2020-12-31 22:45:00  3978        68.0        NaN   NaN          6.0   \n 69274 2020-12-31 23:00:00  3978        40.0        NaN   NaN          6.0   \n 69275 2020-12-31 23:15:00  3978        60.0        NaN   NaN          6.0   \n 69276 2020-12-31 23:30:00  3978        51.0        NaN   NaN          6.0   \n 69277 2020-12-31 23:45:00  3978        50.0        NaN   NaN          6.0   \n \n        humedad_relativa  presion_barometrica  radiacion_solar  precipitacion  \\\n 0                   NaN                  NaN              NaN            NaN   \n 1                   NaN                  NaN              NaN            NaN   \n 2                   NaN                  NaN              NaN            NaN   \n 3                   NaN                  NaN              NaN            NaN   \n 4                  42.0                949.0             0.00           0.00   \n ...                 ...                  ...              ...            ...   \n 69273              87.5                934.0             0.25           1.35   \n 69274              87.0                934.0             0.00           1.80   \n 69275              87.0                934.0             0.00           1.80   \n 69276              87.0                934.0             0.00           1.80   \n 69277              87.0                934.0             0.00           1.80   \n \n         vientox   vientoy  domingo/festivo  laborable  sabado  \n 0           NaN       NaN                0          1       0  \n 1           NaN       NaN                0          1       0  \n 2           NaN       NaN                0          1       0  \n 3           NaN       NaN                0          1       0  \n 4      0.339619  0.295227                0          1       0  \n ...         ...       ...              ...        ...     ...  \n 69273 -0.809051 -1.316727                0          1       0  \n 69274 -0.572075 -1.032051                0          1       0  \n 69275 -0.572075 -1.032051                0          1       0  \n 69276 -0.572075 -1.032051                0          1       0  \n 69277 -0.572075 -1.032051                0          1       0  \n \n [69278 rows x 15 columns]}"
     },
     "execution_count": 106,
     "metadata": {},
     "output_type": "execute_result"
    }
   ],
   "source": [
    "data"
   ],
   "metadata": {
    "collapsed": false,
    "pycharm": {
     "name": "#%%\n"
    }
   }
  },
  {
   "cell_type": "code",
   "execution_count": 32,
   "id": "8d0eee04-6711-4db8-8208-2f8919a091e2",
   "metadata": {
    "pycharm": {
     "name": "#%%\n"
    }
   },
   "outputs": [],
   "source": [
    "seq_len = 12\n",
    "n_values = 2"
   ]
  },
  {
   "cell_type": "code",
   "execution_count": 33,
   "id": "514cf1ab-a51d-4c6c-9bfb-80b62d34f97d",
   "metadata": {
    "tags": [],
    "pycharm": {
     "name": "#%%\n"
    }
   },
   "outputs": [
    {
     "data": {
      "text/plain": [
       "(8346, 12, 5, 2)"
      ]
     },
     "execution_count": 33,
     "metadata": {},
     "output_type": "execute_result"
    }
   ],
   "source": [
    "arrx = np.full((len(intensidades), seq_len, len(ids), n_values), np.nan)\n",
    "for period in range(seq_len):\n",
    "    arrx[:, period, :, 1] = intensidades.fraccion_dia.shift(-period).values.reshape(-1, 1)\n",
    "    for sensor in range(len(ids)):\n",
    "        arrx[:, period, sensor, 0] = intensidades[str(sensor)].shift(-period).values\n",
    "arrx.shape"
   ]
  },
  {
   "cell_type": "code",
   "execution_count": 34,
   "id": "75b0df65-cdb7-4e1f-85df-c994b0c77634",
   "metadata": {
    "tags": [],
    "pycharm": {
     "name": "#%%\n"
    }
   },
   "outputs": [
    {
     "data": {
      "text/plain": [
       "(8334, 12, 5, 2)"
      ]
     },
     "execution_count": 34,
     "metadata": {},
     "output_type": "execute_result"
    }
   ],
   "source": [
    "arrx = arrx[:-seq_len]\n",
    "arrx.shape"
   ]
  },
  {
   "cell_type": "code",
   "execution_count": 35,
   "id": "05247281-aef5-4575-8fb8-8fc1e3345275",
   "metadata": {
    "tags": [],
    "pycharm": {
     "name": "#%%\n"
    }
   },
   "outputs": [
    {
     "data": {
      "text/plain": [
       "(8322, 12, 5, 2)"
      ]
     },
     "execution_count": 35,
     "metadata": {},
     "output_type": "execute_result"
    }
   ],
   "source": [
    "arry = arrx[seq_len:, :, :, :]\n",
    "arry.shape"
   ]
  },
  {
   "cell_type": "code",
   "execution_count": 36,
   "id": "d418ce03-5863-4489-9fa0-dba42fa017d0",
   "metadata": {
    "tags": [],
    "pycharm": {
     "name": "#%%\n"
    }
   },
   "outputs": [
    {
     "data": {
      "text/plain": [
       "(8322, 12, 5, 2)"
      ]
     },
     "execution_count": 36,
     "metadata": {},
     "output_type": "execute_result"
    }
   ],
   "source": [
    "arrx = arrx[:-seq_len]\n",
    "arrx.shape"
   ]
  },
  {
   "cell_type": "code",
   "execution_count": 37,
   "id": "581da5db-82bb-4f60-8075-41fdc308a6a1",
   "metadata": {
    "pycharm": {
     "name": "#%%\n"
    }
   },
   "outputs": [
    {
     "data": {
      "text/plain": [
       "8322"
      ]
     },
     "execution_count": 37,
     "metadata": {},
     "output_type": "execute_result"
    }
   ],
   "source": [
    "data_size = len(arrx)\n",
    "data_size"
   ]
  },
  {
   "cell_type": "code",
   "execution_count": 38,
   "id": "4800937e-776e-46b0-8939-bd0a9540a44d",
   "metadata": {
    "pycharm": {
     "name": "#%%\n"
    }
   },
   "outputs": [
    {
     "data": {
      "text/plain": [
       "78.01875"
      ]
     },
     "execution_count": 38,
     "metadata": {},
     "output_type": "execute_result"
    }
   ],
   "source": [
    "0.6*data_size / 64"
   ]
  },
  {
   "cell_type": "code",
   "execution_count": 39,
   "id": "f50f9fda-f1d8-43ec-b0be-65ba54d170b0",
   "metadata": {
    "pycharm": {
     "name": "#%%\n"
    }
   },
   "outputs": [],
   "source": [
    "np.savez(\"madrid-dataset.npz\", x=arrx, y=arry)\n",
    "np.savez(\"madrid-train.npz\", x=arrx[:int(0.6 * data_size)], y=arry[:int(0.6 * data_size)])\n",
    "np.savez(\"madrid-val.npz\", x=arrx[int(0.6 * data_size):int(0.8 * data_size)], y=arry[int(0.6 * data_size):int(0.8 * data_size)])\n",
    "np.savez(\"madrid-test.npz\", x=arrx[int(0.8 * data_size):], y=arry[int(0.8 * data_size):])"
   ]
  },
  {
   "cell_type": "code",
   "execution_count": 29,
   "id": "7ac73bfd-61ea-4495-8055-3ac17b014039",
   "metadata": {
    "pycharm": {
     "name": "#%%\n"
    }
   },
   "outputs": [
    {
     "data": {
      "text/plain": [
       "0"
      ]
     },
     "execution_count": 29,
     "metadata": {},
     "output_type": "execute_result"
    }
   ],
   "source": [
    "np.count_nonzero(np.isnan(arrx))"
   ]
  },
  {
   "cell_type": "code",
   "execution_count": 30,
   "id": "a33492fe-feea-41ec-b21a-0c7abd7cc4c3",
   "metadata": {
    "pycharm": {
     "name": "#%%\n"
    }
   },
   "outputs": [
    {
     "data": {
      "text/plain": [
       "0"
      ]
     },
     "execution_count": 30,
     "metadata": {},
     "output_type": "execute_result"
    }
   ],
   "source": [
    "np.count_nonzero(np.isnan(arry))"
   ]
  },
  {
   "cell_type": "code",
   "execution_count": null,
   "id": "2541824d-be58-4bb1-a0f6-9634ff5bdc13",
   "metadata": {
    "pycharm": {
     "name": "#%%\n"
    }
   },
   "outputs": [],
   "source": []
  },
  {
   "cell_type": "code",
   "execution_count": null,
   "id": "81d60555-b90a-4bfc-b71b-4c9ebc9d609f",
   "metadata": {
    "pycharm": {
     "name": "#%%\n"
    }
   },
   "outputs": [],
   "source": []
  },
  {
   "cell_type": "code",
   "execution_count": null,
   "id": "58414a1e-b45b-4fe3-80e7-9b5bf2fc96e5",
   "metadata": {
    "pycharm": {
     "name": "#%%\n"
    }
   },
   "outputs": [],
   "source": []
  },
  {
   "cell_type": "code",
   "execution_count": 39,
   "id": "85959b12-7741-4b21-b144-4a1824896b80",
   "metadata": {
    "pycharm": {
     "name": "#%%\n"
    }
   },
   "outputs": [],
   "source": [
    "import sys\n",
    "sys.path.append(r\"C:\\Users\\Bened\\Documents\\TFM\\dgl\\examples\\pytorch\\dtgrnn\")\n",
    "\n",
    "from model import GraphRNN"
   ]
  },
  {
   "cell_type": "code",
   "execution_count": 31,
   "id": "f8233c59-0dd7-4d39-be39-68358c8d4c0b",
   "metadata": {
    "pycharm": {
     "name": "#%%\n"
    }
   },
   "outputs": [
    {
     "data": {
      "text/plain": [
       "OrderedDict([('encoder.layers.0.r_bias',\n",
       "              tensor([ 0.9054,  0.7112,  0.8861,  0.0494,  0.4193,  0.1372,  0.4256, -0.1206,\n",
       "                       0.0417,  0.7200,  0.7352,  0.4232,  1.0133,  0.7376,  0.9076,  0.4603,\n",
       "                       0.3227,  0.6536,  0.1307,  0.6752,  0.7129,  0.1915,  0.6541,  0.4795,\n",
       "                       0.4137,  0.4035,  0.4222, -0.0952,  0.5519,  0.1852,  0.2664,  0.6374,\n",
       "                       0.4005,  0.2701,  0.2982,  0.0147,  0.0085,  0.5999,  0.6318,  0.4912,\n",
       "                       0.1305,  0.2698,  0.2804,  0.6683,  0.5699,  0.1912, -0.0713,  0.1848,\n",
       "                       0.4861,  0.7656,  0.5757,  0.8500,  0.3888,  0.4140,  0.4044,  0.7725,\n",
       "                       0.5799,  1.0815,  0.3068,  0.7857,  0.5805, -0.0240,  1.0659,  0.0275])),\n",
       "             ('encoder.layers.0.u_bias',\n",
       "              tensor([0.7747, 0.7741, 0.2054, 0.7380, 0.0742, 0.2815, 0.5931, 0.4004, 0.4614,\n",
       "                      0.3310, 0.1445, 0.5442, 0.3493, 1.0390, 0.2643, 0.2875, 0.5452, 0.8144,\n",
       "                      0.6985, 0.3308, 0.4235, 1.0462, 0.2599, 0.8166, 0.9095, 0.3955, 0.3790,\n",
       "                      0.4602, 0.7671, 0.1567, 0.6414, 0.3476, 0.7077, 0.7282, 0.7772, 0.4668,\n",
       "                      0.6844, 0.7491, 0.2557, 0.7148, 0.5012, 0.8498, 0.7525, 0.9128, 0.2283,\n",
       "                      0.8150, 0.8859, 0.5922, 0.8022, 0.3030, 0.1407, 0.2609, 0.0355, 0.3130,\n",
       "                      0.2913, 0.7034, 0.2260, 0.2629, 0.2236, 0.1319, 0.3457, 0.9692, 0.9167,\n",
       "                      0.4341])),\n",
       "             ('encoder.layers.0.c_bias',\n",
       "              tensor([ 2.8420e-01,  4.3354e-02,  4.1954e-01,  4.5530e-01,  1.7729e-01,\n",
       "                       6.9073e-01,  4.7080e-02,  6.4286e-01,  2.6076e-01,  6.0828e-01,\n",
       "                      -8.3522e-04,  8.0175e-02,  3.7891e-01,  4.4620e-01,  3.2430e-02,\n",
       "                       5.8846e-01, -2.9987e-03,  5.9539e-01,  7.5121e-02,  1.0120e-01,\n",
       "                       5.3039e-01,  6.1986e-01,  9.9268e-01,  9.5672e-02,  2.7922e-01,\n",
       "                       6.9020e-01,  6.3463e-01,  1.3014e-01,  2.9696e-01,  7.1024e-01,\n",
       "                       6.3891e-01,  3.6406e-01,  4.4621e-01,  4.7175e-01,  4.5797e-01,\n",
       "                       2.0079e-01,  2.9288e-01,  6.5855e-01,  4.1361e-01,  9.6682e-01,\n",
       "                       6.9188e-01,  4.1392e-01,  8.5546e-01,  6.3755e-01,  3.1883e-01,\n",
       "                       4.0951e-01,  8.4640e-01,  1.3161e-01,  1.6760e-01,  2.2859e-01,\n",
       "                       4.2260e-01,  2.6726e-01,  8.0500e-01,  1.4801e-01,  1.4811e-01,\n",
       "                       8.5419e-01,  4.8378e-01,  8.0089e-01,  5.0637e-01,  4.5578e-01,\n",
       "                       3.0288e-01,  7.6831e-01,  7.2948e-01,  3.0054e-01])),\n",
       "             ('encoder.layers.0.r_net.merger', tensor([0.7261, 1.0667])),\n",
       "             ('encoder.layers.0.r_net.project_fcs.0.weight',\n",
       "              tensor([[ 0.3258,  0.0608, -0.0760,  ..., -0.0492, -0.1180, -0.0413],\n",
       "                      [ 0.3176,  0.1154, -0.1098,  ..., -0.0300, -0.1244, -0.0098],\n",
       "                      [ 0.5835,  0.0185, -0.0483,  ..., -0.0207, -0.0107, -0.0934],\n",
       "                      ...,\n",
       "                      [ 0.3106,  0.0372, -0.1051,  ...,  0.0758,  0.0235, -0.1735],\n",
       "                      [ 0.6288, -0.1080,  0.0782,  ..., -0.0791,  0.0893, -0.0052],\n",
       "                      [ 0.3254, -0.0082,  0.0194,  ..., -0.0415, -0.0795, -0.0315]])),\n",
       "             ('encoder.layers.0.u_net.merger', tensor([-1.3296,  2.0030])),\n",
       "             ('encoder.layers.0.u_net.project_fcs.0.weight',\n",
       "              tensor([[-0.3557,  0.1657, -0.0511,  ..., -0.0515, -0.0149,  0.0244],\n",
       "                      [ 0.4297,  0.0864, -0.0830,  ..., -0.0709, -0.0840,  0.0544],\n",
       "                      [ 0.5468, -0.1764,  0.1035,  ..., -0.1898, -0.2183,  0.1088],\n",
       "                      ...,\n",
       "                      [ 0.4463, -0.2273,  0.1689,  ..., -0.0859,  0.1102, -0.0583],\n",
       "                      [ 0.4900, -0.0952,  0.1133,  ..., -0.0496, -0.2608, -0.0224],\n",
       "                      [ 0.0695,  0.0098,  0.0953,  ...,  0.2922,  0.2843,  0.1410]])),\n",
       "             ('encoder.layers.0.c_net.merger', tensor([-0.7205,  1.6426])),\n",
       "             ('encoder.layers.0.c_net.project_fcs.0.weight',\n",
       "              tensor([[ 0.3886,  0.0384,  0.0096,  ..., -0.0422,  0.1967,  0.0709],\n",
       "                      [-0.5368,  0.0116, -0.1112,  ..., -0.0663, -0.0821,  0.0485],\n",
       "                      [-0.6923,  0.1375, -0.1428,  ..., -0.0915, -0.1750, -0.1742],\n",
       "                      ...,\n",
       "                      [-0.6098,  0.0798, -0.1796,  ..., -0.0801, -0.2109, -0.0809],\n",
       "                      [-0.6151,  0.2760, -0.1752,  ..., -0.1986, -0.3564, -0.1185],\n",
       "                      [-0.0267,  0.2155, -0.2303,  ..., -0.1576, -0.1254, -0.2647]])),\n",
       "             ('encoder.layers.1.r_bias',\n",
       "              tensor([ 0.8496,  0.5808,  0.3329,  0.8318,  0.3263,  0.8081,  0.4117,  0.3108,\n",
       "                       0.3269,  0.4743,  0.1440,  0.5705,  0.2839,  0.3183,  0.1031, -0.0047,\n",
       "                       0.2127,  0.7011,  0.3655,  0.8325,  0.0238,  0.2211,  0.8887,  0.3119,\n",
       "                       0.2200,  0.5552, -0.0351, -0.0867,  0.7750,  0.5113,  0.0220,  0.0540,\n",
       "                       0.8734,  0.4960,  0.6180,  0.8142,  0.5037,  0.8952,  0.1147,  0.3212,\n",
       "                       0.4942,  0.3494,  0.8139,  0.2045,  0.0737,  0.4187,  0.7500,  0.5136,\n",
       "                       0.8117,  0.1008,  0.2977,  0.5001, -0.0208,  0.2539,  0.7837,  0.8984,\n",
       "                       0.1239,  0.0169,  1.0120,  0.9033,  0.3038,  0.4160,  0.3377,  0.1662])),\n",
       "             ('encoder.layers.1.u_bias',\n",
       "              tensor([0.2155, 0.6724, 0.7705, 0.2679, 0.3791, 0.8568, 0.3803, 0.1512, 0.9029,\n",
       "                      0.1007, 0.8498, 0.6228, 0.1932, 0.2941, 0.7078, 0.7462, 0.0995, 0.7758,\n",
       "                      0.5672, 0.2950, 0.4748, 0.5845, 0.7543, 0.4582, 0.1770, 1.0679, 0.7542,\n",
       "                      0.8355, 0.2495, 0.0493, 0.2698, 0.3867, 0.8365, 1.0919, 0.2416, 0.6892,\n",
       "                      0.8148, 0.8899, 0.3010, 0.9546, 0.7864, 0.9147, 0.4106, 0.6436, 0.0095,\n",
       "                      0.5466, 0.2423, 0.0901, 0.4313, 0.5117, 0.2085, 0.3596, 0.7030, 0.7328,\n",
       "                      0.5965, 0.3987, 0.6692, 0.7440, 0.9008, 0.8984, 0.8055, 0.7383, 0.4151,\n",
       "                      0.5735])),\n",
       "             ('encoder.layers.1.c_bias',\n",
       "              tensor([ 0.7633,  0.9144,  0.4444,  0.5306,  0.7916,  0.4890,  0.3314,  0.0509,\n",
       "                       0.4508,  0.5849,  0.2732,  0.4417,  0.8587,  0.8906,  0.7062,  0.8221,\n",
       "                       0.7730,  0.3853,  0.7767,  0.9536,  0.5268,  0.2621,  0.0918,  0.4733,\n",
       "                       0.1407,  0.0211,  0.0026,  0.4648,  0.1235,  0.4352,  0.8278,  0.4599,\n",
       "                       0.8746,  0.5300,  0.8346,  0.3322,  0.0489,  0.4583,  0.7237,  0.5324,\n",
       "                       0.6638,  0.6864,  0.3773,  0.5007,  0.1839,  0.5678,  0.3617,  0.8824,\n",
       "                       0.9046,  0.6315,  0.3789,  0.2252,  0.7583,  0.2400,  0.0262,  0.7193,\n",
       "                       0.1145,  0.8008, -0.0367,  0.5053,  0.2288,  0.5602,  0.2785,  0.8777])),\n",
       "             ('encoder.layers.1.r_net.merger', tensor([ 0.5583, -0.6412])),\n",
       "             ('encoder.layers.1.r_net.project_fcs.0.weight',\n",
       "              tensor([[-0.0264,  0.1153, -0.0107,  ...,  0.0496, -0.0703,  0.1200],\n",
       "                      [ 0.0220, -0.0671, -0.0396,  ...,  0.0427,  0.0428,  0.0319],\n",
       "                      [-0.0263,  0.0935, -0.0210,  ...,  0.0677,  0.0394,  0.0716],\n",
       "                      ...,\n",
       "                      [ 0.2046,  0.1481,  0.0213,  ...,  0.0612,  0.0986,  0.1215],\n",
       "                      [-0.0381, -0.0495, -0.0391,  ..., -0.0633,  0.0618,  0.1157],\n",
       "                      [-0.1455, -0.0082,  0.0347,  ..., -0.0234, -0.0660,  0.0109]])),\n",
       "             ('encoder.layers.1.u_net.merger', tensor([ 0.7195, -0.3967])),\n",
       "             ('encoder.layers.1.u_net.project_fcs.0.weight',\n",
       "              tensor([[ 0.1397,  0.0465, -0.0363,  ...,  0.0659, -0.0477, -0.0730],\n",
       "                      [ 0.0334,  0.0068, -0.1023,  ..., -0.0019, -0.0286,  0.0959],\n",
       "                      [ 0.1691, -0.0234, -0.0306,  ..., -0.0470,  0.1676,  0.2006],\n",
       "                      ...,\n",
       "                      [-0.2092,  0.0834,  0.1554,  ..., -0.0927,  0.0315, -0.0650],\n",
       "                      [-0.0898,  0.0854, -0.0404,  ..., -0.0131, -0.0818, -0.0369],\n",
       "                      [ 0.2274, -0.0126, -0.3162,  ...,  0.2108,  0.1598,  0.1011]])),\n",
       "             ('encoder.layers.1.c_net.merger', tensor([ 0.2343, -0.5826])),\n",
       "             ('encoder.layers.1.c_net.project_fcs.0.weight',\n",
       "              tensor([[ 4.2752e-02,  1.6348e-01,  1.1988e-01,  ...,  8.6586e-02,\n",
       "                        2.4491e-02, -4.7812e-02],\n",
       "                      [-1.3967e-01,  3.1866e-02, -3.5392e-02,  ..., -5.5701e-02,\n",
       "                        3.4430e-02, -7.6247e-02],\n",
       "                      [-2.8501e-02, -5.9327e-02, -1.7708e-01,  ..., -9.6529e-03,\n",
       "                       -1.6759e-01, -1.8221e-01],\n",
       "                      ...,\n",
       "                      [ 2.1466e-01, -9.0853e-03, -2.0318e-01,  ..., -1.9153e-02,\n",
       "                        3.9031e-03,  1.2693e-01],\n",
       "                      [ 1.3152e-01,  2.4308e-02,  6.2430e-02,  ...,  1.2732e-04,\n",
       "                        3.4461e-02,  7.4483e-02],\n",
       "                      [-2.9305e-01,  2.0096e-01,  3.3028e-01,  ..., -7.3716e-02,\n",
       "                       -9.8793e-02, -1.0822e-01]])),\n",
       "             ('decoder.out_layer.weight',\n",
       "              tensor([[ 0.0634,  0.0615, -0.0115,  0.0443,  0.0787, -0.0318,  0.1233, -0.1049,\n",
       "                       -0.0833, -0.1927,  0.1851, -0.2375,  0.1090, -0.1951,  0.1164,  0.1647,\n",
       "                       -0.1717, -0.1040,  0.2366, -0.0295,  0.0552,  0.2597, -0.0397, -0.0924,\n",
       "                       -0.1264, -0.0600, -0.2338, -0.1288, -0.0518, -0.0951, -0.3068,  0.1127,\n",
       "                        0.2445, -0.2625,  0.0942, -0.0374,  0.2212, -0.2443, -0.0857,  0.0971,\n",
       "                        0.2130,  0.2039,  0.0822, -0.0863,  0.1048,  0.1642, -0.0003, -0.0405,\n",
       "                       -0.0568,  0.2234, -0.1237,  0.1689, -0.1399, -0.1348, -0.1021,  0.2296,\n",
       "                        0.0156,  0.1293,  0.1509,  0.0053, -0.1369, -0.1574, -0.0344,  0.2502],\n",
       "                      [ 0.0629, -0.1200, -0.0645, -0.1232, -0.0302, -0.1238,  0.0696, -0.0377,\n",
       "                        0.0631,  0.0374, -0.0934,  0.0465,  0.0651, -0.0157, -0.0730, -0.0363,\n",
       "                       -0.0304, -0.1173, -0.0024, -0.0934, -0.0945, -0.0207,  0.0480, -0.0594,\n",
       "                       -0.0887,  0.0089, -0.0093, -0.1380, -0.0240, -0.0265, -0.0088, -0.1160,\n",
       "                       -0.0314,  0.0281,  0.0304, -0.1149,  0.0104,  0.0264,  0.0767, -0.0598,\n",
       "                       -0.0166, -0.0503,  0.0510, -0.0596, -0.0753,  0.0630, -0.0664, -0.0913,\n",
       "                       -0.0212,  0.0158, -0.1272,  0.0582, -0.0573, -0.1093, -0.0106, -0.0194,\n",
       "                       -0.0891, -0.0966,  0.0271, -0.1082,  0.0036, -0.0402,  0.0558, -0.0244]])),\n",
       "             ('decoder.out_layer.bias', tensor([ 0.0004, -0.0703])),\n",
       "             ('decoder.layers.0.r_bias',\n",
       "              tensor([ 0.8982,  0.2006,  0.0085,  0.8471,  0.8606,  0.5038,  0.8537,  0.5743,\n",
       "                       0.3188,  0.3723,  0.8327, -0.0022,  0.4134,  0.2183,  0.3933,  0.9710,\n",
       "                       0.6149,  0.3364,  0.9148, -0.0076,  0.0972,  0.4550,  0.0544, -0.0122,\n",
       "                       0.3653,  0.2803,  0.3430,  0.6336,  0.3364,  0.5807,  0.4840,  0.2195,\n",
       "                       0.2193,  0.5113,  0.1420,  0.0252,  0.3398,  0.1212,  0.8339,  0.6143,\n",
       "                       0.4833,  0.4080, -0.0032,  0.1216,  0.0289,  0.0360,  0.1704,  0.5494,\n",
       "                       0.0589,  0.9180,  0.4292, -0.0599,  0.2579,  0.1797,  0.0832,  0.6574,\n",
       "                       0.9903,  0.7627,  0.7159,  0.0330,  0.4189,  0.0647,  0.2691,  0.3391])),\n",
       "             ('decoder.layers.0.u_bias',\n",
       "              tensor([ 7.1217e-01, -1.0980e-01,  5.9956e-01,  5.9694e-01, -1.9836e-01,\n",
       "                       1.6128e-01,  2.3353e-01,  6.3174e-01, -1.1950e-01,  4.1346e-01,\n",
       "                       5.1279e-01,  2.8098e-02, -9.0039e-02,  7.2568e-02,  3.1217e-01,\n",
       "                       5.5190e-01, -3.6055e-02, -3.6310e-01, -1.7928e-01,  2.9980e-01,\n",
       "                       5.1453e-01,  2.1906e-01,  4.7843e-01,  4.8318e-01,  4.1171e-01,\n",
       "                       7.4955e-01,  3.4325e-01, -1.0072e-01,  5.6325e-01, -1.4039e-01,\n",
       "                      -9.7259e-02, -1.0897e-01, -1.1002e-01,  5.2574e-01,  3.5336e-01,\n",
       "                       1.7646e-01, -4.0701e-02,  3.7280e-01, -2.2051e-03,  3.4757e-01,\n",
       "                       3.1159e-01,  6.4268e-01, -7.1772e-02,  5.0585e-01,  5.8882e-01,\n",
       "                       2.7548e-01,  1.1831e-02,  3.3671e-04, -1.5173e-01, -1.8802e-01,\n",
       "                       6.0601e-01,  3.3777e-02,  3.3039e-01,  4.4195e-01,  4.8862e-01,\n",
       "                      -9.0682e-02, -8.2929e-03,  7.0643e-02,  6.4132e-01,  1.2046e-01,\n",
       "                       3.0964e-01, -1.1131e-01,  3.2220e-02,  4.0029e-01])),\n",
       "             ('decoder.layers.0.c_bias',\n",
       "              tensor([ 0.3021,  0.7618,  0.5579,  0.2103,  0.0693,  0.6170,  0.3543,  0.6475,\n",
       "                       0.1516,  0.6854,  0.1124,  0.2440,  0.5954,  0.6587,  0.4152,  0.5105,\n",
       "                       0.1282,  0.1933,  0.4748,  0.4179,  0.6701,  0.8529,  0.9423,  0.1921,\n",
       "                       0.7232,  0.0055,  0.5169,  0.2403,  0.1050,  0.3926,  0.6732,  0.8161,\n",
       "                       0.5902,  0.8134,  0.5963,  0.7391,  0.3296,  0.6605, -0.0027,  0.7621,\n",
       "                       0.4382,  0.6992,  0.4808,  0.2935,  0.3526,  0.8611,  0.5855,  0.3401,\n",
       "                       0.6976,  0.0290,  0.6632,  0.0905,  0.2075,  0.3171,  0.3714,  0.4339,\n",
       "                       0.6049,  0.6333,  0.5479,  0.3889,  0.4248,  0.4256,  0.4370,  0.7914])),\n",
       "             ('decoder.layers.0.r_net.merger', tensor([-1.3327, -1.7153])),\n",
       "             ('decoder.layers.0.r_net.project_fcs.0.weight',\n",
       "              tensor([[ 0.4550, -0.0729, -0.0349,  ..., -0.0104,  0.0341,  0.0591],\n",
       "                      [ 1.0967,  0.0329,  0.1319,  ...,  0.0989,  0.0153,  0.1557],\n",
       "                      [ 0.7314, -0.1308,  0.2327,  ...,  0.3018, -0.0226,  0.1500],\n",
       "                      ...,\n",
       "                      [ 0.6876, -0.1104, -0.0600,  ...,  0.1530,  0.1527,  0.1537],\n",
       "                      [ 1.0145, -0.0185,  0.1102,  ...,  0.0100, -0.0406, -0.0194],\n",
       "                      [ 0.8693,  0.0156,  0.1315,  ...,  0.1214,  0.0053, -0.0740]])),\n",
       "             ('decoder.layers.0.u_net.merger', tensor([-0.4713, -1.6620])),\n",
       "             ('decoder.layers.0.u_net.project_fcs.0.weight',\n",
       "              tensor([[-0.0483, -0.3287,  0.3416,  ...,  0.2609,  0.0586,  0.2090],\n",
       "                      [-0.7033, -0.1863,  0.0653,  ...,  0.1599,  0.1793,  0.0745],\n",
       "                      [-0.4003, -0.1090,  0.2099,  ...,  0.2532,  0.2098,  0.0398],\n",
       "                      ...,\n",
       "                      [ 0.4551, -0.4104,  0.3259,  ...,  0.3514,  0.1471,  0.4040],\n",
       "                      [ 0.3480, -0.3381,  0.2079,  ...,  0.0614,  0.1694,  0.1880],\n",
       "                      [ 0.5384, -0.2035,  0.3652,  ...,  0.2576,  0.2320,  0.0941]])),\n",
       "             ('decoder.layers.0.c_net.merger', tensor([-0.0391,  1.5530])),\n",
       "             ('decoder.layers.0.c_net.project_fcs.0.weight',\n",
       "              tensor([[ 0.8055, -0.1292, -0.0661,  ..., -0.0318, -0.2165, -0.1918],\n",
       "                      [-1.0157, -0.0404,  0.0015,  ..., -0.1465,  0.0808,  0.0763],\n",
       "                      [-0.6551,  0.1224,  0.0477,  ...,  0.0048, -0.0657,  0.1123],\n",
       "                      ...,\n",
       "                      [ 0.7983, -0.0101, -0.0623,  ..., -0.1830, -0.3883, -0.0927],\n",
       "                      [ 0.7630,  0.0095, -0.1709,  ..., -0.0991, -0.2414, -0.1196],\n",
       "                      [ 0.8386, -0.0072, -0.2137,  ..., -0.0086, -0.3330, -0.1706]])),\n",
       "             ('decoder.layers.1.r_bias',\n",
       "              tensor([ 0.8536,  0.4107,  0.1158,  0.0859,  0.7965,  0.7760,  0.1532,  0.5853,\n",
       "                       0.7403,  0.8472, -0.0242,  0.2137,  0.4338,  0.6725,  0.1483,  0.1419,\n",
       "                       0.1411,  0.4968,  0.1420,  0.4237,  0.6474,  0.2272,  0.1150,  0.2859,\n",
       "                       0.1761,  0.7987, -0.1344,  0.3100, -0.0179,  0.4297,  0.2509,  0.2460,\n",
       "                       0.8222, -0.0875,  0.8347,  0.8138,  0.1159,  0.6507,  0.2413,  0.3220,\n",
       "                       0.3231,  0.4011, -0.0834,  0.0095,  0.0437,  0.1895,  0.4951,  0.2350,\n",
       "                       0.1661,  0.3487,  0.5943,  0.5701,  0.7977,  0.6732,  0.9036,  0.6582,\n",
       "                       0.6388,  0.6310,  0.2655,  0.5045, -0.0892,  0.7393,  0.1779,  0.2700])),\n",
       "             ('decoder.layers.1.u_bias',\n",
       "              tensor([ 0.6063,  1.0712, -0.0225,  0.0575,  0.1951,  0.9009,  0.9334,  0.3044,\n",
       "                       0.8896, -0.1276,  0.5450, -0.1388,  0.8009,  0.0082,  0.2058,  1.0884,\n",
       "                       0.5460,  0.8116,  0.4558,  0.5834, -0.0179,  0.5293,  0.8200,  0.7384,\n",
       "                       0.9686,  0.7376,  0.0613,  0.1599,  0.0779,  0.3150,  0.6470, -0.0587,\n",
       "                       0.3311,  0.1733,  1.0095,  0.0930,  0.1950,  0.7421,  0.2053,  0.1687,\n",
       "                       0.3365,  0.7048,  0.7058,  0.9027,  0.3801,  0.4313,  0.4970,  0.4050,\n",
       "                       0.4691,  0.3416,  0.6611,  0.8605,  0.0285,  0.2242,  0.1335,  1.1310,\n",
       "                       0.3946,  0.4034,  0.2866,  0.1453,  0.1341,  0.7352,  0.9295,  0.8596])),\n",
       "             ('decoder.layers.1.c_bias',\n",
       "              tensor([ 0.7039,  0.0270,  0.8740,  0.0382,  0.1952,  0.0942,  0.6123,  0.3136,\n",
       "                       0.9198,  0.8649,  0.1727,  0.4708,  0.6571,  0.7366,  0.0926,  0.5594,\n",
       "                       0.6314,  0.7673,  0.5247,  0.7788,  0.8305,  0.4682,  0.0850,  0.2563,\n",
       "                       0.8390,  0.8407,  0.4854,  0.7240,  0.9050,  0.6797,  0.3437,  0.4780,\n",
       "                      -0.0709,  0.5368,  0.4459,  0.3097,  0.5566,  0.2385,  0.8060,  0.0871,\n",
       "                       0.5661,  0.8812,  0.3554,  0.3645,  0.8362,  0.8494,  0.6878,  0.1042,\n",
       "                       0.1345,  0.4213,  0.9383,  0.6616,  0.8096,  0.1633, -0.0773,  0.2473,\n",
       "                       0.9854,  0.6091,  0.4032,  0.1904,  0.0957,  0.9495,  0.3484,  0.4354])),\n",
       "             ('decoder.layers.1.r_net.merger', tensor([-0.8333,  1.1243])),\n",
       "             ('decoder.layers.1.r_net.project_fcs.0.weight',\n",
       "              tensor([[ 0.1425, -0.2910, -0.2782,  ..., -0.2143, -0.1211, -0.0417],\n",
       "                      [ 0.0601, -0.2069, -0.1618,  ..., -0.1601, -0.1510,  0.0503],\n",
       "                      [-0.0866, -0.1835, -0.2568,  ..., -0.0882, -0.1449, -0.0335],\n",
       "                      ...,\n",
       "                      [ 0.0274, -0.1660, -0.1973,  ..., -0.1581, -0.1304, -0.0381],\n",
       "                      [-0.0895, -0.2299, -0.1934,  ..., -0.1497, -0.1927, -0.0379],\n",
       "                      [ 0.1534, -0.3822, -0.2862,  ..., -0.1490, -0.1027, -0.1337]])),\n",
       "             ('decoder.layers.1.u_net.merger', tensor([ 0.0373, -0.7834])),\n",
       "             ('decoder.layers.1.u_net.project_fcs.0.weight',\n",
       "              tensor([[-0.1248, -0.1602, -0.1503,  ..., -0.2419, -0.1695, -0.1820],\n",
       "                      [-0.0892, -0.1635, -0.0300,  ..., -0.1429, -0.1694, -0.1143],\n",
       "                      [ 0.1263,  0.0614,  0.1411,  ...,  0.1563,  0.1841,  0.1573],\n",
       "                      ...,\n",
       "                      [-0.1183, -0.0698, -0.1036,  ..., -0.0094, -0.0796,  0.0998],\n",
       "                      [-0.0992, -0.0877,  0.0515,  ...,  0.0107, -0.1013, -0.1217],\n",
       "                      [-0.2513, -0.3515, -0.3989,  ..., -0.4423, -0.3791, -0.1648]])),\n",
       "             ('decoder.layers.1.c_net.merger', tensor([-1.9948, -0.4942])),\n",
       "             ('decoder.layers.1.c_net.project_fcs.0.weight',\n",
       "              tensor([[ 0.1007,  0.0633,  0.0302,  ..., -0.0246, -0.0383,  0.0083],\n",
       "                      [-0.0564, -0.0599, -0.0093,  ...,  0.0060, -0.0538, -0.0947],\n",
       "                      [-0.0349,  0.0159, -0.0507,  ..., -0.0181,  0.0329,  0.0424],\n",
       "                      ...,\n",
       "                      [ 0.1342, -0.1212, -0.0147,  ...,  0.0575,  0.0578,  0.1304],\n",
       "                      [ 0.0360, -0.0612,  0.0713,  ...,  0.0713,  0.0090,  0.0214],\n",
       "                      [ 0.0757,  0.0219,  0.0450,  ...,  0.0088,  0.0436,  0.1188]]))])"
      ]
     },
     "execution_count": 31,
     "metadata": {},
     "output_type": "execute_result"
    }
   ],
   "source": [
    "state_dict = torch.load(r\"C:\\Users\\Bened\\Documents\\TFM\\dgl\\examples\\pytorch\\dtgrnn\\trained-dcrnn.pt\")\n",
    "state_dict"
   ]
  },
  {
   "cell_type": "code",
   "execution_count": 52,
   "id": "7c4355f0-f254-4a76-91c5-623697dc561a",
   "metadata": {
    "pycharm": {
     "name": "#%%\n"
    }
   },
   "outputs": [
    {
     "data": {
      "text/plain": [
       "{}"
      ]
     },
     "execution_count": 52,
     "metadata": {},
     "output_type": "execute_result"
    },
    {
     "data": {
      "image/png": "[encoded data removed]",
      "text/plain": [
       "<Figure size 432x288 with 1 Axes>"
      ]
     },
     "metadata": {},
     "output_type": "display_data"
    }
   ],
   "source": [
    "import networkx as nx\n",
    "# Since the actual graph is undirected, we convert it for visualization\n",
    "# purpose.\n",
    "nx_G = graph.to_networkx()#.to_undirected()\n",
    "# Kamada-Kawaii layout usually looks pretty for arbitrary graphs\n",
    "pos = nx.kamada_kawai_layout(nx_G)\n",
    "nx.draw(nx_G, pos, with_labels=True, node_color=[[.7, .7, .7]])\n",
    "#labels = nx.get_edge_attributes(nx_G,'weight')\n",
    "#nx.draw_networkx_edge_labels(nx_G,pos,edge_labels=labels)"
   ]
  },
  {
   "cell_type": "code",
   "execution_count": 59,
   "id": "197a6c0c-15a3-4cd1-929c-6570ff444cab",
   "metadata": {
    "pycharm": {
     "name": "#%%\n"
    }
   },
   "outputs": [
    {
     "data": {
      "text/plain": [
       "<AxesSubplot:xlabel='fecha'>"
      ]
     },
     "execution_count": 59,
     "metadata": {},
     "output_type": "execute_result"
    },
    {
     "data": {
      "image/png": "[encoded data removed]",
      "text/plain": [
       "<Figure size 432x288 with 1 Axes>"
      ]
     },
     "metadata": {
      "needs_background": "light"
     },
     "output_type": "display_data"
    }
   ],
   "source": [
    "intensidades.iloc[7*4:7*4+40, :5].set_index(\"fecha\").plot()"
   ]
  },
  {
   "cell_type": "code",
   "execution_count": null,
   "id": "70b73120-9a04-491b-bd2f-e773fead5313",
   "metadata": {
    "pycharm": {
     "name": "#%%\n"
    }
   },
   "outputs": [],
   "source": []
  }
 ],
 "metadata": {
  "kernelspec": {
   "display_name": "Python 3 (ipykernel)",
   "language": "python",
   "name": "python3"
  },
  "language_info": {
   "codemirror_mode": {
    "name": "ipython",
    "version": 3
   },
   "file_extension": ".py",
   "mimetype": "text/x-python",
   "name": "python",
   "nbconvert_exporter": "python",
   "pygments_lexer": "ipython3",
   "version": "3.9.12"
  }
 },
 "nbformat": 4,
 "nbformat_minor": 5
}