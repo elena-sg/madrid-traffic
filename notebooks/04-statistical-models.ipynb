{
 "cells": [
  {
   "cell_type": "markdown",
   "source": [
    "[Forecasting: Principles and Practice](https://otexts.com/fpp2/)"
   ],
   "metadata": {
    "collapsed": false,
    "pycharm": {
     "name": "#%% md\n"
    }
   }
  },
  {
   "cell_type": "code",
   "execution_count": 1,
   "outputs": [
    {
     "name": "stderr",
     "output_type": "stream",
     "text": [
      "C:\\Users\\Bened\\PycharmProjects\\madrid-traffic\\env\\lib\\site-packages\\tqdm\\auto.py:22: TqdmWarning: IProgress not found. Please update jupyter and ipywidgets. See https://ipywidgets.readthedocs.io/en/stable/user_install.html\n",
      "  from .autonotebook import tqdm as notebook_tqdm\n"
     ]
    }
   ],
   "source": [
    "from graph_traffic.get_data import get_data\n",
    "from graph_traffic.dataloading import npzDataset\n",
    "from sklearn.dummy import DummyRegressor\n",
    "\n",
    "data_dict = dict(\n",
    "    ids_list=[3954, 3973, 3978],\n",
    "    seq_len=12,\n",
    "    with_graph=False,\n",
    "    from_date=\"2020-01-01\",\n",
    "    to_date=\"2020-01-02\",\n",
    "    dataset_name=\"small\",\n",
    "    target=\"intensidad\",  # 1\n",
    "    interactions=None\n",
    ")\n",
    "\n",
    "meteo_dict = dict(\n",
    "    rain=\"drop\",  # 1\n",
    "    wind=\"drop\",  # 1\n",
    "    temperature=\"drop\",  # 0\n",
    "    humidity=\"drop\",  # 1\n",
    "    pressure=\"drop\",  # 0\n",
    "    radiation=\"drop\"  # 0\n",
    ")\n",
    "\n",
    "temporal_dict = dict(\n",
    "    season=\"drop\",  # 1\n",
    "    month=\"drop\",  # 6\n",
    "    day_of_month=\"drop\",  # 2\n",
    "    hour=\"drop\",  # 12,\n",
    "    minute=\"drop\",\n",
    "    bank_holiday=\"drop\",\n",
    "    school_holiday=\"drop\",\n",
    "    working_day=\"drop\"\n",
    ")\n",
    "\n",
    "x, y = get_data(data_dict, meteo_dict, temporal_dict)\n",
    "dataset_name = data_dict[\"dataset_name\"]\n",
    "n_points = None"
   ],
   "metadata": {
    "collapsed": false,
    "pycharm": {
     "name": "#%%\n"
    }
   }
  },
  {
   "cell_type": "code",
   "execution_count": 10,
   "outputs": [],
   "source": [
    "train_data = npzDataset(dataset_name, \"train\", n_points)\n",
    "test_data = npzDataset(dataset_name, \"test\", n_points)\n",
    "valid_data = npzDataset(dataset_name, \"valid\", n_points)"
   ],
   "metadata": {
    "collapsed": false,
    "pycharm": {
     "name": "#%%\n"
    }
   }
  },
  {
   "cell_type": "code",
   "execution_count": 11,
   "outputs": [
    {
     "name": "stdout",
     "output_type": "stream",
     "text": [
      "(28, 12, 3, 1)\n",
      "(28, 12, 3, 1)\n"
     ]
    }
   ],
   "source": [
    "print(train_data.x.shape)\n",
    "print(train_data.y.shape)"
   ],
   "metadata": {
    "collapsed": false,
    "pycharm": {
     "name": "#%%\n"
    }
   }
  },
  {
   "cell_type": "code",
   "execution_count": 24,
   "outputs": [],
   "source": [
    "x_train = train_data.x\n",
    "y_train = train_data.y.reshape(x_train.shape[0], -1)\n",
    "\n",
    "x_valid = valid_data.x\n",
    "y_valid = valid_data.y.reshape(x_valid.shape[0], -1)"
   ],
   "metadata": {
    "collapsed": false,
    "pycharm": {
     "name": "#%%\n"
    }
   }
  },
  {
   "cell_type": "code",
   "execution_count": 25,
   "outputs": [
    {
     "data": {
      "text/plain": "0.0"
     },
     "execution_count": 25,
     "metadata": {},
     "output_type": "execute_result"
    }
   ],
   "source": [
    "mean_regr = DummyRegressor(strategy=\"mean\")\n",
    "mean_regr.fit(x_train, y_train)\n",
    "mean_regr.score(x_train, y_train)"
   ],
   "metadata": {
    "collapsed": false,
    "pycharm": {
     "name": "#%%\n"
    }
   }
  },
  {
   "cell_type": "code",
   "execution_count": 26,
   "outputs": [],
   "source": [
    "import numpy as np"
   ],
   "metadata": {
    "collapsed": false,
    "pycharm": {
     "name": "#%%\n"
    }
   }
  },
  {
   "cell_type": "code",
   "execution_count": 27,
   "outputs": [
    {
     "data": {
      "text/plain": "44.52444727891156"
     },
     "execution_count": 27,
     "metadata": {},
     "output_type": "execute_result"
    }
   ],
   "source": [
    "np.abs(mean_regr.predict(x_train) - y_train).mean()"
   ],
   "metadata": {
    "collapsed": false,
    "pycharm": {
     "name": "#%%\n"
    }
   }
  },
  {
   "cell_type": "code",
   "execution_count": 28,
   "outputs": [
    {
     "data": {
      "text/plain": "87.98690476190475"
     },
     "execution_count": 28,
     "metadata": {},
     "output_type": "execute_result"
    }
   ],
   "source": [
    "np.abs(mean_regr.predict(x_valid) - y_valid).mean()"
   ],
   "metadata": {
    "collapsed": false,
    "pycharm": {
     "name": "#%%\n"
    }
   }
  },
  {
   "cell_type": "code",
   "execution_count": 34,
   "outputs": [
    {
     "data": {
      "text/plain": "array([[ 50.,  30.,  52., 189., 330., 492., 438., 629., 541., 465., 417.,\n        293.],\n       [ 30.,  52., 189., 330., 492., 438., 629., 541., 465., 417., 293.,\n        225.],\n       [ 52., 189., 330., 492., 438., 629., 541., 465., 417., 293., 225.,\n        221.],\n       [189., 330., 492., 438., 629., 541., 465., 417., 293., 225., 221.,\n        137.],\n       [330., 492., 438., 629., 541., 465., 417., 293., 225., 221., 137.,\n        103.],\n       [492., 438., 629., 541., 465., 417., 293., 225., 221., 137., 103.,\n        121.],\n       [438., 629., 541., 465., 417., 293., 225., 221., 137., 103., 121.,\n        120.],\n       [629., 541., 465., 417., 293., 225., 221., 137., 103., 121., 120.,\n         91.],\n       [541., 465., 417., 293., 225., 221., 137., 103., 121., 120.,  91.,\n         97.],\n       [465., 417., 293., 225., 221., 137., 103., 121., 120.,  91.,  97.,\n        117.],\n       [417., 293., 225., 221., 137., 103., 121., 120.,  91.,  97., 117.,\n         73.],\n       [293., 225., 221., 137., 103., 121., 120.,  91.,  97., 117.,  73.,\n         95.],\n       [225., 221., 137., 103., 121., 120.,  91.,  97., 117.,  73.,  95.,\n         72.],\n       [221., 137., 103., 121., 120.,  91.,  97., 117.,  73.,  95.,  72.,\n         67.],\n       [ 53.,  72.,  58.,  75.,  51.,  83., 116., 120.,  74.,  95.,  92.,\n        109.],\n       [ 72.,  58.,  75.,  51.,  83., 116., 120.,  74.,  95.,  92., 109.,\n        173.],\n       [ 58.,  75.,  51.,  83., 116., 120.,  74.,  95.,  92., 109., 173.,\n        128.],\n       [ 75.,  51.,  83., 116., 120.,  74.,  95.,  92., 109., 173., 128.,\n        243.],\n       [ 51.,  83., 116., 120.,  74.,  95.,  92., 109., 173., 128., 243.,\n        195.],\n       [ 83., 116., 120.,  74.,  95.,  92., 109., 173., 128., 243., 195.,\n        291.],\n       [116., 120.,  74.,  95.,  92., 109., 173., 128., 243., 195., 291.,\n        335.],\n       [120.,  74.,  95.,  92., 109., 173., 128., 243., 195., 291., 335.,\n        373.],\n       [ 74.,  95.,  92., 109., 173., 128., 243., 195., 291., 335., 373.,\n        274.],\n       [ 95.,  92., 109., 173., 128., 243., 195., 291., 335., 373., 274.,\n        342.],\n       [ 92., 109., 173., 128., 243., 195., 291., 335., 373., 274., 342.,\n        254.],\n       [109., 173., 128., 243., 195., 291., 335., 373., 274., 342., 254.,\n        183.],\n       [173., 128., 243., 195., 291., 335., 373., 274., 342., 254., 183.,\n        160.],\n       [128., 243., 195., 291., 335., 373., 274., 342., 254., 183., 160.,\n         88.]])"
     },
     "execution_count": 34,
     "metadata": {},
     "output_type": "execute_result"
    }
   ],
   "source": [
    "x_train[:, :, 0, 0]"
   ],
   "metadata": {
    "collapsed": false,
    "pycharm": {
     "name": "#%%\n"
    }
   }
  },
  {
   "cell_type": "code",
   "execution_count": 42,
   "outputs": [
    {
     "data": {
      "text/plain": "array([[202.53571429,  82.42857143, 190.25      ],\n       [212.42857143,  85.32142857, 198.89285714],\n       [219.42857143,  88.78571429, 206.42857143],\n       [230.21428571,  92.        , 209.14285714],\n       [237.03571429,  92.64285714, 211.25      ],\n       [240.        ,  94.        , 215.21428571],\n       [232.71428571,  91.67857143, 213.03571429],\n       [229.32142857,  88.42857143, 202.57142857],\n       [214.25      ,  80.64285714, 192.03571429],\n       [202.21428571,  75.10714286, 180.07142857],\n       [190.5       ,  69.57142857, 169.71428571],\n       [177.85714286,  65.17857143, 162.        ]])"
     },
     "execution_count": 42,
     "metadata": {},
     "output_type": "execute_result"
    }
   ],
   "source": [
    "np.mean(x_train, axis=(0, 3))"
   ],
   "metadata": {
    "collapsed": false,
    "pycharm": {
     "name": "#%%\n"
    }
   }
  },
  {
   "cell_type": "code",
   "execution_count": 30,
   "outputs": [
    {
     "data": {
      "text/plain": "array([169.39285714,  61.64285714, 160.07142857, 162.53571429,\n        59.5       , 157.39285714, 158.71428571,  58.35714286,\n       153.57142857, 153.78571429,  57.42857143, 149.32142857,\n       152.57142857,  55.67857143, 147.17857143, 148.57142857,\n        54.85714286, 144.75      , 142.17857143,  53.82142857,\n       142.75      , 138.60714286,  50.92857143, 136.57142857,\n       137.5       ,  48.75      , 132.46428571, 132.25      ,\n        48.14285714, 130.96428571, 132.42857143,  51.        ,\n       133.32142857, 135.28571429,  53.14285714, 136.53571429])"
     },
     "execution_count": 30,
     "metadata": {},
     "output_type": "execute_result"
    }
   ],
   "source": [
    "mean_regr.predict(x_valid)[0, :]"
   ],
   "metadata": {
    "collapsed": false,
    "pycharm": {
     "name": "#%%\n"
    }
   }
  },
  {
   "cell_type": "code",
   "execution_count": 40,
   "outputs": [
    {
     "data": {
      "text/plain": "array([169.39285714,  61.64285714, 160.07142857, 162.53571429,\n        59.5       , 157.39285714, 158.71428571,  58.35714286,\n       153.57142857, 153.78571429,  57.42857143, 149.32142857,\n       152.57142857,  55.67857143, 147.17857143, 148.57142857,\n        54.85714286, 144.75      , 142.17857143,  53.82142857,\n       142.75      , 138.60714286,  50.92857143, 136.57142857,\n       137.5       ,  48.75      , 132.46428571, 132.25      ,\n        48.14285714, 130.96428571, 132.42857143,  51.        ,\n       133.32142857, 135.28571429,  53.14285714, 136.53571429])"
     },
     "execution_count": 40,
     "metadata": {},
     "output_type": "execute_result"
    }
   ],
   "source": [
    "mean_regr.predict(x_valid)[0, :]"
   ],
   "metadata": {
    "collapsed": false,
    "pycharm": {
     "name": "#%%\n"
    }
   }
  },
  {
   "cell_type": "code",
   "execution_count": 44,
   "outputs": [],
   "source": [
    "from graph_traffic.merge_data import merge_data\n",
    "from graph_traffic.config import data_path\n",
    "import numpy as np\n",
    "\n",
    "train = np.load(f\"{data_path}/05-graph-data/001-dataset/001_train.npz\")\n",
    "x_train = train[\"x\"]\n",
    "y_train = train[\"y\"][..., [0]].reshape(x_train.shape[0], -1)\n",
    "\n",
    "valid = np.load(f\"{data_path}/05-graph-data/001-dataset/001_valid.npz\")\n",
    "x_valid = valid[\"x\"]\n",
    "y_valid = valid[\"y\"][..., [0]].reshape(x_valid.shape[0], -1)\n",
    "\n",
    "test = np.load(f\"{data_path}/05-graph-data/001-dataset/001_test.npz\")\n",
    "x_test = test[\"x\"]\n",
    "y_test = test[\"y\"][..., [0]].reshape(x_test.shape[0], -1)"
   ],
   "metadata": {
    "collapsed": false,
    "pycharm": {
     "name": "#%%\n"
    }
   }
  },
  {
   "cell_type": "code",
   "execution_count": 52,
   "outputs": [],
   "source": [
    "import numpy.ma as ma"
   ],
   "metadata": {
    "collapsed": false,
    "pycharm": {
     "name": "#%%\n"
    }
   }
  },
  {
   "cell_type": "code",
   "execution_count": 69,
   "outputs": [],
   "source": [
    "x_train_ma = ma.masked_values(x_train, np.full_like(x_train, True))\n",
    "y_train_ma = ma.masked_values(y_train, np.full_like(y_train, True))"
   ],
   "metadata": {
    "collapsed": false,
    "pycharm": {
     "name": "#%%\n"
    }
   }
  },
  {
   "cell_type": "code",
   "execution_count": 70,
   "outputs": [
    {
     "data": {
      "text/plain": "-1.7679330350929263"
     },
     "execution_count": 70,
     "metadata": {},
     "output_type": "execute_result"
    }
   ],
   "source": [
    "mean_regr.fit(x_train_ma, y_train_ma)\n",
    "mean_regr.score(x_valid, y_valid)"
   ],
   "metadata": {
    "collapsed": false,
    "pycharm": {
     "name": "#%%\n"
    }
   }
  },
  {
   "cell_type": "code",
   "execution_count": 65,
   "outputs": [
    {
     "data": {
      "text/plain": "array([[[[False,  True,  True, ..., False,  True, False],\n         [False,  True,  True, ..., False,  True, False],\n         [False,  True,  True, ..., False,  True, False],\n         [False,  True,  True, ..., False,  True, False],\n         [False,  True,  True, ..., False,  True, False]],\n\n        [[False,  True,  True, ..., False,  True, False],\n         [ True,  True,  True, ..., False,  True, False],\n         [ True,  True,  True, ..., False,  True, False],\n         [False,  True,  True, ..., False,  True, False],\n         [False,  True,  True, ..., False,  True, False]],\n\n        [[False,  True,  True, ..., False,  True, False],\n         [False,  True,  True, ..., False,  True, False],\n         [False,  True,  True, ..., False,  True, False],\n         [False,  True,  True, ..., False,  True, False],\n         [False,  True,  True, ..., False,  True, False]],\n\n        ...,\n\n        [[False, False, False, ..., False,  True, False],\n         [False, False, False, ..., False,  True, False],\n         [False, False, False, ..., False,  True, False],\n         [False, False, False, ..., False,  True, False],\n         [False, False, False, ..., False,  True, False]],\n\n        [[False, False, False, ..., False,  True, False],\n         [False, False, False, ..., False,  True, False],\n         [False, False, False, ..., False,  True, False],\n         [False, False, False, ..., False,  True, False],\n         [False, False, False, ..., False,  True, False]],\n\n        [[False, False, False, ..., False,  True, False],\n         [False, False, False, ..., False,  True, False],\n         [False, False, False, ..., False,  True, False],\n         [False, False, False, ..., False,  True, False],\n         [False, False, False, ..., False,  True, False]]],\n\n\n       [[[False,  True,  True, ..., False,  True, False],\n         [ True,  True,  True, ..., False,  True, False],\n         [ True,  True,  True, ..., False,  True, False],\n         [False,  True,  True, ..., False,  True, False],\n         [False,  True,  True, ..., False,  True, False]],\n\n        [[False,  True,  True, ..., False,  True, False],\n         [False,  True,  True, ..., False,  True, False],\n         [False,  True,  True, ..., False,  True, False],\n         [False,  True,  True, ..., False,  True, False],\n         [False,  True,  True, ..., False,  True, False]],\n\n        [[False,  True,  True, ..., False,  True, False],\n         [False,  True,  True, ..., False,  True, False],\n         [False,  True,  True, ..., False,  True, False],\n         [False,  True,  True, ..., False,  True, False],\n         [False,  True,  True, ..., False,  True, False]],\n\n        ...,\n\n        [[False, False, False, ..., False,  True, False],\n         [False, False, False, ..., False,  True, False],\n         [False, False, False, ..., False,  True, False],\n         [False, False, False, ..., False,  True, False],\n         [False, False, False, ..., False,  True, False]],\n\n        [[False, False, False, ..., False,  True, False],\n         [False, False, False, ..., False,  True, False],\n         [False, False, False, ..., False,  True, False],\n         [False, False, False, ..., False,  True, False],\n         [False, False, False, ..., False,  True, False]],\n\n        [[False, False, False, ..., False,  True, False],\n         [False, False, False, ..., False,  True, False],\n         [False, False, False, ..., False,  True, False],\n         [False, False, False, ..., False,  True, False],\n         [False, False, False, ..., False,  True, False]]],\n\n\n       [[[False,  True,  True, ..., False,  True, False],\n         [False,  True,  True, ..., False,  True, False],\n         [False,  True,  True, ..., False,  True, False],\n         [False,  True,  True, ..., False,  True, False],\n         [False,  True,  True, ..., False,  True, False]],\n\n        [[False,  True,  True, ..., False,  True, False],\n         [False,  True,  True, ..., False,  True, False],\n         [False,  True,  True, ..., False,  True, False],\n         [False,  True,  True, ..., False,  True, False],\n         [False,  True,  True, ..., False,  True, False]],\n\n        [[False, False, False, ..., False,  True, False],\n         [False, False, False, ..., False,  True, False],\n         [False, False, False, ..., False,  True, False],\n         [False, False, False, ..., False,  True, False],\n         [False, False, False, ..., False,  True, False]],\n\n        ...,\n\n        [[False, False, False, ..., False,  True, False],\n         [False, False, False, ..., False,  True, False],\n         [False, False, False, ..., False,  True, False],\n         [False, False, False, ..., False,  True, False],\n         [False, False, False, ..., False,  True, False]],\n\n        [[False, False, False, ..., False,  True, False],\n         [False, False, False, ..., False,  True, False],\n         [False, False, False, ..., False,  True, False],\n         [False, False, False, ..., False,  True, False],\n         [False, False, False, ..., False,  True, False]],\n\n        [[False, False, False, ..., False,  True, False],\n         [False, False, False, ..., False,  True, False],\n         [False, False, False, ..., False,  True, False],\n         [False, False, False, ..., False,  True, False],\n         [False, False, False, ..., False,  True, False]]],\n\n\n       ...,\n\n\n       [[[False, False, False, ...,  True, False,  True],\n         [False, False, False, ...,  True, False,  True],\n         [False, False, False, ...,  True, False,  True],\n         [False, False, False, ...,  True, False,  True],\n         [False, False, False, ...,  True, False,  True]],\n\n        [[False, False, False, ...,  True, False,  True],\n         [False, False, False, ...,  True, False,  True],\n         [False, False, False, ...,  True, False,  True],\n         [False, False, False, ...,  True, False,  True],\n         [False, False, False, ...,  True, False,  True]],\n\n        [[False, False, False, ...,  True, False,  True],\n         [False, False, False, ...,  True, False,  True],\n         [False, False, False, ...,  True, False,  True],\n         [False, False, False, ...,  True, False,  True],\n         [False, False, False, ...,  True, False,  True]],\n\n        ...,\n\n        [[False, False, False, ...,  True, False,  True],\n         [False, False, False, ...,  True, False,  True],\n         [False, False, False, ...,  True, False,  True],\n         [False, False, False, ...,  True, False,  True],\n         [False, False, False, ...,  True, False,  True]],\n\n        [[False, False, False, ...,  True, False,  True],\n         [False, False, False, ...,  True, False,  True],\n         [False, False, False, ...,  True, False,  True],\n         [False, False, False, ...,  True, False,  True],\n         [False, False, False, ...,  True, False,  True]],\n\n        [[False, False, False, ...,  True, False,  True],\n         [False, False, False, ...,  True, False,  True],\n         [False, False, False, ...,  True, False,  True],\n         [False, False, False, ...,  True, False,  True],\n         [False, False, False, ...,  True, False,  True]]],\n\n\n       [[[False, False, False, ...,  True, False,  True],\n         [False, False, False, ...,  True, False,  True],\n         [False, False, False, ...,  True, False,  True],\n         [False, False, False, ...,  True, False,  True],\n         [False, False, False, ...,  True, False,  True]],\n\n        [[False, False, False, ...,  True, False,  True],\n         [False, False, False, ...,  True, False,  True],\n         [False, False, False, ...,  True, False,  True],\n         [False, False, False, ...,  True, False,  True],\n         [False, False, False, ...,  True, False,  True]],\n\n        [[False, False, False, ...,  True, False,  True],\n         [False, False, False, ...,  True, False,  True],\n         [False, False, False, ...,  True, False,  True],\n         [False, False, False, ...,  True, False,  True],\n         [False, False, False, ...,  True, False,  True]],\n\n        ...,\n\n        [[False, False, False, ...,  True, False,  True],\n         [False, False, False, ...,  True, False,  True],\n         [False, False, False, ...,  True, False,  True],\n         [False, False, False, ...,  True, False,  True],\n         [False, False, False, ...,  True, False,  True]],\n\n        [[False, False, False, ...,  True, False,  True],\n         [False, False, False, ...,  True, False,  True],\n         [False, False, False, ...,  True, False,  True],\n         [False, False, False, ...,  True, False,  True],\n         [False, False, False, ...,  True, False,  True]],\n\n        [[False, False, False, ...,  True, False,  True],\n         [False, False, False, ...,  True, False,  True],\n         [False, False, False, ...,  True, False,  True],\n         [False, False, False, ...,  True, False,  True],\n         [False, False, False, ...,  True, False,  True]]],\n\n\n       [[[False, False, False, ...,  True, False,  True],\n         [False, False, False, ...,  True, False,  True],\n         [False, False, False, ...,  True, False,  True],\n         [False, False, False, ...,  True, False,  True],\n         [False, False, False, ...,  True, False,  True]],\n\n        [[False, False, False, ...,  True, False,  True],\n         [False, False, False, ...,  True, False,  True],\n         [False, False, False, ...,  True, False,  True],\n         [False, False, False, ...,  True, False,  True],\n         [False, False, False, ...,  True, False,  True]],\n\n        [[False, False, False, ...,  True, False,  True],\n         [False, False, False, ...,  True, False,  True],\n         [False, False, False, ...,  True, False,  True],\n         [False, False, False, ...,  True, False,  True],\n         [False, False, False, ...,  True, False,  True]],\n\n        ...,\n\n        [[False, False, False, ...,  True, False,  True],\n         [False, False, False, ...,  True, False,  True],\n         [False, False, False, ...,  True, False,  True],\n         [False, False, False, ...,  True, False,  True],\n         [False, False, False, ...,  True, False,  True]],\n\n        [[False, False, False, ...,  True, False,  True],\n         [False, False, False, ...,  True, False,  True],\n         [False, False, False, ...,  True, False,  True],\n         [False, False, False, ...,  True, False,  True],\n         [False, False, False, ...,  True, False,  True]],\n\n        [[False, False, False, ...,  True, False,  True],\n         [False, False, False, ...,  True, False,  True],\n         [False, False, False, ...,  True, False,  True],\n         [False, False, False, ...,  True, False,  True],\n         [False, False, False, ...,  True, False,  True]]]])"
     },
     "execution_count": 65,
     "metadata": {},
     "output_type": "execute_result"
    }
   ],
   "source": [
    "x_train_ma.mask"
   ],
   "metadata": {
    "collapsed": false,
    "pycharm": {
     "name": "#%%\n"
    }
   }
  },
  {
   "cell_type": "code",
   "execution_count": 64,
   "outputs": [
    {
     "data": {
      "text/plain": "array([6.70000000e+01, 1.00000000e+00, 3.00000000e+00, ...,\n       2.08333333e-02, 1.00000000e+00, 1.00000000e+00])"
     },
     "execution_count": 64,
     "metadata": {},
     "output_type": "execute_result"
    }
   ],
   "source": [
    "x_train_ma[~x_train_ma.mask].data"
   ],
   "metadata": {
    "collapsed": false,
    "pycharm": {
     "name": "#%%\n"
    }
   }
  },
  {
   "cell_type": "markdown",
   "source": [
    "## Average method"
   ],
   "metadata": {
    "collapsed": false,
    "pycharm": {
     "name": "#%% md\n"
    }
   }
  },
  {
   "cell_type": "code",
   "execution_count": 45,
   "outputs": [
    {
     "data": {
      "text/plain": "0.0"
     },
     "execution_count": 45,
     "metadata": {},
     "output_type": "execute_result"
    }
   ],
   "source": [
    "mean_regr = DummyRegressor(strategy=\"mean\")\n",
    "mean_regr.fit(x_train, y_train)\n",
    "mean_regr.score(x_train, y_train)"
   ],
   "metadata": {
    "collapsed": false,
    "pycharm": {
     "name": "#%%\n"
    }
   }
  },
  {
   "cell_type": "code",
   "execution_count": 46,
   "outputs": [
    {
     "data": {
      "text/plain": "-1.7679330350929263"
     },
     "execution_count": 46,
     "metadata": {},
     "output_type": "execute_result"
    }
   ],
   "source": [
    "mean_regr.score(x_valid, y_valid)"
   ],
   "metadata": {
    "collapsed": false,
    "pycharm": {
     "name": "#%%\n"
    }
   }
  },
  {
   "cell_type": "code",
   "execution_count": 47,
   "outputs": [
    {
     "data": {
      "text/plain": "-11.182149520044659"
     },
     "execution_count": 47,
     "metadata": {},
     "output_type": "execute_result"
    }
   ],
   "source": [
    "mean_regr.score(x_test, y_test)"
   ],
   "metadata": {
    "collapsed": false,
    "pycharm": {
     "name": "#%%\n"
    }
   }
  },
  {
   "cell_type": "code",
   "execution_count": 49,
   "outputs": [
    {
     "data": {
      "text/plain": "array([[  0.,   0.,   0., ...,   0.,   0.,  85.],\n       [  0.,   0.,   0., ...,   0.,   0.,  34.],\n       [  0.,   0.,   0., ...,   0.,   0.,  81.],\n       ...,\n       [  0., 511., 716., ..., 353., 315., 107.],\n       [  0., 528., 730., ..., 321., 355., 163.],\n       [  0., 364., 647., ..., 466., 424., 236.]])"
     },
     "execution_count": 49,
     "metadata": {},
     "output_type": "execute_result"
    }
   ],
   "source": [
    "y_test"
   ],
   "metadata": {
    "collapsed": false,
    "pycharm": {
     "name": "#%%\n"
    }
   }
  },
  {
   "cell_type": "code",
   "execution_count": 40,
   "outputs": [
    {
     "data": {
      "text/plain": "array([456.85829329, 195.68119855, 180.39298941, 474.51482728,\n       357.5595054 ])"
     },
     "execution_count": 40,
     "metadata": {},
     "output_type": "execute_result"
    }
   ],
   "source": [
    "x_train[:, :, :, 0].mean(axis=(0, 1))"
   ],
   "metadata": {
    "collapsed": false,
    "pycharm": {
     "name": "#%%\n"
    }
   }
  },
  {
   "cell_type": "code",
   "execution_count": 38,
   "outputs": [
    {
     "data": {
      "text/plain": "array([[[[ 67.   ,   0.   ,   0.   , ...,   1.   ,   0.   ,   1.   ],\n         [ 20.   ,   0.   ,   0.   , ...,   1.   ,   0.   ,   1.   ],\n         [ 40.   ,   0.   ,   0.   , ...,   1.   ,   0.   ,   1.   ],\n         [ 75.   ,   0.   ,   0.   , ...,   1.   ,   0.   ,   1.   ],\n         [ 83.   ,   0.   ,   0.   , ...,   1.   ,   0.   ,   1.   ]],\n\n        [[ 25.   ,   0.   ,   0.   , ...,   1.   ,   0.   ,   1.   ],\n         [  0.   ,   0.   ,   0.   , ...,   1.   ,   0.   ,   1.   ],\n         [  0.   ,   0.   ,   0.   , ...,   1.   ,   0.   ,   1.   ],\n         [ 53.   ,   0.   ,   0.   , ...,   1.   ,   0.   ,   1.   ],\n         [ 23.   ,   0.   ,   0.   , ...,   1.   ,   0.   ,   1.   ]],\n\n        [[ 85.   ,   0.   ,   0.   , ...,   1.   ,   0.   ,   1.   ],\n         [ 27.   ,   0.   ,   0.   , ...,   1.   ,   0.   ,   1.   ],\n         [ 60.   ,   0.   ,   0.   , ...,   1.   ,   0.   ,   1.   ],\n         [184.   ,   0.   ,   0.   , ...,   1.   ,   0.   ,   1.   ],\n         [136.   ,   0.   ,   0.   , ...,   1.   ,   0.   ,   1.   ]],\n\n        ...,\n\n        [[523.   ,   8.175,  43.   , ...,   1.   ,   0.   ,   1.   ],\n         [187.   ,   8.175,  43.   , ...,   1.   ,   0.   ,   1.   ],\n         [281.   ,   8.175,  43.   , ...,   1.   ,   0.   ,   1.   ],\n         [630.   ,   8.175,  43.   , ...,   1.   ,   0.   ,   1.   ],\n         [459.   ,   8.175,  43.   , ...,   1.   ,   0.   ,   1.   ]],\n\n        [[427.   ,   8.15 ,  43.   , ...,   1.   ,   0.   ,   1.   ],\n         [197.   ,   8.15 ,  43.   , ...,   1.   ,   0.   ,   1.   ],\n         [223.   ,   8.15 ,  43.   , ...,   1.   ,   0.   ,   1.   ],\n         [467.   ,   8.15 ,  43.   , ...,   1.   ,   0.   ,   1.   ],\n         [306.   ,   8.15 ,  43.   , ...,   1.   ,   0.   ,   1.   ]],\n\n        [[304.   ,   8.125,  43.   , ...,   1.   ,   0.   ,   1.   ],\n         [103.   ,   8.125,  43.   , ...,   1.   ,   0.   ,   1.   ],\n         [173.   ,   8.125,  43.   , ...,   1.   ,   0.   ,   1.   ],\n         [448.   ,   8.125,  43.   , ...,   1.   ,   0.   ,   1.   ],\n         [304.   ,   8.125,  43.   , ...,   1.   ,   0.   ,   1.   ]]],\n\n\n       [[[ 25.   ,   0.   ,   0.   , ...,   1.   ,   0.   ,   1.   ],\n         [  0.   ,   0.   ,   0.   , ...,   1.   ,   0.   ,   1.   ],\n         [  0.   ,   0.   ,   0.   , ...,   1.   ,   0.   ,   1.   ],\n         [ 53.   ,   0.   ,   0.   , ...,   1.   ,   0.   ,   1.   ],\n         [ 23.   ,   0.   ,   0.   , ...,   1.   ,   0.   ,   1.   ]],\n\n        [[ 85.   ,   0.   ,   0.   , ...,   1.   ,   0.   ,   1.   ],\n         [ 27.   ,   0.   ,   0.   , ...,   1.   ,   0.   ,   1.   ],\n         [ 60.   ,   0.   ,   0.   , ...,   1.   ,   0.   ,   1.   ],\n         [184.   ,   0.   ,   0.   , ...,   1.   ,   0.   ,   1.   ],\n         [136.   ,   0.   ,   0.   , ...,   1.   ,   0.   ,   1.   ]],\n\n        [[172.   ,   0.   ,   0.   , ...,   1.   ,   0.   ,   1.   ],\n         [ 57.   ,   0.   ,   0.   , ...,   1.   ,   0.   ,   1.   ],\n         [ 74.   ,   0.   ,   0.   , ...,   1.   ,   0.   ,   1.   ],\n         [415.   ,   0.   ,   0.   , ...,   1.   ,   0.   ,   1.   ],\n         [206.   ,   0.   ,   0.   , ...,   1.   ,   0.   ,   1.   ]],\n\n        ...,\n\n        [[427.   ,   8.15 ,  43.   , ...,   1.   ,   0.   ,   1.   ],\n         [197.   ,   8.15 ,  43.   , ...,   1.   ,   0.   ,   1.   ],\n         [223.   ,   8.15 ,  43.   , ...,   1.   ,   0.   ,   1.   ],\n         [467.   ,   8.15 ,  43.   , ...,   1.   ,   0.   ,   1.   ],\n         [306.   ,   8.15 ,  43.   , ...,   1.   ,   0.   ,   1.   ]],\n\n        [[304.   ,   8.125,  43.   , ...,   1.   ,   0.   ,   1.   ],\n         [103.   ,   8.125,  43.   , ...,   1.   ,   0.   ,   1.   ],\n         [173.   ,   8.125,  43.   , ...,   1.   ,   0.   ,   1.   ],\n         [448.   ,   8.125,  43.   , ...,   1.   ,   0.   ,   1.   ],\n         [304.   ,   8.125,  43.   , ...,   1.   ,   0.   ,   1.   ]],\n\n        [[245.   ,   8.1  ,  43.   , ...,   1.   ,   0.   ,   1.   ],\n         [ 73.   ,   8.1  ,  43.   , ...,   1.   ,   0.   ,   1.   ],\n         [135.   ,   8.1  ,  43.   , ...,   1.   ,   0.   ,   1.   ],\n         [341.   ,   8.1  ,  43.   , ...,   1.   ,   0.   ,   1.   ],\n         [267.   ,   8.1  ,  43.   , ...,   1.   ,   0.   ,   1.   ]]],\n\n\n       [[[ 85.   ,   0.   ,   0.   , ...,   1.   ,   0.   ,   1.   ],\n         [ 27.   ,   0.   ,   0.   , ...,   1.   ,   0.   ,   1.   ],\n         [ 60.   ,   0.   ,   0.   , ...,   1.   ,   0.   ,   1.   ],\n         [184.   ,   0.   ,   0.   , ...,   1.   ,   0.   ,   1.   ],\n         [136.   ,   0.   ,   0.   , ...,   1.   ,   0.   ,   1.   ]],\n\n        [[172.   ,   0.   ,   0.   , ...,   1.   ,   0.   ,   1.   ],\n         [ 57.   ,   0.   ,   0.   , ...,   1.   ,   0.   ,   1.   ],\n         [ 74.   ,   0.   ,   0.   , ...,   1.   ,   0.   ,   1.   ],\n         [415.   ,   0.   ,   0.   , ...,   1.   ,   0.   ,   1.   ],\n         [206.   ,   0.   ,   0.   , ...,   1.   ,   0.   ,   1.   ]],\n\n        [[334.   ,   8.9  ,  42.   , ...,   1.   ,   0.   ,   1.   ],\n         [106.   ,   8.9  ,  42.   , ...,   1.   ,   0.   ,   1.   ],\n         [147.   ,   8.9  ,  42.   , ...,   1.   ,   0.   ,   1.   ],\n         [575.   ,   8.9  ,  42.   , ...,   1.   ,   0.   ,   1.   ],\n         [296.   ,   8.9  ,  42.   , ...,   1.   ,   0.   ,   1.   ]],\n\n        ...,\n\n        [[304.   ,   8.125,  43.   , ...,   1.   ,   0.   ,   1.   ],\n         [103.   ,   8.125,  43.   , ...,   1.   ,   0.   ,   1.   ],\n         [173.   ,   8.125,  43.   , ...,   1.   ,   0.   ,   1.   ],\n         [448.   ,   8.125,  43.   , ...,   1.   ,   0.   ,   1.   ],\n         [304.   ,   8.125,  43.   , ...,   1.   ,   0.   ,   1.   ]],\n\n        [[245.   ,   8.1  ,  43.   , ...,   1.   ,   0.   ,   1.   ],\n         [ 73.   ,   8.1  ,  43.   , ...,   1.   ,   0.   ,   1.   ],\n         [135.   ,   8.1  ,  43.   , ...,   1.   ,   0.   ,   1.   ],\n         [341.   ,   8.1  ,  43.   , ...,   1.   ,   0.   ,   1.   ],\n         [267.   ,   8.1  ,  43.   , ...,   1.   ,   0.   ,   1.   ]],\n\n        [[187.   ,   8.025,  43.   , ...,   1.   ,   0.   ,   1.   ],\n         [ 63.   ,   8.025,  43.   , ...,   1.   ,   0.   ,   1.   ],\n         [118.   ,   8.025,  43.   , ...,   1.   ,   0.   ,   1.   ],\n         [323.   ,   8.025,  43.   , ...,   1.   ,   0.   ,   1.   ],\n         [175.   ,   8.025,  43.   , ...,   1.   ,   0.   ,   1.   ]]],\n\n\n       ...,\n\n\n       [[[491.   ,  20.675,  38.   , ...,   0.   ,   1.   ,   0.   ],\n         [363.   ,  20.675,  38.   , ...,   0.   ,   1.   ,   0.   ],\n         [142.   ,  20.675,  38.   , ...,   0.   ,   1.   ,   0.   ],\n         [447.   ,  20.675,  38.   , ...,   0.   ,   1.   ,   0.   ],\n         [324.   ,  20.675,  38.   , ...,   0.   ,   1.   ,   0.   ]],\n\n        [[395.   ,  20.3  ,  39.   , ...,   0.   ,   1.   ,   0.   ],\n         [351.   ,  20.3  ,  39.   , ...,   0.   ,   1.   ,   0.   ],\n         [138.   ,  20.3  ,  39.   , ...,   0.   ,   1.   ,   0.   ],\n         [451.   ,  20.3  ,  39.   , ...,   0.   ,   1.   ,   0.   ],\n         [264.   ,  20.3  ,  39.   , ...,   0.   ,   1.   ,   0.   ]],\n\n        [[352.   ,  20.05 ,  39.75 , ...,   0.   ,   1.   ,   0.   ],\n         [431.   ,  20.05 ,  39.75 , ...,   0.   ,   1.   ,   0.   ],\n         [123.   ,  20.05 ,  39.75 , ...,   0.   ,   1.   ,   0.   ],\n         [477.   ,  20.05 ,  39.75 , ...,   0.   ,   1.   ,   0.   ],\n         [277.   ,  20.05 ,  39.75 , ...,   0.   ,   1.   ,   0.   ]],\n\n        ...,\n\n        [[257.   ,  17.7  ,  52.   , ...,   0.   ,   1.   ,   0.   ],\n         [252.   ,  17.7  ,  52.   , ...,   0.   ,   1.   ,   0.   ],\n         [103.   ,  17.7  ,  52.   , ...,   0.   ,   1.   ,   0.   ],\n         [370.   ,  17.7  ,  52.   , ...,   0.   ,   1.   ,   0.   ],\n         [174.   ,  17.7  ,  52.   , ...,   0.   ,   1.   ,   0.   ]],\n\n        [[316.   ,  17.65 ,  52.25 , ...,   0.   ,   1.   ,   0.   ],\n         [218.   ,  17.65 ,  52.25 , ...,   0.   ,   1.   ,   0.   ],\n         [ 86.   ,  17.65 ,  52.25 , ...,   0.   ,   1.   ,   0.   ],\n         [265.   ,  17.65 ,  52.25 , ...,   0.   ,   1.   ,   0.   ],\n         [190.   ,  17.65 ,  52.25 , ...,   0.   ,   1.   ,   0.   ]],\n\n        [[212.   ,  17.6  ,  52.5  , ...,   0.   ,   1.   ,   0.   ],\n         [171.   ,  17.6  ,  52.5  , ...,   0.   ,   1.   ,   0.   ],\n         [ 97.   ,  17.6  ,  52.5  , ...,   0.   ,   1.   ,   0.   ],\n         [298.   ,  17.6  ,  52.5  , ...,   0.   ,   1.   ,   0.   ],\n         [129.   ,  17.6  ,  52.5  , ...,   0.   ,   1.   ,   0.   ]]],\n\n\n       [[[395.   ,  20.3  ,  39.   , ...,   0.   ,   1.   ,   0.   ],\n         [351.   ,  20.3  ,  39.   , ...,   0.   ,   1.   ,   0.   ],\n         [138.   ,  20.3  ,  39.   , ...,   0.   ,   1.   ,   0.   ],\n         [451.   ,  20.3  ,  39.   , ...,   0.   ,   1.   ,   0.   ],\n         [264.   ,  20.3  ,  39.   , ...,   0.   ,   1.   ,   0.   ]],\n\n        [[352.   ,  20.05 ,  39.75 , ...,   0.   ,   1.   ,   0.   ],\n         [431.   ,  20.05 ,  39.75 , ...,   0.   ,   1.   ,   0.   ],\n         [123.   ,  20.05 ,  39.75 , ...,   0.   ,   1.   ,   0.   ],\n         [477.   ,  20.05 ,  39.75 , ...,   0.   ,   1.   ,   0.   ],\n         [277.   ,  20.05 ,  39.75 , ...,   0.   ,   1.   ,   0.   ]],\n\n        [[449.   ,  19.8  ,  40.5  , ...,   0.   ,   1.   ,   0.   ],\n         [493.   ,  19.8  ,  40.5  , ...,   0.   ,   1.   ,   0.   ],\n         [130.   ,  19.8  ,  40.5  , ...,   0.   ,   1.   ,   0.   ],\n         [456.   ,  19.8  ,  40.5  , ...,   0.   ,   1.   ,   0.   ],\n         [196.   ,  19.8  ,  40.5  , ...,   0.   ,   1.   ,   0.   ]],\n\n        ...,\n\n        [[316.   ,  17.65 ,  52.25 , ...,   0.   ,   1.   ,   0.   ],\n         [218.   ,  17.65 ,  52.25 , ...,   0.   ,   1.   ,   0.   ],\n         [ 86.   ,  17.65 ,  52.25 , ...,   0.   ,   1.   ,   0.   ],\n         [265.   ,  17.65 ,  52.25 , ...,   0.   ,   1.   ,   0.   ],\n         [190.   ,  17.65 ,  52.25 , ...,   0.   ,   1.   ,   0.   ]],\n\n        [[212.   ,  17.6  ,  52.5  , ...,   0.   ,   1.   ,   0.   ],\n         [171.   ,  17.6  ,  52.5  , ...,   0.   ,   1.   ,   0.   ],\n         [ 97.   ,  17.6  ,  52.5  , ...,   0.   ,   1.   ,   0.   ],\n         [298.   ,  17.6  ,  52.5  , ...,   0.   ,   1.   ,   0.   ],\n         [129.   ,  17.6  ,  52.5  , ...,   0.   ,   1.   ,   0.   ]],\n\n        [[120.   ,  17.55 ,  52.75 , ...,   0.   ,   1.   ,   0.   ],\n         [131.   ,  17.55 ,  52.75 , ...,   0.   ,   1.   ,   0.   ],\n         [ 97.   ,  17.55 ,  52.75 , ...,   0.   ,   1.   ,   0.   ],\n         [182.   ,  17.55 ,  52.75 , ...,   0.   ,   1.   ,   0.   ],\n         [ 67.   ,  17.55 ,  52.75 , ...,   0.   ,   1.   ,   0.   ]]],\n\n\n       [[[352.   ,  20.05 ,  39.75 , ...,   0.   ,   1.   ,   0.   ],\n         [431.   ,  20.05 ,  39.75 , ...,   0.   ,   1.   ,   0.   ],\n         [123.   ,  20.05 ,  39.75 , ...,   0.   ,   1.   ,   0.   ],\n         [477.   ,  20.05 ,  39.75 , ...,   0.   ,   1.   ,   0.   ],\n         [277.   ,  20.05 ,  39.75 , ...,   0.   ,   1.   ,   0.   ]],\n\n        [[449.   ,  19.8  ,  40.5  , ...,   0.   ,   1.   ,   0.   ],\n         [493.   ,  19.8  ,  40.5  , ...,   0.   ,   1.   ,   0.   ],\n         [130.   ,  19.8  ,  40.5  , ...,   0.   ,   1.   ,   0.   ],\n         [456.   ,  19.8  ,  40.5  , ...,   0.   ,   1.   ,   0.   ],\n         [196.   ,  19.8  ,  40.5  , ...,   0.   ,   1.   ,   0.   ]],\n\n        [[488.   ,  19.55 ,  41.25 , ...,   0.   ,   1.   ,   0.   ],\n         [375.   ,  19.55 ,  41.25 , ...,   0.   ,   1.   ,   0.   ],\n         [121.   ,  19.55 ,  41.25 , ...,   0.   ,   1.   ,   0.   ],\n         [363.   ,  19.55 ,  41.25 , ...,   0.   ,   1.   ,   0.   ],\n         [305.   ,  19.55 ,  41.25 , ...,   0.   ,   1.   ,   0.   ]],\n\n        ...,\n\n        [[212.   ,  17.6  ,  52.5  , ...,   0.   ,   1.   ,   0.   ],\n         [171.   ,  17.6  ,  52.5  , ...,   0.   ,   1.   ,   0.   ],\n         [ 97.   ,  17.6  ,  52.5  , ...,   0.   ,   1.   ,   0.   ],\n         [298.   ,  17.6  ,  52.5  , ...,   0.   ,   1.   ,   0.   ],\n         [129.   ,  17.6  ,  52.5  , ...,   0.   ,   1.   ,   0.   ]],\n\n        [[120.   ,  17.55 ,  52.75 , ...,   0.   ,   1.   ,   0.   ],\n         [131.   ,  17.55 ,  52.75 , ...,   0.   ,   1.   ,   0.   ],\n         [ 97.   ,  17.55 ,  52.75 , ...,   0.   ,   1.   ,   0.   ],\n         [182.   ,  17.55 ,  52.75 , ...,   0.   ,   1.   ,   0.   ],\n         [ 67.   ,  17.55 ,  52.75 , ...,   0.   ,   1.   ,   0.   ]],\n\n        [[145.   ,  17.5  ,  53.   , ...,   0.   ,   1.   ,   0.   ],\n         [116.   ,  17.5  ,  53.   , ...,   0.   ,   1.   ,   0.   ],\n         [ 99.   ,  17.5  ,  53.   , ...,   0.   ,   1.   ,   0.   ],\n         [181.   ,  17.5  ,  53.   , ...,   0.   ,   1.   ,   0.   ],\n         [ 83.   ,  17.5  ,  53.   , ...,   0.   ,   1.   ,   0.   ]]]])"
     },
     "execution_count": 38,
     "metadata": {},
     "output_type": "execute_result"
    }
   ],
   "source": [
    "x_train"
   ],
   "metadata": {
    "collapsed": false,
    "pycharm": {
     "name": "#%%\n"
    }
   }
  },
  {
   "cell_type": "code",
   "execution_count": null,
   "outputs": [],
   "source": [],
   "metadata": {
    "collapsed": false,
    "pycharm": {
     "name": "#%%\n"
    }
   }
  }
 ],
 "metadata": {
  "kernelspec": {
   "display_name": "Python 3",
   "language": "python",
   "name": "python3"
  },
  "language_info": {
   "codemirror_mode": {
    "name": "ipython",
    "version": 2
   },
   "file_extension": ".py",
   "mimetype": "text/x-python",
   "name": "python",
   "nbconvert_exporter": "python",
   "pygments_lexer": "ipython2",
   "version": "2.7.6"
  }
 },
 "nbformat": 4,
 "nbformat_minor": 0
}