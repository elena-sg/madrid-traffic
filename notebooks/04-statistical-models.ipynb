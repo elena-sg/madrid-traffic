{
 "cells": [
  {
   "cell_type": "markdown",
   "source": [
    "[Forecasting: Principles and Practice](https://otexts.com/fpp2/)"
   ],
   "metadata": {
    "collapsed": false,
    "pycharm": {
     "name": "#%% md\n"
    }
   }
  },
  {
   "cell_type": "code",
   "execution_count": 44,
   "outputs": [],
   "source": [
    "from graph_traffic.merge_data import merge_data\n",
    "from graph_traffic.config import data_path\n",
    "import numpy as np\n",
    "from sklearn.dummy import DummyRegressor\n",
    "\n",
    "train = np.load(f\"{data_path}/05-graph-data/001-dataset/001_train.npz\")\n",
    "x_train = train[\"x\"]\n",
    "y_train = train[\"y\"][..., [0]].reshape(x_train.shape[0], -1)\n",
    "\n",
    "valid = np.load(f\"{data_path}/05-graph-data/001-dataset/001_valid.npz\")\n",
    "x_valid = valid[\"x\"]\n",
    "y_valid = valid[\"y\"][..., [0]].reshape(x_valid.shape[0], -1)\n",
    "\n",
    "test = np.load(f\"{data_path}/05-graph-data/001-dataset/001_test.npz\")\n",
    "x_test = test[\"x\"]\n",
    "y_test = test[\"y\"][..., [0]].reshape(x_test.shape[0], -1)"
   ],
   "metadata": {
    "collapsed": false,
    "pycharm": {
     "name": "#%%\n"
    }
   }
  },
  {
   "cell_type": "code",
   "execution_count": 52,
   "outputs": [],
   "source": [
    "import numpy.ma as ma"
   ],
   "metadata": {
    "collapsed": false,
    "pycharm": {
     "name": "#%%\n"
    }
   }
  },
  {
   "cell_type": "code",
   "execution_count": 69,
   "outputs": [],
   "source": [
    "x_train_ma = ma.masked_values(x_train, np.full_like(x_train, True))\n",
    "y_train_ma = ma.masked_values(y_train, np.full_like(y_train, True))"
   ],
   "metadata": {
    "collapsed": false,
    "pycharm": {
     "name": "#%%\n"
    }
   }
  },
  {
   "cell_type": "code",
   "execution_count": 70,
   "outputs": [
    {
     "data": {
      "text/plain": "-1.7679330350929263"
     },
     "execution_count": 70,
     "metadata": {},
     "output_type": "execute_result"
    }
   ],
   "source": [
    "mean_regr.fit(x_train_ma, y_train_ma)\n",
    "mean_regr.score(x_valid, y_valid)"
   ],
   "metadata": {
    "collapsed": false,
    "pycharm": {
     "name": "#%%\n"
    }
   }
  },
  {
   "cell_type": "code",
   "execution_count": 65,
   "outputs": [
    {
     "data": {
      "text/plain": "array([[[[False,  True,  True, ..., False,  True, False],\n         [False,  True,  True, ..., False,  True, False],\n         [False,  True,  True, ..., False,  True, False],\n         [False,  True,  True, ..., False,  True, False],\n         [False,  True,  True, ..., False,  True, False]],\n\n        [[False,  True,  True, ..., False,  True, False],\n         [ True,  True,  True, ..., False,  True, False],\n         [ True,  True,  True, ..., False,  True, False],\n         [False,  True,  True, ..., False,  True, False],\n         [False,  True,  True, ..., False,  True, False]],\n\n        [[False,  True,  True, ..., False,  True, False],\n         [False,  True,  True, ..., False,  True, False],\n         [False,  True,  True, ..., False,  True, False],\n         [False,  True,  True, ..., False,  True, False],\n         [False,  True,  True, ..., False,  True, False]],\n\n        ...,\n\n        [[False, False, False, ..., False,  True, False],\n         [False, False, False, ..., False,  True, False],\n         [False, False, False, ..., False,  True, False],\n         [False, False, False, ..., False,  True, False],\n         [False, False, False, ..., False,  True, False]],\n\n        [[False, False, False, ..., False,  True, False],\n         [False, False, False, ..., False,  True, False],\n         [False, False, False, ..., False,  True, False],\n         [False, False, False, ..., False,  True, False],\n         [False, False, False, ..., False,  True, False]],\n\n        [[False, False, False, ..., False,  True, False],\n         [False, False, False, ..., False,  True, False],\n         [False, False, False, ..., False,  True, False],\n         [False, False, False, ..., False,  True, False],\n         [False, False, False, ..., False,  True, False]]],\n\n\n       [[[False,  True,  True, ..., False,  True, False],\n         [ True,  True,  True, ..., False,  True, False],\n         [ True,  True,  True, ..., False,  True, False],\n         [False,  True,  True, ..., False,  True, False],\n         [False,  True,  True, ..., False,  True, False]],\n\n        [[False,  True,  True, ..., False,  True, False],\n         [False,  True,  True, ..., False,  True, False],\n         [False,  True,  True, ..., False,  True, False],\n         [False,  True,  True, ..., False,  True, False],\n         [False,  True,  True, ..., False,  True, False]],\n\n        [[False,  True,  True, ..., False,  True, False],\n         [False,  True,  True, ..., False,  True, False],\n         [False,  True,  True, ..., False,  True, False],\n         [False,  True,  True, ..., False,  True, False],\n         [False,  True,  True, ..., False,  True, False]],\n\n        ...,\n\n        [[False, False, False, ..., False,  True, False],\n         [False, False, False, ..., False,  True, False],\n         [False, False, False, ..., False,  True, False],\n         [False, False, False, ..., False,  True, False],\n         [False, False, False, ..., False,  True, False]],\n\n        [[False, False, False, ..., False,  True, False],\n         [False, False, False, ..., False,  True, False],\n         [False, False, False, ..., False,  True, False],\n         [False, False, False, ..., False,  True, False],\n         [False, False, False, ..., False,  True, False]],\n\n        [[False, False, False, ..., False,  True, False],\n         [False, False, False, ..., False,  True, False],\n         [False, False, False, ..., False,  True, False],\n         [False, False, False, ..., False,  True, False],\n         [False, False, False, ..., False,  True, False]]],\n\n\n       [[[False,  True,  True, ..., False,  True, False],\n         [False,  True,  True, ..., False,  True, False],\n         [False,  True,  True, ..., False,  True, False],\n         [False,  True,  True, ..., False,  True, False],\n         [False,  True,  True, ..., False,  True, False]],\n\n        [[False,  True,  True, ..., False,  True, False],\n         [False,  True,  True, ..., False,  True, False],\n         [False,  True,  True, ..., False,  True, False],\n         [False,  True,  True, ..., False,  True, False],\n         [False,  True,  True, ..., False,  True, False]],\n\n        [[False, False, False, ..., False,  True, False],\n         [False, False, False, ..., False,  True, False],\n         [False, False, False, ..., False,  True, False],\n         [False, False, False, ..., False,  True, False],\n         [False, False, False, ..., False,  True, False]],\n\n        ...,\n\n        [[False, False, False, ..., False,  True, False],\n         [False, False, False, ..., False,  True, False],\n         [False, False, False, ..., False,  True, False],\n         [False, False, False, ..., False,  True, False],\n         [False, False, False, ..., False,  True, False]],\n\n        [[False, False, False, ..., False,  True, False],\n         [False, False, False, ..., False,  True, False],\n         [False, False, False, ..., False,  True, False],\n         [False, False, False, ..., False,  True, False],\n         [False, False, False, ..., False,  True, False]],\n\n        [[False, False, False, ..., False,  True, False],\n         [False, False, False, ..., False,  True, False],\n         [False, False, False, ..., False,  True, False],\n         [False, False, False, ..., False,  True, False],\n         [False, False, False, ..., False,  True, False]]],\n\n\n       ...,\n\n\n       [[[False, False, False, ...,  True, False,  True],\n         [False, False, False, ...,  True, False,  True],\n         [False, False, False, ...,  True, False,  True],\n         [False, False, False, ...,  True, False,  True],\n         [False, False, False, ...,  True, False,  True]],\n\n        [[False, False, False, ...,  True, False,  True],\n         [False, False, False, ...,  True, False,  True],\n         [False, False, False, ...,  True, False,  True],\n         [False, False, False, ...,  True, False,  True],\n         [False, False, False, ...,  True, False,  True]],\n\n        [[False, False, False, ...,  True, False,  True],\n         [False, False, False, ...,  True, False,  True],\n         [False, False, False, ...,  True, False,  True],\n         [False, False, False, ...,  True, False,  True],\n         [False, False, False, ...,  True, False,  True]],\n\n        ...,\n\n        [[False, False, False, ...,  True, False,  True],\n         [False, False, False, ...,  True, False,  True],\n         [False, False, False, ...,  True, False,  True],\n         [False, False, False, ...,  True, False,  True],\n         [False, False, False, ...,  True, False,  True]],\n\n        [[False, False, False, ...,  True, False,  True],\n         [False, False, False, ...,  True, False,  True],\n         [False, False, False, ...,  True, False,  True],\n         [False, False, False, ...,  True, False,  True],\n         [False, False, False, ...,  True, False,  True]],\n\n        [[False, False, False, ...,  True, False,  True],\n         [False, False, False, ...,  True, False,  True],\n         [False, False, False, ...,  True, False,  True],\n         [False, False, False, ...,  True, False,  True],\n         [False, False, False, ...,  True, False,  True]]],\n\n\n       [[[False, False, False, ...,  True, False,  True],\n         [False, False, False, ...,  True, False,  True],\n         [False, False, False, ...,  True, False,  True],\n         [False, False, False, ...,  True, False,  True],\n         [False, False, False, ...,  True, False,  True]],\n\n        [[False, False, False, ...,  True, False,  True],\n         [False, False, False, ...,  True, False,  True],\n         [False, False, False, ...,  True, False,  True],\n         [False, False, False, ...,  True, False,  True],\n         [False, False, False, ...,  True, False,  True]],\n\n        [[False, False, False, ...,  True, False,  True],\n         [False, False, False, ...,  True, False,  True],\n         [False, False, False, ...,  True, False,  True],\n         [False, False, False, ...,  True, False,  True],\n         [False, False, False, ...,  True, False,  True]],\n\n        ...,\n\n        [[False, False, False, ...,  True, False,  True],\n         [False, False, False, ...,  True, False,  True],\n         [False, False, False, ...,  True, False,  True],\n         [False, False, False, ...,  True, False,  True],\n         [False, False, False, ...,  True, False,  True]],\n\n        [[False, False, False, ...,  True, False,  True],\n         [False, False, False, ...,  True, False,  True],\n         [False, False, False, ...,  True, False,  True],\n         [False, False, False, ...,  True, False,  True],\n         [False, False, False, ...,  True, False,  True]],\n\n        [[False, False, False, ...,  True, False,  True],\n         [False, False, False, ...,  True, False,  True],\n         [False, False, False, ...,  True, False,  True],\n         [False, False, False, ...,  True, False,  True],\n         [False, False, False, ...,  True, False,  True]]],\n\n\n       [[[False, False, False, ...,  True, False,  True],\n         [False, False, False, ...,  True, False,  True],\n         [False, False, False, ...,  True, False,  True],\n         [False, False, False, ...,  True, False,  True],\n         [False, False, False, ...,  True, False,  True]],\n\n        [[False, False, False, ...,  True, False,  True],\n         [False, False, False, ...,  True, False,  True],\n         [False, False, False, ...,  True, False,  True],\n         [False, False, False, ...,  True, False,  True],\n         [False, False, False, ...,  True, False,  True]],\n\n        [[False, False, False, ...,  True, False,  True],\n         [False, False, False, ...,  True, False,  True],\n         [False, False, False, ...,  True, False,  True],\n         [False, False, False, ...,  True, False,  True],\n         [False, False, False, ...,  True, False,  True]],\n\n        ...,\n\n        [[False, False, False, ...,  True, False,  True],\n         [False, False, False, ...,  True, False,  True],\n         [False, False, False, ...,  True, False,  True],\n         [False, False, False, ...,  True, False,  True],\n         [False, False, False, ...,  True, False,  True]],\n\n        [[False, False, False, ...,  True, False,  True],\n         [False, False, False, ...,  True, False,  True],\n         [False, False, False, ...,  True, False,  True],\n         [False, False, False, ...,  True, False,  True],\n         [False, False, False, ...,  True, False,  True]],\n\n        [[False, False, False, ...,  True, False,  True],\n         [False, False, False, ...,  True, False,  True],\n         [False, False, False, ...,  True, False,  True],\n         [False, False, False, ...,  True, False,  True],\n         [False, False, False, ...,  True, False,  True]]]])"
     },
     "execution_count": 65,
     "metadata": {},
     "output_type": "execute_result"
    }
   ],
   "source": [
    "x_train_ma.mask"
   ],
   "metadata": {
    "collapsed": false,
    "pycharm": {
     "name": "#%%\n"
    }
   }
  },
  {
   "cell_type": "code",
   "execution_count": 64,
   "outputs": [
    {
     "data": {
      "text/plain": "array([6.70000000e+01, 1.00000000e+00, 3.00000000e+00, ...,\n       2.08333333e-02, 1.00000000e+00, 1.00000000e+00])"
     },
     "execution_count": 64,
     "metadata": {},
     "output_type": "execute_result"
    }
   ],
   "source": [
    "x_train_ma[~x_train_ma.mask].data"
   ],
   "metadata": {
    "collapsed": false,
    "pycharm": {
     "name": "#%%\n"
    }
   }
  },
  {
   "cell_type": "markdown",
   "source": [
    "## Average method"
   ],
   "metadata": {
    "collapsed": false,
    "pycharm": {
     "name": "#%% md\n"
    }
   }
  },
  {
   "cell_type": "code",
   "execution_count": 45,
   "outputs": [
    {
     "data": {
      "text/plain": "0.0"
     },
     "execution_count": 45,
     "metadata": {},
     "output_type": "execute_result"
    }
   ],
   "source": [
    "mean_regr = DummyRegressor(strategy=\"mean\")\n",
    "mean_regr.fit(x_train, y_train)\n",
    "mean_regr.score(x_train, y_train)"
   ],
   "metadata": {
    "collapsed": false,
    "pycharm": {
     "name": "#%%\n"
    }
   }
  },
  {
   "cell_type": "code",
   "execution_count": 46,
   "outputs": [
    {
     "data": {
      "text/plain": "-1.7679330350929263"
     },
     "execution_count": 46,
     "metadata": {},
     "output_type": "execute_result"
    }
   ],
   "source": [
    "mean_regr.score(x_valid, y_valid)"
   ],
   "metadata": {
    "collapsed": false,
    "pycharm": {
     "name": "#%%\n"
    }
   }
  },
  {
   "cell_type": "code",
   "execution_count": 47,
   "outputs": [
    {
     "data": {
      "text/plain": "-11.182149520044659"
     },
     "execution_count": 47,
     "metadata": {},
     "output_type": "execute_result"
    }
   ],
   "source": [
    "mean_regr.score(x_test, y_test)"
   ],
   "metadata": {
    "collapsed": false,
    "pycharm": {
     "name": "#%%\n"
    }
   }
  },
  {
   "cell_type": "code",
   "execution_count": 49,
   "outputs": [
    {
     "data": {
      "text/plain": "array([[  0.,   0.,   0., ...,   0.,   0.,  85.],\n       [  0.,   0.,   0., ...,   0.,   0.,  34.],\n       [  0.,   0.,   0., ...,   0.,   0.,  81.],\n       ...,\n       [  0., 511., 716., ..., 353., 315., 107.],\n       [  0., 528., 730., ..., 321., 355., 163.],\n       [  0., 364., 647., ..., 466., 424., 236.]])"
     },
     "execution_count": 49,
     "metadata": {},
     "output_type": "execute_result"
    }
   ],
   "source": [
    "y_test"
   ],
   "metadata": {
    "collapsed": false,
    "pycharm": {
     "name": "#%%\n"
    }
   }
  },
  {
   "cell_type": "code",
   "execution_count": 40,
   "outputs": [
    {
     "data": {
      "text/plain": "array([456.85829329, 195.68119855, 180.39298941, 474.51482728,\n       357.5595054 ])"
     },
     "execution_count": 40,
     "metadata": {},
     "output_type": "execute_result"
    }
   ],
   "source": [
    "x_train[:, :, :, 0].mean(axis=(0, 1))"
   ],
   "metadata": {
    "collapsed": false,
    "pycharm": {
     "name": "#%%\n"
    }
   }
  },
  {
   "cell_type": "code",
   "execution_count": 38,
   "outputs": [
    {
     "data": {
      "text/plain": "array([[[[ 67.   ,   0.   ,   0.   , ...,   1.   ,   0.   ,   1.   ],\n         [ 20.   ,   0.   ,   0.   , ...,   1.   ,   0.   ,   1.   ],\n         [ 40.   ,   0.   ,   0.   , ...,   1.   ,   0.   ,   1.   ],\n         [ 75.   ,   0.   ,   0.   , ...,   1.   ,   0.   ,   1.   ],\n         [ 83.   ,   0.   ,   0.   , ...,   1.   ,   0.   ,   1.   ]],\n\n        [[ 25.   ,   0.   ,   0.   , ...,   1.   ,   0.   ,   1.   ],\n         [  0.   ,   0.   ,   0.   , ...,   1.   ,   0.   ,   1.   ],\n         [  0.   ,   0.   ,   0.   , ...,   1.   ,   0.   ,   1.   ],\n         [ 53.   ,   0.   ,   0.   , ...,   1.   ,   0.   ,   1.   ],\n         [ 23.   ,   0.   ,   0.   , ...,   1.   ,   0.   ,   1.   ]],\n\n        [[ 85.   ,   0.   ,   0.   , ...,   1.   ,   0.   ,   1.   ],\n         [ 27.   ,   0.   ,   0.   , ...,   1.   ,   0.   ,   1.   ],\n         [ 60.   ,   0.   ,   0.   , ...,   1.   ,   0.   ,   1.   ],\n         [184.   ,   0.   ,   0.   , ...,   1.   ,   0.   ,   1.   ],\n         [136.   ,   0.   ,   0.   , ...,   1.   ,   0.   ,   1.   ]],\n\n        ...,\n\n        [[523.   ,   8.175,  43.   , ...,   1.   ,   0.   ,   1.   ],\n         [187.   ,   8.175,  43.   , ...,   1.   ,   0.   ,   1.   ],\n         [281.   ,   8.175,  43.   , ...,   1.   ,   0.   ,   1.   ],\n         [630.   ,   8.175,  43.   , ...,   1.   ,   0.   ,   1.   ],\n         [459.   ,   8.175,  43.   , ...,   1.   ,   0.   ,   1.   ]],\n\n        [[427.   ,   8.15 ,  43.   , ...,   1.   ,   0.   ,   1.   ],\n         [197.   ,   8.15 ,  43.   , ...,   1.   ,   0.   ,   1.   ],\n         [223.   ,   8.15 ,  43.   , ...,   1.   ,   0.   ,   1.   ],\n         [467.   ,   8.15 ,  43.   , ...,   1.   ,   0.   ,   1.   ],\n         [306.   ,   8.15 ,  43.   , ...,   1.   ,   0.   ,   1.   ]],\n\n        [[304.   ,   8.125,  43.   , ...,   1.   ,   0.   ,   1.   ],\n         [103.   ,   8.125,  43.   , ...,   1.   ,   0.   ,   1.   ],\n         [173.   ,   8.125,  43.   , ...,   1.   ,   0.   ,   1.   ],\n         [448.   ,   8.125,  43.   , ...,   1.   ,   0.   ,   1.   ],\n         [304.   ,   8.125,  43.   , ...,   1.   ,   0.   ,   1.   ]]],\n\n\n       [[[ 25.   ,   0.   ,   0.   , ...,   1.   ,   0.   ,   1.   ],\n         [  0.   ,   0.   ,   0.   , ...,   1.   ,   0.   ,   1.   ],\n         [  0.   ,   0.   ,   0.   , ...,   1.   ,   0.   ,   1.   ],\n         [ 53.   ,   0.   ,   0.   , ...,   1.   ,   0.   ,   1.   ],\n         [ 23.   ,   0.   ,   0.   , ...,   1.   ,   0.   ,   1.   ]],\n\n        [[ 85.   ,   0.   ,   0.   , ...,   1.   ,   0.   ,   1.   ],\n         [ 27.   ,   0.   ,   0.   , ...,   1.   ,   0.   ,   1.   ],\n         [ 60.   ,   0.   ,   0.   , ...,   1.   ,   0.   ,   1.   ],\n         [184.   ,   0.   ,   0.   , ...,   1.   ,   0.   ,   1.   ],\n         [136.   ,   0.   ,   0.   , ...,   1.   ,   0.   ,   1.   ]],\n\n        [[172.   ,   0.   ,   0.   , ...,   1.   ,   0.   ,   1.   ],\n         [ 57.   ,   0.   ,   0.   , ...,   1.   ,   0.   ,   1.   ],\n         [ 74.   ,   0.   ,   0.   , ...,   1.   ,   0.   ,   1.   ],\n         [415.   ,   0.   ,   0.   , ...,   1.   ,   0.   ,   1.   ],\n         [206.   ,   0.   ,   0.   , ...,   1.   ,   0.   ,   1.   ]],\n\n        ...,\n\n        [[427.   ,   8.15 ,  43.   , ...,   1.   ,   0.   ,   1.   ],\n         [197.   ,   8.15 ,  43.   , ...,   1.   ,   0.   ,   1.   ],\n         [223.   ,   8.15 ,  43.   , ...,   1.   ,   0.   ,   1.   ],\n         [467.   ,   8.15 ,  43.   , ...,   1.   ,   0.   ,   1.   ],\n         [306.   ,   8.15 ,  43.   , ...,   1.   ,   0.   ,   1.   ]],\n\n        [[304.   ,   8.125,  43.   , ...,   1.   ,   0.   ,   1.   ],\n         [103.   ,   8.125,  43.   , ...,   1.   ,   0.   ,   1.   ],\n         [173.   ,   8.125,  43.   , ...,   1.   ,   0.   ,   1.   ],\n         [448.   ,   8.125,  43.   , ...,   1.   ,   0.   ,   1.   ],\n         [304.   ,   8.125,  43.   , ...,   1.   ,   0.   ,   1.   ]],\n\n        [[245.   ,   8.1  ,  43.   , ...,   1.   ,   0.   ,   1.   ],\n         [ 73.   ,   8.1  ,  43.   , ...,   1.   ,   0.   ,   1.   ],\n         [135.   ,   8.1  ,  43.   , ...,   1.   ,   0.   ,   1.   ],\n         [341.   ,   8.1  ,  43.   , ...,   1.   ,   0.   ,   1.   ],\n         [267.   ,   8.1  ,  43.   , ...,   1.   ,   0.   ,   1.   ]]],\n\n\n       [[[ 85.   ,   0.   ,   0.   , ...,   1.   ,   0.   ,   1.   ],\n         [ 27.   ,   0.   ,   0.   , ...,   1.   ,   0.   ,   1.   ],\n         [ 60.   ,   0.   ,   0.   , ...,   1.   ,   0.   ,   1.   ],\n         [184.   ,   0.   ,   0.   , ...,   1.   ,   0.   ,   1.   ],\n         [136.   ,   0.   ,   0.   , ...,   1.   ,   0.   ,   1.   ]],\n\n        [[172.   ,   0.   ,   0.   , ...,   1.   ,   0.   ,   1.   ],\n         [ 57.   ,   0.   ,   0.   , ...,   1.   ,   0.   ,   1.   ],\n         [ 74.   ,   0.   ,   0.   , ...,   1.   ,   0.   ,   1.   ],\n         [415.   ,   0.   ,   0.   , ...,   1.   ,   0.   ,   1.   ],\n         [206.   ,   0.   ,   0.   , ...,   1.   ,   0.   ,   1.   ]],\n\n        [[334.   ,   8.9  ,  42.   , ...,   1.   ,   0.   ,   1.   ],\n         [106.   ,   8.9  ,  42.   , ...,   1.   ,   0.   ,   1.   ],\n         [147.   ,   8.9  ,  42.   , ...,   1.   ,   0.   ,   1.   ],\n         [575.   ,   8.9  ,  42.   , ...,   1.   ,   0.   ,   1.   ],\n         [296.   ,   8.9  ,  42.   , ...,   1.   ,   0.   ,   1.   ]],\n\n        ...,\n\n        [[304.   ,   8.125,  43.   , ...,   1.   ,   0.   ,   1.   ],\n         [103.   ,   8.125,  43.   , ...,   1.   ,   0.   ,   1.   ],\n         [173.   ,   8.125,  43.   , ...,   1.   ,   0.   ,   1.   ],\n         [448.   ,   8.125,  43.   , ...,   1.   ,   0.   ,   1.   ],\n         [304.   ,   8.125,  43.   , ...,   1.   ,   0.   ,   1.   ]],\n\n        [[245.   ,   8.1  ,  43.   , ...,   1.   ,   0.   ,   1.   ],\n         [ 73.   ,   8.1  ,  43.   , ...,   1.   ,   0.   ,   1.   ],\n         [135.   ,   8.1  ,  43.   , ...,   1.   ,   0.   ,   1.   ],\n         [341.   ,   8.1  ,  43.   , ...,   1.   ,   0.   ,   1.   ],\n         [267.   ,   8.1  ,  43.   , ...,   1.   ,   0.   ,   1.   ]],\n\n        [[187.   ,   8.025,  43.   , ...,   1.   ,   0.   ,   1.   ],\n         [ 63.   ,   8.025,  43.   , ...,   1.   ,   0.   ,   1.   ],\n         [118.   ,   8.025,  43.   , ...,   1.   ,   0.   ,   1.   ],\n         [323.   ,   8.025,  43.   , ...,   1.   ,   0.   ,   1.   ],\n         [175.   ,   8.025,  43.   , ...,   1.   ,   0.   ,   1.   ]]],\n\n\n       ...,\n\n\n       [[[491.   ,  20.675,  38.   , ...,   0.   ,   1.   ,   0.   ],\n         [363.   ,  20.675,  38.   , ...,   0.   ,   1.   ,   0.   ],\n         [142.   ,  20.675,  38.   , ...,   0.   ,   1.   ,   0.   ],\n         [447.   ,  20.675,  38.   , ...,   0.   ,   1.   ,   0.   ],\n         [324.   ,  20.675,  38.   , ...,   0.   ,   1.   ,   0.   ]],\n\n        [[395.   ,  20.3  ,  39.   , ...,   0.   ,   1.   ,   0.   ],\n         [351.   ,  20.3  ,  39.   , ...,   0.   ,   1.   ,   0.   ],\n         [138.   ,  20.3  ,  39.   , ...,   0.   ,   1.   ,   0.   ],\n         [451.   ,  20.3  ,  39.   , ...,   0.   ,   1.   ,   0.   ],\n         [264.   ,  20.3  ,  39.   , ...,   0.   ,   1.   ,   0.   ]],\n\n        [[352.   ,  20.05 ,  39.75 , ...,   0.   ,   1.   ,   0.   ],\n         [431.   ,  20.05 ,  39.75 , ...,   0.   ,   1.   ,   0.   ],\n         [123.   ,  20.05 ,  39.75 , ...,   0.   ,   1.   ,   0.   ],\n         [477.   ,  20.05 ,  39.75 , ...,   0.   ,   1.   ,   0.   ],\n         [277.   ,  20.05 ,  39.75 , ...,   0.   ,   1.   ,   0.   ]],\n\n        ...,\n\n        [[257.   ,  17.7  ,  52.   , ...,   0.   ,   1.   ,   0.   ],\n         [252.   ,  17.7  ,  52.   , ...,   0.   ,   1.   ,   0.   ],\n         [103.   ,  17.7  ,  52.   , ...,   0.   ,   1.   ,   0.   ],\n         [370.   ,  17.7  ,  52.   , ...,   0.   ,   1.   ,   0.   ],\n         [174.   ,  17.7  ,  52.   , ...,   0.   ,   1.   ,   0.   ]],\n\n        [[316.   ,  17.65 ,  52.25 , ...,   0.   ,   1.   ,   0.   ],\n         [218.   ,  17.65 ,  52.25 , ...,   0.   ,   1.   ,   0.   ],\n         [ 86.   ,  17.65 ,  52.25 , ...,   0.   ,   1.   ,   0.   ],\n         [265.   ,  17.65 ,  52.25 , ...,   0.   ,   1.   ,   0.   ],\n         [190.   ,  17.65 ,  52.25 , ...,   0.   ,   1.   ,   0.   ]],\n\n        [[212.   ,  17.6  ,  52.5  , ...,   0.   ,   1.   ,   0.   ],\n         [171.   ,  17.6  ,  52.5  , ...,   0.   ,   1.   ,   0.   ],\n         [ 97.   ,  17.6  ,  52.5  , ...,   0.   ,   1.   ,   0.   ],\n         [298.   ,  17.6  ,  52.5  , ...,   0.   ,   1.   ,   0.   ],\n         [129.   ,  17.6  ,  52.5  , ...,   0.   ,   1.   ,   0.   ]]],\n\n\n       [[[395.   ,  20.3  ,  39.   , ...,   0.   ,   1.   ,   0.   ],\n         [351.   ,  20.3  ,  39.   , ...,   0.   ,   1.   ,   0.   ],\n         [138.   ,  20.3  ,  39.   , ...,   0.   ,   1.   ,   0.   ],\n         [451.   ,  20.3  ,  39.   , ...,   0.   ,   1.   ,   0.   ],\n         [264.   ,  20.3  ,  39.   , ...,   0.   ,   1.   ,   0.   ]],\n\n        [[352.   ,  20.05 ,  39.75 , ...,   0.   ,   1.   ,   0.   ],\n         [431.   ,  20.05 ,  39.75 , ...,   0.   ,   1.   ,   0.   ],\n         [123.   ,  20.05 ,  39.75 , ...,   0.   ,   1.   ,   0.   ],\n         [477.   ,  20.05 ,  39.75 , ...,   0.   ,   1.   ,   0.   ],\n         [277.   ,  20.05 ,  39.75 , ...,   0.   ,   1.   ,   0.   ]],\n\n        [[449.   ,  19.8  ,  40.5  , ...,   0.   ,   1.   ,   0.   ],\n         [493.   ,  19.8  ,  40.5  , ...,   0.   ,   1.   ,   0.   ],\n         [130.   ,  19.8  ,  40.5  , ...,   0.   ,   1.   ,   0.   ],\n         [456.   ,  19.8  ,  40.5  , ...,   0.   ,   1.   ,   0.   ],\n         [196.   ,  19.8  ,  40.5  , ...,   0.   ,   1.   ,   0.   ]],\n\n        ...,\n\n        [[316.   ,  17.65 ,  52.25 , ...,   0.   ,   1.   ,   0.   ],\n         [218.   ,  17.65 ,  52.25 , ...,   0.   ,   1.   ,   0.   ],\n         [ 86.   ,  17.65 ,  52.25 , ...,   0.   ,   1.   ,   0.   ],\n         [265.   ,  17.65 ,  52.25 , ...,   0.   ,   1.   ,   0.   ],\n         [190.   ,  17.65 ,  52.25 , ...,   0.   ,   1.   ,   0.   ]],\n\n        [[212.   ,  17.6  ,  52.5  , ...,   0.   ,   1.   ,   0.   ],\n         [171.   ,  17.6  ,  52.5  , ...,   0.   ,   1.   ,   0.   ],\n         [ 97.   ,  17.6  ,  52.5  , ...,   0.   ,   1.   ,   0.   ],\n         [298.   ,  17.6  ,  52.5  , ...,   0.   ,   1.   ,   0.   ],\n         [129.   ,  17.6  ,  52.5  , ...,   0.   ,   1.   ,   0.   ]],\n\n        [[120.   ,  17.55 ,  52.75 , ...,   0.   ,   1.   ,   0.   ],\n         [131.   ,  17.55 ,  52.75 , ...,   0.   ,   1.   ,   0.   ],\n         [ 97.   ,  17.55 ,  52.75 , ...,   0.   ,   1.   ,   0.   ],\n         [182.   ,  17.55 ,  52.75 , ...,   0.   ,   1.   ,   0.   ],\n         [ 67.   ,  17.55 ,  52.75 , ...,   0.   ,   1.   ,   0.   ]]],\n\n\n       [[[352.   ,  20.05 ,  39.75 , ...,   0.   ,   1.   ,   0.   ],\n         [431.   ,  20.05 ,  39.75 , ...,   0.   ,   1.   ,   0.   ],\n         [123.   ,  20.05 ,  39.75 , ...,   0.   ,   1.   ,   0.   ],\n         [477.   ,  20.05 ,  39.75 , ...,   0.   ,   1.   ,   0.   ],\n         [277.   ,  20.05 ,  39.75 , ...,   0.   ,   1.   ,   0.   ]],\n\n        [[449.   ,  19.8  ,  40.5  , ...,   0.   ,   1.   ,   0.   ],\n         [493.   ,  19.8  ,  40.5  , ...,   0.   ,   1.   ,   0.   ],\n         [130.   ,  19.8  ,  40.5  , ...,   0.   ,   1.   ,   0.   ],\n         [456.   ,  19.8  ,  40.5  , ...,   0.   ,   1.   ,   0.   ],\n         [196.   ,  19.8  ,  40.5  , ...,   0.   ,   1.   ,   0.   ]],\n\n        [[488.   ,  19.55 ,  41.25 , ...,   0.   ,   1.   ,   0.   ],\n         [375.   ,  19.55 ,  41.25 , ...,   0.   ,   1.   ,   0.   ],\n         [121.   ,  19.55 ,  41.25 , ...,   0.   ,   1.   ,   0.   ],\n         [363.   ,  19.55 ,  41.25 , ...,   0.   ,   1.   ,   0.   ],\n         [305.   ,  19.55 ,  41.25 , ...,   0.   ,   1.   ,   0.   ]],\n\n        ...,\n\n        [[212.   ,  17.6  ,  52.5  , ...,   0.   ,   1.   ,   0.   ],\n         [171.   ,  17.6  ,  52.5  , ...,   0.   ,   1.   ,   0.   ],\n         [ 97.   ,  17.6  ,  52.5  , ...,   0.   ,   1.   ,   0.   ],\n         [298.   ,  17.6  ,  52.5  , ...,   0.   ,   1.   ,   0.   ],\n         [129.   ,  17.6  ,  52.5  , ...,   0.   ,   1.   ,   0.   ]],\n\n        [[120.   ,  17.55 ,  52.75 , ...,   0.   ,   1.   ,   0.   ],\n         [131.   ,  17.55 ,  52.75 , ...,   0.   ,   1.   ,   0.   ],\n         [ 97.   ,  17.55 ,  52.75 , ...,   0.   ,   1.   ,   0.   ],\n         [182.   ,  17.55 ,  52.75 , ...,   0.   ,   1.   ,   0.   ],\n         [ 67.   ,  17.55 ,  52.75 , ...,   0.   ,   1.   ,   0.   ]],\n\n        [[145.   ,  17.5  ,  53.   , ...,   0.   ,   1.   ,   0.   ],\n         [116.   ,  17.5  ,  53.   , ...,   0.   ,   1.   ,   0.   ],\n         [ 99.   ,  17.5  ,  53.   , ...,   0.   ,   1.   ,   0.   ],\n         [181.   ,  17.5  ,  53.   , ...,   0.   ,   1.   ,   0.   ],\n         [ 83.   ,  17.5  ,  53.   , ...,   0.   ,   1.   ,   0.   ]]]])"
     },
     "execution_count": 38,
     "metadata": {},
     "output_type": "execute_result"
    }
   ],
   "source": [
    "x_train"
   ],
   "metadata": {
    "collapsed": false,
    "pycharm": {
     "name": "#%%\n"
    }
   }
  },
  {
   "cell_type": "code",
   "execution_count": null,
   "outputs": [],
   "source": [],
   "metadata": {
    "collapsed": false,
    "pycharm": {
     "name": "#%%\n"
    }
   }
  }
 ],
 "metadata": {
  "kernelspec": {
   "display_name": "Python 3",
   "language": "python",
   "name": "python3"
  },
  "language_info": {
   "codemirror_mode": {
    "name": "ipython",
    "version": 2
   },
   "file_extension": ".py",
   "mimetype": "text/x-python",
   "name": "python",
   "nbconvert_exporter": "python",
   "pygments_lexer": "ipython2",
   "version": "2.7.6"
  }
 },
 "nbformat": 4,
 "nbformat_minor": 0
}