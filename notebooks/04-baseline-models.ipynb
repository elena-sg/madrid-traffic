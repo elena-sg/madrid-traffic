{
 "cells": [
  {
   "cell_type": "markdown",
   "source": [
    "[Forecasting: Principles and Practice](https://otexts.com/fpp2/)"
   ],
   "metadata": {
    "collapsed": false,
    "pycharm": {
     "name": "#%% md\n"
    }
   }
  },
  {
   "cell_type": "code",
   "execution_count": 1,
   "outputs": [
    {
     "name": "stderr",
     "output_type": "stream",
     "text": [
      "C:\\Users\\Bened\\PycharmProjects\\madrid-traffic\\env\\lib\\site-packages\\tqdm\\auto.py:22: TqdmWarning: IProgress not found. Please update jupyter and ipywidgets. See https://ipywidgets.readthedocs.io/en/stable/user_install.html\n",
      "  from .autonotebook import tqdm as notebook_tqdm\n"
     ]
    }
   ],
   "source": [
    "from graph_traffic.get_data import get_data\n",
    "from graph_traffic.dataloading import npzDataset\n",
    "from graph_traffic.baseline_models import MeanRegressor, MedianRegressor, RepeatRegressor, RepeatLastRegressor, DaytimeRegressor, DriftRegressor\n",
    "import numpy as np\n",
    "from sklearn.metrics import mean_squared_error\n",
    "import pandas as pd\n",
    "\n",
    "data_dict = dict(\n",
    "    ids_list=[3954, 3973, 3978],\n",
    "    seq_len=4,\n",
    "    with_graph=False,\n",
    "    from_date=\"2019-03-01\",\n",
    "    to_date=\"2020-03-31\",\n",
    "    dataset_name=\"small\",\n",
    "    target=\"intensidad\",\n",
    "    interactions=None\n",
    ")\n",
    "\n",
    "meteo_dict = dict(\n",
    "    rain=\"drop\",\n",
    "    wind=\"drop\",\n",
    "    temperature=\"drop\",\n",
    "    humidity=\"drop\",\n",
    "    pressure=\"drop\",\n",
    "    radiation=\"drop\"\n",
    ")\n",
    "\n",
    "temporal_dict = dict(\n",
    "    season=\"drop\",\n",
    "    month=\"drop\",\n",
    "    day_of_month=\"drop\",\n",
    "    hour=\"passthrough\",\n",
    "    minute=\"drop\",\n",
    "    bank_holiday=\"drop\",\n",
    "    school_holiday=\"drop\",\n",
    "    working_day=\"passthrough\"\n",
    ")\n",
    "\n",
    "x, y = get_data(data_dict, meteo_dict, temporal_dict)\n",
    "dataset_name = data_dict[\"dataset_name\"]\n",
    "n_points = None"
   ],
   "metadata": {
    "collapsed": false,
    "pycharm": {
     "name": "#%%\n"
    }
   }
  },
  {
   "cell_type": "code",
   "execution_count": 2,
   "outputs": [],
   "source": [
    "train_data = npzDataset(dataset_name, \"train\", n_points)\n",
    "test_data = npzDataset(dataset_name, \"test\", n_points)\n",
    "valid_data = npzDataset(dataset_name, \"valid\", n_points)"
   ],
   "metadata": {
    "collapsed": false,
    "pycharm": {
     "name": "#%%\n"
    }
   }
  },
  {
   "cell_type": "code",
   "execution_count": 3,
   "outputs": [],
   "source": [
    "x_train = train_data.x\n",
    "y_train = train_data.y[:, :, :, [0]]\n",
    "\n",
    "x_valid = valid_data.x\n",
    "y_valid = valid_data.y[:, :, :, [0]]\n",
    "\n",
    "x_test = test_data.x\n",
    "y_test = test_data.y[:, :, :, [0]]"
   ],
   "metadata": {
    "collapsed": false,
    "pycharm": {
     "name": "#%%\n"
    }
   }
  },
  {
   "cell_type": "markdown",
   "source": [
    "# 1. Mean regressor"
   ],
   "metadata": {
    "collapsed": false,
    "pycharm": {
     "name": "#%% md\n"
    }
   }
  },
  {
   "cell_type": "code",
   "execution_count": 17,
   "outputs": [
    {
     "name": "stdout",
     "output_type": "stream",
     "text": [
      "Training MRE: 230.10\n",
      "Validation MRE: 233.64\n",
      "Test MRE: 248.61\n"
     ]
    }
   ],
   "source": [
    "mean_reg = MeanRegressor()\n",
    "mean_reg.fit(x_train, y_train)\n",
    "train_pred = mean_reg.predict(x_train)\n",
    "valid_pred = mean_reg.predict(x_valid)\n",
    "test_pred = mean_reg.predict(x_test)\n",
    "print(f\"Training MRE: {np.abs(train_pred-y_train).mean():.2f}\")\n",
    "print(f\"Validation MRE: {np.abs(valid_pred-y_valid).mean():.2f}\")\n",
    "print(f\"Test MRE: {np.abs(test_pred-y_test).mean():.2f}\")"
   ],
   "metadata": {
    "collapsed": false,
    "pycharm": {
     "name": "#%%\n"
    }
   }
  },
  {
   "cell_type": "code",
   "execution_count": 34,
   "outputs": [
    {
     "data": {
      "text/plain": "-6.509850945068991e-15"
     },
     "execution_count": 34,
     "metadata": {},
     "output_type": "execute_result"
    }
   ],
   "source": [
    "res = (train_pred-y_train)[:, :, 0, 0].ravel()\n",
    "res.mean()"
   ],
   "metadata": {
    "collapsed": false,
    "pycharm": {
     "name": "#%%\n"
    }
   }
  },
  {
   "cell_type": "markdown",
   "source": [
    "# 2. Median regressor"
   ],
   "metadata": {
    "collapsed": false,
    "pycharm": {
     "name": "#%% md\n"
    }
   }
  },
  {
   "cell_type": "code",
   "execution_count": 35,
   "outputs": [
    {
     "name": "stdout",
     "output_type": "stream",
     "text": [
      "Training MRE: 225.26\n",
      "Validation MRE: 229.88\n",
      "Test MRE: 243.76\n"
     ]
    }
   ],
   "source": [
    "median_reg = MedianRegressor()\n",
    "median_reg.fit(x_train, y_train)\n",
    "train_pred = median_reg.predict(x_train)\n",
    "valid_pred = median_reg.predict(x_valid)\n",
    "test_pred = median_reg.predict(x_test)\n",
    "print(f\"Training MRE: {np.abs(train_pred-y_train).mean():.2f}\")\n",
    "print(f\"Validation MRE: {np.abs(valid_pred-y_valid).mean():.2f}\")\n",
    "print(f\"Test MRE: {np.abs(test_pred-y_test).mean():.2f}\")"
   ],
   "metadata": {
    "collapsed": false,
    "pycharm": {
     "name": "#%%\n"
    }
   }
  },
  {
   "cell_type": "code",
   "execution_count": 36,
   "outputs": [
    {
     "data": {
      "text/plain": "-90.29161565266529"
     },
     "execution_count": 36,
     "metadata": {},
     "output_type": "execute_result"
    }
   ],
   "source": [
    "res = (train_pred-y_train)[:, :, 0, 0].ravel()\n",
    "res.mean()"
   ],
   "metadata": {
    "collapsed": false,
    "pycharm": {
     "name": "#%%\n"
    }
   }
  },
  {
   "cell_type": "markdown",
   "source": [
    "# 3. Repeat regressor"
   ],
   "metadata": {
    "collapsed": false,
    "pycharm": {
     "name": "#%% md\n"
    }
   }
  },
  {
   "cell_type": "code",
   "execution_count": 37,
   "outputs": [
    {
     "name": "stdout",
     "output_type": "stream",
     "text": [
      "Training MRE: 88.29\n",
      "Validation MRE: 93.74\n",
      "Test MRE: 91.22\n"
     ]
    }
   ],
   "source": [
    "repeat_reg = RepeatRegressor()\n",
    "repeat_reg.fit(x_train, y_train)\n",
    "train_pred = repeat_reg.predict(x_train)\n",
    "valid_pred = repeat_reg.predict(x_valid)\n",
    "test_pred = repeat_reg.predict(x_test)\n",
    "print(f\"Training MRE: {np.abs(train_pred - y_train).mean():.2f}\")\n",
    "print(f\"Validation MRE: {np.abs(valid_pred - y_valid).mean():.2f}\")\n",
    "print(f\"Test MRE: {np.abs(test_pred - y_test).mean():.2f}\")"
   ],
   "metadata": {
    "collapsed": false,
    "pycharm": {
     "name": "#%%\n"
    }
   }
  },
  {
   "cell_type": "code",
   "execution_count": 38,
   "outputs": [
    {
     "data": {
      "text/plain": "0.7481399510265587"
     },
     "execution_count": 38,
     "metadata": {},
     "output_type": "execute_result"
    }
   ],
   "source": [
    "res = (train_pred-y_train)[:, :, 0, 0].ravel()\n",
    "res.mean()"
   ],
   "metadata": {
    "collapsed": false,
    "pycharm": {
     "name": "#%%\n"
    }
   }
  },
  {
   "cell_type": "markdown",
   "source": [
    "# 4. Repeat last value regressor"
   ],
   "metadata": {
    "collapsed": false,
    "pycharm": {
     "name": "#%% md\n"
    }
   }
  },
  {
   "cell_type": "code",
   "execution_count": 39,
   "outputs": [
    {
     "name": "stdout",
     "output_type": "stream",
     "text": [
      "Training MRE: 67.80\n",
      "Validation MRE: 71.52\n",
      "Test MRE: 70.08\n"
     ]
    }
   ],
   "source": [
    "repeatlast_reg = RepeatLastRegressor()\n",
    "repeatlast_reg.fit(x_train, y_train)\n",
    "train_pred = repeatlast_reg.predict(x_train)\n",
    "valid_pred = repeatlast_reg.predict(x_valid)\n",
    "test_pred = repeatlast_reg.predict(x_test)\n",
    "print(f\"Training MRE: {np.abs(train_pred - y_train).mean():.2f}\")\n",
    "print(f\"Validation MRE: {np.abs(valid_pred - y_valid).mean():.2f}\")\n",
    "print(f\"Test MRE: {np.abs(test_pred - y_test).mean():.2f}\")"
   ],
   "metadata": {
    "collapsed": false,
    "pycharm": {
     "name": "#%%\n"
    }
   }
  },
  {
   "cell_type": "code",
   "execution_count": 40,
   "outputs": [
    {
     "data": {
      "text/plain": "0.6298384818233189"
     },
     "execution_count": 40,
     "metadata": {},
     "output_type": "execute_result"
    }
   ],
   "source": [
    "res = (train_pred-y_train)[:, :, 0, 0].ravel()\n",
    "res.mean()"
   ],
   "metadata": {
    "collapsed": false,
    "pycharm": {
     "name": "#%%\n"
    }
   }
  },
  {
   "cell_type": "markdown",
   "source": [
    "# 5. Mean per hour"
   ],
   "metadata": {
    "collapsed": false,
    "pycharm": {
     "name": "#%% md\n"
    }
   }
  },
  {
   "cell_type": "code",
   "execution_count": 41,
   "outputs": [
    {
     "name": "stdout",
     "output_type": "stream",
     "text": [
      "Training MRE: 169.47\n",
      "Validation MRE: 174.00\n",
      "Test MRE: 190.47\n"
     ]
    }
   ],
   "source": [
    "daytimemean_reg = DaytimeRegressor(\"mean\")\n",
    "daytimemean_reg.fit(x_train[:, :, :, [0, 1]], y_train)\n",
    "train_pred = daytimemean_reg.predict(x_train)\n",
    "valid_pred = daytimemean_reg.predict(x_valid)\n",
    "test_pred = daytimemean_reg.predict(x_test)\n",
    "print(f\"Training MRE: {np.abs(train_pred - y_train).mean():.2f}\")\n",
    "print(f\"Validation MRE: {np.abs(valid_pred - y_valid).mean():.2f}\")\n",
    "print(f\"Test MRE: {np.abs(test_pred - y_test).mean():.2f}\")"
   ],
   "metadata": {
    "collapsed": false,
    "pycharm": {
     "name": "#%%\n"
    }
   }
  },
  {
   "cell_type": "code",
   "execution_count": 42,
   "outputs": [
    {
     "data": {
      "text/plain": "-112.61679602363321"
     },
     "execution_count": 42,
     "metadata": {},
     "output_type": "execute_result"
    }
   ],
   "source": [
    "res = (train_pred-y_train)[:, :, 0, 0].ravel()\n",
    "res.mean()"
   ],
   "metadata": {
    "collapsed": false,
    "pycharm": {
     "name": "#%%\n"
    }
   }
  },
  {
   "cell_type": "code",
   "execution_count": 43,
   "outputs": [
    {
     "name": "stdout",
     "output_type": "stream",
     "text": [
      "Training MRE: 134.16\n",
      "Validation MRE: 138.43\n",
      "Test MRE: 166.42\n"
     ]
    }
   ],
   "source": [
    "daytimeworkingdaymean_reg = DaytimeRegressor(\"mean\", by_working_day=True)\n",
    "daytimeworkingdaymean_reg.fit(x_train[:, :, :, [0, 1, 2]], y_train)\n",
    "train_pred = daytimeworkingdaymean_reg.predict(x_train)\n",
    "valid_pred = daytimeworkingdaymean_reg.predict(x_valid)\n",
    "test_pred = daytimeworkingdaymean_reg.predict(x_test)\n",
    "print(f\"Training MRE: {np.abs(train_pred - y_train).mean():.2f}\")\n",
    "print(f\"Validation MRE: {np.abs(valid_pred - y_valid).mean():.2f}\")\n",
    "print(f\"Test MRE: {np.abs(test_pred - y_test).mean():.2f}\")"
   ],
   "metadata": {
    "collapsed": false,
    "pycharm": {
     "name": "#%%\n"
    }
   }
  },
  {
   "cell_type": "code",
   "execution_count": 44,
   "outputs": [
    {
     "data": {
      "text/plain": "-103.60850535569408"
     },
     "execution_count": 44,
     "metadata": {},
     "output_type": "execute_result"
    }
   ],
   "source": [
    "res = (train_pred-y_train)[:, :, 0, 0].ravel()\n",
    "res.mean()"
   ],
   "metadata": {
    "collapsed": false,
    "pycharm": {
     "name": "#%%\n"
    }
   }
  },
  {
   "cell_type": "markdown",
   "source": [
    "# 6. Median per hour"
   ],
   "metadata": {
    "collapsed": false,
    "pycharm": {
     "name": "#%% md\n"
    }
   }
  },
  {
   "cell_type": "code",
   "execution_count": 45,
   "outputs": [
    {
     "name": "stdout",
     "output_type": "stream",
     "text": [
      "Training MRE: 170.99\n",
      "Validation MRE: 174.97\n",
      "Test MRE: 190.41\n"
     ]
    }
   ],
   "source": [
    "daytimemedian_reg = DaytimeRegressor(\"median\")\n",
    "daytimemedian_reg.fit(x_train[:, :, :, [0, 1]], y_train)\n",
    "train_pred = daytimemedian_reg.predict(x_train)\n",
    "valid_pred = daytimemedian_reg.predict(x_valid)\n",
    "test_pred = daytimemedian_reg.predict(x_test)\n",
    "print(f\"Training MRE: {np.abs(train_pred - y_train).mean():.2f}\")\n",
    "print(f\"Validation MRE: {np.abs(valid_pred - y_valid).mean():.2f}\")\n",
    "print(f\"Test MRE: {np.abs(test_pred - y_test).mean():.2f}\")"
   ],
   "metadata": {
    "collapsed": false,
    "pycharm": {
     "name": "#%%\n"
    }
   }
  },
  {
   "cell_type": "code",
   "execution_count": 46,
   "outputs": [
    {
     "data": {
      "text/plain": "-161.31172301751744"
     },
     "execution_count": 46,
     "metadata": {},
     "output_type": "execute_result"
    }
   ],
   "source": [
    "res = (train_pred-y_train)[:, :, 0, 0].ravel()\n",
    "res.mean()"
   ],
   "metadata": {
    "collapsed": false,
    "pycharm": {
     "name": "#%%\n"
    }
   }
  },
  {
   "cell_type": "code",
   "execution_count": 47,
   "outputs": [
    {
     "name": "stdout",
     "output_type": "stream",
     "text": [
      "Training MRE: 134.70\n",
      "Validation MRE: 138.34\n",
      "Test MRE: 166.91\n"
     ]
    }
   ],
   "source": [
    "daytimeworkingdaymedian_reg = DaytimeRegressor(\"median\", by_working_day=True)\n",
    "daytimeworkingdaymedian_reg.fit(x_train[:, :, :, [0, 1, 2]], y_train)\n",
    "train_pred = daytimeworkingdaymedian_reg.predict(x_train)\n",
    "valid_pred = daytimeworkingdaymedian_reg.predict(x_valid)\n",
    "test_pred = daytimeworkingdaymedian_reg.predict(x_test)\n",
    "print(f\"Training MRE: {np.abs(train_pred - y_train).mean():.2f}\")\n",
    "print(f\"Validation MRE: {np.abs(valid_pred - y_valid).mean():.2f}\")\n",
    "print(f\"Test MRE: {np.abs(test_pred - y_test).mean():.2f}\")"
   ],
   "metadata": {
    "collapsed": false,
    "pycharm": {
     "name": "#%%\n"
    }
   }
  },
  {
   "cell_type": "code",
   "execution_count": 48,
   "outputs": [
    {
     "data": {
      "text/plain": "-94.96779643058956"
     },
     "execution_count": 48,
     "metadata": {},
     "output_type": "execute_result"
    }
   ],
   "source": [
    "res = (train_pred-y_train)[:, :, 0, 0].ravel()\n",
    "res.mean()"
   ],
   "metadata": {
    "collapsed": false,
    "pycharm": {
     "name": "#%%\n"
    }
   }
  },
  {
   "cell_type": "markdown",
   "source": [
    "# 7. Drift regressor"
   ],
   "metadata": {
    "collapsed": false,
    "pycharm": {
     "name": "#%% md\n"
    }
   }
  },
  {
   "cell_type": "code",
   "execution_count": 50,
   "outputs": [
    {
     "name": "stdout",
     "output_type": "stream",
     "text": [
      "Training MRE: 78.15\n",
      "Validation MRE: 82.71\n",
      "Test MRE: 82.03\n"
     ]
    }
   ],
   "source": [
    "drift_reg = DriftRegressor()\n",
    "drift_reg.fit(x_train, y_train)\n",
    "train_pred = drift_reg.predict(x_train)\n",
    "valid_pred = drift_reg.predict(x_valid)\n",
    "test_pred = drift_reg.predict(x_test)\n",
    "print(f\"Training MRE: {np.abs(train_pred - y_train).mean():.2f}\")\n",
    "print(f\"Validation MRE: {np.abs(valid_pred - y_valid).mean():.2f}\")\n",
    "print(f\"Test MRE: {np.abs(test_pred - y_test).mean():.2f}\")"
   ],
   "metadata": {
    "collapsed": false,
    "pycharm": {
     "name": "#%%\n"
    }
   }
  },
  {
   "cell_type": "code",
   "execution_count": 51,
   "outputs": [
    {
     "data": {
      "text/plain": "0.856373022226408"
     },
     "execution_count": 51,
     "metadata": {},
     "output_type": "execute_result"
    }
   ],
   "source": [
    "res = (train_pred-y_train)[:, :, 0, 0].ravel()\n",
    "res.mean()"
   ],
   "metadata": {
    "collapsed": false,
    "pycharm": {
     "name": "#%%\n"
    }
   }
  },
  {
   "cell_type": "code",
   "execution_count": 52,
   "outputs": [],
   "source": [
    "from statsmodels.stats.diagnostic import acorr_ljungbox"
   ],
   "metadata": {
    "collapsed": false,
    "pycharm": {
     "name": "#%%\n"
    }
   }
  },
  {
   "cell_type": "code",
   "execution_count": 54,
   "outputs": [
    {
     "data": {
      "text/plain": "         lb_stat  lb_pvalue\n1   38331.365109        0.0\n2   61634.589144        0.0\n3   87264.089048        0.0\n4  105711.441395        0.0\n5  112263.177690        0.0",
      "text/html": "<div>\n<style scoped>\n    .dataframe tbody tr th:only-of-type {\n        vertical-align: middle;\n    }\n\n    .dataframe tbody tr th {\n        vertical-align: top;\n    }\n\n    .dataframe thead th {\n        text-align: right;\n    }\n</style>\n<table border=\"1\" class=\"dataframe\">\n  <thead>\n    <tr style=\"text-align: right;\">\n      <th></th>\n      <th>lb_stat</th>\n      <th>lb_pvalue</th>\n    </tr>\n  </thead>\n  <tbody>\n    <tr>\n      <th>1</th>\n      <td>38331.365109</td>\n      <td>0.0</td>\n    </tr>\n    <tr>\n      <th>2</th>\n      <td>61634.589144</td>\n      <td>0.0</td>\n    </tr>\n    <tr>\n      <th>3</th>\n      <td>87264.089048</td>\n      <td>0.0</td>\n    </tr>\n    <tr>\n      <th>4</th>\n      <td>105711.441395</td>\n      <td>0.0</td>\n    </tr>\n    <tr>\n      <th>5</th>\n      <td>112263.177690</td>\n      <td>0.0</td>\n    </tr>\n  </tbody>\n</table>\n</div>"
     },
     "execution_count": 54,
     "metadata": {},
     "output_type": "execute_result"
    }
   ],
   "source": [
    "acorr_ljungbox(res, lags=5)"
   ],
   "metadata": {
    "collapsed": false,
    "pycharm": {
     "name": "#%%\n"
    }
   }
  },
  {
   "cell_type": "code",
   "execution_count": 56,
   "outputs": [
    {
     "data": {
      "text/plain": "          lb_stat  lb_pvalue\n1    38331.365109        0.0\n2    61634.589144        0.0\n3    87264.089048        0.0\n4   105711.441395        0.0\n5   112263.177690        0.0\n6   116983.880889        0.0\n7   118493.435964        0.0\n8   120959.158414        0.0\n9   121208.738282        0.0\n10  121724.623876        0.0",
      "text/html": "<div>\n<style scoped>\n    .dataframe tbody tr th:only-of-type {\n        vertical-align: middle;\n    }\n\n    .dataframe tbody tr th {\n        vertical-align: top;\n    }\n\n    .dataframe thead th {\n        text-align: right;\n    }\n</style>\n<table border=\"1\" class=\"dataframe\">\n  <thead>\n    <tr style=\"text-align: right;\">\n      <th></th>\n      <th>lb_stat</th>\n      <th>lb_pvalue</th>\n    </tr>\n  </thead>\n  <tbody>\n    <tr>\n      <th>1</th>\n      <td>38331.365109</td>\n      <td>0.0</td>\n    </tr>\n    <tr>\n      <th>2</th>\n      <td>61634.589144</td>\n      <td>0.0</td>\n    </tr>\n    <tr>\n      <th>3</th>\n      <td>87264.089048</td>\n      <td>0.0</td>\n    </tr>\n    <tr>\n      <th>4</th>\n      <td>105711.441395</td>\n      <td>0.0</td>\n    </tr>\n    <tr>\n      <th>5</th>\n      <td>112263.177690</td>\n      <td>0.0</td>\n    </tr>\n    <tr>\n      <th>6</th>\n      <td>116983.880889</td>\n      <td>0.0</td>\n    </tr>\n    <tr>\n      <th>7</th>\n      <td>118493.435964</td>\n      <td>0.0</td>\n    </tr>\n    <tr>\n      <th>8</th>\n      <td>120959.158414</td>\n      <td>0.0</td>\n    </tr>\n    <tr>\n      <th>9</th>\n      <td>121208.738282</td>\n      <td>0.0</td>\n    </tr>\n    <tr>\n      <th>10</th>\n      <td>121724.623876</td>\n      <td>0.0</td>\n    </tr>\n  </tbody>\n</table>\n</div>"
     },
     "execution_count": 56,
     "metadata": {},
     "output_type": "execute_result"
    }
   ],
   "source": [
    "acorr_ljungbox(res, lags=10)"
   ],
   "metadata": {
    "collapsed": false,
    "pycharm": {
     "name": "#%%\n"
    }
   }
  },
  {
   "cell_type": "code",
   "execution_count": null,
   "outputs": [],
   "source": [],
   "metadata": {
    "collapsed": false,
    "pycharm": {
     "name": "#%%\n"
    }
   }
  }
 ],
 "metadata": {
  "kernelspec": {
   "display_name": "Python 3",
   "language": "python",
   "name": "python3"
  },
  "language_info": {
   "codemirror_mode": {
    "name": "ipython",
    "version": 2
   },
   "file_extension": ".py",
   "mimetype": "text/x-python",
   "name": "python",
   "nbconvert_exporter": "python",
   "pygments_lexer": "ipython2",
   "version": "2.7.6"
  }
 },
 "nbformat": 4,
 "nbformat_minor": 0
}