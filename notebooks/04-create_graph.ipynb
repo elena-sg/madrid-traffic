{
 "cells": [
  {
   "cell_type": "code",
   "execution_count": 1,
   "id": "c89a1eca-6cef-46f6-bb83-5b276b5c2687",
   "metadata": {
    "pycharm": {
     "name": "#%%\n"
    }
   },
   "outputs": [],
   "source": [
    "import pandas as pd\n",
    "import requests\n",
    "import json\n",
    "import numpy as np\n",
    "from math import exp\n",
    "\n",
    "from graph_traffic.config import data_path\n",
    "from graph_traffic.custom_transformer import transform_df\n",
    "\n",
    "path = f\"{data_path}/04-traffic-meteo-merged\"\n",
    "ubs_path = f\"{data_path}/01-raw/traffic/ubs.csv\"\n",
    "dataset_id = 1\n",
    "\n",
    "# transformations in columns\n",
    "rain = \"ordinal\"\n",
    "wind = \"wind_speed\"\n",
    "season = \"ordinal\"\n",
    "month = \"spline\"\n",
    "day_of_month = \"trigonometric\"\n",
    "hour = \"spline\"\n",
    "interactions = None"
   ]
  },
  {
   "cell_type": "markdown",
   "source": [
    "Select which ids we want to have in our model"
   ],
   "metadata": {
    "collapsed": false,
    "pycharm": {
     "name": "#%% md\n"
    }
   }
  },
  {
   "cell_type": "code",
   "execution_count": 2,
   "id": "388c8298-7ff4-4a36-a2ae-3c1a0833e092",
   "metadata": {
    "pycharm": {
     "name": "#%%\n"
    }
   },
   "outputs": [],
   "source": [
    "ids = [3954, 3973, 3976, 3977, 3978]"
   ]
  },
  {
   "cell_type": "markdown",
   "id": "0ead242e-c032-4710-9fa5-4ca58253aa62",
   "metadata": {
    "pycharm": {
     "name": "#%% md\n"
    }
   },
   "source": [
    "# 1. Define the structure of the graph"
   ]
  },
  {
   "cell_type": "code",
   "execution_count": 3,
   "id": "b5a8f0d7-25c4-420d-bc28-b7461c0a8ebe",
   "metadata": {
    "pycharm": {
     "name": "#%%\n"
    }
   },
   "outputs": [
    {
     "data": {
      "text/plain": "      longitud    latitud\nid                       \n3954 -3.678813  40.440254\n3973 -3.678922  40.440663\n3976 -3.680269  40.440019\n3977 -3.679625  40.439718\n3978 -3.679097  40.441216",
      "text/html": "<div>\n<style scoped>\n    .dataframe tbody tr th:only-of-type {\n        vertical-align: middle;\n    }\n\n    .dataframe tbody tr th {\n        vertical-align: top;\n    }\n\n    .dataframe thead th {\n        text-align: right;\n    }\n</style>\n<table border=\"1\" class=\"dataframe\">\n  <thead>\n    <tr style=\"text-align: right;\">\n      <th></th>\n      <th>longitud</th>\n      <th>latitud</th>\n    </tr>\n    <tr>\n      <th>id</th>\n      <th></th>\n      <th></th>\n    </tr>\n  </thead>\n  <tbody>\n    <tr>\n      <th>3954</th>\n      <td>-3.678813</td>\n      <td>40.440254</td>\n    </tr>\n    <tr>\n      <th>3973</th>\n      <td>-3.678922</td>\n      <td>40.440663</td>\n    </tr>\n    <tr>\n      <th>3976</th>\n      <td>-3.680269</td>\n      <td>40.440019</td>\n    </tr>\n    <tr>\n      <th>3977</th>\n      <td>-3.679625</td>\n      <td>40.439718</td>\n    </tr>\n    <tr>\n      <th>3978</th>\n      <td>-3.679097</td>\n      <td>40.441216</td>\n    </tr>\n  </tbody>\n</table>\n</div>"
     },
     "execution_count": 3,
     "metadata": {},
     "output_type": "execute_result"
    }
   ],
   "source": [
    "ubs = pd.read_csv(ubs_path)\n",
    "ubs = ubs[ubs[\"id\"].isin(ids)].set_index(\"id\")\n",
    "ubs"
   ]
  },
  {
   "cell_type": "markdown",
   "source": [
    "Compute the weights of the edges between nodes between nodes"
   ],
   "metadata": {
    "collapsed": false,
    "pycharm": {
     "name": "#%% md\n"
    }
   }
  },
  {
   "cell_type": "code",
   "execution_count": 4,
   "outputs": [
    {
     "data": {
      "text/plain": "target    3954    3973    3976    3977    3978\norigin                                        \n3954    0.0000  0.3536  0.0534  0.0431  0.4494\n3973    0.0000  0.0000  0.0676  0.5666  0.0200\n3976    0.0079  0.0001  0.0000  0.0000  0.0000\n3977    0.0001  0.3488  0.4547  0.0000  0.1758\n3978    0.0001  0.1758  0.5126  0.0047  0.0000",
      "text/html": "<div>\n<style scoped>\n    .dataframe tbody tr th:only-of-type {\n        vertical-align: middle;\n    }\n\n    .dataframe tbody tr th {\n        vertical-align: top;\n    }\n\n    .dataframe thead th {\n        text-align: right;\n    }\n</style>\n<table border=\"1\" class=\"dataframe\">\n  <thead>\n    <tr style=\"text-align: right;\">\n      <th>target</th>\n      <th>3954</th>\n      <th>3973</th>\n      <th>3976</th>\n      <th>3977</th>\n      <th>3978</th>\n    </tr>\n    <tr>\n      <th>origin</th>\n      <th></th>\n      <th></th>\n      <th></th>\n      <th></th>\n      <th></th>\n    </tr>\n  </thead>\n  <tbody>\n    <tr>\n      <th>3954</th>\n      <td>0.0000</td>\n      <td>0.3536</td>\n      <td>0.0534</td>\n      <td>0.0431</td>\n      <td>0.4494</td>\n    </tr>\n    <tr>\n      <th>3973</th>\n      <td>0.0000</td>\n      <td>0.0000</td>\n      <td>0.0676</td>\n      <td>0.5666</td>\n      <td>0.0200</td>\n    </tr>\n    <tr>\n      <th>3976</th>\n      <td>0.0079</td>\n      <td>0.0001</td>\n      <td>0.0000</td>\n      <td>0.0000</td>\n      <td>0.0000</td>\n    </tr>\n    <tr>\n      <th>3977</th>\n      <td>0.0001</td>\n      <td>0.3488</td>\n      <td>0.4547</td>\n      <td>0.0000</td>\n      <td>0.1758</td>\n    </tr>\n    <tr>\n      <th>3978</th>\n      <td>0.0001</td>\n      <td>0.1758</td>\n      <td>0.5126</td>\n      <td>0.0047</td>\n      <td>0.0000</td>\n    </tr>\n  </tbody>\n</table>\n</div>"
     },
     "execution_count": 4,
     "metadata": {},
     "output_type": "execute_result"
    }
   ],
   "source": [
    "distances = pd.DataFrame(index=ubs.index.rename(\"origin\"), columns=ubs.index.rename(\"target\"))\n",
    "for origin in ubs.index.values:\n",
    "    olong = ubs.loc[origin, \"longitud\"]\n",
    "    olat = ubs.loc[origin, \"latitud\"]\n",
    "    d = []\n",
    "    for target in ubs.index.values:\n",
    "        if origin == target:\n",
    "            continue\n",
    "        tlong = ubs.loc[target, \"longitud\"]\n",
    "        tlat = ubs.loc[target, \"latitud\"]\n",
    "        request_path = f\"http://router.project-osrm.org/route/v1/car/{olong},{olat};{tlong},{tlat}?overview=false\"\n",
    "        r = requests.get(request_path)# then you load the response using the json libray\n",
    "        # by default you get only one alternative so you access 0-th element of the `routes`\n",
    "        routes = json.loads(r.content)\n",
    "        route_1 = routes.get(\"routes\")[0]\n",
    "        distances.loc[origin, target] = route_1[\"duration\"]\n",
    "distances = distances.astype(float)\n",
    "\n",
    "# manual manipulation of distances\n",
    "distances.loc[3978, 3973] = 60\n",
    "distances.loc[3973, 3978] = 90\n",
    "distances.loc[3976, 3978] = 150\n",
    "distances.loc[3977, 3978] = 60\n",
    "\n",
    "\n",
    "std = np.nanstd(distances.to_numpy().ravel())\n",
    "def get_weight(distance):\n",
    "    return exp(-distance**2 / std**2)\n",
    "\n",
    "weights = distances.applymap(get_weight).fillna(0).round(4)#.rename(index=ubs_dict, columns=ubs_dict)\n",
    "weights"
   ],
   "metadata": {
    "collapsed": false,
    "pycharm": {
     "name": "#%%\n"
    }
   }
  },
  {
   "cell_type": "code",
   "execution_count": 5,
   "outputs": [
    {
     "data": {
      "text/plain": "target   3954   3973  3976   3977   3978\norigin                                  \n3954      NaN   46.4  77.9   80.7   40.7\n3973    173.2    NaN  74.7   34.3   90.0\n3976    100.1  137.5   NaN  171.8  150.0\n3977    140.5   46.7  40.4    NaN   60.0\n3978    137.3   60.0  37.2  105.3    NaN",
      "text/html": "<div>\n<style scoped>\n    .dataframe tbody tr th:only-of-type {\n        vertical-align: middle;\n    }\n\n    .dataframe tbody tr th {\n        vertical-align: top;\n    }\n\n    .dataframe thead th {\n        text-align: right;\n    }\n</style>\n<table border=\"1\" class=\"dataframe\">\n  <thead>\n    <tr style=\"text-align: right;\">\n      <th>target</th>\n      <th>3954</th>\n      <th>3973</th>\n      <th>3976</th>\n      <th>3977</th>\n      <th>3978</th>\n    </tr>\n    <tr>\n      <th>origin</th>\n      <th></th>\n      <th></th>\n      <th></th>\n      <th></th>\n      <th></th>\n    </tr>\n  </thead>\n  <tbody>\n    <tr>\n      <th>3954</th>\n      <td>NaN</td>\n      <td>46.4</td>\n      <td>77.9</td>\n      <td>80.7</td>\n      <td>40.7</td>\n    </tr>\n    <tr>\n      <th>3973</th>\n      <td>173.2</td>\n      <td>NaN</td>\n      <td>74.7</td>\n      <td>34.3</td>\n      <td>90.0</td>\n    </tr>\n    <tr>\n      <th>3976</th>\n      <td>100.1</td>\n      <td>137.5</td>\n      <td>NaN</td>\n      <td>171.8</td>\n      <td>150.0</td>\n    </tr>\n    <tr>\n      <th>3977</th>\n      <td>140.5</td>\n      <td>46.7</td>\n      <td>40.4</td>\n      <td>NaN</td>\n      <td>60.0</td>\n    </tr>\n    <tr>\n      <th>3978</th>\n      <td>137.3</td>\n      <td>60.0</td>\n      <td>37.2</td>\n      <td>105.3</td>\n      <td>NaN</td>\n    </tr>\n  </tbody>\n</table>\n</div>"
     },
     "execution_count": 5,
     "metadata": {},
     "output_type": "execute_result"
    }
   ],
   "source": [
    "distances"
   ],
   "metadata": {
    "collapsed": false,
    "pycharm": {
     "name": "#%%\n"
    }
   }
  },
  {
   "cell_type": "markdown",
   "source": [
    "The ids in the graph need to start from 0 -> We reindex the ids"
   ],
   "metadata": {
    "collapsed": false,
    "pycharm": {
     "name": "#%% md\n"
    }
   }
  },
  {
   "cell_type": "code",
   "execution_count": 6,
   "id": "5ad21c5c-445e-4667-8e62-4322b738ad00",
   "metadata": {
    "collapsed": true,
    "jupyter": {
     "outputs_hidden": true
    },
    "tags": [],
    "pycharm": {
     "name": "#%%\n"
    }
   },
   "outputs": [
    {
     "data": {
      "text/plain": "{3954: 0, 3973: 1, 3976: 2, 3977: 3, 3978: 4}"
     },
     "execution_count": 6,
     "metadata": {},
     "output_type": "execute_result"
    }
   ],
   "source": [
    "ubs_dict = ubs.reset_index()[[\"id\"]].reset_index().set_index(\"id\").to_dict()[\"index\"]\n",
    "ubs_dict"
   ]
  },
  {
   "cell_type": "code",
   "execution_count": 7,
   "id": "2823913f-2d24-4972-b7e8-bce672d0bba7",
   "metadata": {
    "pycharm": {
     "name": "#%%\n"
    }
   },
   "outputs": [
    {
     "data": {
      "text/plain": "      longitud    latitud  id_graph\nid                                 \n3954 -3.678813  40.440254         0\n3973 -3.678922  40.440663         1\n3976 -3.680269  40.440019         2\n3977 -3.679625  40.439718         3\n3978 -3.679097  40.441216         4",
      "text/html": "<div>\n<style scoped>\n    .dataframe tbody tr th:only-of-type {\n        vertical-align: middle;\n    }\n\n    .dataframe tbody tr th {\n        vertical-align: top;\n    }\n\n    .dataframe thead th {\n        text-align: right;\n    }\n</style>\n<table border=\"1\" class=\"dataframe\">\n  <thead>\n    <tr style=\"text-align: right;\">\n      <th></th>\n      <th>longitud</th>\n      <th>latitud</th>\n      <th>id_graph</th>\n    </tr>\n    <tr>\n      <th>id</th>\n      <th></th>\n      <th></th>\n      <th></th>\n    </tr>\n  </thead>\n  <tbody>\n    <tr>\n      <th>3954</th>\n      <td>-3.678813</td>\n      <td>40.440254</td>\n      <td>0</td>\n    </tr>\n    <tr>\n      <th>3973</th>\n      <td>-3.678922</td>\n      <td>40.440663</td>\n      <td>1</td>\n    </tr>\n    <tr>\n      <th>3976</th>\n      <td>-3.680269</td>\n      <td>40.440019</td>\n      <td>2</td>\n    </tr>\n    <tr>\n      <th>3977</th>\n      <td>-3.679625</td>\n      <td>40.439718</td>\n      <td>3</td>\n    </tr>\n    <tr>\n      <th>3978</th>\n      <td>-3.679097</td>\n      <td>40.441216</td>\n      <td>4</td>\n    </tr>\n  </tbody>\n</table>\n</div>"
     },
     "execution_count": 7,
     "metadata": {},
     "output_type": "execute_result"
    }
   ],
   "source": [
    "ubs[\"id_graph\"] = ubs.index.map(lambda x: ubs_dict[x])\n",
    "ubs"
   ]
  },
  {
   "cell_type": "markdown",
   "source": [
    "Distribution of the weights"
   ],
   "metadata": {
    "collapsed": false,
    "pycharm": {
     "name": "#%% md\n"
    }
   }
  },
  {
   "cell_type": "code",
   "execution_count": 8,
   "outputs": [
    {
     "data": {
      "text/plain": "0.0    0.00000\n0.1    0.00000\n0.2    0.00000\n0.3    0.00002\n0.4    0.00010\n0.5    0.00790\n0.6    0.04722\n0.7    0.15416\n0.8    0.34976\n0.9    0.45258\n1.0    0.56660\ndtype: float64"
     },
     "execution_count": 8,
     "metadata": {},
     "output_type": "execute_result"
    }
   ],
   "source": [
    "pd.Series(weights.values.ravel()).quantile([0.1*x for x in range(11)])"
   ],
   "metadata": {
    "collapsed": false,
    "pycharm": {
     "name": "#%%\n"
    }
   }
  },
  {
   "cell_type": "markdown",
   "source": [
    "Define a threshold for the weights of the edges.\n",
    "List of source/target nodes"
   ],
   "metadata": {
    "collapsed": false,
    "pycharm": {
     "name": "#%% md\n"
    }
   }
  },
  {
   "cell_type": "code",
   "execution_count": 9,
   "id": "89bb25f0-ace5-4199-84dc-edf86f03d582",
   "metadata": {
    "pycharm": {
     "name": "#%%\n"
    }
   },
   "outputs": [
    {
     "data": {
      "text/plain": "origin  target\n3954    3973      0.3536\n        3976      0.0534\n        3977      0.0431\n        3978      0.4494\n3973    3976      0.0676\n        3977      0.5666\n        3978      0.0200\n3977    3973      0.3488\n        3976      0.4547\n        3978      0.1758\n3978    3973      0.1758\n        3976      0.5126\ndtype: float64"
     },
     "execution_count": 9,
     "metadata": {},
     "output_type": "execute_result"
    }
   ],
   "source": [
    "weights_lim = weights[weights>0.01].stack()\n",
    "nodes_src, nodes_target = zip(*weights_lim.index)\n",
    "nodes_src = np.array(nodes_src)\n",
    "nodes_target = np.array(nodes_target)\n",
    "weights_lim"
   ]
  },
  {
   "cell_type": "markdown",
   "source": [
    "Reindex the lists of source/target nodes"
   ],
   "metadata": {
    "collapsed": false,
    "pycharm": {
     "name": "#%% md\n"
    }
   }
  },
  {
   "cell_type": "code",
   "execution_count": 10,
   "outputs": [],
   "source": [
    "nodes_src_graph = np.array([ubs_dict[x] for x in nodes_src])\n",
    "nodes_target_graph = np.array([ubs_dict[x] for x in nodes_target])"
   ],
   "metadata": {
    "collapsed": false,
    "pycharm": {
     "name": "#%%\n"
    }
   }
  },
  {
   "cell_type": "markdown",
   "source": [
    "# 2. Create the DGLDataset"
   ],
   "metadata": {
    "collapsed": false,
    "pycharm": {
     "name": "#%% md\n"
    }
   }
  },
  {
   "cell_type": "code",
   "execution_count": 11,
   "id": "fa66b494-6fba-4c84-8629-6fb2297325c8",
   "metadata": {
    "pycharm": {
     "name": "#%%\n"
    }
   },
   "outputs": [
    {
     "name": "stderr",
     "output_type": "stream",
     "text": [
      "C:\\Users\\Bened\\PycharmProjects\\madrid-traffic\\env\\lib\\site-packages\\tqdm\\auto.py:22: TqdmWarning: IProgress not found. Please update jupyter and ipywidgets. See https://ipywidgets.readthedocs.io/en/stable/user_install.html\n",
      "  from .autonotebook import tqdm as notebook_tqdm\n"
     ]
    },
    {
     "name": "stdout",
     "output_type": "stream",
     "text": [
      "Graph(num_nodes=5, num_edges=12,\n",
      "      ndata_schemes={'train_mask': Scheme(shape=(), dtype=torch.bool), 'val_mask': Scheme(shape=(), dtype=torch.bool), 'test_mask': Scheme(shape=(), dtype=torch.bool)}\n",
      "      edata_schemes={'weight': Scheme(shape=(), dtype=torch.float64)})\n"
     ]
    }
   ],
   "source": [
    "import dgl\n",
    "from dgl.data import DGLDataset\n",
    "import torch\n",
    "import os\n",
    "\n",
    "class MadridTrafficDataset(DGLDataset):\n",
    "    def __init__(self):\n",
    "        super().__init__(name='madrid_traffic')\n",
    "\n",
    "    def process(self):\n",
    "        #nodes_data = ubs\n",
    "        #node_features = torch.from_numpy(nodes_data['longitud'].to_numpy())\n",
    "        #edge_features = weights.values\n",
    "        edges_src = torch.from_numpy(nodes_src_graph)\n",
    "        edges_dst = torch.from_numpy(nodes_target_graph)\n",
    "\n",
    "        self.graph = dgl.graph((edges_src, edges_dst), num_nodes=ubs.shape[0])\n",
    "        #self.graph.ndata['feat'] = node_features\n",
    "        self.graph.edata['weight'] = torch.from_numpy(weights_lim.values)\n",
    "\n",
    "        # If your dataset is a node classification dataset, you will need to assign\n",
    "        # masks indicating whether a node belongs to training, validation, and test set.\n",
    "        n_nodes = ubs.shape[0]\n",
    "        n_train = int(n_nodes * 0.6)\n",
    "        n_val = int(n_nodes * 0.2)\n",
    "        train_mask = torch.zeros(n_nodes, dtype=torch.bool)\n",
    "        val_mask = torch.zeros(n_nodes, dtype=torch.bool)\n",
    "        test_mask = torch.zeros(n_nodes, dtype=torch.bool)\n",
    "        train_mask[:n_train] = True\n",
    "        val_mask[n_train:n_train + n_val] = True\n",
    "        test_mask[n_train + n_val:] = True\n",
    "        self.graph.ndata['train_mask'] = train_mask\n",
    "        self.graph.ndata['val_mask'] = val_mask\n",
    "        self.graph.ndata['test_mask'] = test_mask\n",
    "\n",
    "    def __getitem__(self, i):\n",
    "        return self.graph\n",
    "\n",
    "    def __len__(self):\n",
    "        return 1\n",
    "\n",
    "dataset = MadridTrafficDataset()\n",
    "graph = dataset[0]\n",
    "\n",
    "print(graph)"
   ]
  },
  {
   "cell_type": "code",
   "execution_count": 12,
   "outputs": [
    {
     "data": {
      "text/plain": "{0: 3954, 1: 3973, 2: 3976, 3: 3977, 4: 3978}"
     },
     "execution_count": 12,
     "metadata": {},
     "output_type": "execute_result"
    }
   ],
   "source": [
    "ubs_dict\n",
    "labels_dict = {v: k for (k, v) in ubs_dict.items()}\n",
    "labels_dict"
   ],
   "metadata": {
    "collapsed": false,
    "pycharm": {
     "name": "#%%\n"
    }
   }
  },
  {
   "cell_type": "code",
   "execution_count": 13,
   "outputs": [
    {
     "data": {
      "text/plain": "<Figure size 432x288 with 1 Axes>",
      "image/png": "[encoded data removed]"
     },
     "metadata": {},
     "output_type": "display_data"
    }
   ],
   "source": [
    "import networkx as nx\n",
    "nx_G = graph.to_networkx()\n",
    "# Kamada-Kawaii layout usually looks pretty for arbitrary graphs\n",
    "pos = nx.kamada_kawai_layout(nx_G)\n",
    "nx.draw(nx_G, pos, with_labels=True, labels=labels_dict, width=graph.edata[\"weight\"].numpy()*30, node_size=1500)\n",
    "#labels = nx.get_edge_attributes(nx_G,'weight')\n",
    "#nx.draw_networkx_edge_labels(nx_G,pos,edge_labels=labels)"
   ],
   "metadata": {
    "collapsed": false,
    "pycharm": {
     "name": "#%%\n"
    }
   }
  },
  {
   "cell_type": "markdown",
   "source": [
    "Save the graph"
   ],
   "metadata": {
    "collapsed": false,
    "pycharm": {
     "name": "#%% md\n"
    }
   }
  },
  {
   "cell_type": "code",
   "execution_count": 14,
   "id": "adbf176a-040c-4aae-a470-5942a1055a4a",
   "metadata": {
    "pycharm": {
     "name": "#%%\n"
    }
   },
   "outputs": [],
   "source": [
    "dgl.save_graphs(f\"{data_path}/05-graph-data/{dataset_id:03d}-dataset/graph.bin\", [graph])"
   ]
  },
  {
   "cell_type": "markdown",
   "source": [
    "# 3. Create the array data"
   ],
   "metadata": {
    "collapsed": false,
    "pycharm": {
     "name": "#%% md\n"
    }
   }
  },
  {
   "cell_type": "code",
   "execution_count": 15,
   "outputs": [],
   "source": [
    "data = {}\n",
    "\n",
    "for i in ids:\n",
    "    df = pd.read_csv(f\"{path}/{i}.csv\", parse_dates=[\"fecha\"])\n",
    "    data[i] = transform_df(df, rain, wind, season, month, day_of_month, hour, interactions)\n",
    "n_rows = data[i].shape[0]\n",
    "n_features = data[i].shape[1]\n",
    "seq_len = 12"
   ],
   "metadata": {
    "collapsed": false,
    "pycharm": {
     "name": "#%%\n"
    }
   }
  },
  {
   "cell_type": "code",
   "execution_count": 16,
   "outputs": [
    {
     "data": {
      "text/plain": "(70081, 12, 5, 37)"
     },
     "execution_count": 16,
     "metadata": {},
     "output_type": "execute_result"
    }
   ],
   "source": [
    "arrx = np.full((n_rows, seq_len, len(ids), n_features), np.nan)\n",
    "for sensor, df in data.items():\n",
    "    graph_id = ubs_dict[sensor]\n",
    "    dfi = pd.DataFrame(df)\n",
    "    for period in range(seq_len):\n",
    "        arrx[:, period, graph_id, :] = dfi.shift(-period).values\n",
    "arrx.shape"
   ],
   "metadata": {
    "collapsed": false,
    "pycharm": {
     "name": "#%%\n"
    }
   }
  },
  {
   "cell_type": "code",
   "execution_count": 17,
   "outputs": [
    {
     "data": {
      "text/plain": "array([[67., nan, nan, ...,  1.,  0.,  1.],\n       [25., nan, nan, ...,  1.,  0.,  1.],\n       [85., nan, nan, ...,  1.,  0.,  1.],\n       ...,\n       [nan, nan, nan, ...,  0.,  1.,  1.],\n       [nan, nan, nan, ...,  0.,  1.,  1.],\n       [nan, nan, nan, ...,  0.,  1.,  1.]])"
     },
     "execution_count": 17,
     "metadata": {},
     "output_type": "execute_result"
    }
   ],
   "source": [
    "arrx[:, 0, 0, :]"
   ],
   "metadata": {
    "collapsed": false,
    "pycharm": {
     "name": "#%%\n"
    }
   }
  },
  {
   "cell_type": "code",
   "execution_count": 18,
   "outputs": [
    {
     "data": {
      "text/plain": "array([[ 25.,  nan,  nan, ...,   1.,   0.,   1.],\n       [ 85.,  nan,  nan, ...,   1.,   0.,   1.],\n       [172.,  nan,  nan, ...,   1.,   0.,   1.],\n       ...,\n       [ nan,  nan,  nan, ...,   0.,   1.,   1.],\n       [ nan,  nan,  nan, ...,   0.,   1.,   1.],\n       [ nan,  nan,  nan, ...,  nan,  nan,  nan]])"
     },
     "execution_count": 18,
     "metadata": {},
     "output_type": "execute_result"
    }
   ],
   "source": [
    "arrx[:, 1, 0, :]"
   ],
   "metadata": {
    "collapsed": false,
    "pycharm": {
     "name": "#%%\n"
    }
   }
  },
  {
   "cell_type": "code",
   "execution_count": 19,
   "id": "75b0df65-cdb7-4e1f-85df-c994b0c77634",
   "metadata": {
    "tags": [],
    "pycharm": {
     "name": "#%%\n"
    }
   },
   "outputs": [
    {
     "data": {
      "text/plain": "(70069, 12, 5, 37)"
     },
     "execution_count": 19,
     "metadata": {},
     "output_type": "execute_result"
    }
   ],
   "source": [
    "arrx = arrx[:-seq_len]\n",
    "arrx.shape"
   ]
  },
  {
   "cell_type": "code",
   "execution_count": 20,
   "id": "05247281-aef5-4575-8fb8-8fc1e3345275",
   "metadata": {
    "tags": [],
    "pycharm": {
     "name": "#%%\n"
    }
   },
   "outputs": [
    {
     "data": {
      "text/plain": "(70057, 12, 5, 37)"
     },
     "execution_count": 20,
     "metadata": {},
     "output_type": "execute_result"
    }
   ],
   "source": [
    "arry = arrx[seq_len:, :, :, :]\n",
    "arry.shape"
   ]
  },
  {
   "cell_type": "code",
   "execution_count": 21,
   "id": "d418ce03-5863-4489-9fa0-dba42fa017d0",
   "metadata": {
    "tags": [],
    "pycharm": {
     "name": "#%%\n"
    }
   },
   "outputs": [
    {
     "data": {
      "text/plain": "(70057, 12, 5, 37)"
     },
     "execution_count": 21,
     "metadata": {},
     "output_type": "execute_result"
    }
   ],
   "source": [
    "arrx = arrx[:-seq_len]\n",
    "arrx.shape"
   ]
  },
  {
   "cell_type": "code",
   "execution_count": 22,
   "id": "581da5db-82bb-4f60-8075-41fdc308a6a1",
   "metadata": {
    "pycharm": {
     "name": "#%%\n"
    }
   },
   "outputs": [
    {
     "data": {
      "text/plain": "70057"
     },
     "execution_count": 22,
     "metadata": {},
     "output_type": "execute_result"
    }
   ],
   "source": [
    "data_size = len(arrx)\n",
    "data_size"
   ]
  },
  {
   "cell_type": "code",
   "execution_count": 23,
   "id": "4800937e-776e-46b0-8939-bd0a9540a44d",
   "metadata": {
    "pycharm": {
     "name": "#%%\n"
    }
   },
   "outputs": [
    {
     "data": {
      "text/plain": "656.784375"
     },
     "execution_count": 23,
     "metadata": {},
     "output_type": "execute_result"
    }
   ],
   "source": [
    "0.6*data_size / 64"
   ]
  },
  {
   "cell_type": "code",
   "execution_count": 24,
   "id": "f50f9fda-f1d8-43ec-b0be-65ba54d170b0",
   "metadata": {
    "pycharm": {
     "name": "#%%\n"
    }
   },
   "outputs": [],
   "source": [
    "np.savez(f\"{data_path}/05-graph-data/{dataset_id:03d}-dataset/dataset.npz\", x=arrx, y=arry)\n",
    "np.savez(f\"{data_path}/05-graph-data/{dataset_id:03d}-dataset/train.npz\", x=arrx[:int(0.6 * data_size)], y=arry[:int(0.6 * data_size)])\n",
    "np.savez(f\"{data_path}/05-graph-data/{dataset_id:03d}-dataset/val.npz\", x=arrx[int(0.6 * data_size):int(0.8 * data_size)], y=arry[int(0.6 * data_size):int(0.8 * data_size)])\n",
    "np.savez(f\"{data_path}/05-graph-data/{dataset_id:03d}-dataset/test.npz\", x=arrx[int(0.8 * data_size):], y=arry[int(0.8 * data_size):])"
   ]
  },
  {
   "cell_type": "code",
   "execution_count": 25,
   "id": "7ac73bfd-61ea-4495-8055-3ac17b014039",
   "metadata": {
    "pycharm": {
     "name": "#%%\n"
    }
   },
   "outputs": [
    {
     "data": {
      "text/plain": "4539801"
     },
     "execution_count": 25,
     "metadata": {},
     "output_type": "execute_result"
    }
   ],
   "source": [
    "np.count_nonzero(np.isnan(arrx))"
   ]
  },
  {
   "cell_type": "code",
   "execution_count": 26,
   "id": "a33492fe-feea-41ec-b21a-0c7abd7cc4c3",
   "metadata": {
    "pycharm": {
     "name": "#%%\n"
    }
   },
   "outputs": [
    {
     "data": {
      "text/plain": "4540500"
     },
     "execution_count": 26,
     "metadata": {},
     "output_type": "execute_result"
    }
   ],
   "source": [
    "np.count_nonzero(np.isnan(arry))"
   ]
  },
  {
   "cell_type": "code",
   "execution_count": 28,
   "id": "81d60555-b90a-4bfc-b71b-4c9ebc9d609f",
   "metadata": {
    "pycharm": {
     "name": "#%%\n"
    }
   },
   "outputs": [
    {
     "data": {
      "text/plain": "155526540"
     },
     "execution_count": 28,
     "metadata": {},
     "output_type": "execute_result"
    }
   ],
   "source": [
    "arrx.size"
   ]
  },
  {
   "cell_type": "code",
   "execution_count": 29,
   "id": "58414a1e-b45b-4fe3-80e7-9b5bf2fc96e5",
   "metadata": {
    "pycharm": {
     "name": "#%%\n"
    }
   },
   "outputs": [
    {
     "data": {
      "text/plain": "array([[[[6.70000000e+01,            nan,            nan, ...,\n          1.00000000e+00, 0.00000000e+00, 1.00000000e+00],\n         [2.00000000e+01,            nan,            nan, ...,\n          1.00000000e+00, 0.00000000e+00, 1.00000000e+00],\n         [4.00000000e+01,            nan,            nan, ...,\n          1.00000000e+00, 0.00000000e+00, 1.00000000e+00],\n         [7.50000000e+01,            nan,            nan, ...,\n          1.00000000e+00, 0.00000000e+00, 1.00000000e+00],\n         [8.30000000e+01,            nan,            nan, ...,\n          1.00000000e+00, 0.00000000e+00, 1.00000000e+00]],\n\n        [[2.50000000e+01,            nan,            nan, ...,\n          1.00000000e+00, 0.00000000e+00, 1.00000000e+00],\n         [           nan,            nan,            nan, ...,\n          1.00000000e+00, 0.00000000e+00, 1.00000000e+00],\n         [           nan,            nan,            nan, ...,\n          1.00000000e+00, 0.00000000e+00, 1.00000000e+00],\n         [5.30000000e+01,            nan,            nan, ...,\n          1.00000000e+00, 0.00000000e+00, 1.00000000e+00],\n         [2.30000000e+01,            nan,            nan, ...,\n          1.00000000e+00, 0.00000000e+00, 1.00000000e+00]],\n\n        [[8.50000000e+01,            nan,            nan, ...,\n          1.00000000e+00, 0.00000000e+00, 1.00000000e+00],\n         [2.70000000e+01,            nan,            nan, ...,\n          1.00000000e+00, 0.00000000e+00, 1.00000000e+00],\n         [6.00000000e+01,            nan,            nan, ...,\n          1.00000000e+00, 0.00000000e+00, 1.00000000e+00],\n         [1.84000000e+02,            nan,            nan, ...,\n          1.00000000e+00, 0.00000000e+00, 1.00000000e+00],\n         [1.36000000e+02,            nan,            nan, ...,\n          1.00000000e+00, 0.00000000e+00, 1.00000000e+00]],\n\n        ...,\n\n        [[5.23000000e+02, 8.17500000e+00, 4.30000000e+01, ...,\n          1.00000000e+00, 0.00000000e+00, 1.00000000e+00],\n         [1.87000000e+02, 8.17500000e+00, 4.30000000e+01, ...,\n          1.00000000e+00, 0.00000000e+00, 1.00000000e+00],\n         [2.81000000e+02, 8.17500000e+00, 4.30000000e+01, ...,\n          1.00000000e+00, 0.00000000e+00, 1.00000000e+00],\n         [6.30000000e+02, 8.17500000e+00, 4.30000000e+01, ...,\n          1.00000000e+00, 0.00000000e+00, 1.00000000e+00],\n         [4.59000000e+02, 8.17500000e+00, 4.30000000e+01, ...,\n          1.00000000e+00, 0.00000000e+00, 1.00000000e+00]],\n\n        [[4.27000000e+02, 8.15000000e+00, 4.30000000e+01, ...,\n          1.00000000e+00, 0.00000000e+00, 1.00000000e+00],\n         [1.97000000e+02, 8.15000000e+00, 4.30000000e+01, ...,\n          1.00000000e+00, 0.00000000e+00, 1.00000000e+00],\n         [2.23000000e+02, 8.15000000e+00, 4.30000000e+01, ...,\n          1.00000000e+00, 0.00000000e+00, 1.00000000e+00],\n         [4.67000000e+02, 8.15000000e+00, 4.30000000e+01, ...,\n          1.00000000e+00, 0.00000000e+00, 1.00000000e+00],\n         [3.06000000e+02, 8.15000000e+00, 4.30000000e+01, ...,\n          1.00000000e+00, 0.00000000e+00, 1.00000000e+00]],\n\n        [[3.04000000e+02, 8.12500000e+00, 4.30000000e+01, ...,\n          1.00000000e+00, 0.00000000e+00, 1.00000000e+00],\n         [1.03000000e+02, 8.12500000e+00, 4.30000000e+01, ...,\n          1.00000000e+00, 0.00000000e+00, 1.00000000e+00],\n         [1.73000000e+02, 8.12500000e+00, 4.30000000e+01, ...,\n          1.00000000e+00, 0.00000000e+00, 1.00000000e+00],\n         [4.48000000e+02, 8.12500000e+00, 4.30000000e+01, ...,\n          1.00000000e+00, 0.00000000e+00, 1.00000000e+00],\n         [3.04000000e+02, 8.12500000e+00, 4.30000000e+01, ...,\n          1.00000000e+00, 0.00000000e+00, 1.00000000e+00]]],\n\n\n       [[[2.50000000e+01,            nan,            nan, ...,\n          1.00000000e+00, 0.00000000e+00, 1.00000000e+00],\n         [           nan,            nan,            nan, ...,\n          1.00000000e+00, 0.00000000e+00, 1.00000000e+00],\n         [           nan,            nan,            nan, ...,\n          1.00000000e+00, 0.00000000e+00, 1.00000000e+00],\n         [5.30000000e+01,            nan,            nan, ...,\n          1.00000000e+00, 0.00000000e+00, 1.00000000e+00],\n         [2.30000000e+01,            nan,            nan, ...,\n          1.00000000e+00, 0.00000000e+00, 1.00000000e+00]],\n\n        [[8.50000000e+01,            nan,            nan, ...,\n          1.00000000e+00, 0.00000000e+00, 1.00000000e+00],\n         [2.70000000e+01,            nan,            nan, ...,\n          1.00000000e+00, 0.00000000e+00, 1.00000000e+00],\n         [6.00000000e+01,            nan,            nan, ...,\n          1.00000000e+00, 0.00000000e+00, 1.00000000e+00],\n         [1.84000000e+02,            nan,            nan, ...,\n          1.00000000e+00, 0.00000000e+00, 1.00000000e+00],\n         [1.36000000e+02,            nan,            nan, ...,\n          1.00000000e+00, 0.00000000e+00, 1.00000000e+00]],\n\n        [[1.72000000e+02,            nan,            nan, ...,\n          1.00000000e+00, 0.00000000e+00, 1.00000000e+00],\n         [5.70000000e+01,            nan,            nan, ...,\n          1.00000000e+00, 0.00000000e+00, 1.00000000e+00],\n         [7.40000000e+01,            nan,            nan, ...,\n          1.00000000e+00, 0.00000000e+00, 1.00000000e+00],\n         [4.15000000e+02,            nan,            nan, ...,\n          1.00000000e+00, 0.00000000e+00, 1.00000000e+00],\n         [2.06000000e+02,            nan,            nan, ...,\n          1.00000000e+00, 0.00000000e+00, 1.00000000e+00]],\n\n        ...,\n\n        [[4.27000000e+02, 8.15000000e+00, 4.30000000e+01, ...,\n          1.00000000e+00, 0.00000000e+00, 1.00000000e+00],\n         [1.97000000e+02, 8.15000000e+00, 4.30000000e+01, ...,\n          1.00000000e+00, 0.00000000e+00, 1.00000000e+00],\n         [2.23000000e+02, 8.15000000e+00, 4.30000000e+01, ...,\n          1.00000000e+00, 0.00000000e+00, 1.00000000e+00],\n         [4.67000000e+02, 8.15000000e+00, 4.30000000e+01, ...,\n          1.00000000e+00, 0.00000000e+00, 1.00000000e+00],\n         [3.06000000e+02, 8.15000000e+00, 4.30000000e+01, ...,\n          1.00000000e+00, 0.00000000e+00, 1.00000000e+00]],\n\n        [[3.04000000e+02, 8.12500000e+00, 4.30000000e+01, ...,\n          1.00000000e+00, 0.00000000e+00, 1.00000000e+00],\n         [1.03000000e+02, 8.12500000e+00, 4.30000000e+01, ...,\n          1.00000000e+00, 0.00000000e+00, 1.00000000e+00],\n         [1.73000000e+02, 8.12500000e+00, 4.30000000e+01, ...,\n          1.00000000e+00, 0.00000000e+00, 1.00000000e+00],\n         [4.48000000e+02, 8.12500000e+00, 4.30000000e+01, ...,\n          1.00000000e+00, 0.00000000e+00, 1.00000000e+00],\n         [3.04000000e+02, 8.12500000e+00, 4.30000000e+01, ...,\n          1.00000000e+00, 0.00000000e+00, 1.00000000e+00]],\n\n        [[2.45000000e+02, 8.10000000e+00, 4.30000000e+01, ...,\n          1.00000000e+00, 0.00000000e+00, 1.00000000e+00],\n         [7.30000000e+01, 8.10000000e+00, 4.30000000e+01, ...,\n          1.00000000e+00, 0.00000000e+00, 1.00000000e+00],\n         [1.35000000e+02, 8.10000000e+00, 4.30000000e+01, ...,\n          1.00000000e+00, 0.00000000e+00, 1.00000000e+00],\n         [3.41000000e+02, 8.10000000e+00, 4.30000000e+01, ...,\n          1.00000000e+00, 0.00000000e+00, 1.00000000e+00],\n         [2.67000000e+02, 8.10000000e+00, 4.30000000e+01, ...,\n          1.00000000e+00, 0.00000000e+00, 1.00000000e+00]]],\n\n\n       [[[8.50000000e+01,            nan,            nan, ...,\n          1.00000000e+00, 0.00000000e+00, 1.00000000e+00],\n         [2.70000000e+01,            nan,            nan, ...,\n          1.00000000e+00, 0.00000000e+00, 1.00000000e+00],\n         [6.00000000e+01,            nan,            nan, ...,\n          1.00000000e+00, 0.00000000e+00, 1.00000000e+00],\n         [1.84000000e+02,            nan,            nan, ...,\n          1.00000000e+00, 0.00000000e+00, 1.00000000e+00],\n         [1.36000000e+02,            nan,            nan, ...,\n          1.00000000e+00, 0.00000000e+00, 1.00000000e+00]],\n\n        [[1.72000000e+02,            nan,            nan, ...,\n          1.00000000e+00, 0.00000000e+00, 1.00000000e+00],\n         [5.70000000e+01,            nan,            nan, ...,\n          1.00000000e+00, 0.00000000e+00, 1.00000000e+00],\n         [7.40000000e+01,            nan,            nan, ...,\n          1.00000000e+00, 0.00000000e+00, 1.00000000e+00],\n         [4.15000000e+02,            nan,            nan, ...,\n          1.00000000e+00, 0.00000000e+00, 1.00000000e+00],\n         [2.06000000e+02,            nan,            nan, ...,\n          1.00000000e+00, 0.00000000e+00, 1.00000000e+00]],\n\n        [[3.34000000e+02, 8.90000000e+00, 4.20000000e+01, ...,\n          1.00000000e+00, 0.00000000e+00, 1.00000000e+00],\n         [1.06000000e+02, 8.90000000e+00, 4.20000000e+01, ...,\n          1.00000000e+00, 0.00000000e+00, 1.00000000e+00],\n         [1.47000000e+02, 8.90000000e+00, 4.20000000e+01, ...,\n          1.00000000e+00, 0.00000000e+00, 1.00000000e+00],\n         [5.75000000e+02, 8.90000000e+00, 4.20000000e+01, ...,\n          1.00000000e+00, 0.00000000e+00, 1.00000000e+00],\n         [2.96000000e+02, 8.90000000e+00, 4.20000000e+01, ...,\n          1.00000000e+00, 0.00000000e+00, 1.00000000e+00]],\n\n        ...,\n\n        [[3.04000000e+02, 8.12500000e+00, 4.30000000e+01, ...,\n          1.00000000e+00, 0.00000000e+00, 1.00000000e+00],\n         [1.03000000e+02, 8.12500000e+00, 4.30000000e+01, ...,\n          1.00000000e+00, 0.00000000e+00, 1.00000000e+00],\n         [1.73000000e+02, 8.12500000e+00, 4.30000000e+01, ...,\n          1.00000000e+00, 0.00000000e+00, 1.00000000e+00],\n         [4.48000000e+02, 8.12500000e+00, 4.30000000e+01, ...,\n          1.00000000e+00, 0.00000000e+00, 1.00000000e+00],\n         [3.04000000e+02, 8.12500000e+00, 4.30000000e+01, ...,\n          1.00000000e+00, 0.00000000e+00, 1.00000000e+00]],\n\n        [[2.45000000e+02, 8.10000000e+00, 4.30000000e+01, ...,\n          1.00000000e+00, 0.00000000e+00, 1.00000000e+00],\n         [7.30000000e+01, 8.10000000e+00, 4.30000000e+01, ...,\n          1.00000000e+00, 0.00000000e+00, 1.00000000e+00],\n         [1.35000000e+02, 8.10000000e+00, 4.30000000e+01, ...,\n          1.00000000e+00, 0.00000000e+00, 1.00000000e+00],\n         [3.41000000e+02, 8.10000000e+00, 4.30000000e+01, ...,\n          1.00000000e+00, 0.00000000e+00, 1.00000000e+00],\n         [2.67000000e+02, 8.10000000e+00, 4.30000000e+01, ...,\n          1.00000000e+00, 0.00000000e+00, 1.00000000e+00]],\n\n        [[1.87000000e+02, 8.02500000e+00, 4.30000000e+01, ...,\n          1.00000000e+00, 0.00000000e+00, 1.00000000e+00],\n         [6.30000000e+01, 8.02500000e+00, 4.30000000e+01, ...,\n          1.00000000e+00, 0.00000000e+00, 1.00000000e+00],\n         [1.18000000e+02, 8.02500000e+00, 4.30000000e+01, ...,\n          1.00000000e+00, 0.00000000e+00, 1.00000000e+00],\n         [3.23000000e+02, 8.02500000e+00, 4.30000000e+01, ...,\n          1.00000000e+00, 0.00000000e+00, 1.00000000e+00],\n         [1.75000000e+02, 8.02500000e+00, 4.30000000e+01, ...,\n          1.00000000e+00, 0.00000000e+00, 1.00000000e+00]]],\n\n\n       ...,\n\n\n       [[[           nan,            nan,            nan, ...,\n          0.00000000e+00, 1.00000000e+00, 1.00000000e+00],\n         [6.33000000e+02, 7.85000000e+00, 4.70000000e+01, ...,\n          0.00000000e+00, 1.00000000e+00, 1.00000000e+00],\n         [6.70000000e+02, 7.85000000e+00, 4.70000000e+01, ...,\n          0.00000000e+00, 1.00000000e+00, 1.00000000e+00],\n         [1.01200000e+03, 7.85000000e+00, 4.70000000e+01, ...,\n          0.00000000e+00, 1.00000000e+00, 1.00000000e+00],\n         [4.71000000e+02, 7.85000000e+00, 4.70000000e+01, ...,\n          0.00000000e+00, 1.00000000e+00, 1.00000000e+00]],\n\n        [[           nan,            nan,            nan, ...,\n          0.00000000e+00, 1.00000000e+00, 1.00000000e+00],\n         [6.02000000e+02, 7.67500000e+00, 4.75000000e+01, ...,\n          0.00000000e+00, 1.00000000e+00, 1.00000000e+00],\n         [6.52000000e+02, 7.67500000e+00, 4.75000000e+01, ...,\n          0.00000000e+00, 1.00000000e+00, 1.00000000e+00],\n         [1.08500000e+03, 7.67500000e+00, 4.75000000e+01, ...,\n          0.00000000e+00, 1.00000000e+00, 1.00000000e+00],\n         [5.09000000e+02, 7.67500000e+00, 4.75000000e+01, ...,\n          0.00000000e+00, 1.00000000e+00, 1.00000000e+00]],\n\n        [[           nan,            nan,            nan, ...,\n          0.00000000e+00, 1.00000000e+00, 1.00000000e+00],\n         [8.00000000e+02, 7.50000000e+00, 4.80000000e+01, ...,\n          0.00000000e+00, 1.00000000e+00, 1.00000000e+00],\n         [7.50000000e+02, 7.50000000e+00, 4.80000000e+01, ...,\n          0.00000000e+00, 1.00000000e+00, 1.00000000e+00],\n         [1.06100000e+03, 7.50000000e+00, 4.80000000e+01, ...,\n          0.00000000e+00, 1.00000000e+00, 1.00000000e+00],\n         [4.69000000e+02, 7.50000000e+00, 4.80000000e+01, ...,\n          0.00000000e+00, 1.00000000e+00, 1.00000000e+00]],\n\n        ...,\n\n        [[           nan,            nan,            nan, ...,\n          0.00000000e+00, 1.00000000e+00, 1.00000000e+00],\n         [5.79000000e+02, 6.82500000e+00, 5.25000000e+01, ...,\n          0.00000000e+00, 1.00000000e+00, 1.00000000e+00],\n         [6.76000000e+02,            nan,            nan, ...,\n          0.00000000e+00, 1.00000000e+00, 1.00000000e+00],\n         [1.06500000e+03, 6.82500000e+00, 5.25000000e+01, ...,\n          0.00000000e+00, 1.00000000e+00, 1.00000000e+00],\n         [3.75000000e+02, 6.82500000e+00, 5.25000000e+01, ...,\n          0.00000000e+00, 1.00000000e+00, 1.00000000e+00]],\n\n        [[           nan,            nan,            nan, ...,\n          0.00000000e+00, 1.00000000e+00, 1.00000000e+00],\n         [5.59000000e+02, 6.80000000e+00, 5.30000000e+01, ...,\n          0.00000000e+00, 1.00000000e+00, 1.00000000e+00],\n         [7.20000000e+02, 6.80000000e+00, 5.30000000e+01, ...,\n          0.00000000e+00, 1.00000000e+00, 1.00000000e+00],\n         [1.10000000e+03, 6.80000000e+00, 5.30000000e+01, ...,\n          0.00000000e+00, 1.00000000e+00, 1.00000000e+00],\n         [4.05000000e+02, 6.80000000e+00, 5.30000000e+01, ...,\n          0.00000000e+00, 1.00000000e+00, 1.00000000e+00]],\n\n        [[           nan,            nan,            nan, ...,\n          0.00000000e+00, 1.00000000e+00, 1.00000000e+00],\n         [5.66000000e+02, 6.67500000e+00, 5.42500000e+01, ...,\n          0.00000000e+00, 1.00000000e+00, 1.00000000e+00],\n         [7.00000000e+02, 6.67500000e+00, 5.42500000e+01, ...,\n          0.00000000e+00, 1.00000000e+00, 1.00000000e+00],\n         [1.01700000e+03, 6.67500000e+00, 5.42500000e+01, ...,\n          0.00000000e+00, 1.00000000e+00, 1.00000000e+00],\n         [3.79000000e+02, 6.67500000e+00, 5.42500000e+01, ...,\n          0.00000000e+00, 1.00000000e+00, 1.00000000e+00]]],\n\n\n       [[[           nan,            nan,            nan, ...,\n          0.00000000e+00, 1.00000000e+00, 1.00000000e+00],\n         [6.02000000e+02, 7.67500000e+00, 4.75000000e+01, ...,\n          0.00000000e+00, 1.00000000e+00, 1.00000000e+00],\n         [6.52000000e+02, 7.67500000e+00, 4.75000000e+01, ...,\n          0.00000000e+00, 1.00000000e+00, 1.00000000e+00],\n         [1.08500000e+03, 7.67500000e+00, 4.75000000e+01, ...,\n          0.00000000e+00, 1.00000000e+00, 1.00000000e+00],\n         [5.09000000e+02, 7.67500000e+00, 4.75000000e+01, ...,\n          0.00000000e+00, 1.00000000e+00, 1.00000000e+00]],\n\n        [[           nan,            nan,            nan, ...,\n          0.00000000e+00, 1.00000000e+00, 1.00000000e+00],\n         [8.00000000e+02, 7.50000000e+00, 4.80000000e+01, ...,\n          0.00000000e+00, 1.00000000e+00, 1.00000000e+00],\n         [7.50000000e+02, 7.50000000e+00, 4.80000000e+01, ...,\n          0.00000000e+00, 1.00000000e+00, 1.00000000e+00],\n         [1.06100000e+03, 7.50000000e+00, 4.80000000e+01, ...,\n          0.00000000e+00, 1.00000000e+00, 1.00000000e+00],\n         [4.69000000e+02, 7.50000000e+00, 4.80000000e+01, ...,\n          0.00000000e+00, 1.00000000e+00, 1.00000000e+00]],\n\n        [[           nan,            nan,            nan, ...,\n          0.00000000e+00, 1.00000000e+00, 1.00000000e+00],\n         [6.87000000e+02, 7.35000000e+00, 4.87500000e+01, ...,\n          0.00000000e+00, 1.00000000e+00, 1.00000000e+00],\n         [7.60000000e+02, 7.40000000e+00, 4.87142857e+01, ...,\n          0.00000000e+00, 1.00000000e+00, 1.00000000e+00],\n         [1.02900000e+03, 7.35000000e+00, 4.87500000e+01, ...,\n          0.00000000e+00, 1.00000000e+00, 1.00000000e+00],\n         [5.39000000e+02, 7.35000000e+00, 4.87500000e+01, ...,\n          0.00000000e+00, 1.00000000e+00, 1.00000000e+00]],\n\n        ...,\n\n        [[           nan,            nan,            nan, ...,\n          0.00000000e+00, 1.00000000e+00, 1.00000000e+00],\n         [5.59000000e+02, 6.80000000e+00, 5.30000000e+01, ...,\n          0.00000000e+00, 1.00000000e+00, 1.00000000e+00],\n         [7.20000000e+02, 6.80000000e+00, 5.30000000e+01, ...,\n          0.00000000e+00, 1.00000000e+00, 1.00000000e+00],\n         [1.10000000e+03, 6.80000000e+00, 5.30000000e+01, ...,\n          0.00000000e+00, 1.00000000e+00, 1.00000000e+00],\n         [4.05000000e+02, 6.80000000e+00, 5.30000000e+01, ...,\n          0.00000000e+00, 1.00000000e+00, 1.00000000e+00]],\n\n        [[           nan,            nan,            nan, ...,\n          0.00000000e+00, 1.00000000e+00, 1.00000000e+00],\n         [5.66000000e+02, 6.67500000e+00, 5.42500000e+01, ...,\n          0.00000000e+00, 1.00000000e+00, 1.00000000e+00],\n         [7.00000000e+02, 6.67500000e+00, 5.42500000e+01, ...,\n          0.00000000e+00, 1.00000000e+00, 1.00000000e+00],\n         [1.01700000e+03, 6.67500000e+00, 5.42500000e+01, ...,\n          0.00000000e+00, 1.00000000e+00, 1.00000000e+00],\n         [3.79000000e+02, 6.67500000e+00, 5.42500000e+01, ...,\n          0.00000000e+00, 1.00000000e+00, 1.00000000e+00]],\n\n        [[           nan,            nan,            nan, ...,\n          0.00000000e+00, 1.00000000e+00, 1.00000000e+00],\n         [5.11000000e+02, 6.55000000e+00, 5.55000000e+01, ...,\n          0.00000000e+00, 1.00000000e+00, 1.00000000e+00],\n         [7.16000000e+02, 6.55000000e+00, 5.55000000e+01, ...,\n          0.00000000e+00, 1.00000000e+00, 1.00000000e+00],\n         [8.75000000e+02, 6.55000000e+00, 5.55000000e+01, ...,\n          0.00000000e+00, 1.00000000e+00, 1.00000000e+00],\n         [3.32000000e+02, 6.55000000e+00, 5.55000000e+01, ...,\n          0.00000000e+00, 1.00000000e+00, 1.00000000e+00]]],\n\n\n       [[[           nan,            nan,            nan, ...,\n          0.00000000e+00, 1.00000000e+00, 1.00000000e+00],\n         [8.00000000e+02, 7.50000000e+00, 4.80000000e+01, ...,\n          0.00000000e+00, 1.00000000e+00, 1.00000000e+00],\n         [7.50000000e+02, 7.50000000e+00, 4.80000000e+01, ...,\n          0.00000000e+00, 1.00000000e+00, 1.00000000e+00],\n         [1.06100000e+03, 7.50000000e+00, 4.80000000e+01, ...,\n          0.00000000e+00, 1.00000000e+00, 1.00000000e+00],\n         [4.69000000e+02, 7.50000000e+00, 4.80000000e+01, ...,\n          0.00000000e+00, 1.00000000e+00, 1.00000000e+00]],\n\n        [[           nan,            nan,            nan, ...,\n          0.00000000e+00, 1.00000000e+00, 1.00000000e+00],\n         [6.87000000e+02, 7.35000000e+00, 4.87500000e+01, ...,\n          0.00000000e+00, 1.00000000e+00, 1.00000000e+00],\n         [7.60000000e+02, 7.40000000e+00, 4.87142857e+01, ...,\n          0.00000000e+00, 1.00000000e+00, 1.00000000e+00],\n         [1.02900000e+03, 7.35000000e+00, 4.87500000e+01, ...,\n          0.00000000e+00, 1.00000000e+00, 1.00000000e+00],\n         [5.39000000e+02, 7.35000000e+00, 4.87500000e+01, ...,\n          0.00000000e+00, 1.00000000e+00, 1.00000000e+00]],\n\n        [[           nan,            nan,            nan, ...,\n          0.00000000e+00, 1.00000000e+00, 1.00000000e+00],\n         [7.32000000e+02, 7.20000000e+00, 4.95000000e+01, ...,\n          0.00000000e+00, 1.00000000e+00, 1.00000000e+00],\n         [6.80000000e+02, 7.30000000e+00, 4.94285714e+01, ...,\n          0.00000000e+00, 1.00000000e+00, 1.00000000e+00],\n         [1.01500000e+03, 7.20000000e+00, 4.95000000e+01, ...,\n          0.00000000e+00, 1.00000000e+00, 1.00000000e+00],\n         [5.93000000e+02, 7.20000000e+00, 4.95000000e+01, ...,\n          0.00000000e+00, 1.00000000e+00, 1.00000000e+00]],\n\n        ...,\n\n        [[           nan,            nan,            nan, ...,\n          0.00000000e+00, 1.00000000e+00, 1.00000000e+00],\n         [5.66000000e+02, 6.67500000e+00, 5.42500000e+01, ...,\n          0.00000000e+00, 1.00000000e+00, 1.00000000e+00],\n         [7.00000000e+02, 6.67500000e+00, 5.42500000e+01, ...,\n          0.00000000e+00, 1.00000000e+00, 1.00000000e+00],\n         [1.01700000e+03, 6.67500000e+00, 5.42500000e+01, ...,\n          0.00000000e+00, 1.00000000e+00, 1.00000000e+00],\n         [3.79000000e+02, 6.67500000e+00, 5.42500000e+01, ...,\n          0.00000000e+00, 1.00000000e+00, 1.00000000e+00]],\n\n        [[           nan,            nan,            nan, ...,\n          0.00000000e+00, 1.00000000e+00, 1.00000000e+00],\n         [5.11000000e+02, 6.55000000e+00, 5.55000000e+01, ...,\n          0.00000000e+00, 1.00000000e+00, 1.00000000e+00],\n         [7.16000000e+02, 6.55000000e+00, 5.55000000e+01, ...,\n          0.00000000e+00, 1.00000000e+00, 1.00000000e+00],\n         [8.75000000e+02, 6.55000000e+00, 5.55000000e+01, ...,\n          0.00000000e+00, 1.00000000e+00, 1.00000000e+00],\n         [3.32000000e+02, 6.55000000e+00, 5.55000000e+01, ...,\n          0.00000000e+00, 1.00000000e+00, 1.00000000e+00]],\n\n        [[           nan,            nan,            nan, ...,\n          0.00000000e+00, 1.00000000e+00, 1.00000000e+00],\n         [5.28000000e+02, 6.42500000e+00, 5.67500000e+01, ...,\n          0.00000000e+00, 1.00000000e+00, 1.00000000e+00],\n         [7.30000000e+02, 6.42500000e+00, 5.67500000e+01, ...,\n          0.00000000e+00, 1.00000000e+00, 1.00000000e+00],\n         [9.11000000e+02, 6.42500000e+00, 5.67500000e+01, ...,\n          0.00000000e+00, 1.00000000e+00, 1.00000000e+00],\n         [4.09000000e+02, 6.42500000e+00, 5.67500000e+01, ...,\n          0.00000000e+00, 1.00000000e+00, 1.00000000e+00]]]])"
     },
     "execution_count": 29,
     "metadata": {},
     "output_type": "execute_result"
    }
   ],
   "source": [
    "arrx"
   ]
  },
  {
   "cell_type": "code",
   "execution_count": 26,
   "id": "70b73120-9a04-491b-bd2f-e773fead5313",
   "metadata": {
    "pycharm": {
     "name": "#%%\n"
    }
   },
   "outputs": [],
   "source": []
  }
 ],
 "metadata": {
  "kernelspec": {
   "display_name": "Python 3 (ipykernel)",
   "language": "python",
   "name": "python3"
  },
  "language_info": {
   "codemirror_mode": {
    "name": "ipython",
    "version": 3
   },
   "file_extension": ".py",
   "mimetype": "text/x-python",
   "name": "python",
   "nbconvert_exporter": "python",
   "pygments_lexer": "ipython3",
   "version": "3.9.12"
  }
 },
 "nbformat": 4,
 "nbformat_minor": 5
}