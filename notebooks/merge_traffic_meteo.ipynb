{
 "cells": [
  {
   "cell_type": "code",
   "execution_count": null,
   "outputs": [
    {
     "name": "stdout",
     "output_type": "stream",
     "text": [
      "3634/4609\r"
     ]
    }
   ],
   "source": [
    "import numpy as np\n",
    "import os\n",
    "import pandas as pd\n",
    "from graph_traffic.custom_funcs import  make_stable_values_null, rows_no_change\n",
    "from graph_traffic.config import data_path\n",
    "\n",
    "traffic_path = os.path.join(data_path, \"03-by-location\", \"traffic\")\n",
    "meteo_path = os.path.join(data_path, \"03-by-location\", \"meteo\")\n",
    "\n",
    "\n",
    "tmagns = ['intensidad', 'ocupacion', 'vmed']\n",
    "mmagns = ['temperatura', 'humedad_relativa', 'presion_barometrica', 'radiacion_solar',\n",
    "          'precipitacion', 'dir_viento', 'velocidad_viento']\n",
    "\n",
    "mapping = pd.read_csv(os.path.join(data_path, '03-by-location', 'id_mapping.csv'))\n",
    "\n",
    "traffic_files = os.listdir(traffic_path)\n",
    "n_traffic_files = len(traffic_files)\n",
    "\n",
    "for i, t_file in enumerate(traffic_files):\n",
    "    print(f\"{i+1}/{n_traffic_files}\", end=\"\\r\")\n",
    "    t_location = t_file.split(\".\")[0]\n",
    "    # id de la estación meteorológica correspondiente a cada magnitud\n",
    "    ids_m = mapping[mapping.id_t == int(t_location)].iloc[0][[f'id_{magn}' for magn in mmagns]].astype(int)\n",
    "\n",
    "    # Leer los datos de tráfico\n",
    "    dft = pd.read_csv(f'{traffic_path}/{t_location}.csv', parse_dates=['fecha'], index_col='fecha')\n",
    "    if dft.empty:\n",
    "        continue\n",
    "    # Para cada estación, leemos los datos necesarios\n",
    "    dfm = {estacion: pd.read_csv(f'{meteo_path}/estacion-{estacion:.0f}.csv', parse_dates=['fecha'], index_col='fecha') for estacion in ids_m.unique()}\n",
    "\n",
    "    # Si hay más de 4 filas sin cambio, damos el valor por nulo\n",
    "    dft[tmagns] = dft[tmagns].apply(make_stable_values_null, nrows=4)\n",
    "    for estacion, dfmi in dfm.items():\n",
    "        nm = dfmi[mmagns].apply(rows_no_change)\n",
    "        for m in mmagns:\n",
    "            if m in ['precipitacion', 'radiacion_solar', 'presion_barometrica']:\n",
    "                continue\n",
    "            dfmi[m] = np.where((nm[m]>4) & (dfmi[m]!=0), np.nan, dfmi[m])\n",
    "        dfm[estacion] = dfmi\n",
    "\n",
    "    # Hacer el merge de todas las variables meteorológicas con el tráfico\n",
    "    df = dft\n",
    "    for m in mmagns:\n",
    "        df = df.merge(dfm[ids_m[f\"id_{m}\"]][[m]],\n",
    "                     left_index=True, right_index=True,\n",
    "                    how='left')\n",
    "\n",
    "    del dft, dfm\n",
    "    df = df.sort_index()\n",
    "    df[mmagns] = df[mmagns].interpolate(method=\"linear\", limit=4)\n",
    "\n",
    "    df.to_csv(f\"{data_path}/04-traffic-meteo-merged/{t_location}.csv\")\n",
    "\n",
    "df.head()"
   ],
   "metadata": {
    "collapsed": false,
    "pycharm": {
     "name": "#%%\n",
     "is_executing": true
    }
   }
  },
  {
   "cell_type": "code",
   "execution_count": 1,
   "outputs": [],
   "source": [
    "from graph_traffic.merge_data import merge_data"
   ],
   "metadata": {
    "collapsed": false,
    "pycharm": {
     "name": "#%%\n"
    }
   }
  },
  {
   "cell_type": "code",
   "execution_count": 2,
   "outputs": [
    {
     "data": {
      "text/plain": "                       id  intensidad  ocupacion  vmed  temperatura  \\\nfecha                                                                 \n2019-01-01 00:00:00  1001         NaN        NaN   NaN          NaN   \n2019-01-01 00:15:00  1001         NaN        NaN   NaN          NaN   \n2019-01-01 00:30:00  1001         NaN        NaN   NaN          NaN   \n2019-01-01 00:45:00  1001         NaN        NaN   NaN          NaN   \n2019-01-01 01:00:00  1001         NaN        NaN   NaN       -0.400   \n...                   ...         ...        ...   ...          ...   \n2020-12-31 22:45:00  1001       300.0        NaN  56.0        4.475   \n2020-12-31 23:00:00  1001       300.0        NaN  64.0        4.400   \n2020-12-31 23:15:00  1001       144.0        NaN  60.0        4.400   \n2020-12-31 23:30:00  1001       288.0        NaN  63.0        4.400   \n2020-12-31 23:45:00  1001       156.0        NaN  58.0        4.400   \n\n                     humedad_relativa  presion_barometrica  radiacion_solar  \\\nfecha                                                                         \n2019-01-01 00:00:00               NaN                  NaN              NaN   \n2019-01-01 00:15:00               NaN                  NaN              NaN   \n2019-01-01 00:30:00               NaN                  NaN              NaN   \n2019-01-01 00:45:00               NaN                  NaN              NaN   \n2019-01-01 01:00:00             85.00               957.00              1.0   \n...                               ...                  ...              ...   \n2020-12-31 22:45:00             95.25               945.25              1.0   \n2020-12-31 23:00:00             95.00               945.00              1.0   \n2020-12-31 23:15:00             95.00               945.00              1.0   \n2020-12-31 23:30:00             95.00               945.00              1.0   \n2020-12-31 23:45:00             95.00               945.00              1.0   \n\n                     precipitacion  dir_viento  velocidad_viento  \nfecha                                                             \n2019-01-01 00:00:00            NaN         NaN               NaN  \n2019-01-01 00:15:00            NaN         NaN               NaN  \n2019-01-01 00:30:00            NaN         NaN               NaN  \n2019-01-01 00:45:00            NaN         NaN               NaN  \n2019-01-01 01:00:00            0.0       22.00            0.5900  \n...                            ...         ...               ...  \n2020-12-31 22:45:00            0.6      216.25            2.7275  \n2020-12-31 23:00:00            0.8      221.00            2.6100  \n2020-12-31 23:15:00            0.8      221.00            2.6100  \n2020-12-31 23:30:00            0.8      221.00            2.6100  \n2020-12-31 23:45:00            0.8      221.00            2.6100  \n\n[58975 rows x 11 columns]",
      "text/html": "<div>\n<style scoped>\n    .dataframe tbody tr th:only-of-type {\n        vertical-align: middle;\n    }\n\n    .dataframe tbody tr th {\n        vertical-align: top;\n    }\n\n    .dataframe thead th {\n        text-align: right;\n    }\n</style>\n<table border=\"1\" class=\"dataframe\">\n  <thead>\n    <tr style=\"text-align: right;\">\n      <th></th>\n      <th>id</th>\n      <th>intensidad</th>\n      <th>ocupacion</th>\n      <th>vmed</th>\n      <th>temperatura</th>\n      <th>humedad_relativa</th>\n      <th>presion_barometrica</th>\n      <th>radiacion_solar</th>\n      <th>precipitacion</th>\n      <th>dir_viento</th>\n      <th>velocidad_viento</th>\n    </tr>\n    <tr>\n      <th>fecha</th>\n      <th></th>\n      <th></th>\n      <th></th>\n      <th></th>\n      <th></th>\n      <th></th>\n      <th></th>\n      <th></th>\n      <th></th>\n      <th></th>\n      <th></th>\n    </tr>\n  </thead>\n  <tbody>\n    <tr>\n      <th>2019-01-01 00:00:00</th>\n      <td>1001</td>\n      <td>NaN</td>\n      <td>NaN</td>\n      <td>NaN</td>\n      <td>NaN</td>\n      <td>NaN</td>\n      <td>NaN</td>\n      <td>NaN</td>\n      <td>NaN</td>\n      <td>NaN</td>\n      <td>NaN</td>\n    </tr>\n    <tr>\n      <th>2019-01-01 00:15:00</th>\n      <td>1001</td>\n      <td>NaN</td>\n      <td>NaN</td>\n      <td>NaN</td>\n      <td>NaN</td>\n      <td>NaN</td>\n      <td>NaN</td>\n      <td>NaN</td>\n      <td>NaN</td>\n      <td>NaN</td>\n      <td>NaN</td>\n    </tr>\n    <tr>\n      <th>2019-01-01 00:30:00</th>\n      <td>1001</td>\n      <td>NaN</td>\n      <td>NaN</td>\n      <td>NaN</td>\n      <td>NaN</td>\n      <td>NaN</td>\n      <td>NaN</td>\n      <td>NaN</td>\n      <td>NaN</td>\n      <td>NaN</td>\n      <td>NaN</td>\n    </tr>\n    <tr>\n      <th>2019-01-01 00:45:00</th>\n      <td>1001</td>\n      <td>NaN</td>\n      <td>NaN</td>\n      <td>NaN</td>\n      <td>NaN</td>\n      <td>NaN</td>\n      <td>NaN</td>\n      <td>NaN</td>\n      <td>NaN</td>\n      <td>NaN</td>\n      <td>NaN</td>\n    </tr>\n    <tr>\n      <th>2019-01-01 01:00:00</th>\n      <td>1001</td>\n      <td>NaN</td>\n      <td>NaN</td>\n      <td>NaN</td>\n      <td>-0.400</td>\n      <td>85.00</td>\n      <td>957.00</td>\n      <td>1.0</td>\n      <td>0.0</td>\n      <td>22.00</td>\n      <td>0.5900</td>\n    </tr>\n    <tr>\n      <th>...</th>\n      <td>...</td>\n      <td>...</td>\n      <td>...</td>\n      <td>...</td>\n      <td>...</td>\n      <td>...</td>\n      <td>...</td>\n      <td>...</td>\n      <td>...</td>\n      <td>...</td>\n      <td>...</td>\n    </tr>\n    <tr>\n      <th>2020-12-31 22:45:00</th>\n      <td>1001</td>\n      <td>300.0</td>\n      <td>NaN</td>\n      <td>56.0</td>\n      <td>4.475</td>\n      <td>95.25</td>\n      <td>945.25</td>\n      <td>1.0</td>\n      <td>0.6</td>\n      <td>216.25</td>\n      <td>2.7275</td>\n    </tr>\n    <tr>\n      <th>2020-12-31 23:00:00</th>\n      <td>1001</td>\n      <td>300.0</td>\n      <td>NaN</td>\n      <td>64.0</td>\n      <td>4.400</td>\n      <td>95.00</td>\n      <td>945.00</td>\n      <td>1.0</td>\n      <td>0.8</td>\n      <td>221.00</td>\n      <td>2.6100</td>\n    </tr>\n    <tr>\n      <th>2020-12-31 23:15:00</th>\n      <td>1001</td>\n      <td>144.0</td>\n      <td>NaN</td>\n      <td>60.0</td>\n      <td>4.400</td>\n      <td>95.00</td>\n      <td>945.00</td>\n      <td>1.0</td>\n      <td>0.8</td>\n      <td>221.00</td>\n      <td>2.6100</td>\n    </tr>\n    <tr>\n      <th>2020-12-31 23:30:00</th>\n      <td>1001</td>\n      <td>288.0</td>\n      <td>NaN</td>\n      <td>63.0</td>\n      <td>4.400</td>\n      <td>95.00</td>\n      <td>945.00</td>\n      <td>1.0</td>\n      <td>0.8</td>\n      <td>221.00</td>\n      <td>2.6100</td>\n    </tr>\n    <tr>\n      <th>2020-12-31 23:45:00</th>\n      <td>1001</td>\n      <td>156.0</td>\n      <td>NaN</td>\n      <td>58.0</td>\n      <td>4.400</td>\n      <td>95.00</td>\n      <td>945.00</td>\n      <td>1.0</td>\n      <td>0.8</td>\n      <td>221.00</td>\n      <td>2.6100</td>\n    </tr>\n  </tbody>\n</table>\n<p>58975 rows × 11 columns</p>\n</div>"
     },
     "execution_count": 2,
     "metadata": {},
     "output_type": "execute_result"
    }
   ],
   "source": [
    "merge_data(1001)"
   ],
   "metadata": {
    "collapsed": false,
    "pycharm": {
     "name": "#%%\n"
    }
   }
  },
  {
   "cell_type": "code",
   "execution_count": null,
   "outputs": [],
   "source": [],
   "metadata": {
    "collapsed": false,
    "pycharm": {
     "name": "#%%\n"
    }
   }
  }
 ],
 "metadata": {
  "kernelspec": {
   "display_name": "Python 3",
   "language": "python",
   "name": "python3"
  },
  "language_info": {
   "codemirror_mode": {
    "name": "ipython",
    "version": 2
   },
   "file_extension": ".py",
   "mimetype": "text/x-python",
   "name": "python",
   "nbconvert_exporter": "python",
   "pygments_lexer": "ipython2",
   "version": "2.7.6"
  }
 },
 "nbformat": 4,
 "nbformat_minor": 0
}