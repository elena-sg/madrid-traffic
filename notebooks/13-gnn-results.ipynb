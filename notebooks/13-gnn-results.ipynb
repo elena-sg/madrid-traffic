{
 "cells": [
  {
   "cell_type": "code",
   "execution_count": 1,
   "metadata": {
    "collapsed": true,
    "pycharm": {
     "name": "#%%\n"
    }
   },
   "outputs": [
    {
     "name": "stderr",
     "output_type": "stream",
     "text": [
      "C:\\Users\\Bened\\PycharmProjects\\madrid-traffic\\env\\lib\\site-packages\\tqdm\\auto.py:22: TqdmWarning: IProgress not found. Please update jupyter and ipywidgets. See https://ipywidgets.readthedocs.io/en/stable/user_install.html\n",
      "  from .autonotebook import tqdm as notebook_tqdm\n"
     ]
    }
   ],
   "source": [
    "import numpy as np\n",
    "import torch\n",
    "from graph_traffic.train_gnn import test_model, predict\n",
    "import matplotlib.pyplot as plt\n",
    "import pandas as pd\n",
    "from graph_traffic.config import training_path\n",
    "from graph_traffic.model_selection import get_node_ids\n",
    "from graph_traffic.get_data import ubs_index\n",
    "from sklearn.metrics import mean_squared_error, mean_absolute_error\n",
    "\n",
    "months = [\"Jun\", \"Jul\", \"Aug\", \"Sep\", \"Oct\", \"Nov\", \"Dec\"]\n",
    "ids_list = get_node_ids()\n",
    "_, ubs_dict = ubs_index(ids_list)\n",
    "\n",
    "df = pd.read_csv(f\"{training_path}/gnn-results.csv\", sep=\";\", usecols=[\"nombre\", \"evaluate_in\", \"seq_len\", \"epoch_selected\", \"config\"])"
   ]
  },
  {
   "cell_type": "code",
   "execution_count": 6,
   "outputs": [
    {
     "name": "stdout",
     "output_type": "stream",
     "text": [
      "config 1\n",
      "seq len 2\n",
      "seq len 4month Dec\n",
      "seq len 8month Dec\n",
      "seq len 16onth Dec\n",
      "config 2 month Dec\n",
      "seq len 2\n",
      "seq len 4month Dec\n",
      "seq len 8month Dec\n",
      "seq len 16onth Dec\n",
      "config 3 month Dec\n",
      "seq len 2\n",
      "seq len 4month Dec\n",
      "seq len 8month Dec\n",
      "seq len 16onth Dec\n",
      "config 4 month Dec\n",
      "seq len 2\n",
      "seq len 4month Dec\n",
      "seq len 8month Dec\n",
      "seq len 16onth Dec\n",
      "config 5 month Dec\n",
      "seq len 2\n",
      "seq len 4month Dec\n",
      "seq len 8month Dec\n",
      "seq len 16onth Dec\n",
      "evaluate month Dec\r"
     ]
    }
   ],
   "source": [
    "maes = dict()\n",
    "mses = dict()\n",
    "for config in range(1, 6):\n",
    "    print(\"config\", config)\n",
    "    maes[config] = dict()\n",
    "    mses[config] = dict()\n",
    "    for seq_len in [2, 4, 8, 16]:\n",
    "        print(\"seq len\", seq_len)\n",
    "        maes[config][seq_len] = dict()\n",
    "        mses[config][seq_len] = dict()\n",
    "        for evaluate_in in months:\n",
    "            print(\"evaluate month\", evaluate_in, end=\"\\r\")\n",
    "            maes[config][seq_len][evaluate_in] = dict()\n",
    "            mses[config][seq_len][evaluate_in] = dict()\n",
    "            for i in ids_list:\n",
    "                maes[config][seq_len][evaluate_in][i] = []\n",
    "                mses[config][seq_len][evaluate_in][i] = []\n",
    "            row = df.loc[(df.evaluate_in==evaluate_in) & (df.seq_len==seq_len) & (df.config==config)].iloc[0]\n",
    "            if np.isnan(row[\"epoch_selected\"]):\n",
    "                continue\n",
    "            model_name = row[\"nombre\"]\n",
    "            epoch = int(row[\"epoch_selected\"])\n",
    "            model, test_loader, norm_layer, batch_size, graph = test_model(model_name, epoch=epoch)\n",
    "            for x, y in test_loader:\n",
    "                all = np.concatenate([x, y], axis=1)[..., 0]\n",
    "                _, pred = predict(x, y, batch_size, graph, model, torch.device('cpu'), norm_layer)\n",
    "                y = y[..., 0].detach().numpy()\n",
    "                #y_modif = y_modif[:, :y.shape[0]*37, 0]\n",
    "                pred = pred.detach().numpy()[:, :y.shape[0]*37, 0]\n",
    "                pred = pred.reshape(-1, pred.shape[0], 37)\n",
    "                for i in ids_list:\n",
    "                    graph_id = ubs_dict[i]\n",
    "                    pred_i = pred[:, :, graph_id]\n",
    "                    y_i = y[:, :, graph_id]\n",
    "                    maes[config][seq_len][evaluate_in][i].append(mean_absolute_error(pred_i, y_i))\n",
    "                    mses[config][seq_len][evaluate_in][i].append(mean_squared_error(pred_i, y_i))"
   ],
   "metadata": {
    "collapsed": false,
    "pycharm": {
     "name": "#%%\n"
    }
   }
  },
  {
   "cell_type": "code",
   "execution_count": 19,
   "outputs": [],
   "source": [
    "def get_mean(l):\n",
    "    if len(l) == 0:\n",
    "        return np.nan\n",
    "    else:\n",
    "        return np.nanmean(l)"
   ],
   "metadata": {
    "collapsed": false,
    "pycharm": {
     "name": "#%%\n"
    }
   }
  },
  {
   "cell_type": "code",
   "execution_count": 20,
   "outputs": [],
   "source": [
    "for config in range(1, 6):\n",
    "    for seq_len in [2, 4, 8, 16]:\n",
    "        maes_df = pd.DataFrame(maes[config][seq_len]).applymap(get_mean).sort_index()\n",
    "        maes_df[\"avg\"] = maes_df.loc[:, :\"Dec\"].mean(axis=1)\n",
    "        maes_df[\"std\"] = maes_df.loc[:, :\"Dec\"].std(axis=1)\n",
    "        maes_df.round(4).to_csv(f\"{training_path}/gnn/config{config}/maes_{seq_len}.csv\")"
   ],
   "metadata": {
    "collapsed": false,
    "pycharm": {
     "name": "#%%\n"
    }
   }
  },
  {
   "cell_type": "code",
   "execution_count": 21,
   "outputs": [],
   "source": [
    "for config in range(1, 6):\n",
    "    for seq_len in [2, 4, 8, 16]:\n",
    "        mses_df = pd.DataFrame(mses[config][seq_len]).applymap(get_mean).sort_index()\n",
    "        mses_df[\"avg\"] = mses_df.loc[:, :\"Dec\"].mean(axis=1)\n",
    "        mses_df[\"std\"] = mses_df.loc[:, :\"Dec\"].std(axis=1)\n",
    "        mses_df.round(4).to_csv(f\"{training_path}/gnn/config{config}/mses_{seq_len}.csv\")"
   ],
   "metadata": {
    "collapsed": false,
    "pycharm": {
     "name": "#%%\n"
    }
   }
  },
  {
   "cell_type": "code",
   "execution_count": null,
   "outputs": [],
   "source": [],
   "metadata": {
    "collapsed": false,
    "pycharm": {
     "name": "#%%\n"
    }
   }
  },
  {
   "cell_type": "code",
   "execution_count": null,
   "outputs": [],
   "source": [],
   "metadata": {
    "collapsed": false,
    "pycharm": {
     "name": "#%%\n"
    }
   }
  },
  {
   "cell_type": "code",
   "execution_count": null,
   "outputs": [],
   "source": [],
   "metadata": {
    "collapsed": false,
    "pycharm": {
     "name": "#%%\n"
    }
   }
  },
  {
   "cell_type": "code",
   "execution_count": null,
   "outputs": [],
   "source": [
    "plt.plot(all[0, :, 0, 0])\n",
    "plt.plot(range(16, 32), pred.detach().numpy()[:, 0])"
   ],
   "metadata": {
    "collapsed": false,
    "pycharm": {
     "name": "#%%\n"
    }
   }
  },
  {
   "cell_type": "code",
   "execution_count": 120,
   "outputs": [
    {
     "data": {
      "text/plain": "[<matplotlib.lines.Line2D at 0x1daed5aa460>]"
     },
     "execution_count": 120,
     "metadata": {},
     "output_type": "execute_result"
    },
    {
     "data": {
      "text/plain": "<Figure size 432x288 with 1 Axes>",
      "image/png": "[encoded data removed]"
     },
     "metadata": {
      "needs_background": "light"
     },
     "output_type": "display_data"
    }
   ],
   "source": [
    "plt.plot(pred.detach().numpy()[:, 0, 0])"
   ],
   "metadata": {
    "collapsed": false,
    "pycharm": {
     "name": "#%%\n"
    }
   }
  },
  {
   "cell_type": "code",
   "execution_count": null,
   "outputs": [],
   "source": [
    "(2, 32, 37, 1)"
   ],
   "metadata": {
    "collapsed": false,
    "pycharm": {
     "name": "#%%\n"
    }
   }
  },
  {
   "cell_type": "code",
   "execution_count": 113,
   "outputs": [
    {
     "data": {
      "text/plain": "[<matplotlib.lines.Line2D at 0x1dac93032e0>]"
     },
     "execution_count": 113,
     "metadata": {},
     "output_type": "execute_result"
    },
    {
     "data": {
      "text/plain": "<Figure size 432x288 with 1 Axes>",
      "image/png": "[encoded data removed]"
     },
     "metadata": {
      "needs_background": "light"
     },
     "output_type": "display_data"
    }
   ],
   "source": [
    "plt.plot(all[0, :, 0, 0])"
   ],
   "metadata": {
    "collapsed": false,
    "pycharm": {
     "name": "#%%\n"
    }
   }
  },
  {
   "cell_type": "code",
   "execution_count": 105,
   "outputs": [
    {
     "data": {
      "text/plain": "[<matplotlib.lines.Line2D at 0x1da961ae760>]"
     },
     "execution_count": 105,
     "metadata": {},
     "output_type": "execute_result"
    },
    {
     "data": {
      "text/plain": "<Figure size 432x288 with 1 Axes>",
      "image/png": "[encoded data removed]"
     },
     "metadata": {
      "needs_background": "light"
     },
     "output_type": "display_data"
    }
   ],
   "source": [
    "plt.plot(pred.detach().numpy()[:, 0])"
   ],
   "metadata": {
    "collapsed": false,
    "pycharm": {
     "name": "#%%\n"
    }
   }
  },
  {
   "cell_type": "code",
   "execution_count": null,
   "outputs": [],
   "source": [],
   "metadata": {
    "collapsed": false,
    "pycharm": {
     "name": "#%%\n"
    }
   }
  },
  {
   "cell_type": "code",
   "execution_count": 26,
   "outputs": [
    {
     "ename": "FileNotFoundError",
     "evalue": "[Errno 2] No such file or directory: 'C:\\\\Users\\\\Bened\\\\PycharmProjects\\\\madrid-traffic\\\\training_history\\\\20220609_202835\\\\losses\\\\train.pkl'",
     "output_type": "error",
     "traceback": [
      "\u001B[1;31m---------------------------------------------------------------------------\u001B[0m",
      "\u001B[1;31mFileNotFoundError\u001B[0m                         Traceback (most recent call last)",
      "Input \u001B[1;32mIn [26]\u001B[0m, in \u001B[0;36m<cell line: 2>\u001B[1;34m()\u001B[0m\n\u001B[0;32m      1\u001B[0m \u001B[38;5;28;01mimport\u001B[39;00m \u001B[38;5;21;01mpickle\u001B[39;00m\n\u001B[1;32m----> 2\u001B[0m \u001B[38;5;28;01mwith\u001B[39;00m \u001B[38;5;28;43mopen\u001B[39;49m\u001B[43m(\u001B[49m\u001B[38;5;124;43mrf\u001B[39;49m\u001B[38;5;124;43m\"\u001B[39;49m\u001B[38;5;124;43mC:\u001B[39;49m\u001B[38;5;124;43m\\\u001B[39;49m\u001B[38;5;124;43mUsers\u001B[39;49m\u001B[38;5;124;43m\\\u001B[39;49m\u001B[38;5;124;43mBened\u001B[39;49m\u001B[38;5;124;43m\\\u001B[39;49m\u001B[38;5;124;43mPycharmProjects\u001B[39;49m\u001B[38;5;124;43m\\\u001B[39;49m\u001B[38;5;124;43mmadrid-traffic\u001B[39;49m\u001B[38;5;124;43m\\\u001B[39;49m\u001B[38;5;124;43mtraining_history\u001B[39;49m\u001B[38;5;124;43m\\\u001B[39;49m\u001B[38;5;132;43;01m{\u001B[39;49;00m\u001B[43mtraining_datetime\u001B[49m\u001B[38;5;132;43;01m}\u001B[39;49;00m\u001B[38;5;124;43m\\\u001B[39;49m\u001B[38;5;124;43mlosses\u001B[39;49m\u001B[38;5;124;43m\\\u001B[39;49m\u001B[38;5;124;43mtrain.pkl\u001B[39;49m\u001B[38;5;124;43m\"\u001B[39;49m\u001B[43m,\u001B[49m\u001B[43m \u001B[49m\u001B[38;5;124;43m\"\u001B[39;49m\u001B[38;5;124;43mrb\u001B[39;49m\u001B[38;5;124;43m\"\u001B[39;49m\u001B[43m)\u001B[49m \u001B[38;5;28;01mas\u001B[39;00m f:\n\u001B[0;32m      3\u001B[0m     train \u001B[38;5;241m=\u001B[39m pickle\u001B[38;5;241m.\u001B[39mload(f)\n\u001B[0;32m      4\u001B[0m train\n",
      "\u001B[1;31mFileNotFoundError\u001B[0m: [Errno 2] No such file or directory: 'C:\\\\Users\\\\Bened\\\\PycharmProjects\\\\madrid-traffic\\\\training_history\\\\20220609_202835\\\\losses\\\\train.pkl'"
     ]
    }
   ],
   "source": [
    "import pickle\n",
    "with open(rf\"C:\\Users\\Bened\\PycharmProjects\\madrid-traffic\\training_history\\{training_datetime}\\losses\\train.pkl\", \"rb\") as f:\n",
    "    train = pickle.load(f)\n",
    "train"
   ],
   "metadata": {
    "collapsed": false,
    "pycharm": {
     "name": "#%%\n"
    }
   }
  },
  {
   "cell_type": "code",
   "execution_count": null,
   "outputs": [],
   "source": [
    "import pickle\n",
    "with open(fr\"C:\\Users\\Bened\\PycharmProjects\\madrid-traffic\\training_history\\{training_datetime}\\losses\\test.pkl\", \"rb\") as f:\n",
    "    test = pickle.load(f)\n",
    "test"
   ],
   "metadata": {
    "collapsed": false,
    "pycharm": {
     "name": "#%%\n"
    }
   }
  },
  {
   "cell_type": "code",
   "execution_count": null,
   "outputs": [],
   "source": [],
   "metadata": {
    "collapsed": false,
    "pycharm": {
     "name": "#%%\n"
    }
   }
  }
 ],
 "metadata": {
  "kernelspec": {
   "display_name": "Python 3",
   "language": "python",
   "name": "python3"
  },
  "language_info": {
   "codemirror_mode": {
    "name": "ipython",
    "version": 2
   },
   "file_extension": ".py",
   "mimetype": "text/x-python",
   "name": "python",
   "nbconvert_exporter": "python",
   "pygments_lexer": "ipython2",
   "version": "2.7.6"
  }
 },
 "nbformat": 4,
 "nbformat_minor": 0
}