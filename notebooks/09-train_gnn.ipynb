{
 "cells": [
  {
   "cell_type": "code",
   "execution_count": 1,
   "outputs": [
    {
     "name": "stderr",
     "output_type": "stream",
     "text": [
      "C:\\Users\\Bened\\PycharmProjects\\madrid-traffic\\env\\lib\\site-packages\\tqdm\\auto.py:22: TqdmWarning: IProgress not found. Please update jupyter and ipywidgets. See https://ipywidgets.readthedocs.io/en/stable/user_install.html\n",
      "  from .autonotebook import tqdm as notebook_tqdm\n"
     ]
    }
   ],
   "source": [
    "from graph_traffic.train_gnn import train_with_args\n",
    "from graph_traffic.model_selection import get_node_ids\n",
    "from random import choice"
   ],
   "metadata": {
    "collapsed": false,
    "pycharm": {
     "name": "#%%\n"
    }
   }
  },
  {
   "cell_type": "code",
   "execution_count": 2,
   "outputs": [],
   "source": [
    "ids_to_use = get_node_ids(longitud_lims=(-3.7443, -3.7308),\n",
    "                          latitud_lims=(40.3830, 40.3904))\n",
    "#ids_to_use = get_node_ids()"
   ],
   "metadata": {
    "collapsed": false,
    "pycharm": {
     "name": "#%%\n"
    }
   }
  },
  {
   "cell_type": "code",
   "execution_count": 3,
   "outputs": [
    {
     "data": {
      "text/plain": "37"
     },
     "execution_count": 3,
     "metadata": {},
     "output_type": "execute_result"
    }
   ],
   "source": [
    "len(ids_to_use)"
   ],
   "metadata": {
    "collapsed": false,
    "pycharm": {
     "name": "#%%\n"
    }
   }
  },
  {
   "cell_type": "markdown",
   "source": [
    "## 0. Define training parameters"
   ],
   "metadata": {
    "collapsed": false,
    "pycharm": {
     "name": "#%% md\n"
    }
   }
  },
  {
   "cell_type": "code",
   "execution_count": 4,
   "outputs": [],
   "source": [
    "# args_alternatives = {\n",
    "#     \"diffsteps\": [2],\n",
    "#     \"lr\": [0.005, 0.01, 0.05, 0.1, 1],\n",
    "#     \"max_grad_norm\": [1, 5, 10],\n",
    "#     \"out_feats\": [32, 64],\n",
    "#     \"num_layers\": [2, 4],\n",
    "#     \"dir\": [\"both\", \"in\", \"out\"],\n",
    "# }\n",
    "# data_alternatives = {\n",
    "#     \"seq_len\": [2, 4, 8, 16],\n",
    "#     \"graph_weight_threshold\": [0.4, 0.5]\n",
    "# }\n",
    "# alternatives_temporal = {\n",
    "#     \"working_day\": [\"drop\", \"passthrough\"],\n",
    "#     \"hour\": [\"one_hot\", \"spline\", \"drop\"],\n",
    "# }"
   ],
   "metadata": {
    "collapsed": false,
    "pycharm": {
     "name": "#%%\n"
    }
   }
  },
  {
   "cell_type": "code",
   "execution_count": 5,
   "outputs": [],
   "source": [
    "args = dict(\n",
    "    n_points=None,\n",
    "    batch_size=64,\n",
    "    diffsteps=2,\n",
    "    decay_steps=2000,\n",
    "    lr=0.01,\n",
    "    minimum_lr=2e-6,\n",
    "    epochs=10,\n",
    "    max_grad_norm=5.0,\n",
    "    num_workers=0,\n",
    "    model=\"dcrnn\",\n",
    "    gpu=-1,\n",
    "    num_heads=2, # relevant for model=\"gaan\"\n",
    "    out_feats=64,\n",
    "    num_layers=2,\n",
    "    dir=\"both\",\n",
    ")\n",
    "\n",
    "data_dict = dict(\n",
    "    ids_list=ids_to_use,#[3532, 3542, 3544, 3545, 3546, 3577, 3637, 3640, 3641, 4761, 4763],#[3954, 3973],#, 3976, 3977, 3978],\n",
    "    seq_len=16,\n",
    "    with_graph=True,\n",
    "    from_date=\"2019-01-01\",\n",
    "    to_date=\"2019-12-31\",\n",
    "    target=\"ocupacion\",  # 1\n",
    "    interactions=\"drop\",\n",
    "    graph_weight_threshold=0.5\n",
    ")\n",
    "\n",
    "meteo_dict = dict(\n",
    "    rain=\"drop\",  # 1\n",
    "    wind=\"drop\",\n",
    "    temperature=\"drop\",  # 0\n",
    "    humidity=\"drop\",  # 1\n",
    "    pressure=\"drop\",  # 0\n",
    "    radiation=\"drop\"  # 0\n",
    ")\n",
    "\n",
    "temporal_dict = dict(\n",
    "    season=\"drop\",\n",
    "    month=\"drop\",\n",
    "    day_of_month=\"drop\",\n",
    "    hour=\"drop\",\n",
    "    bank_holiday=\"drop\",\n",
    "    working_day=\"drop\",\n",
    "    school_holiday=\"drop\",\n",
    "    state_of_alarm=\"drop\",\n",
    "    minute=\"drop\",\n",
    "    year=\"drop\",\n",
    "    weekday=\"drop\"\n",
    ")"
   ],
   "metadata": {
    "collapsed": false,
    "pycharm": {
     "name": "#%%\n"
    }
   }
  },
  {
   "cell_type": "markdown",
   "source": [
    "## 1 Train model"
   ],
   "metadata": {
    "collapsed": false,
    "pycharm": {
     "name": "#%% md\n"
    }
   }
  },
  {
   "cell_type": "code",
   "execution_count": null,
   "outputs": [
    {
     "name": "stdout",
     "output_type": "stream",
     "text": [
      "{'n_points': None, 'batch_size': 64, 'diffsteps': 2, 'decay_steps': 2000, 'lr': 0.01, 'minimum_lr': 2e-06, 'epochs': 10, 'max_grad_norm': 5.0, 'num_workers': 0, 'model': 'dcrnn', 'gpu': -1, 'num_heads': 2, 'out_feats': 64, 'num_layers': 2, 'dir': 'both'}\n",
      "{'ids_list': [5126, 9847, 5045, 3685, 5046, 5125, 5061, 5122, 5245, 5047, 5055, 5054, 5108, 3686, 5052, 5050, 5051, 5048, 10025, 3576, 5105, 5121, 5044, 5120, 5049, 5118, 3628, 3572, 5114, 3684, 5102, 3481, 5100, 5119, 5101, 5099, 5109], 'seq_len': 16, 'with_graph': True, 'from_date': '2019-01-01', 'to_date': '2019-12-31', 'target': 'ocupacion', 'interactions': 'drop', 'graph_weight_threshold': 0.3}\n",
      "{'season': 'drop', 'month': 'drop', 'day_of_month': 'drop', 'hour': 'drop', 'bank_holiday': 'drop', 'working_day': 'drop', 'school_holiday': 'drop', 'state_of_alarm': 'drop', 'minute': 'drop', 'year': 'drop', 'weekday': 'drop'}\n",
      "Shape of train_x: (732, 16, 37, 1)\n",
      "Shape of train_y: (732, 16, 37, 1)\n",
      "Shape of test_x: (183, 16, 37, 1)\n",
      "Shape of test_y: (183, 16, 37, 1)\n"
     ]
    },
    {
     "name": "stderr",
     "output_type": "stream",
     "text": [
      "C:\\Users\\Bened\\PycharmProjects\\madrid-traffic\\env\\lib\\site-packages\\torch\\autocast_mode.py:162: UserWarning: User provided device_type of 'cuda', but CUDA is not available. Disabling\n",
      "  warnings.warn('User provided device_type of \\'cuda\\', but CUDA is not available. Disabling')\n"
     ]
    },
    {
     "name": "stdout",
     "output_type": "stream",
     "text": [
      "Epoch: 0 Train MAE: 26.46957031885783 Train MSE: 771.0417273366121 Test MAE: 26.14508883158366 Test MSE: 756.0451290056693\n",
      "Epoch: 1 Train MAE: 10.600506146748861 Train MSE: 171.0808117069414 Test MAE: 10.561959584554037 Test MSE: 172.92047051833936\n",
      "Epoch: 2 Train MAE: 6.775550484657288 Train MSE: 125.97847424120512 Test MAE: 7.118151346842448 Test MSE: 135.82370584916217\n",
      "Batch:  11\r"
     ]
    }
   ],
   "source": [
    "# for i in range(100):\n",
    "#     for key, values in args_alternatives.items():\n",
    "#         args[key] = choice(args_alternatives[key])\n",
    "#     for key, values in data_alternatives.items():\n",
    "#         data_dict[key] = choice(data_alternatives[key])\n",
    "#     for key, values in alternatives_temporal.items():\n",
    "#         temporal_dict[key] = choice(alternatives_temporal[key])\n",
    "print(args)\n",
    "print(data_dict)\n",
    "print(temporal_dict)\n",
    "train_with_args(args, data_dict, meteo_dict, temporal_dict)"
   ],
   "metadata": {
    "collapsed": false,
    "pycharm": {
     "name": "#%%\n"
    }
   }
  },
  {
   "cell_type": "code",
   "execution_count": null,
   "outputs": [],
   "source": [],
   "metadata": {
    "collapsed": false,
    "pycharm": {
     "name": "#%%\n"
    }
   }
  }
 ],
 "metadata": {
  "kernelspec": {
   "display_name": "Python 3",
   "language": "python",
   "name": "python3"
  },
  "language_info": {
   "codemirror_mode": {
    "name": "ipython",
    "version": 2
   },
   "file_extension": ".py",
   "mimetype": "text/x-python",
   "name": "python",
   "nbconvert_exporter": "python",
   "pygments_lexer": "ipython2",
   "version": "2.7.6"
  }
 },
 "nbformat": 4,
 "nbformat_minor": 0
}