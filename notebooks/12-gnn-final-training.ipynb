{
 "cells": [
  {
   "cell_type": "code",
   "execution_count": 1,
   "outputs": [
    {
     "name": "stderr",
     "output_type": "stream",
     "text": [
      "C:\\Users\\Bened\\PycharmProjects\\madrid-traffic\\env\\lib\\site-packages\\tqdm\\auto.py:22: TqdmWarning: IProgress not found. Please update jupyter and ipywidgets. See https://ipywidgets.readthedocs.io/en/stable/user_install.html\n",
      "  from .autonotebook import tqdm as notebook_tqdm\n"
     ]
    }
   ],
   "source": [
    "import pandas as pd\n",
    "\n",
    "from graph_traffic.train_gnn import train_with_args\n",
    "from graph_traffic.model_selection import get_node_ids\n",
    "\n",
    "ids_to_use = get_node_ids()"
   ],
   "metadata": {
    "collapsed": false,
    "pycharm": {
     "name": "#%%\n"
    }
   }
  },
  {
   "cell_type": "markdown",
   "source": [
    "# 0. Common parameters"
   ],
   "metadata": {
    "collapsed": false,
    "pycharm": {
     "name": "#%% md\n"
    }
   }
  },
  {
   "cell_type": "code",
   "execution_count": 2,
   "outputs": [],
   "source": [
    "args = dict(\n",
    "    n_points=None,\n",
    "    batch_size=64,\n",
    "    diffsteps=2,\n",
    "    decay_steps=2000,\n",
    "    lr=0.01,\n",
    "    minimum_lr=2e-6,\n",
    "    epochs=20,\n",
    "    max_grad_norm=5.0,\n",
    "    num_workers=0,\n",
    "    model=\"dcrnn\",\n",
    "    gpu=-1,\n",
    "    num_heads=2, # relevant for model=\"gaan\"\n",
    "    out_feats=64,\n",
    "    num_layers=2,\n",
    "    dir=\"both\",\n",
    ")\n",
    "\n",
    "data_dict = dict(\n",
    "    ids_list=ids_to_use,\n",
    "    seq_len=2,\n",
    "    with_graph=True,\n",
    "    from_date=\"2019-01-01\",\n",
    "    to_date=\"2021-12-31\",\n",
    "    target=\"ocupacion\",  # 1\n",
    "    interactions=\"drop\",\n",
    "    graph_weight_threshold=0.1\n",
    ")\n",
    "\n",
    "meteo_dict = dict(\n",
    "    rain=\"drop\",  # 1\n",
    "    wind=\"drop\",\n",
    "    temperature=\"drop\",  # 0\n",
    "    humidity=\"drop\",  # 1\n",
    "    pressure=\"drop\",  # 0\n",
    "    radiation=\"drop\"  # 0\n",
    ")\n",
    "\n",
    "temporal_dict = dict(\n",
    "    season=\"drop\",\n",
    "    month=\"drop\",\n",
    "    day_of_month=\"drop\",\n",
    "    hour=\"drop\",\n",
    "    bank_holiday=\"drop\",\n",
    "    working_day=\"drop\",\n",
    "    school_holiday=\"drop\",\n",
    "    state_of_alarm=\"drop\",\n",
    "    minute=\"drop\",\n",
    "    year=\"drop\",\n",
    "    weekday=\"drop\"\n",
    ")"
   ],
   "metadata": {
    "collapsed": false,
    "pycharm": {
     "name": "#%%\n"
    }
   }
  },
  {
   "cell_type": "markdown",
   "source": [
    "# A: no changes"
   ],
   "metadata": {
    "collapsed": false,
    "pycharm": {
     "name": "#%% md\n"
    }
   }
  },
  {
   "cell_type": "code",
   "execution_count": 3,
   "outputs": [
    {
     "name": "stdout",
     "output_type": "stream",
     "text": [
      "seq len: 2\n",
      "2021-05-31 00:00:00\n",
      "20220609_235507\n",
      "Shape of train_x: (13283, 2, 37, 1)\n",
      "Shape of train_y: (13283, 2, 37, 1)\n",
      "Shape of test_x: (254, 2, 37, 1)\n",
      "Shape of test_y: (254, 2, 37, 1)\n"
     ]
    },
    {
     "name": "stderr",
     "output_type": "stream",
     "text": [
      "C:\\Users\\Bened\\PycharmProjects\\madrid-traffic\\env\\lib\\site-packages\\torch\\autocast_mode.py:162: UserWarning: User provided device_type of 'cuda', but CUDA is not available. Disabling\n",
      "  warnings.warn('User provided device_type of \\'cuda\\', but CUDA is not available. Disabling')\n"
     ]
    },
    {
     "name": "stdout",
     "output_type": "stream",
     "text": [
      "Epoch: 0 Train MAE: 4.805493189738347 Train MSE: 71.03261613800947 Test MAE: 4.773946642875671 Test MSE: 72.53695020719933\n",
      "Epoch: 1 Train MAE: 9.99412658581367 Train MSE: 212.02943367983502 Test MAE: 10.1089346408844 Test MSE: 223.52537214462487\n",
      "Epoch: 2 Train MAE: 12.234831044307121 Train MSE: 294.6002777916217 Test MAE: 12.315420150756836 Test MSE: 312.4016881127587\n",
      "Epoch: 3 Train MAE: 12.327043629609621 Train MSE: 297.35570479328294 Test MAE: 12.352351427078247 Test MSE: 315.09026682073056\n",
      "Epoch: 4 Train MAE: 12.320298855121319 Train MSE: 296.86366675789225 Test MAE: 12.351230144500732 Test MSE: 314.58220148229685\n",
      "Epoch: 5 Train MAE: 12.326620088173794 Train MSE: 297.2039302043126 Test MAE: 12.314104080200195 Test MSE: 313.8533441150626\n",
      "Epoch: 6 Train MAE: 12.29691497179178 Train MSE: 296.3634280108105 Test MAE: 12.327441215515137 Test MSE: 316.08603630842606\n",
      "Epoch: 7 Train MAE: 12.25099625495764 Train MSE: 295.09999737254986 Test MAE: 12.246849536895752 Test MSE: 313.42218467291707\n",
      "Epoch: 8 Train MAE: 12.277228488371922 Train MSE: 295.7851827761364 Test MAE: 12.299398422241211 Test MSE: 314.80816935275686\n",
      "Epoch: 9 Train MAE: 12.249641652290638 Train MSE: 295.2362047014171 Test MAE: 12.26467752456665 Test MSE: 313.5110161000863\n",
      "Epoch: 10 Train MAE: 12.231109710840078 Train MSE: 294.4451202920863 Test MAE: 12.231623888015747 Test MSE: 312.75734328088885\n",
      "Epoch: 11 Train MAE: 12.217209990207966 Train MSE: 294.0888351232245 Test MAE: 12.22450876235962 Test MSE: 313.20549488202954\n",
      "Epoch: 12 Train MAE: 12.191660683888655 Train MSE: 293.47327196382514 Test MAE: 12.20707392692566 Test MSE: 312.95987217665675\n",
      "Epoch: 13 Train MAE: 12.201374888420105 Train MSE: 293.593700175988 Test MAE: 12.202891826629639 Test MSE: 313.81004984600827\n",
      "Epoch: 14 Train MAE: 12.154968390097984 Train MSE: 292.33797479749865 Test MAE: 12.123506784439087 Test MSE: 311.3793761961206\n",
      "Epoch: 15 Train MAE: 12.130554176293886 Train MSE: 291.5455006999531 Test MAE: 12.155198574066162 Test MSE: 311.9539460175208\n",
      "Epoch: 16 Train MAE: 12.103708354326395 Train MSE: 290.7910963441689 Test MAE: 12.12942910194397 Test MSE: 312.2885201809099\n",
      "Epoch: 17 Train MAE: 12.098798123689798 Train MSE: 290.5180938019356 Test MAE: 12.103320360183716 Test MSE: 311.2249882892692\n",
      "Epoch: 18 Train MAE: 12.069526356000166 Train MSE: 289.96415493999774 Test MAE: 12.049683570861816 Test MSE: 309.1129281583884\n",
      "Epoch: 19 Train MAE: 12.057063597899218 Train MSE: 289.2709035416155 Test MAE: 12.06208872795105 Test MSE: 310.53408558784787\n",
      "Training finished\n",
      "seq len: 4\n",
      "2021-05-31 00:00:00\n",
      "20220610_004639\n",
      "Shape of train_x: (9640, 4, 37, 1)\n",
      "Shape of train_y: (9640, 4, 37, 1)\n",
      "Shape of test_x: (145, 4, 37, 1)\n",
      "Shape of test_y: (145, 4, 37, 1)\n"
     ]
    },
    {
     "name": "stderr",
     "output_type": "stream",
     "text": [
      "C:\\Users\\Bened\\PycharmProjects\\madrid-traffic\\env\\lib\\site-packages\\torch\\autocast_mode.py:162: UserWarning: User provided device_type of 'cuda', but CUDA is not available. Disabling\n",
      "  warnings.warn('User provided device_type of \\'cuda\\', but CUDA is not available. Disabling')\n"
     ]
    },
    {
     "name": "stdout",
     "output_type": "stream",
     "text": [
      "Epoch: 0 Train MAE: 6.3945464614211325 Train MSE: 110.35732195695263 Test MAE: 7.088091532389323 Test MSE: 161.08007306475474\n",
      "Epoch: 1 Train MAE: 8.789623443654042 Train MSE: 179.5789659372266 Test MAE: 8.438619454701742 Test MSE: 182.9219520649098\n",
      "Epoch: 2 Train MAE: 8.942468842133781 Train MSE: 199.0480842871102 Test MAE: 8.980082829793295 Test MSE: 211.0874099381921\n",
      "Epoch: 3 Train MAE: 9.250931442968103 Train MSE: 208.4284039600349 Test MAE: 10.087172826131185 Test MSE: 279.1275728186156\n",
      "Epoch: 4 Train MAE: 9.29182510502291 Train MSE: 209.98893625984283 Test MAE: 10.005714734395346 Test MSE: 275.2608295640523\n",
      "Training finished\n",
      "seq len: 8\n",
      "2021-05-31 00:00:00\n",
      "20220610_010454\n",
      "Shape of train_x: (5142, 8, 37, 1)\n",
      "Shape of train_y: (5142, 8, 37, 1)\n",
      "Shape of test_x: (43, 8, 37, 1)\n",
      "Shape of test_y: (43, 8, 37, 1)\n"
     ]
    },
    {
     "name": "stderr",
     "output_type": "stream",
     "text": [
      "C:\\Users\\Bened\\PycharmProjects\\madrid-traffic\\env\\lib\\site-packages\\torch\\autocast_mode.py:162: UserWarning: User provided device_type of 'cuda', but CUDA is not available. Disabling\n",
      "  warnings.warn('User provided device_type of \\'cuda\\', but CUDA is not available. Disabling')\n"
     ]
    },
    {
     "name": "stdout",
     "output_type": "stream",
     "text": [
      "Epoch: 0 Train MAE: 7.13726654170472 Train MSE: 129.05450918803982 Test MAE: 9.477985382080078 Test MSE: 261.3192443847656\n",
      "Epoch: 1 Train MAE: 6.001457779495804 Train MSE: 109.19861090556286 Test MAE: 7.1703877449035645 Test MSE: 203.34719848632812\n",
      "Epoch: 2 Train MAE: 7.709560229454511 Train MSE: 191.75024705379457 Test MAE: 9.262822151184082 Test MSE: 337.0332946777344\n",
      "Epoch: 3 Train MAE: 7.057184195812837 Train MSE: 164.6094180513591 Test MAE: 8.037549018859863 Test MSE: 257.8757019042969\n",
      "Epoch: 4 Train MAE: 7.3742530198744785 Train MSE: 169.36402304665253 Test MAE: 9.349818229675293 Test MSE: 307.8797302246094\n",
      "Epoch: 5 Train MAE: 7.227553126252728 Train MSE: 165.01831044473323 Test MAE: 8.540982246398926 Test MSE: 263.7201843261719\n",
      "Epoch: 6 Train MAE: 7.380486135129575 Train MSE: 168.747435353054 Test MAE: 8.7128324508667 Test MSE: 280.42425537109375\n",
      "Epoch: 7 Train MAE: 7.348651491565469 Train MSE: 167.6786587781468 Test MAE: 9.019648551940918 Test MSE: 284.9897766113281\n",
      "Epoch: 8 Train MAE: 7.298836849353932 Train MSE: 166.62858145029577 Test MAE: 9.144790649414062 Test MSE: 290.6087341308594\n",
      "Epoch: 9 Train MAE: 7.323102650819002 Train MSE: 167.20301874356494 Test MAE: 9.094147682189941 Test MSE: 287.8523254394531\n",
      "Epoch: 10 Train MAE: 7.381513448409092 Train MSE: 168.96035185764543 Test MAE: 8.58691120147705 Test MSE: 270.8738098144531\n",
      "Training finished\n",
      "seq len: 16\n",
      "2021-05-31 00:00:00\n",
      "20220610_014637\n",
      "Shape of train_x: (1416, 16, 37, 1)\n",
      "Shape of train_y: (1416, 16, 37, 1)\n",
      "Shape of test_x: (2, 16, 37, 1)\n",
      "Shape of test_y: (2, 16, 37, 1)\n"
     ]
    },
    {
     "name": "stderr",
     "output_type": "stream",
     "text": [
      "C:\\Users\\Bened\\PycharmProjects\\madrid-traffic\\env\\lib\\site-packages\\torch\\autocast_mode.py:162: UserWarning: User provided device_type of 'cuda', but CUDA is not available. Disabling\n",
      "  warnings.warn('User provided device_type of \\'cuda\\', but CUDA is not available. Disabling')\n"
     ]
    },
    {
     "name": "stdout",
     "output_type": "stream",
     "text": [
      "Epoch: 0 Train MAE: 9.349219280740488 Train MSE: 148.6676630379896 Test MAE: 10.186165809631348 Test MSE: 230.16366577148438\n",
      "Epoch: 1 Train MAE: 7.08670535294906 Train MSE: 126.61274973583906 Test MAE: 7.917783260345459 Test MSE: 225.8883056640625\n",
      "Epoch: 2 Train MAE: 7.448285828466001 Train MSE: 131.50150716015165 Test MAE: 8.441818237304688 Test MSE: 231.0081787109375\n",
      "Epoch: 3 Train MAE: 6.38522421795389 Train MSE: 134.06124500379588 Test MAE: 7.364517688751221 Test MSE: 242.83242797851562\n",
      "Epoch: 4 Train MAE: 6.028515608414359 Train MSE: 94.80315755627396 Test MAE: 6.017046928405762 Test MSE: 141.84573364257812\n",
      "Epoch: 5 Train MAE: 6.683235997739046 Train MSE: 119.88074159757085 Test MAE: 7.922959804534912 Test MSE: 205.1132354736328\n",
      "Epoch: 6 Train MAE: 5.17018749402917 Train MSE: 79.85065385424504 Test MAE: 5.879697799682617 Test MSE: 117.71232604980469\n",
      "Epoch: 7 Train MAE: 4.683844172436258 Train MSE: 64.55179958495965 Test MAE: 4.61094856262207 Test MSE: 89.8038330078125\n",
      "Epoch: 8 Train MAE: 4.573541827823805 Train MSE: 67.00027209455735 Test MAE: 5.206472396850586 Test MSE: 102.3038330078125\n",
      "Epoch: 9 Train MAE: 4.617688179016113 Train MSE: 62.30152543101785 Test MAE: 4.549380302429199 Test MSE: 91.10509490966797\n",
      "Epoch: 10 Train MAE: 4.507814552472985 Train MSE: 63.070669764922684 Test MAE: 4.485555171966553 Test MSE: 88.48556518554688\n",
      "Epoch: 11 Train MAE: 4.3811361686043115 Train MSE: 61.86870144484871 Test MAE: 4.543954372406006 Test MSE: 91.90068054199219\n",
      "Epoch: 12 Train MAE: 4.3483385210451875 Train MSE: 62.443136258504055 Test MAE: 4.649938583374023 Test MSE: 93.53057861328125\n",
      "Epoch: 13 Train MAE: 4.392527704653532 Train MSE: 63.36358000535547 Test MAE: 4.687982082366943 Test MSE: 90.08069610595703\n",
      "Training finished\n",
      "seq len: 2\n",
      "2021-06-30 00:00:00\n",
      "20220610_021725\n",
      "Shape of train_x: (13537, 2, 37, 1)\n",
      "Shape of train_y: (13537, 2, 37, 1)\n",
      "Shape of test_x: (389, 2, 37, 1)\n",
      "Shape of test_y: (389, 2, 37, 1)\n"
     ]
    },
    {
     "name": "stderr",
     "output_type": "stream",
     "text": [
      "C:\\Users\\Bened\\PycharmProjects\\madrid-traffic\\env\\lib\\site-packages\\torch\\autocast_mode.py:162: UserWarning: User provided device_type of 'cuda', but CUDA is not available. Disabling\n",
      "  warnings.warn('User provided device_type of \\'cuda\\', but CUDA is not available. Disabling')\n"
     ]
    },
    {
     "name": "stdout",
     "output_type": "stream",
     "text": [
      "Epoch: 0 Train MAE: 4.823694924138627 Train MSE: 73.59096054529952 Test MAE: 4.5409111976623535 Test MSE: 73.67651755329676\n",
      "Epoch: 1 Train MAE: 8.514434668253053 Train MSE: 200.83590284639507 Test MAE: 7.734289986746652 Test MSE: 200.7385663583347\n",
      "Epoch: 2 Train MAE: 8.330490746588078 Train MSE: 193.25622812596188 Test MAE: 7.819248812539237 Test MSE: 205.48640789722032\n",
      "Epoch: 3 Train MAE: 8.323751085209397 Train MSE: 193.21882436367844 Test MAE: 7.871224062783377 Test MSE: 197.56873308990913\n",
      "Epoch: 4 Train MAE: 8.318680682272282 Train MSE: 193.2556816283696 Test MAE: 7.941346372876849 Test MSE: 216.64172108682342\n",
      "Epoch: 5 Train MAE: 8.31899192648114 Train MSE: 193.3744470325986 Test MAE: 7.887552533830915 Test MSE: 204.9870122364961\n",
      "Epoch: 6 Train MAE: 8.327902436256409 Train MSE: 193.41664155086283 Test MAE: 7.6341785703386575 Test MSE: 194.8471199610267\n",
      "Training finished\n",
      "seq len: 4\n",
      "2021-06-30 00:00:00\n",
      "20220610_023555\n",
      "Shape of train_x: (9785, 4, 37, 1)\n",
      "Shape of train_y: (9785, 4, 37, 1)\n",
      "Shape of test_x: (260, 4, 37, 1)\n",
      "Shape of test_y: (260, 4, 37, 1)\n"
     ]
    },
    {
     "name": "stderr",
     "output_type": "stream",
     "text": [
      "C:\\Users\\Bened\\PycharmProjects\\madrid-traffic\\env\\lib\\site-packages\\torch\\autocast_mode.py:162: UserWarning: User provided device_type of 'cuda', but CUDA is not available. Disabling\n",
      "  warnings.warn('User provided device_type of \\'cuda\\', but CUDA is not available. Disabling')\n"
     ]
    },
    {
     "name": "stdout",
     "output_type": "stream",
     "text": [
      "Epoch: 0 Train MAE: 5.190443048290178 Train MSE: 87.00376684737755 Test MAE: 5.397977447509765 Test MSE: 107.23364043873912\n",
      "Epoch: 1 Train MAE: 6.417739244847516 Train MSE: 130.2643306650415 Test MAE: 6.547579765319824 Test MSE: 163.21536506153217\n",
      "Epoch: 2 Train MAE: 6.500567504783082 Train MSE: 132.32899849594537 Test MAE: 6.783186244964599 Test MSE: 174.37010039681235\n",
      "Epoch: 3 Train MAE: 6.586228027842403 Train MSE: 134.54566136355757 Test MAE: 7.155847644805908 Test MSE: 188.80596978065154\n",
      "Epoch: 4 Train MAE: 6.585086460986169 Train MSE: 134.77822899914534 Test MAE: 6.686639308929443 Test MSE: 168.5912637762096\n",
      "Training finished\n",
      "seq len: 8\n",
      "2021-06-30 00:00:00\n",
      "20220610_025428\n",
      "Shape of train_x: (5185, 8, 37, 1)\n",
      "Shape of train_y: (5185, 8, 37, 1)\n",
      "Shape of test_x: (127, 8, 37, 1)\n",
      "Shape of test_y: (127, 8, 37, 1)\n"
     ]
    },
    {
     "name": "stderr",
     "output_type": "stream",
     "text": [
      "C:\\Users\\Bened\\PycharmProjects\\madrid-traffic\\env\\lib\\site-packages\\torch\\autocast_mode.py:162: UserWarning: User provided device_type of 'cuda', but CUDA is not available. Disabling\n",
      "  warnings.warn('User provided device_type of \\'cuda\\', but CUDA is not available. Disabling')\n"
     ]
    },
    {
     "name": "stdout",
     "output_type": "stream",
     "text": [
      "Epoch: 0 Train MAE: 6.4894728544281755 Train MSE: 100.99472101622806 Test MAE: 7.0024683475494385 Test MSE: 133.8523851054021\n",
      "Epoch: 1 Train MAE: 6.275801210868649 Train MSE: 99.09176319067751 Test MAE: 5.9234209060668945 Test MSE: 93.06982143527492\n",
      "Epoch: 2 Train MAE: 8.798534160707055 Train MSE: 164.52806335332434 Test MAE: 8.242517948150635 Test MSE: 141.87555380017375\n",
      "Epoch: 3 Train MAE: 10.525992288822081 Train MSE: 212.77929721932165 Test MAE: 9.85022783279419 Test MSE: 186.00866483447703\n",
      "Epoch: 4 Train MAE: 12.129726421542284 Train MSE: 273.5226495111778 Test MAE: 11.20158338546753 Test MSE: 243.48839772549502\n",
      "Training finished\n",
      "seq len: 16\n",
      "2021-06-30 00:00:00\n",
      "20220610_031411\n",
      "Shape of train_x: (1418, 16, 37, 1)\n",
      "Shape of train_y: (1418, 16, 37, 1)\n",
      "Shape of test_x: (29, 16, 37, 1)\n",
      "Shape of test_y: (29, 16, 37, 1)\n"
     ]
    },
    {
     "name": "stderr",
     "output_type": "stream",
     "text": [
      "C:\\Users\\Bened\\PycharmProjects\\madrid-traffic\\env\\lib\\site-packages\\torch\\autocast_mode.py:162: UserWarning: User provided device_type of 'cuda', but CUDA is not available. Disabling\n",
      "  warnings.warn('User provided device_type of \\'cuda\\', but CUDA is not available. Disabling')\n"
     ]
    },
    {
     "name": "stdout",
     "output_type": "stream",
     "text": [
      "Epoch: 0 Train MAE: 8.11804373367973 Train MSE: 135.758333596305 Test MAE: 9.229247093200684 Test MSE: 186.9317169189453\n",
      "Epoch: 1 Train MAE: 7.8723432292108955 Train MSE: 128.9167764604955 Test MAE: 8.854061126708984 Test MSE: 165.33456420898438\n",
      "Epoch: 2 Train MAE: 6.877794182818869 Train MSE: 120.70375718361731 Test MAE: 7.6350507736206055 Test MSE: 141.5707550048828\n",
      "Epoch: 3 Train MAE: 6.12971772318301 Train MSE: 109.3571661848418 Test MAE: 6.744012355804443 Test MSE: 157.51602172851562\n",
      "Epoch: 4 Train MAE: 5.034778035205344 Train MSE: 69.73412549027104 Test MAE: 5.010315418243408 Test MSE: 64.41221618652344\n",
      "Epoch: 5 Train MAE: 4.663895378942075 Train MSE: 63.473026971941735 Test MAE: 4.274311542510986 Test MSE: 56.14569854736328\n",
      "Epoch: 6 Train MAE: 4.818329624507738 Train MSE: 68.15751029380928 Test MAE: 4.304494380950928 Test MSE: 52.01222229003906\n",
      "Epoch: 7 Train MAE: 4.677537192469058 Train MSE: 66.16938639723027 Test MAE: 4.382410526275635 Test MSE: 56.01594161987305\n",
      "Epoch: 8 Train MAE: 4.6748744301173994 Train MSE: 67.68933653140849 Test MAE: 4.390685081481934 Test MSE: 60.5368537902832\n",
      "Epoch: 9 Train MAE: 4.370563652204431 Train MSE: 61.618595242049025 Test MAE: 4.030701637268066 Test MSE: 47.655906677246094\n",
      "Epoch: 10 Train MAE: 4.348776070967965 Train MSE: 63.243227761723624 Test MAE: 4.001111030578613 Test MSE: 49.14286422729492\n",
      "Epoch: 11 Train MAE: 4.654144846874734 Train MSE: 62.40935559241734 Test MAE: 4.459336757659912 Test MSE: 49.963134765625\n",
      "Epoch: 12 Train MAE: 4.3546369801396905 Train MSE: 60.63287045156173 Test MAE: 4.1382737159729 Test MSE: 55.201026916503906\n",
      "Epoch: 13 Train MAE: 4.342135781827181 Train MSE: 60.45586828647651 Test MAE: 3.8829729557037354 Test MSE: 50.3224983215332\n",
      "Epoch: 14 Train MAE: 4.329527771991232 Train MSE: 61.65771325505905 Test MAE: 4.2106032371521 Test MSE: 54.806236267089844\n",
      "Epoch: 15 Train MAE: 4.367228300675102 Train MSE: 61.97203233400693 Test MAE: 4.170247554779053 Test MSE: 45.363529205322266\n",
      "Epoch: 16 Train MAE: 4.323228037875632 Train MSE: 61.12065453253367 Test MAE: 4.326560974121094 Test MSE: 56.50383377075195\n",
      "Epoch: 17 Train MAE: 4.3763995792554775 Train MSE: 63.15805789258966 Test MAE: 4.210641384124756 Test MSE: 49.4400634765625\n",
      "Training finished\n",
      "seq len: 2\n",
      "2021-07-31 00:00:00\n",
      "20220610_035320\n",
      "Shape of train_x: (13956, 2, 37, 1)\n",
      "Shape of train_y: (13956, 2, 37, 1)\n",
      "Shape of test_x: (413, 2, 37, 1)\n",
      "Shape of test_y: (413, 2, 37, 1)\n"
     ]
    },
    {
     "name": "stderr",
     "output_type": "stream",
     "text": [
      "C:\\Users\\Bened\\PycharmProjects\\madrid-traffic\\env\\lib\\site-packages\\torch\\autocast_mode.py:162: UserWarning: User provided device_type of 'cuda', but CUDA is not available. Disabling\n",
      "  warnings.warn('User provided device_type of \\'cuda\\', but CUDA is not available. Disabling')\n"
     ]
    },
    {
     "name": "stdout",
     "output_type": "stream",
     "text": [
      "Epoch: 0 Train MAE: 8.933169935391918 Train MSE: 199.56361152237653 Test MAE: 6.427181925092425 Test MSE: 119.81693135720448\n",
      "Epoch: 1 Train MAE: 10.18188522286611 Train MSE: 231.3428056917809 Test MAE: 6.612083230699811 Test MSE: 127.34907035134248\n",
      "Epoch: 2 Train MAE: 10.58471848648977 Train MSE: 243.86784107628145 Test MAE: 7.110832350594657 Test MSE: 142.15984053348888\n",
      "Epoch: 3 Train MAE: 10.564806703018816 Train MSE: 244.02612841940038 Test MAE: 7.055851595742362 Test MSE: 140.95884036694576\n",
      "Epoch: 4 Train MAE: 10.572826415980787 Train MSE: 244.59396315771477 Test MAE: 7.266514028821673 Test MSE: 152.87776628882804\n",
      "Training finished\n",
      "seq len: 4\n",
      "2021-07-31 00:00:00\n",
      "20220610_040703\n",
      "Shape of train_x: (10063, 4, 37, 1)\n",
      "Shape of train_y: (10063, 4, 37, 1)\n",
      "Shape of test_x: (234, 4, 37, 1)\n",
      "Shape of test_y: (234, 4, 37, 1)\n"
     ]
    },
    {
     "name": "stderr",
     "output_type": "stream",
     "text": [
      "C:\\Users\\Bened\\PycharmProjects\\madrid-traffic\\env\\lib\\site-packages\\torch\\autocast_mode.py:162: UserWarning: User provided device_type of 'cuda', but CUDA is not available. Disabling\n",
      "  warnings.warn('User provided device_type of \\'cuda\\', but CUDA is not available. Disabling')\n"
     ]
    },
    {
     "name": "stdout",
     "output_type": "stream",
     "text": [
      "Epoch: 0 Train MAE: 5.880464683605146 Train MSE: 116.71176833603627 Test MAE: 4.876398921012878 Test MSE: 77.36135569632577\n",
      "Epoch: 1 Train MAE: 7.773855776726445 Train MSE: 164.8819871876058 Test MAE: 5.175736427307129 Test MSE: 106.03576037193784\n",
      "Epoch: 2 Train MAE: 8.01097129568269 Train MSE: 176.3315893084009 Test MAE: 5.340636491775513 Test MSE: 111.84451565035512\n",
      "Epoch: 3 Train MAE: 8.174992147880264 Train MSE: 181.67615064327268 Test MAE: 5.351251006126404 Test MSE: 112.94212473066466\n",
      "Epoch: 4 Train MAE: 8.272881740256201 Train MSE: 183.31098814261114 Test MAE: 5.69673490524292 Test MSE: 127.10668220313796\n",
      "Training finished\n",
      "seq len: 8\n",
      "2021-07-31 00:00:00\n",
      "20220610_042559\n",
      "Shape of train_x: (5317, 8, 37, 1)\n",
      "Shape of train_y: (5317, 8, 37, 1)\n",
      "Shape of test_x: (64, 8, 37, 1)\n",
      "Shape of test_y: (64, 8, 37, 1)\n"
     ]
    },
    {
     "name": "stderr",
     "output_type": "stream",
     "text": [
      "C:\\Users\\Bened\\PycharmProjects\\madrid-traffic\\env\\lib\\site-packages\\torch\\autocast_mode.py:162: UserWarning: User provided device_type of 'cuda', but CUDA is not available. Disabling\n",
      "  warnings.warn('User provided device_type of \\'cuda\\', but CUDA is not available. Disabling')\n"
     ]
    },
    {
     "name": "stdout",
     "output_type": "stream",
     "text": [
      "Epoch: 0 Train MAE: 6.093056167875018 Train MSE: 113.12328296541757 Test MAE: 5.975594520568848 Test MSE: 138.99315504932605\n",
      "Epoch: 1 Train MAE: 4.530689795811971 Train MSE: 70.77506249572403 Test MAE: 5.053430080413818 Test MSE: 94.21028109678083\n",
      "Epoch: 2 Train MAE: 4.438160453523908 Train MSE: 68.32325241665362 Test MAE: 4.834258556365967 Test MSE: 89.91389935737385\n",
      "Epoch: 3 Train MAE: 4.541006298292251 Train MSE: 69.3900839684519 Test MAE: 4.256005764007568 Test MSE: 73.08186404071435\n",
      "Epoch: 4 Train MAE: 4.736356076740083 Train MSE: 71.78770676833288 Test MAE: 4.031205654144287 Test MSE: 66.28073087952954\n",
      "Epoch: 5 Train MAE: 4.667264291218349 Train MSE: 71.20085427261088 Test MAE: 3.977180242538452 Test MSE: 62.53676620084177\n",
      "Epoch: 6 Train MAE: 4.680013560113453 Train MSE: 71.38556076057554 Test MAE: 3.915771007537842 Test MSE: 60.65045714846658\n",
      "Epoch: 7 Train MAE: 4.636010334605262 Train MSE: 70.27321979896918 Test MAE: 3.9034266471862793 Test MSE: 59.68614481940735\n",
      "Epoch: 8 Train MAE: 4.679440322376433 Train MSE: 70.873277784686 Test MAE: 3.8848869800567627 Test MSE: 59.40023394261868\n",
      "Epoch: 9 Train MAE: 4.674173707053775 Train MSE: 70.89240222856515 Test MAE: 3.88224720954895 Test MSE: 59.319953653845026\n",
      "Epoch: 10 Train MAE: 4.663677527790978 Train MSE: 70.59735487135926 Test MAE: 3.8835363388061523 Test MSE: 59.153394598945596\n",
      "Epoch: 11 Train MAE: 4.665815228507633 Train MSE: 70.61269420242304 Test MAE: 3.8790154457092285 Test MSE: 59.13112593179519\n",
      "Epoch: 12 Train MAE: 4.662766362939562 Train MSE: 70.63749250992012 Test MAE: 3.876861095428467 Test MSE: 59.004385301428506\n",
      "Epoch: 13 Train MAE: 4.668478477568853 Train MSE: 70.48767937961338 Test MAE: 3.8769819736480713 Test MSE: 58.99227690052628\n",
      "Epoch: 14 Train MAE: 4.683910284723554 Train MSE: 70.95433797908693 Test MAE: 3.8707399368286133 Test MSE: 58.89411735654839\n",
      "Training finished\n",
      "seq len: 16\n",
      "2021-07-31 00:00:00\n",
      "20220610_052418\n",
      "Shape of train_x: (1447, 16, 37, 1)\n",
      "Shape of train_y: (1447, 16, 37, 1)\n",
      "Shape of test_x: (4, 16, 37, 1)\n",
      "Shape of test_y: (4, 16, 37, 1)\n"
     ]
    },
    {
     "name": "stderr",
     "output_type": "stream",
     "text": [
      "C:\\Users\\Bened\\PycharmProjects\\madrid-traffic\\env\\lib\\site-packages\\torch\\autocast_mode.py:162: UserWarning: User provided device_type of 'cuda', but CUDA is not available. Disabling\n",
      "  warnings.warn('User provided device_type of \\'cuda\\', but CUDA is not available. Disabling')\n"
     ]
    },
    {
     "name": "stdout",
     "output_type": "stream",
     "text": [
      "Epoch: 0 Train MAE: 8.643044140027916 Train MSE: 182.05115878367874 Test MAE: 7.108616828918457 Test MSE: 216.0762939453125\n",
      "Epoch: 1 Train MAE: 6.639629861582881 Train MSE: 132.7937643929218 Test MAE: 8.154930114746094 Test MSE: 186.24749755859375\n",
      "Epoch: 2 Train MAE: 7.2935299458711045 Train MSE: 156.65762430716882 Test MAE: 6.774382591247559 Test MSE: 200.46083068847656\n",
      "Epoch: 3 Train MAE: 6.641738186711851 Train MSE: 129.58711637559412 Test MAE: 8.73840045928955 Test MSE: 191.72286987304688\n",
      "Epoch: 4 Train MAE: 5.833301668581755 Train MSE: 113.97777888699373 Test MAE: 7.201849937438965 Test MSE: 163.234375\n",
      "Epoch: 5 Train MAE: 4.554395343946374 Train MSE: 67.61184953668169 Test MAE: 5.254084587097168 Test MSE: 93.8443603515625\n",
      "Epoch: 6 Train MAE: 5.1130037515059765 Train MSE: 78.50749931427133 Test MAE: 3.9860739707946777 Test MSE: 62.515625\n",
      "Epoch: 7 Train MAE: 4.369038602580195 Train MSE: 64.32858529558898 Test MAE: 4.2421345710754395 Test MSE: 61.18045425415039\n",
      "Epoch: 8 Train MAE: 4.563849324765413 Train MSE: 70.28601646444211 Test MAE: 4.00873327255249 Test MSE: 63.452816009521484\n",
      "Epoch: 9 Train MAE: 4.347395793251369 Train MSE: 63.295750171545606 Test MAE: 4.380856990814209 Test MSE: 63.42624282836914\n",
      "Epoch: 10 Train MAE: 4.350400375283283 Train MSE: 62.04349648351727 Test MAE: 4.60554313659668 Test MSE: 64.53759765625\n",
      "Epoch: 11 Train MAE: 4.320423198782879 Train MSE: 62.98193214931338 Test MAE: 4.3374247550964355 Test MSE: 67.00700378417969\n",
      "Epoch: 12 Train MAE: 4.316219557886538 Train MSE: 62.938556057455074 Test MAE: 4.377906799316406 Test MSE: 65.42279052734375\n",
      "Epoch: 13 Train MAE: 4.311717676079792 Train MSE: 62.7487120529658 Test MAE: 4.2359395027160645 Test MSE: 61.838722229003906\n",
      "Epoch: 14 Train MAE: 4.365718095198922 Train MSE: 64.19238042717352 Test MAE: 4.126576900482178 Test MSE: 63.270347595214844\n",
      "Training finished\n",
      "seq len: 2\n",
      "2021-08-31 00:00:00\n",
      "20220610_055702\n",
      "Shape of train_x: (14369, 2, 37, 1)\n",
      "Shape of train_y: (14369, 2, 37, 1)\n",
      "Shape of test_x: (10, 2, 37, 1)\n",
      "Shape of test_y: (10, 2, 37, 1)\n"
     ]
    },
    {
     "name": "stderr",
     "output_type": "stream",
     "text": [
      "C:\\Users\\Bened\\PycharmProjects\\madrid-traffic\\env\\lib\\site-packages\\torch\\autocast_mode.py:162: UserWarning: User provided device_type of 'cuda', but CUDA is not available. Disabling\n",
      "  warnings.warn('User provided device_type of \\'cuda\\', but CUDA is not available. Disabling')\n"
     ]
    },
    {
     "name": "stdout",
     "output_type": "stream",
     "text": [
      "Epoch: 0 Train MAE: 4.312799853218927 Train MSE: 65.1075948253263 Test MAE: 3.3092751502990723 Test MSE: 32.9262809753418\n",
      "Epoch: 1 Train MAE: 5.2546552636888295 Train MSE: 80.76335157374061 Test MAE: 3.872377872467041 Test MSE: 49.246334075927734\n",
      "Epoch: 2 Train MAE: 5.437481542163425 Train MSE: 85.37111485608953 Test MAE: 7.0809736251831055 Test MSE: 150.1913604736328\n",
      "Epoch: 3 Train MAE: 5.522698152330187 Train MSE: 86.76268530443431 Test MAE: 4.651280403137207 Test MSE: 61.29240798950195\n",
      "Epoch: 4 Train MAE: 5.539779976738823 Train MSE: 87.27279592616898 Test MAE: 4.665462017059326 Test MSE: 61.62812805175781\n",
      "Training finished\n",
      "seq len: 4\n",
      "2021-08-31 00:00:00\n",
      "20220610_061057\n",
      "Shape of train_x: (10297, 4, 37, 1)\n",
      "Shape of train_y: (10297, 4, 37, 1)\n",
      "Shape of test_x: (0, 4, 37, 1)\n",
      "Shape of test_y: (0, 4, 37, 1)\n",
      "num_samples should be a positive integer value, but got num_samples=0\n",
      "seq len: 8\n",
      "2021-08-31 00:00:00\n",
      "20220610_061137\n",
      "Shape of train_x: (5381, 8, 37, 1)\n",
      "Shape of train_y: (5381, 8, 37, 1)\n",
      "Shape of test_x: (0, 8, 37, 1)\n",
      "Shape of test_y: (0, 8, 37, 1)\n",
      "num_samples should be a positive integer value, but got num_samples=0\n",
      "seq len: 16\n",
      "2021-08-31 00:00:00\n",
      "20220610_061207\n",
      "Shape of train_x: (1451, 16, 37, 1)\n",
      "Shape of train_y: (1451, 16, 37, 1)\n",
      "Shape of test_x: (0, 16, 37, 1)\n",
      "Shape of test_y: (0, 16, 37, 1)\n",
      "num_samples should be a positive integer value, but got num_samples=0\n",
      "seq len: 2\n",
      "2021-09-30 00:00:00\n",
      "20220610_061231\n",
      "Shape of train_x: (14379, 2, 37, 1)\n",
      "Shape of train_y: (14379, 2, 37, 1)\n",
      "Shape of test_x: (0, 2, 37, 1)\n",
      "Shape of test_y: (0, 2, 37, 1)\n",
      "num_samples should be a positive integer value, but got num_samples=0\n",
      "seq len: 4\n",
      "2021-09-30 00:00:00\n",
      "20220610_061316\n",
      "Shape of train_x: (10297, 4, 37, 1)\n",
      "Shape of train_y: (10297, 4, 37, 1)\n",
      "Shape of test_x: (0, 4, 37, 1)\n",
      "Shape of test_y: (0, 4, 37, 1)\n",
      "num_samples should be a positive integer value, but got num_samples=0\n",
      "seq len: 8\n",
      "2021-09-30 00:00:00\n",
      "20220610_061355\n",
      "Shape of train_x: (5381, 8, 37, 1)\n",
      "Shape of train_y: (5381, 8, 37, 1)\n",
      "Shape of test_x: (0, 8, 37, 1)\n",
      "Shape of test_y: (0, 8, 37, 1)\n",
      "num_samples should be a positive integer value, but got num_samples=0\n",
      "seq len: 16\n",
      "2021-09-30 00:00:00\n",
      "20220610_061425\n",
      "Shape of train_x: (1451, 16, 37, 1)\n",
      "Shape of train_y: (1451, 16, 37, 1)\n",
      "Shape of test_x: (0, 16, 37, 1)\n",
      "Shape of test_y: (0, 16, 37, 1)\n",
      "num_samples should be a positive integer value, but got num_samples=0\n",
      "seq len: 2\n",
      "2021-10-31 00:00:00\n",
      "20220610_061449\n",
      "Shape of train_x: (14379, 2, 37, 1)\n",
      "Shape of train_y: (14379, 2, 37, 1)\n",
      "Shape of test_x: (0, 2, 37, 1)\n",
      "Shape of test_y: (0, 2, 37, 1)\n",
      "num_samples should be a positive integer value, but got num_samples=0\n",
      "seq len: 4\n",
      "2021-10-31 00:00:00\n",
      "20220610_061535\n",
      "Shape of train_x: (10297, 4, 37, 1)\n",
      "Shape of train_y: (10297, 4, 37, 1)\n",
      "Shape of test_x: (0, 4, 37, 1)\n",
      "Shape of test_y: (0, 4, 37, 1)\n",
      "num_samples should be a positive integer value, but got num_samples=0\n",
      "seq len: 8\n",
      "2021-10-31 00:00:00\n",
      "20220610_061614\n",
      "Shape of train_x: (5381, 8, 37, 1)\n",
      "Shape of train_y: (5381, 8, 37, 1)\n",
      "Shape of test_x: (0, 8, 37, 1)\n",
      "Shape of test_y: (0, 8, 37, 1)\n",
      "num_samples should be a positive integer value, but got num_samples=0\n",
      "seq len: 16\n",
      "2021-10-31 00:00:00\n",
      "20220610_061644\n",
      "Shape of train_x: (1451, 16, 37, 1)\n",
      "Shape of train_y: (1451, 16, 37, 1)\n",
      "Shape of test_x: (0, 16, 37, 1)\n",
      "Shape of test_y: (0, 16, 37, 1)\n",
      "num_samples should be a positive integer value, but got num_samples=0\n",
      "seq len: 2\n",
      "2021-11-30 00:00:00\n",
      "20220610_061707\n",
      "Shape of train_x: (14379, 2, 37, 1)\n",
      "Shape of train_y: (14379, 2, 37, 1)\n",
      "Shape of test_x: (16, 2, 37, 1)\n",
      "Shape of test_y: (16, 2, 37, 1)\n"
     ]
    },
    {
     "name": "stderr",
     "output_type": "stream",
     "text": [
      "C:\\Users\\Bened\\PycharmProjects\\madrid-traffic\\env\\lib\\site-packages\\torch\\autocast_mode.py:162: UserWarning: User provided device_type of 'cuda', but CUDA is not available. Disabling\n",
      "  warnings.warn('User provided device_type of \\'cuda\\', but CUDA is not available. Disabling')\n"
     ]
    },
    {
     "name": "stdout",
     "output_type": "stream",
     "text": [
      "Epoch: 0 Train MAE: 4.471122141944037 Train MSE: 66.58190330461483 Test MAE: 2.275299310684204 Test MSE: 13.08200454711914\n",
      "Epoch: 1 Train MAE: 4.959505774180094 Train MSE: 80.07534566822532 Test MAE: 2.8392412662506104 Test MSE: 27.106416702270508\n",
      "Epoch: 2 Train MAE: 5.762053002251519 Train MSE: 95.21771334123048 Test MAE: 3.7036783695220947 Test MSE: 30.325286865234375\n",
      "Epoch: 3 Train MAE: 5.816826752556695 Train MSE: 96.37635539615171 Test MAE: 2.9552054405212402 Test MSE: 22.348785400390625\n",
      "Epoch: 4 Train MAE: 5.915647031995985 Train MSE: 98.1800307776256 Test MAE: 3.0171797275543213 Test MSE: 22.93183135986328\n",
      "Training finished\n",
      "seq len: 4\n",
      "2021-11-30 00:00:00\n",
      "20220610_063108\n",
      "Shape of train_x: (10297, 4, 37, 1)\n",
      "Shape of train_y: (10297, 4, 37, 1)\n",
      "Shape of test_x: (7, 4, 37, 1)\n",
      "Shape of test_y: (7, 4, 37, 1)\n"
     ]
    },
    {
     "name": "stderr",
     "output_type": "stream",
     "text": [
      "C:\\Users\\Bened\\PycharmProjects\\madrid-traffic\\env\\lib\\site-packages\\torch\\autocast_mode.py:162: UserWarning: User provided device_type of 'cuda', but CUDA is not available. Disabling\n",
      "  warnings.warn('User provided device_type of \\'cuda\\', but CUDA is not available. Disabling')\n"
     ]
    },
    {
     "name": "stdout",
     "output_type": "stream",
     "text": [
      "Epoch: 0 Train MAE: 4.237155003577286 Train MSE: 60.83192490206576 Test MAE: 2.3354897499084473 Test MSE: 14.690531730651855\n",
      "Epoch: 1 Train MAE: 4.149825078360042 Train MSE: 59.58904470506967 Test MAE: 2.3156304359436035 Test MSE: 19.753582000732422\n",
      "Epoch: 2 Train MAE: 4.2036376117919545 Train MSE: 60.68276868742685 Test MAE: 2.1471965312957764 Test MSE: 14.129342079162598\n",
      "Epoch: 3 Train MAE: 4.125643678333448 Train MSE: 58.933424992851954 Test MAE: 2.3818533420562744 Test MSE: 15.957365989685059\n",
      "Epoch: 4 Train MAE: 4.1298380564458625 Train MSE: 59.18707555712333 Test MAE: 2.547335147857666 Test MSE: 16.647977828979492\n",
      "Epoch: 5 Train MAE: 4.126009844845126 Train MSE: 59.05963668196587 Test MAE: 2.596980333328247 Test MSE: 20.741708755493164\n",
      "Epoch: 6 Train MAE: 4.124576204311774 Train MSE: 58.985023105665285 Test MAE: 2.387037754058838 Test MSE: 16.12628936767578\n",
      "Epoch: 7 Train MAE: 4.1239230099672115 Train MSE: 58.970782779684974 Test MAE: 2.3794267177581787 Test MSE: 14.74570083618164\n",
      "Epoch: 8 Train MAE: 4.12181512169216 Train MSE: 58.870028293656915 Test MAE: 2.2937164306640625 Test MSE: 19.576141357421875\n",
      "Epoch: 9 Train MAE: 4.116917921149212 Train MSE: 58.59449672849836 Test MAE: 2.364504337310791 Test MSE: 15.827767372131348\n",
      "Epoch: 10 Train MAE: 4.118299002973189 Train MSE: 58.737775907555225 Test MAE: 2.2901692390441895 Test MSE: 19.497045516967773\n",
      "Epoch: 11 Train MAE: 4.11789598079942 Train MSE: 58.62682791362187 Test MAE: 2.378401041030884 Test MSE: 14.542587280273438\n",
      "Epoch: 12 Train MAE: 4.118309672574819 Train MSE: 58.72996214073854 Test MAE: 2.0505669116973877 Test MSE: 12.679864883422852\n",
      "Epoch: 13 Train MAE: 4.1160787706789765 Train MSE: 58.602762388576004 Test MAE: 2.0501677989959717 Test MSE: 12.596375465393066\n",
      "Epoch: 14 Train MAE: 4.117250334402049 Train MSE: 58.658535974963605 Test MAE: 2.530616283416748 Test MSE: 16.24237632751465\n",
      "Epoch: 15 Train MAE: 4.114745342953605 Train MSE: 58.5383937151641 Test MAE: 2.2903525829315186 Test MSE: 19.401935577392578\n",
      "Epoch: 16 Train MAE: 4.116547550473895 Train MSE: 58.65206614761398 Test MAE: 2.3669700622558594 Test MSE: 15.918524742126465\n",
      "Epoch: 17 Train MAE: 4.115109228939744 Train MSE: 58.545100718126506 Test MAE: 2.026768207550049 Test MSE: 10.444552421569824\n",
      "Epoch: 18 Train MAE: 4.114862250985566 Train MSE: 58.55816541237741 Test MAE: 2.5269641876220703 Test MSE: 16.134063720703125\n",
      "Epoch: 19 Train MAE: 4.114716017468376 Train MSE: 58.558966178495645 Test MAE: 2.358483076095581 Test MSE: 14.45853042602539\n",
      "Training finished\n",
      "seq len: 8\n",
      "2021-11-30 00:00:00\n",
      "20220610_074620\n",
      "Shape of train_x: (5381, 8, 37, 1)\n",
      "Shape of train_y: (5381, 8, 37, 1)\n",
      "Shape of test_x: (0, 8, 37, 1)\n",
      "Shape of test_y: (0, 8, 37, 1)\n",
      "num_samples should be a positive integer value, but got num_samples=0\n",
      "seq len: 16\n",
      "2021-11-30 00:00:00\n",
      "20220610_074651\n",
      "Shape of train_x: (1451, 16, 37, 1)\n",
      "Shape of train_y: (1451, 16, 37, 1)\n",
      "Shape of test_x: (0, 16, 37, 1)\n",
      "Shape of test_y: (0, 16, 37, 1)\n",
      "num_samples should be a positive integer value, but got num_samples=0\n"
     ]
    },
    {
     "data": {
      "text/plain": "<Figure size 432x288 with 0 Axes>"
     },
     "metadata": {},
     "output_type": "display_data"
    }
   ],
   "source": [
    "args[\"dir\"] = \"both\"\n",
    "temporal_dict = {k: \"drop\" for k in temporal_dict.keys()}\n",
    "meteo_dict = {k: \"drop\" for k in meteo_dict.keys()}\n",
    "\n",
    "for train_until in pd.date_range(\"2021-5-27\", \"2021-11-30\", freq=\"1M\"):\n",
    "    for seq_len in [2, 4, 8, 16]:\n",
    "        data_dict[\"seq_len\"] = seq_len\n",
    "        try:\n",
    "            train_with_args(args, data_dict, meteo_dict, temporal_dict, train_until=train_until)\n",
    "        except Exception as e:\n",
    "            print(e)"
   ],
   "metadata": {
    "collapsed": false,
    "pycharm": {
     "name": "#%%\n"
    }
   }
  },
  {
   "cell_type": "markdown",
   "source": [
    "# B:\n",
    "out_feats = 32"
   ],
   "metadata": {
    "collapsed": false,
    "pycharm": {
     "name": "#%% md\n"
    }
   }
  },
  {
   "cell_type": "code",
   "execution_count": 4,
   "outputs": [
    {
     "name": "stdout",
     "output_type": "stream",
     "text": [
      "seq len: 2\n",
      "2021-05-31 00:00:00\n",
      "20220610_074714\n",
      "Shape of train_x: (13283, 2, 37, 1)\n",
      "Shape of train_y: (13283, 2, 37, 1)\n",
      "Shape of test_x: (254, 2, 37, 1)\n",
      "Shape of test_y: (254, 2, 37, 1)\n"
     ]
    },
    {
     "name": "stderr",
     "output_type": "stream",
     "text": [
      "C:\\Users\\Bened\\PycharmProjects\\madrid-traffic\\env\\lib\\site-packages\\torch\\autocast_mode.py:162: UserWarning: User provided device_type of 'cuda', but CUDA is not available. Disabling\n",
      "  warnings.warn('User provided device_type of \\'cuda\\', but CUDA is not available. Disabling')\n"
     ]
    },
    {
     "name": "stdout",
     "output_type": "stream",
     "text": [
      "Epoch: 0 Train MAE: 4.319782255933835 Train MSE: 62.95205541946978 Test MAE: 4.2098023891448975 Test MSE: 55.47370105100238\n",
      "Epoch: 1 Train MAE: 4.101179373952059 Train MSE: 59.37358823294682 Test MAE: 3.973479986190796 Test MSE: 51.449089254191264\n",
      "Epoch: 2 Train MAE: 4.098062522136248 Train MSE: 59.42256469606931 Test MAE: 3.976074516773224 Test MSE: 51.53976252289613\n",
      "Epoch: 3 Train MAE: 4.092529279681353 Train MSE: 59.196541723660864 Test MAE: 3.9662227034568787 Test MSE: 51.37887867100818\n",
      "Epoch: 4 Train MAE: 4.090186056036216 Train MSE: 59.124470619408605 Test MAE: 3.9598323106765747 Test MSE: 51.19244233593673\n",
      "Epoch: 5 Train MAE: 4.09356403694703 Train MSE: 59.15044897829118 Test MAE: 3.9626266956329346 Test MSE: 51.138281782328406\n",
      "Epoch: 6 Train MAE: 4.0931986066011286 Train MSE: 59.20732922619295 Test MAE: 3.9623332023620605 Test MSE: 51.258600798050736\n",
      "Epoch: 7 Train MAE: 4.090721590014605 Train MSE: 59.124939037372734 Test MAE: 3.9545818567276 Test MSE: 51.07830354661044\n",
      "Epoch: 8 Train MAE: 4.09374205997357 Train MSE: 59.1374879291354 Test MAE: 3.9649906158447266 Test MSE: 51.22248914654376\n",
      "Training finished\n",
      "seq len: 4\n",
      "2021-05-31 00:00:00\n",
      "20220610_080023\n",
      "Shape of train_x: (9640, 4, 37, 1)\n",
      "Shape of train_y: (9640, 4, 37, 1)\n",
      "Shape of test_x: (145, 4, 37, 1)\n",
      "Shape of test_y: (145, 4, 37, 1)\n"
     ]
    },
    {
     "name": "stderr",
     "output_type": "stream",
     "text": [
      "C:\\Users\\Bened\\PycharmProjects\\madrid-traffic\\env\\lib\\site-packages\\torch\\autocast_mode.py:162: UserWarning: User provided device_type of 'cuda', but CUDA is not available. Disabling\n",
      "  warnings.warn('User provided device_type of \\'cuda\\', but CUDA is not available. Disabling')\n"
     ]
    },
    {
     "name": "stdout",
     "output_type": "stream",
     "text": [
      "Epoch: 0 Train MAE: 4.569426084985796 Train MSE: 67.78188647926748 Test MAE: 4.610217730204265 Test MSE: 69.31010633708586\n",
      "Epoch: 1 Train MAE: 4.295687659686764 Train MSE: 60.14634170971804 Test MAE: 3.8822919527689614 Test MSE: 46.493686376959054\n",
      "Epoch: 2 Train MAE: 4.207549862514268 Train MSE: 59.965493044070364 Test MAE: 3.941791216532389 Test MSE: 47.79436028942479\n",
      "Epoch: 3 Train MAE: 4.2019783676854825 Train MSE: 60.31028283640298 Test MAE: 3.9362335205078125 Test MSE: 51.76157184097138\n",
      "Epoch: 4 Train MAE: 4.203607538677999 Train MSE: 60.323843939929134 Test MAE: 3.802526871363322 Test MSE: 46.42967778014921\n",
      "Epoch: 5 Train MAE: 4.199152311741911 Train MSE: 60.1058653013881 Test MAE: 4.219576438268025 Test MSE: 55.71278706289402\n",
      "Epoch: 6 Train MAE: 4.1980735876702315 Train MSE: 60.1240315755758 Test MAE: 3.9258907636006675 Test MSE: 45.78580890336593\n",
      "Epoch: 7 Train MAE: 4.196152859176231 Train MSE: 60.079032287205635 Test MAE: 3.9678820768992105 Test MSE: 46.6671255182095\n",
      "Epoch: 8 Train MAE: 4.198647011194797 Train MSE: 60.14733681957306 Test MAE: 3.7820111910502114 Test MSE: 43.74191506277551\n",
      "Epoch: 9 Train MAE: 4.199990307258455 Train MSE: 60.16879789167975 Test MAE: 3.867773691813151 Test MSE: 45.80194463593989\n",
      "Training finished\n",
      "seq len: 8\n",
      "2021-05-31 00:00:00\n",
      "20220610_082106\n",
      "Shape of train_x: (5142, 8, 37, 1)\n",
      "Shape of train_y: (5142, 8, 37, 1)\n",
      "Shape of test_x: (43, 8, 37, 1)\n",
      "Shape of test_y: (43, 8, 37, 1)\n"
     ]
    },
    {
     "name": "stderr",
     "output_type": "stream",
     "text": [
      "C:\\Users\\Bened\\PycharmProjects\\madrid-traffic\\env\\lib\\site-packages\\torch\\autocast_mode.py:162: UserWarning: User provided device_type of 'cuda', but CUDA is not available. Disabling\n",
      "  warnings.warn('User provided device_type of \\'cuda\\', but CUDA is not available. Disabling')\n"
     ]
    },
    {
     "name": "stdout",
     "output_type": "stream",
     "text": [
      "Epoch: 0 Train MAE: 5.651449221151847 Train MSE: 104.58767656003506 Test MAE: 6.314567565917969 Test MSE: 157.2878875732422\n",
      "Epoch: 1 Train MAE: 4.5207879337263694 Train MSE: 63.588766066563714 Test MAE: 4.052218914031982 Test MSE: 49.57366943359375\n",
      "Epoch: 2 Train MAE: 4.419337696499294 Train MSE: 63.48919230848389 Test MAE: 4.143367290496826 Test MSE: 55.777435302734375\n",
      "Epoch: 3 Train MAE: 4.390715699136993 Train MSE: 63.55651541901687 Test MAE: 3.9851222038269043 Test MSE: 50.663551330566406\n",
      "Epoch: 4 Train MAE: 4.3763772234504605 Train MSE: 63.124315366745535 Test MAE: 4.076630592346191 Test MSE: 53.604557037353516\n",
      "Epoch: 5 Train MAE: 4.378492961695165 Train MSE: 63.100402565882135 Test MAE: 4.2212982177734375 Test MSE: 57.039241790771484\n",
      "Epoch: 6 Train MAE: 4.382477036228886 Train MSE: 63.10434846290945 Test MAE: 4.201419830322266 Test MSE: 64.8216552734375\n",
      "Epoch: 7 Train MAE: 4.366966630205696 Train MSE: 62.482245459769445 Test MAE: 4.258835315704346 Test MSE: 56.9766960144043\n",
      "Epoch: 8 Train MAE: 4.372452865412206 Train MSE: 62.95369135577339 Test MAE: 4.243092060089111 Test MSE: 67.75982666015625\n",
      "Epoch: 9 Train MAE: 4.361448061319045 Train MSE: 62.82456402146982 Test MAE: 4.164022922515869 Test MSE: 55.82014083862305\n",
      "Epoch: 10 Train MAE: 4.370648743193827 Train MSE: 63.114210711720766 Test MAE: 4.288506984710693 Test MSE: 55.82664108276367\n",
      "Training finished\n",
      "seq len: 16\n",
      "2021-05-31 00:00:00\n",
      "20220610_084451\n",
      "Shape of train_x: (1416, 16, 37, 1)\n",
      "Shape of train_y: (1416, 16, 37, 1)\n",
      "Shape of test_x: (2, 16, 37, 1)\n",
      "Shape of test_y: (2, 16, 37, 1)\n"
     ]
    },
    {
     "name": "stderr",
     "output_type": "stream",
     "text": [
      "C:\\Users\\Bened\\PycharmProjects\\madrid-traffic\\env\\lib\\site-packages\\torch\\autocast_mode.py:162: UserWarning: User provided device_type of 'cuda', but CUDA is not available. Disabling\n",
      "  warnings.warn('User provided device_type of \\'cuda\\', but CUDA is not available. Disabling')\n"
     ]
    },
    {
     "name": "stdout",
     "output_type": "stream",
     "text": [
      "Epoch: 0 Train MAE: 6.873541375865107 Train MSE: 139.5168141468993 Test MAE: 7.355198383331299 Test MSE: 224.9590301513672\n",
      "Epoch: 1 Train MAE: 7.2469329833984375 Train MSE: 155.22951561098986 Test MAE: 8.194416046142578 Test MSE: 259.34381103515625\n",
      "Epoch: 2 Train MAE: 6.909187109574027 Train MSE: 148.5320047353966 Test MAE: 7.783358097076416 Test MSE: 249.8401641845703\n",
      "Epoch: 3 Train MAE: 6.63516672797825 Train MSE: 141.60149712354857 Test MAE: 7.532588005065918 Test MSE: 247.56748962402344\n",
      "Epoch: 4 Train MAE: 6.530179770096488 Train MSE: 134.67954319016218 Test MAE: 7.344581604003906 Test MSE: 234.99826049804688\n",
      "Epoch: 5 Train MAE: 6.452567701754362 Train MSE: 128.92119567914204 Test MAE: 7.121930122375488 Test MSE: 217.9995880126953\n",
      "Epoch: 6 Train MAE: 6.085268932840099 Train MSE: 119.05332237533408 Test MAE: 7.026935577392578 Test MSE: 217.93624877929688\n",
      "Epoch: 7 Train MAE: 5.053013469861901 Train MSE: 70.78918992807901 Test MAE: 5.550249099731445 Test MSE: 117.8254623413086\n",
      "Epoch: 8 Train MAE: 4.572024055149244 Train MSE: 71.57481932106812 Test MAE: 4.972283840179443 Test MSE: 94.82329559326172\n",
      "Epoch: 9 Train MAE: 4.544157629427702 Train MSE: 66.55656312701063 Test MAE: 4.948277473449707 Test MSE: 102.30297088623047\n",
      "Epoch: 10 Train MAE: 4.502951787865681 Train MSE: 64.49347465946443 Test MAE: 4.466664791107178 Test MSE: 82.77719116210938\n",
      "Epoch: 11 Train MAE: 4.474392476289169 Train MSE: 65.4889948318103 Test MAE: 5.064240455627441 Test MSE: 96.1459732055664\n",
      "Epoch: 12 Train MAE: 4.501281240712041 Train MSE: 62.38798256104123 Test MAE: 4.507179260253906 Test MSE: 88.0124282836914\n",
      "Epoch: 13 Train MAE: 4.413888350777004 Train MSE: 65.1928138953529 Test MAE: 4.827635288238525 Test MSE: 92.94261932373047\n",
      "Epoch: 14 Train MAE: 4.539043986279031 Train MSE: 66.02493630654192 Test MAE: 4.93548059463501 Test MSE: 91.25274658203125\n",
      "Training finished\n",
      "seq len: 2\n",
      "2021-06-30 00:00:00\n",
      "20220610_090539\n",
      "Shape of train_x: (13537, 2, 37, 1)\n",
      "Shape of train_y: (13537, 2, 37, 1)\n",
      "Shape of test_x: (389, 2, 37, 1)\n",
      "Shape of test_y: (389, 2, 37, 1)\n"
     ]
    },
    {
     "name": "stderr",
     "output_type": "stream",
     "text": [
      "C:\\Users\\Bened\\PycharmProjects\\madrid-traffic\\env\\lib\\site-packages\\torch\\autocast_mode.py:162: UserWarning: User provided device_type of 'cuda', but CUDA is not available. Disabling\n",
      "  warnings.warn('User provided device_type of \\'cuda\\', but CUDA is not available. Disabling')\n"
     ]
    },
    {
     "name": "stdout",
     "output_type": "stream",
     "text": [
      "Epoch: 0 Train MAE: 4.3302042540514245 Train MSE: 63.548449655266054 Test MAE: 3.728538751602173 Test MSE: 46.34872845713948\n",
      "Epoch: 1 Train MAE: 4.108371263405062 Train MSE: 58.986013887904875 Test MAE: 3.4890548501695906 Test MSE: 40.979085907483345\n",
      "Epoch: 2 Train MAE: 4.091373576308197 Train MSE: 58.93486834800058 Test MAE: 3.7807090623038158 Test MSE: 49.68855875237074\n",
      "Epoch: 3 Train MAE: 4.0882314499819055 Train MSE: 58.866324794298976 Test MAE: 3.657559735434396 Test MSE: 43.11126099857717\n",
      "Epoch: 4 Train MAE: 4.087901646236204 Train MSE: 58.87901206370431 Test MAE: 3.8722890445164273 Test MSE: 47.44357753551636\n",
      "Epoch: 5 Train MAE: 4.086267133928695 Train MSE: 58.841952024250276 Test MAE: 3.618359293256487 Test MSE: 42.78201925913799\n",
      "Epoch: 6 Train MAE: 4.088624773160467 Train MSE: 58.89719856260365 Test MAE: 3.749722923551287 Test MSE: 46.65187492540648\n",
      "Epoch: 7 Train MAE: 4.086240445667842 Train MSE: 58.87368000912304 Test MAE: 3.5316294601985385 Test MSE: 41.31282875621191\n",
      "Epoch: 8 Train MAE: 4.089518874321344 Train MSE: 59.019040872551024 Test MAE: 3.3714450768062045 Test MSE: 39.044501552895206\n",
      "Training finished\n",
      "seq len: 4\n",
      "2021-06-30 00:00:00\n",
      "20220610_092016\n",
      "Shape of train_x: (9785, 4, 37, 1)\n",
      "Shape of train_y: (9785, 4, 37, 1)\n",
      "Shape of test_x: (260, 4, 37, 1)\n",
      "Shape of test_y: (260, 4, 37, 1)\n"
     ]
    },
    {
     "name": "stderr",
     "output_type": "stream",
     "text": [
      "C:\\Users\\Bened\\PycharmProjects\\madrid-traffic\\env\\lib\\site-packages\\torch\\autocast_mode.py:162: UserWarning: User provided device_type of 'cuda', but CUDA is not available. Disabling\n",
      "  warnings.warn('User provided device_type of \\'cuda\\', but CUDA is not available. Disabling')\n"
     ]
    },
    {
     "name": "stdout",
     "output_type": "stream",
     "text": [
      "Epoch: 0 Train MAE: 4.815480799456827 Train MSE: 69.39033264739555 Test MAE: 4.921975803375244 Test MSE: 73.01581419997447\n",
      "Epoch: 1 Train MAE: 4.32847988839243 Train MSE: 62.692131620802435 Test MAE: 3.858796405792236 Test MSE: 52.39519643242636\n",
      "Epoch: 2 Train MAE: 4.232235102871664 Train MSE: 60.66438802168825 Test MAE: 4.0892857074737545 Test MSE: 56.265477288379614\n",
      "Epoch: 3 Train MAE: 4.222393872691136 Train MSE: 60.17532955326635 Test MAE: 3.9114871501922606 Test MSE: 50.57405915310763\n",
      "Epoch: 4 Train MAE: 4.219107955109839 Train MSE: 60.36311550811569 Test MAE: 3.7279820442199707 Test MSE: 46.80805628065004\n",
      "Epoch: 5 Train MAE: 4.218257632910037 Train MSE: 60.29538770304089 Test MAE: 3.728312301635742 Test MSE: 46.62626640300865\n",
      "Epoch: 6 Train MAE: 4.217898604137446 Train MSE: 60.27325869096121 Test MAE: 3.809895133972168 Test MSE: 49.05586097462046\n",
      "Epoch: 7 Train MAE: 4.217784200618469 Train MSE: 60.30071355395234 Test MAE: 3.7047262668609617 Test MSE: 49.737520378138015\n",
      "Epoch: 8 Train MAE: 4.216837725608177 Train MSE: 60.26053187012832 Test MAE: 3.9189109325408937 Test MSE: 55.28043357293584\n",
      "Epoch: 9 Train MAE: 4.217313528060913 Train MSE: 60.282713102520134 Test MAE: 3.730789041519165 Test MSE: 48.661908760444845\n",
      "Epoch: 10 Train MAE: 4.216155041277019 Train MSE: 60.24010877608825 Test MAE: 3.79068546295166 Test MSE: 51.40345367221198\n",
      "Epoch: 11 Train MAE: 4.216363048241808 Train MSE: 60.31471935531138 Test MAE: 3.6973167419433595 Test MSE: 45.350749975455145\n",
      "Training finished\n",
      "seq len: 8\n",
      "2021-06-30 00:00:00\n",
      "20220610_095135\n",
      "Shape of train_x: (5185, 8, 37, 1)\n",
      "Shape of train_y: (5185, 8, 37, 1)\n",
      "Shape of test_x: (127, 8, 37, 1)\n",
      "Shape of test_y: (127, 8, 37, 1)\n"
     ]
    },
    {
     "name": "stderr",
     "output_type": "stream",
     "text": [
      "C:\\Users\\Bened\\PycharmProjects\\madrid-traffic\\env\\lib\\site-packages\\torch\\autocast_mode.py:162: UserWarning: User provided device_type of 'cuda', but CUDA is not available. Disabling\n",
      "  warnings.warn('User provided device_type of \\'cuda\\', but CUDA is not available. Disabling')\n"
     ]
    },
    {
     "name": "stdout",
     "output_type": "stream",
     "text": [
      "Epoch: 0 Train MAE: 6.442099507262067 Train MSE: 131.7662188115159 Test MAE: 7.340687990188599 Test MSE: 193.88690604397715\n",
      "Epoch: 1 Train MAE: 5.565439910423465 Train MSE: 97.62543454647178 Test MAE: 5.7725830078125 Test MSE: 107.4525177254972\n",
      "Epoch: 2 Train MAE: 4.657538757091615 Train MSE: 71.11905181338267 Test MAE: 4.162906169891357 Test MSE: 62.28215096030205\n",
      "Epoch: 3 Train MAE: 4.462988556885138 Train MSE: 64.71907371302908 Test MAE: 3.930973768234253 Test MSE: 53.369420944116854\n",
      "Epoch: 4 Train MAE: 4.372002456246353 Train MSE: 63.24522095674984 Test MAE: 3.8338847160339355 Test MSE: 51.16293598944269\n",
      "Epoch: 5 Train MAE: 4.379186717475333 Train MSE: 64.05718704412077 Test MAE: 3.8192944526672363 Test MSE: 51.619812342441094\n",
      "Epoch: 6 Train MAE: 4.34473809672565 Train MSE: 62.727455851599544 Test MAE: 3.8215614557266235 Test MSE: 51.3296448170628\n",
      "Epoch: 7 Train MAE: 4.339992337110566 Train MSE: 63.016679048619274 Test MAE: 3.8034627437591553 Test MSE: 50.860011938015575\n",
      "Epoch: 8 Train MAE: 4.341805010307126 Train MSE: 62.86117856145035 Test MAE: 3.8066920042037964 Test MSE: 50.7563284607496\n",
      "Epoch: 9 Train MAE: 4.354300004679982 Train MSE: 63.78222253177548 Test MAE: 3.8019754886627197 Test MSE: 50.80335442794013\n",
      "Epoch: 10 Train MAE: 4.3668508471512215 Train MSE: 64.10448682068396 Test MAE: 3.804003953933716 Test MSE: 51.00544143941644\n",
      "Training finished\n",
      "seq len: 16\n",
      "2021-06-30 00:00:00\n",
      "20220610_101902\n",
      "Shape of train_x: (1418, 16, 37, 1)\n",
      "Shape of train_y: (1418, 16, 37, 1)\n",
      "Shape of test_x: (29, 16, 37, 1)\n",
      "Shape of test_y: (29, 16, 37, 1)\n"
     ]
    },
    {
     "name": "stderr",
     "output_type": "stream",
     "text": [
      "C:\\Users\\Bened\\PycharmProjects\\madrid-traffic\\env\\lib\\site-packages\\torch\\autocast_mode.py:162: UserWarning: User provided device_type of 'cuda', but CUDA is not available. Disabling\n",
      "  warnings.warn('User provided device_type of \\'cuda\\', but CUDA is not available. Disabling')\n"
     ]
    },
    {
     "name": "stdout",
     "output_type": "stream",
     "text": [
      "Epoch: 0 Train MAE: 9.715400073839271 Train MSE: 156.4523112542268 Test MAE: 11.315213203430176 Test MSE: 218.84986877441406\n",
      "Epoch: 1 Train MAE: 6.554952186086903 Train MSE: 134.8789213866586 Test MAE: 7.49846076965332 Test MSE: 190.32925415039062\n",
      "Epoch: 2 Train MAE: 7.691596570222274 Train MSE: 165.1047253541506 Test MAE: 7.808224201202393 Test MSE: 212.83680725097656\n",
      "Epoch: 3 Train MAE: 6.717127903648045 Train MSE: 128.64456005874203 Test MAE: 7.388254642486572 Test MSE: 163.2455596923828\n",
      "Epoch: 4 Train MAE: 6.713214480358621 Train MSE: 126.99710729176832 Test MAE: 7.7887349128723145 Test MSE: 173.84695434570312\n",
      "Epoch: 5 Train MAE: 6.207363232322361 Train MSE: 123.63716443159637 Test MAE: 7.322026252746582 Test MSE: 195.8925323486328\n",
      "Epoch: 6 Train MAE: 5.20403586263242 Train MSE: 87.18764750520816 Test MAE: 5.5380449295043945 Test MSE: 90.82311248779297\n",
      "Epoch: 7 Train MAE: 4.6891909474911895 Train MSE: 67.7524518903031 Test MAE: 4.716851711273193 Test MSE: 58.47165298461914\n",
      "Epoch: 8 Train MAE: 4.6239678134088935 Train MSE: 68.92500486135921 Test MAE: 4.118118762969971 Test MSE: 47.25926208496094\n",
      "Epoch: 9 Train MAE: 4.484418319619221 Train MSE: 65.07758996604146 Test MAE: 4.137307643890381 Test MSE: 48.57979965209961\n",
      "Epoch: 10 Train MAE: 4.783553227134373 Train MSE: 70.21347565517956 Test MAE: 4.585172653198242 Test MSE: 54.536415100097656\n",
      "Epoch: 11 Train MAE: 4.472700658051864 Train MSE: 64.30669087920705 Test MAE: 4.3429460525512695 Test MSE: 53.226924896240234\n",
      "Epoch: 12 Train MAE: 4.461538335551387 Train MSE: 65.80185300680854 Test MAE: 4.171594619750977 Test MSE: 52.430030822753906\n",
      "Epoch: 13 Train MAE: 4.406136512756348 Train MSE: 62.77766347488086 Test MAE: 3.990914821624756 Test MSE: 46.74725341796875\n",
      "Epoch: 14 Train MAE: 4.4425467822862705 Train MSE: 64.34686397104836 Test MAE: 4.131725311279297 Test MSE: 51.35497283935547\n",
      "Epoch: 15 Train MAE: 4.429901745008386 Train MSE: 63.98249351105274 Test MAE: 4.0776448249816895 Test MSE: 48.98662567138672\n",
      "Epoch: 16 Train MAE: 4.414842916571575 Train MSE: 63.37150300008749 Test MAE: 4.212608814239502 Test MSE: 52.43598175048828\n",
      "Epoch: 17 Train MAE: 4.4133411697719405 Train MSE: 63.29119646311013 Test MAE: 3.9907543659210205 Test MSE: 45.72596740722656\n",
      "Epoch: 18 Train MAE: 4.405199983845586 Train MSE: 63.708150567407344 Test MAE: 3.968956232070923 Test MSE: 45.11796569824219\n",
      "Epoch: 19 Train MAE: 4.4057701152303945 Train MSE: 63.39044773116667 Test MAE: 3.968377113342285 Test MSE: 45.60272216796875\n",
      "Training finished\n",
      "seq len: 2\n",
      "2021-07-31 00:00:00\n",
      "20220610_104946\n",
      "Shape of train_x: (13956, 2, 37, 1)\n",
      "Shape of train_y: (13956, 2, 37, 1)\n",
      "Shape of test_x: (413, 2, 37, 1)\n",
      "Shape of test_y: (413, 2, 37, 1)\n"
     ]
    },
    {
     "name": "stderr",
     "output_type": "stream",
     "text": [
      "C:\\Users\\Bened\\PycharmProjects\\madrid-traffic\\env\\lib\\site-packages\\torch\\autocast_mode.py:162: UserWarning: User provided device_type of 'cuda', but CUDA is not available. Disabling\n",
      "  warnings.warn('User provided device_type of \\'cuda\\', but CUDA is not available. Disabling')\n"
     ]
    },
    {
     "name": "stdout",
     "output_type": "stream",
     "text": [
      "Epoch: 0 Train MAE: 4.126953637763245 Train MSE: 59.27682712224478 Test MAE: 3.1374688148498535 Test MSE: 36.76529375698892\n",
      "Epoch: 1 Train MAE: 4.05483015704917 Train MSE: 57.28112229777354 Test MAE: 3.05926183291844 Test MSE: 35.02912658950156\n",
      "Epoch: 2 Train MAE: 4.042019803774411 Train MSE: 57.349296198620195 Test MAE: 3.0603209904261996 Test MSE: 37.262320371221804\n",
      "Epoch: 3 Train MAE: 4.052504357681971 Train MSE: 57.63825796710185 Test MAE: 3.016647611345564 Test MSE: 35.24854421642059\n",
      "Epoch: 4 Train MAE: 4.04242169258257 Train MSE: 57.356562267032665 Test MAE: 3.0945262568337575 Test MSE: 37.724639956882186\n",
      "Epoch: 5 Train MAE: 4.0372110480042895 Train MSE: 57.21662291600356 Test MAE: 2.969433750425066 Test MSE: 34.29145400001927\n",
      "Epoch: 6 Train MAE: 4.042858607148471 Train MSE: 57.332989732243654 Test MAE: 2.961597272327968 Test MSE: 34.02589706513119\n",
      "Epoch: 7 Train MAE: 4.037637683354556 Train MSE: 57.30622107281758 Test MAE: 3.0244787079947337 Test MSE: 34.93473033134685\n",
      "Epoch: 8 Train MAE: 4.0497844153887606 Train MSE: 57.51876454788309 Test MAE: 3.0491563933236256 Test MSE: 37.50463547419478\n",
      "Training finished\n",
      "seq len: 4\n",
      "2021-07-31 00:00:00\n",
      "20220610_110620\n",
      "Shape of train_x: (10063, 4, 37, 1)\n",
      "Shape of train_y: (10063, 4, 37, 1)\n",
      "Shape of test_x: (234, 4, 37, 1)\n",
      "Shape of test_y: (234, 4, 37, 1)\n"
     ]
    },
    {
     "name": "stderr",
     "output_type": "stream",
     "text": [
      "C:\\Users\\Bened\\PycharmProjects\\madrid-traffic\\env\\lib\\site-packages\\torch\\autocast_mode.py:162: UserWarning: User provided device_type of 'cuda', but CUDA is not available. Disabling\n",
      "  warnings.warn('User provided device_type of \\'cuda\\', but CUDA is not available. Disabling')\n"
     ]
    },
    {
     "name": "stdout",
     "output_type": "stream",
     "text": [
      "Epoch: 0 Train MAE: 4.7297353623788565 Train MSE: 69.01483989869021 Test MAE: 4.849452614784241 Test MSE: 64.18570764633749\n",
      "Epoch: 1 Train MAE: 4.274279322805284 Train MSE: 60.70798103769478 Test MAE: 3.4529659748077393 Test MSE: 41.30161228352983\n",
      "Epoch: 2 Train MAE: 4.241274157656899 Train MSE: 61.03131777615288 Test MAE: 3.300016403198242 Test MSE: 40.17474614825663\n",
      "Epoch: 3 Train MAE: 4.22220243834242 Train MSE: 60.18047652731225 Test MAE: 3.4513752460479736 Test MSE: 44.92912770145028\n",
      "Epoch: 4 Train MAE: 4.225218086303035 Train MSE: 60.25543845628756 Test MAE: 3.4134439826011658 Test MSE: 46.13008687443473\n",
      "Epoch: 5 Train MAE: 4.223122168190872 Train MSE: 60.05404261379126 Test MAE: 3.34063321352005 Test MSE: 40.670531810537966\n",
      "Epoch: 6 Train MAE: 4.223555134821542 Train MSE: 60.08294742421124 Test MAE: 3.3065796494483948 Test MSE: 39.70407691090381\n",
      "Epoch: 7 Train MAE: 4.235881274259543 Train MSE: 60.38832476207904 Test MAE: 3.407780349254608 Test MSE: 43.62394943098367\n",
      "Training finished\n",
      "seq len: 8\n",
      "2021-07-31 00:00:00\n",
      "20220610_112726\n",
      "Shape of train_x: (5317, 8, 37, 1)\n",
      "Shape of train_y: (5317, 8, 37, 1)\n",
      "Shape of test_x: (64, 8, 37, 1)\n",
      "Shape of test_y: (64, 8, 37, 1)\n"
     ]
    },
    {
     "name": "stderr",
     "output_type": "stream",
     "text": [
      "C:\\Users\\Bened\\PycharmProjects\\madrid-traffic\\env\\lib\\site-packages\\torch\\autocast_mode.py:162: UserWarning: User provided device_type of 'cuda', but CUDA is not available. Disabling\n",
      "  warnings.warn('User provided device_type of \\'cuda\\', but CUDA is not available. Disabling')\n"
     ]
    },
    {
     "name": "stdout",
     "output_type": "stream",
     "text": [
      "Epoch: 0 Train MAE: 7.835779252506438 Train MSE: 176.7433856370908 Test MAE: 6.294980525970459 Test MSE: 182.24580946177815\n",
      "Epoch: 1 Train MAE: 5.464610576629639 Train MSE: 103.84232029439644 Test MAE: 4.768181800842285 Test MSE: 89.01547838572239\n",
      "Epoch: 2 Train MAE: 4.54705422265189 Train MSE: 66.91489738683576 Test MAE: 4.131434440612793 Test MSE: 51.88152920212696\n",
      "Epoch: 3 Train MAE: 4.373267236210051 Train MSE: 64.1492648993358 Test MAE: 3.566880464553833 Test MSE: 46.013936189207996\n",
      "Epoch: 4 Train MAE: 4.33324488571712 Train MSE: 62.98238905002693 Test MAE: 3.586320161819458 Test MSE: 45.3119741493771\n",
      "Epoch: 5 Train MAE: 4.32081633522397 Train MSE: 62.555305907434274 Test MAE: 3.6565957069396973 Test MSE: 45.220266026073034\n",
      "Epoch: 6 Train MAE: 4.319560743513561 Train MSE: 62.30959902889342 Test MAE: 3.685925006866455 Test MSE: 45.13878237222517\n",
      "Epoch: 7 Train MAE: 4.326072051411583 Train MSE: 62.758620512002096 Test MAE: 3.6425604820251465 Test MSE: 44.974264712608296\n",
      "Epoch: 8 Train MAE: 4.321770071983337 Train MSE: 62.97010963735878 Test MAE: 3.6168150901794434 Test MSE: 44.932076594465315\n",
      "Epoch: 9 Train MAE: 4.317075689633687 Train MSE: 62.36740648716635 Test MAE: 3.6335396766662598 Test MSE: 44.94547455509475\n",
      "Epoch: 10 Train MAE: 4.313734417869931 Train MSE: 62.36547599744854 Test MAE: 3.614874839782715 Test MSE: 44.91266621959687\n",
      "Epoch: 11 Train MAE: 4.318712359382992 Train MSE: 62.61368603400811 Test MAE: 3.622626543045044 Test MSE: 44.93034243720691\n",
      "Epoch: 12 Train MAE: 4.307688696043832 Train MSE: 62.355752585797866 Test MAE: 3.625152587890625 Test MSE: 44.93333492277577\n",
      "Epoch: 13 Train MAE: 4.317722524915423 Train MSE: 62.86353487575457 Test MAE: 3.619229316711426 Test MSE: 44.91975342505732\n",
      "Training finished\n",
      "seq len: 16\n",
      "2021-07-31 00:00:00\n",
      "20220610_120153\n",
      "Shape of train_x: (1447, 16, 37, 1)\n",
      "Shape of train_y: (1447, 16, 37, 1)\n",
      "Shape of test_x: (4, 16, 37, 1)\n",
      "Shape of test_y: (4, 16, 37, 1)\n"
     ]
    },
    {
     "name": "stderr",
     "output_type": "stream",
     "text": [
      "C:\\Users\\Bened\\PycharmProjects\\madrid-traffic\\env\\lib\\site-packages\\torch\\autocast_mode.py:162: UserWarning: User provided device_type of 'cuda', but CUDA is not available. Disabling\n",
      "  warnings.warn('User provided device_type of \\'cuda\\', but CUDA is not available. Disabling')\n"
     ]
    },
    {
     "name": "stdout",
     "output_type": "stream",
     "text": [
      "Epoch: 0 Train MAE: 8.489353967749555 Train MSE: 141.40677190754093 Test MAE: 12.551228523254395 Test MSE: 263.1793518066406\n",
      "Epoch: 1 Train MAE: 10.047879260519277 Train MSE: 222.35441552764982 Test MAE: 7.07999324798584 Test MSE: 188.9442901611328\n",
      "Epoch: 2 Train MAE: 6.805210279381794 Train MSE: 143.74893556609987 Test MAE: 7.664704322814941 Test MSE: 212.3485870361328\n",
      "Epoch: 3 Train MAE: 6.561670676521633 Train MSE: 141.22699120484214 Test MAE: 7.498411655426025 Test MSE: 185.4951934814453\n",
      "Epoch: 4 Train MAE: 6.351668482241423 Train MSE: 129.461230701763 Test MAE: 8.0429105758667 Test MSE: 182.882568359375\n",
      "Epoch: 5 Train MAE: 5.280845517697542 Train MSE: 92.46972560057175 Test MAE: 5.3069562911987305 Test MSE: 87.1399154663086\n",
      "Epoch: 6 Train MAE: 4.471811771392822 Train MSE: 63.68267653584426 Test MAE: 4.3880414962768555 Test MSE: 61.493289947509766\n",
      "Epoch: 7 Train MAE: 4.7632002415864365 Train MSE: 62.69741825255237 Test MAE: 5.3003435134887695 Test MSE: 67.01837921142578\n",
      "Epoch: 8 Train MAE: 4.540354189665421 Train MSE: 62.11388685940592 Test MAE: 4.696522235870361 Test MSE: 64.3014144897461\n",
      "Epoch: 9 Train MAE: 4.386400844739831 Train MSE: 63.28192783050084 Test MAE: 3.862955093383789 Test MSE: 57.65729904174805\n",
      "Epoch: 10 Train MAE: 4.360509229742962 Train MSE: 62.40544678776948 Test MAE: 4.04531717300415 Test MSE: 60.227848052978516\n",
      "Epoch: 11 Train MAE: 4.339942040650741 Train MSE: 62.311876986502874 Test MAE: 3.972757339477539 Test MSE: 60.057655334472656\n",
      "Epoch: 12 Train MAE: 4.352334333502728 Train MSE: 61.123142519242144 Test MAE: 4.189187526702881 Test MSE: 60.75018310546875\n",
      "Epoch: 13 Train MAE: 4.329385861106541 Train MSE: 62.29974197182083 Test MAE: 3.9203710556030273 Test MSE: 58.55057144165039\n",
      "Epoch: 14 Train MAE: 4.333202838897705 Train MSE: 61.847460538491084 Test MAE: 4.130908966064453 Test MSE: 61.21677017211914\n",
      "Epoch: 15 Train MAE: 4.32639393599137 Train MSE: 61.13665421252947 Test MAE: 4.1551289558410645 Test MSE: 59.609519958496094\n",
      "Epoch: 16 Train MAE: 4.310652318208114 Train MSE: 61.16505448732983 Test MAE: 4.077749729156494 Test MSE: 59.368125915527344\n",
      "Epoch: 17 Train MAE: 4.310544449350108 Train MSE: 61.29086628709663 Test MAE: 4.052073001861572 Test MSE: 60.454795837402344\n",
      "Epoch: 18 Train MAE: 4.332034401271654 Train MSE: 62.077353748985615 Test MAE: 3.9646811485290527 Test MSE: 58.87053298950195\n",
      "Training finished\n",
      "seq len: 2\n",
      "2021-08-31 00:00:00\n",
      "20220610_122904\n",
      "Shape of train_x: (14369, 2, 37, 1)\n",
      "Shape of train_y: (14369, 2, 37, 1)\n",
      "Shape of test_x: (10, 2, 37, 1)\n",
      "Shape of test_y: (10, 2, 37, 1)\n"
     ]
    },
    {
     "name": "stderr",
     "output_type": "stream",
     "text": [
      "C:\\Users\\Bened\\PycharmProjects\\madrid-traffic\\env\\lib\\site-packages\\torch\\autocast_mode.py:162: UserWarning: User provided device_type of 'cuda', but CUDA is not available. Disabling\n",
      "  warnings.warn('User provided device_type of \\'cuda\\', but CUDA is not available. Disabling')\n"
     ]
    },
    {
     "name": "stdout",
     "output_type": "stream",
     "text": [
      "Epoch: 0 Train MAE: 4.061754711998834 Train MSE: 58.096446431043695 Test MAE: 4.387331485748291 Test MSE: 59.38649368286133\n",
      "Epoch: 1 Train MAE: 4.000155744552612 Train MSE: 56.96156400592924 Test MAE: 2.8009116649627686 Test MSE: 21.772308349609375\n",
      "Epoch: 2 Train MAE: 3.9944891421000164 Train MSE: 56.69008525889097 Test MAE: 2.7868258953094482 Test MSE: 21.506826400756836\n",
      "Epoch: 3 Train MAE: 3.9965076679653593 Train MSE: 56.787419439433805 Test MAE: 3.1188340187072754 Test MSE: 27.425081253051758\n",
      "Epoch: 4 Train MAE: 3.9951243782043457 Train MSE: 56.71082218254871 Test MAE: 4.577512264251709 Test MSE: 66.2713394165039\n",
      "Epoch: 5 Train MAE: 3.9914630275302465 Train MSE: 56.60452355747904 Test MAE: 2.7875664234161377 Test MSE: 21.539104461669922\n",
      "Epoch: 6 Train MAE: 3.9975887393951415 Train MSE: 56.70661071481856 Test MAE: 4.358428001403809 Test MSE: 66.2772216796875\n",
      "Training finished\n",
      "seq len: 4\n",
      "2021-08-31 00:00:00\n",
      "20220610_124324\n",
      "Shape of train_x: (10297, 4, 37, 1)\n",
      "Shape of train_y: (10297, 4, 37, 1)\n",
      "Shape of test_x: (0, 4, 37, 1)\n",
      "Shape of test_y: (0, 4, 37, 1)\n",
      "num_samples should be a positive integer value, but got num_samples=0\n",
      "seq len: 8\n",
      "2021-08-31 00:00:00\n",
      "20220610_124424\n",
      "Shape of train_x: (5381, 8, 37, 1)\n",
      "Shape of train_y: (5381, 8, 37, 1)\n",
      "Shape of test_x: (0, 8, 37, 1)\n",
      "Shape of test_y: (0, 8, 37, 1)\n",
      "num_samples should be a positive integer value, but got num_samples=0\n",
      "seq len: 16\n",
      "2021-08-31 00:00:00\n",
      "20220610_124509\n",
      "Shape of train_x: (1451, 16, 37, 1)\n",
      "Shape of train_y: (1451, 16, 37, 1)\n",
      "Shape of test_x: (0, 16, 37, 1)\n",
      "Shape of test_y: (0, 16, 37, 1)\n",
      "num_samples should be a positive integer value, but got num_samples=0\n",
      "seq len: 2\n",
      "2021-09-30 00:00:00\n",
      "20220610_124546\n",
      "Shape of train_x: (14379, 2, 37, 1)\n",
      "Shape of train_y: (14379, 2, 37, 1)\n",
      "Shape of test_x: (0, 2, 37, 1)\n",
      "Shape of test_y: (0, 2, 37, 1)\n",
      "num_samples should be a positive integer value, but got num_samples=0\n",
      "seq len: 4\n",
      "2021-09-30 00:00:00\n",
      "20220610_124655\n",
      "Shape of train_x: (10297, 4, 37, 1)\n",
      "Shape of train_y: (10297, 4, 37, 1)\n",
      "Shape of test_x: (0, 4, 37, 1)\n",
      "Shape of test_y: (0, 4, 37, 1)\n",
      "num_samples should be a positive integer value, but got num_samples=0\n",
      "seq len: 8\n",
      "2021-09-30 00:00:00\n",
      "20220610_124740\n",
      "Shape of train_x: (5381, 8, 37, 1)\n",
      "Shape of train_y: (5381, 8, 37, 1)\n",
      "Shape of test_x: (0, 8, 37, 1)\n",
      "Shape of test_y: (0, 8, 37, 1)\n",
      "num_samples should be a positive integer value, but got num_samples=0\n",
      "seq len: 16\n",
      "2021-09-30 00:00:00\n",
      "20220610_124814\n",
      "Shape of train_x: (1451, 16, 37, 1)\n",
      "Shape of train_y: (1451, 16, 37, 1)\n",
      "Shape of test_x: (0, 16, 37, 1)\n",
      "Shape of test_y: (0, 16, 37, 1)\n",
      "num_samples should be a positive integer value, but got num_samples=0\n",
      "seq len: 2\n",
      "2021-10-31 00:00:00\n",
      "20220610_124843\n",
      "Shape of train_x: (14379, 2, 37, 1)\n",
      "Shape of train_y: (14379, 2, 37, 1)\n",
      "Shape of test_x: (0, 2, 37, 1)\n",
      "Shape of test_y: (0, 2, 37, 1)\n",
      "num_samples should be a positive integer value, but got num_samples=0\n",
      "seq len: 4\n",
      "2021-10-31 00:00:00\n",
      "20220610_124936\n",
      "Shape of train_x: (10297, 4, 37, 1)\n",
      "Shape of train_y: (10297, 4, 37, 1)\n",
      "Shape of test_x: (0, 4, 37, 1)\n",
      "Shape of test_y: (0, 4, 37, 1)\n",
      "num_samples should be a positive integer value, but got num_samples=0\n",
      "seq len: 8\n",
      "2021-10-31 00:00:00\n",
      "20220610_125020\n",
      "Shape of train_x: (5381, 8, 37, 1)\n",
      "Shape of train_y: (5381, 8, 37, 1)\n",
      "Shape of test_x: (0, 8, 37, 1)\n",
      "Shape of test_y: (0, 8, 37, 1)\n",
      "num_samples should be a positive integer value, but got num_samples=0\n",
      "seq len: 16\n",
      "2021-10-31 00:00:00\n",
      "20220610_125054\n",
      "Shape of train_x: (1451, 16, 37, 1)\n",
      "Shape of train_y: (1451, 16, 37, 1)\n",
      "Shape of test_x: (0, 16, 37, 1)\n",
      "Shape of test_y: (0, 16, 37, 1)\n",
      "num_samples should be a positive integer value, but got num_samples=0\n",
      "seq len: 2\n",
      "2021-11-30 00:00:00\n",
      "20220610_125120\n",
      "Shape of train_x: (14379, 2, 37, 1)\n",
      "Shape of train_y: (14379, 2, 37, 1)\n",
      "Shape of test_x: (16, 2, 37, 1)\n",
      "Shape of test_y: (16, 2, 37, 1)\n"
     ]
    },
    {
     "name": "stderr",
     "output_type": "stream",
     "text": [
      "C:\\Users\\Bened\\PycharmProjects\\madrid-traffic\\env\\lib\\site-packages\\torch\\autocast_mode.py:162: UserWarning: User provided device_type of 'cuda', but CUDA is not available. Disabling\n",
      "  warnings.warn('User provided device_type of \\'cuda\\', but CUDA is not available. Disabling')\n"
     ]
    },
    {
     "name": "stdout",
     "output_type": "stream",
     "text": [
      "Epoch: 0 Train MAE: 4.049209645589193 Train MSE: 57.564035241143905 Test MAE: 2.429859161376953 Test MSE: 14.822028160095215\n",
      "Epoch: 1 Train MAE: 4.020493902630276 Train MSE: 57.274582737974576 Test MAE: 2.5125951766967773 Test MSE: 24.578083038330078\n",
      "Epoch: 2 Train MAE: 4.014929234186808 Train MSE: 57.36417731955282 Test MAE: 2.6213040351867676 Test MSE: 19.392316818237305\n",
      "Epoch: 3 Train MAE: 4.017599661085341 Train MSE: 57.38035709757964 Test MAE: 2.366579294204712 Test MSE: 14.877382278442383\n",
      "Epoch: 4 Train MAE: 4.017749143176609 Train MSE: 57.40153205815739 Test MAE: 2.487766742706299 Test MSE: 21.845155715942383\n",
      "Epoch: 5 Train MAE: 4.019234969880846 Train MSE: 57.439373528920456 Test MAE: 2.4859182834625244 Test MSE: 21.841611862182617\n",
      "Training finished\n",
      "seq len: 4\n",
      "2021-11-30 00:00:00\n",
      "20220610_130159\n",
      "Shape of train_x: (10297, 4, 37, 1)\n",
      "Shape of train_y: (10297, 4, 37, 1)\n",
      "Shape of test_x: (7, 4, 37, 1)\n",
      "Shape of test_y: (7, 4, 37, 1)\n"
     ]
    },
    {
     "name": "stderr",
     "output_type": "stream",
     "text": [
      "C:\\Users\\Bened\\PycharmProjects\\madrid-traffic\\env\\lib\\site-packages\\torch\\autocast_mode.py:162: UserWarning: User provided device_type of 'cuda', but CUDA is not available. Disabling\n",
      "  warnings.warn('User provided device_type of \\'cuda\\', but CUDA is not available. Disabling')\n"
     ]
    },
    {
     "name": "stdout",
     "output_type": "stream",
     "text": [
      "Epoch: 0 Train MAE: 4.378447041008043 Train MSE: 63.13721333543311 Test MAE: 2.4973361492156982 Test MSE: 20.249025344848633\n",
      "Epoch: 1 Train MAE: 4.169285987474904 Train MSE: 59.12139841180745 Test MAE: 2.196355104446411 Test MSE: 12.488088607788086\n",
      "Epoch: 2 Train MAE: 4.153889789344361 Train MSE: 59.017010122919395 Test MAE: 2.313498020172119 Test MSE: 14.066976547241211\n",
      "Epoch: 3 Train MAE: 4.149116744165835 Train MSE: 58.77754996926465 Test MAE: 2.4319939613342285 Test MSE: 14.666933059692383\n",
      "Epoch: 4 Train MAE: 4.148959386422767 Train MSE: 58.8678080425538 Test MAE: 2.5172998905181885 Test MSE: 18.44900131225586\n",
      "Epoch: 5 Train MAE: 4.149423816929692 Train MSE: 58.88155281047096 Test MAE: 2.424877643585205 Test MSE: 14.693092346191406\n",
      "Epoch: 6 Train MAE: 4.149044321190496 Train MSE: 58.9029376149945 Test MAE: 2.2519617080688477 Test MSE: 14.057287216186523\n",
      "Epoch: 7 Train MAE: 4.148629866771817 Train MSE: 58.81698734771512 Test MAE: 2.42702054977417 Test MSE: 14.692000389099121\n",
      "Epoch: 8 Train MAE: 4.148950992904094 Train MSE: 58.89764095678431 Test MAE: 2.4211299419403076 Test MSE: 14.702011108398438\n",
      "Epoch: 9 Train MAE: 4.148326398422999 Train MSE: 58.87611886746856 Test MAE: 2.5183207988739014 Test MSE: 18.483535766601562\n",
      "Epoch: 10 Train MAE: 4.149027962121904 Train MSE: 58.88898380007045 Test MAE: 2.131838321685791 Test MSE: 12.276408195495605\n",
      "Epoch: 11 Train MAE: 4.148929915813185 Train MSE: 58.83671073871814 Test MAE: 2.316938877105713 Test MSE: 14.041964530944824\n",
      "Epoch: 12 Train MAE: 4.147793033848638 Train MSE: 58.82541728120071 Test MAE: 2.51574969291687 Test MSE: 18.446760177612305\n",
      "Epoch: 13 Train MAE: 4.1473520320394766 Train MSE: 58.86088191924251 Test MAE: 2.1300110816955566 Test MSE: 12.271157264709473\n",
      "Epoch: 14 Train MAE: 4.147386198458464 Train MSE: 58.81939430567819 Test MAE: 2.131507158279419 Test MSE: 12.245596885681152\n",
      "Epoch: 15 Train MAE: 4.1478569907431275 Train MSE: 58.88589927526194 Test MAE: 2.1292946338653564 Test MSE: 12.2918119430542\n",
      "Training finished\n",
      "seq len: 8\n",
      "2021-11-30 00:00:00\n",
      "20220610_134125\n",
      "Shape of train_x: (5381, 8, 37, 1)\n",
      "Shape of train_y: (5381, 8, 37, 1)\n",
      "Shape of test_x: (0, 8, 37, 1)\n",
      "Shape of test_y: (0, 8, 37, 1)\n",
      "num_samples should be a positive integer value, but got num_samples=0\n",
      "seq len: 16\n",
      "2021-11-30 00:00:00\n",
      "20220610_134200\n",
      "Shape of train_x: (1451, 16, 37, 1)\n",
      "Shape of train_y: (1451, 16, 37, 1)\n",
      "Shape of test_x: (0, 16, 37, 1)\n",
      "Shape of test_y: (0, 16, 37, 1)\n",
      "num_samples should be a positive integer value, but got num_samples=0\n"
     ]
    },
    {
     "data": {
      "text/plain": "<Figure size 432x288 with 0 Axes>"
     },
     "metadata": {},
     "output_type": "display_data"
    }
   ],
   "source": [
    "args[\"dir\"] = \"both\"\n",
    "temporal_dict = {k: \"drop\" for k in temporal_dict.keys()}\n",
    "meteo_dict = {k: \"drop\" for k in meteo_dict.keys()}\n",
    "args[\"out_feats\"] = 32\n",
    "\n",
    "for train_until in pd.date_range(\"2021-5-27\", \"2021-11-30\", freq=\"1M\"):\n",
    "    for seq_len in [2, 4, 8, 16]:\n",
    "        data_dict[\"seq_len\"] = seq_len\n",
    "        try:\n",
    "            train_with_args(args, data_dict, meteo_dict, temporal_dict, train_until=train_until)\n",
    "        except Exception as e:\n",
    "            print(e)"
   ],
   "metadata": {
    "collapsed": false,
    "pycharm": {
     "name": "#%%\n"
    }
   }
  },
  {
   "cell_type": "markdown",
   "source": [
    "# C:\n",
    "out_feats = 32\n",
    "num_layers = 1"
   ],
   "metadata": {
    "collapsed": false,
    "pycharm": {
     "name": "#%% md\n"
    }
   }
  },
  {
   "cell_type": "code",
   "execution_count": 5,
   "outputs": [
    {
     "name": "stdout",
     "output_type": "stream",
     "text": [
      "seq len: 2\n",
      "2021-05-31 00:00:00\n",
      "20220610_134230\n",
      "Shape of train_x: (13283, 2, 37, 1)\n",
      "Shape of train_y: (13283, 2, 37, 1)\n",
      "Shape of test_x: (254, 2, 37, 1)\n",
      "Shape of test_y: (254, 2, 37, 1)\n"
     ]
    },
    {
     "name": "stderr",
     "output_type": "stream",
     "text": [
      "C:\\Users\\Bened\\PycharmProjects\\madrid-traffic\\env\\lib\\site-packages\\torch\\autocast_mode.py:162: UserWarning: User provided device_type of 'cuda', but CUDA is not available. Disabling\n",
      "  warnings.warn('User provided device_type of \\'cuda\\', but CUDA is not available. Disabling')\n"
     ]
    },
    {
     "name": "stdout",
     "output_type": "stream",
     "text": [
      "Epoch: 0 Train MAE: 4.062965699113333 Train MSE: 58.725406405877976 Test MAE: 3.8563327193260193 Test MSE: 47.385392590737496\n",
      "Epoch: 1 Train MAE: 4.049366370989726 Train MSE: 58.061995574357034 Test MAE: 3.8353111743927 Test MSE: 46.90944901701062\n",
      "Epoch: 2 Train MAE: 4.045682568962757 Train MSE: 57.949308226538264 Test MAE: 3.8301486372947693 Test MSE: 46.627088016177765\n",
      "Epoch: 3 Train MAE: 4.0476444111420555 Train MSE: 58.006140329726506 Test MAE: 3.840118646621704 Test MSE: 46.853519113939505\n",
      "Epoch: 4 Train MAE: 4.0438055625328655 Train MSE: 57.878117781517865 Test MAE: 3.8420206904411316 Test MSE: 46.89314626447133\n",
      "Epoch: 5 Train MAE: 4.044344732394586 Train MSE: 57.95187419491853 Test MAE: 3.8331705927848816 Test MSE: 46.79177343405116\n",
      "Epoch: 6 Train MAE: 4.044634180573317 Train MSE: 57.903509459482436 Test MAE: 3.8326996564865112 Test MSE: 46.8076813289543\n",
      "Epoch: 7 Train MAE: 4.046195874993618 Train MSE: 57.93976770578444 Test MAE: 3.830208659172058 Test MSE: 46.63225901180111\n",
      "Epoch: 8 Train MAE: 4.046857343270228 Train MSE: 58.00608867140512 Test MAE: 3.8198479413986206 Test MSE: 46.556387728134155\n",
      "Training finished\n",
      "seq len: 4\n",
      "2021-05-31 00:00:00\n",
      "20220610_135047\n",
      "Shape of train_x: (9640, 4, 37, 1)\n",
      "Shape of train_y: (9640, 4, 37, 1)\n",
      "Shape of test_x: (145, 4, 37, 1)\n",
      "Shape of test_y: (145, 4, 37, 1)\n"
     ]
    },
    {
     "name": "stderr",
     "output_type": "stream",
     "text": [
      "C:\\Users\\Bened\\PycharmProjects\\madrid-traffic\\env\\lib\\site-packages\\torch\\autocast_mode.py:162: UserWarning: User provided device_type of 'cuda', but CUDA is not available. Disabling\n",
      "  warnings.warn('User provided device_type of \\'cuda\\', but CUDA is not available. Disabling')\n"
     ]
    },
    {
     "name": "stdout",
     "output_type": "stream",
     "text": [
      "Epoch: 0 Train MAE: 4.1985040547831955 Train MSE: 60.17817410892769 Test MAE: 4.449875513712565 Test MSE: 61.29419800106649\n",
      "Epoch: 1 Train MAE: 4.171130347725572 Train MSE: 60.178661664068606 Test MAE: 4.130899429321289 Test MSE: 51.091769410160474\n",
      "Epoch: 2 Train MAE: 4.151897594628744 Train MSE: 59.08673881169355 Test MAE: 4.016663074493408 Test MSE: 48.73100228223395\n",
      "Epoch: 3 Train MAE: 4.147096548648859 Train MSE: 59.316618430949184 Test MAE: 4.349756717681885 Test MSE: 58.63737013754052\n",
      "Epoch: 4 Train MAE: 4.146844409159478 Train MSE: 59.180635258811456 Test MAE: 3.830876588821411 Test MSE: 47.81991838175029\n",
      "Epoch: 5 Train MAE: 4.142882541315445 Train MSE: 59.21581112305888 Test MAE: 3.905490001042684 Test MSE: 47.5094610139449\n",
      "Epoch: 6 Train MAE: 4.147374227346964 Train MSE: 59.28062439622457 Test MAE: 3.94008461634318 Test MSE: 47.89068637465448\n",
      "Epoch: 7 Train MAE: 4.145271343900668 Train MSE: 59.24814099726673 Test MAE: 3.6947056452433267 Test MSE: 42.77603338453815\n",
      "Epoch: 8 Train MAE: 4.14624618220803 Train MSE: 59.28910345383939 Test MAE: 4.099709192911784 Test MSE: 53.747426715936534\n",
      "Training finished\n",
      "seq len: 8\n",
      "2021-05-31 00:00:00\n",
      "20220610_140114\n",
      "Shape of train_x: (5142, 8, 37, 1)\n",
      "Shape of train_y: (5142, 8, 37, 1)\n",
      "Shape of test_x: (43, 8, 37, 1)\n",
      "Shape of test_y: (43, 8, 37, 1)\n"
     ]
    },
    {
     "name": "stderr",
     "output_type": "stream",
     "text": [
      "C:\\Users\\Bened\\PycharmProjects\\madrid-traffic\\env\\lib\\site-packages\\torch\\autocast_mode.py:162: UserWarning: User provided device_type of 'cuda', but CUDA is not available. Disabling\n",
      "  warnings.warn('User provided device_type of \\'cuda\\', but CUDA is not available. Disabling')\n"
     ]
    },
    {
     "name": "stdout",
     "output_type": "stream",
     "text": [
      "Epoch: 0 Train MAE: 6.959371613867489 Train MSE: 126.81038899128664 Test MAE: 7.272564888000488 Test MSE: 183.45010375976562\n",
      "Epoch: 1 Train MAE: 5.174799018436008 Train MSE: 85.0776766260562 Test MAE: 5.526260852813721 Test MSE: 118.89590454101562\n",
      "Epoch: 2 Train MAE: 4.555113810080069 Train MSE: 65.89351873715005 Test MAE: 4.831480503082275 Test MSE: 73.42146301269531\n",
      "Epoch: 3 Train MAE: 4.507239865668026 Train MSE: 65.97831783507091 Test MAE: 4.776753902435303 Test MSE: 75.10345458984375\n",
      "Epoch: 4 Train MAE: 4.452450640407609 Train MSE: 64.18464859591246 Test MAE: 4.617612361907959 Test MSE: 74.59817504882812\n",
      "Epoch: 5 Train MAE: 4.440512557088593 Train MSE: 63.89141599445023 Test MAE: 4.688019752502441 Test MSE: 71.44983673095703\n",
      "Epoch: 6 Train MAE: 4.450877631152117 Train MSE: 64.21702498276781 Test MAE: 4.8590407371521 Test MSE: 68.66726684570312\n",
      "Epoch: 7 Train MAE: 4.439985816861376 Train MSE: 64.18279906068734 Test MAE: 5.01629114151001 Test MSE: 77.2935791015625\n",
      "Epoch: 8 Train MAE: 4.433609391436165 Train MSE: 63.7706206710947 Test MAE: 4.970681667327881 Test MSE: 78.73692321777344\n",
      "Epoch: 9 Train MAE: 4.4439165621628 Train MSE: 64.14967437359415 Test MAE: 4.5794572830200195 Test MSE: 71.7676010131836\n",
      "Epoch: 10 Train MAE: 4.439000323966697 Train MSE: 63.85117555196924 Test MAE: 4.693296909332275 Test MSE: 84.63510131835938\n",
      "Epoch: 11 Train MAE: 4.444729651933835 Train MSE: 64.06560561831041 Test MAE: 4.638973236083984 Test MSE: 76.08917236328125\n",
      "Training finished\n",
      "seq len: 16\n",
      "2021-05-31 00:00:00\n",
      "20220610_141705\n",
      "Shape of train_x: (1416, 16, 37, 1)\n",
      "Shape of train_y: (1416, 16, 37, 1)\n",
      "Shape of test_x: (2, 16, 37, 1)\n",
      "Shape of test_y: (2, 16, 37, 1)\n"
     ]
    },
    {
     "name": "stderr",
     "output_type": "stream",
     "text": [
      "C:\\Users\\Bened\\PycharmProjects\\madrid-traffic\\env\\lib\\site-packages\\torch\\autocast_mode.py:162: UserWarning: User provided device_type of 'cuda', but CUDA is not available. Disabling\n",
      "  warnings.warn('User provided device_type of \\'cuda\\', but CUDA is not available. Disabling')\n"
     ]
    },
    {
     "name": "stdout",
     "output_type": "stream",
     "text": [
      "Epoch: 0 Train MAE: 7.373751267142918 Train MSE: 131.10410399351716 Test MAE: 8.115975379943848 Test MSE: 221.99118041992188\n",
      "Epoch: 1 Train MAE: 7.392052028490149 Train MSE: 161.223906556098 Test MAE: 7.710422039031982 Test MSE: 234.634033203125\n",
      "Epoch: 2 Train MAE: 6.783788079800813 Train MSE: 143.71967218115725 Test MAE: 7.292366027832031 Test MSE: 227.34693908691406\n",
      "Epoch: 3 Train MAE: 6.586295874222465 Train MSE: 135.79085384112312 Test MAE: 7.343081951141357 Test MSE: 231.60325622558594\n",
      "Epoch: 4 Train MAE: 6.58506907587466 Train MSE: 131.82982324673273 Test MAE: 7.440792560577393 Test MSE: 233.1904296875\n",
      "Epoch: 5 Train MAE: 6.438418595687203 Train MSE: 129.47900524677564 Test MAE: 7.2195234298706055 Test MSE: 225.5703125\n",
      "Epoch: 6 Train MAE: 6.313209056854248 Train MSE: 125.36774434471387 Test MAE: 7.083958148956299 Test MSE: 218.10015869140625\n",
      "Epoch: 7 Train MAE: 6.079317652660867 Train MSE: 121.62217343034344 Test MAE: 6.961174011230469 Test MSE: 214.88461303710938\n",
      "Epoch: 8 Train MAE: 5.687401149583899 Train MSE: 107.84269239239248 Test MAE: 6.470656871795654 Test MSE: 187.5477752685547\n",
      "Epoch: 9 Train MAE: 5.17903703192006 Train MSE: 85.31007904383618 Test MAE: 5.865297317504883 Test MSE: 143.8001251220703\n",
      "Epoch: 10 Train MAE: 4.951889245406441 Train MSE: 74.98814704106707 Test MAE: 5.5310163497924805 Test MSE: 120.34083557128906\n",
      "Epoch: 11 Train MAE: 4.743082627006199 Train MSE: 71.8034932521136 Test MAE: 5.534801483154297 Test MSE: 117.54419708251953\n",
      "Epoch: 12 Train MAE: 4.634227939274 Train MSE: 67.15953523937519 Test MAE: 5.258000373840332 Test MSE: 94.738037109375\n",
      "Epoch: 13 Train MAE: 4.64519627197929 Train MSE: 66.58562753611008 Test MAE: 5.234675407409668 Test MSE: 97.60067749023438\n",
      "Epoch: 14 Train MAE: 4.621141205663267 Train MSE: 66.58697902205418 Test MAE: 5.213435649871826 Test MSE: 97.51299285888672\n",
      "Epoch: 15 Train MAE: 4.618686758953592 Train MSE: 66.5030967803651 Test MAE: 5.1074395179748535 Test MSE: 87.8071517944336\n",
      "Epoch: 16 Train MAE: 4.624215499214504 Train MSE: 66.31508360707622 Test MAE: 5.194880962371826 Test MSE: 95.96842956542969\n",
      "Epoch: 17 Train MAE: 4.5732948261758555 Train MSE: 66.22129146629202 Test MAE: 5.117633819580078 Test MSE: 88.46155548095703\n",
      "Epoch: 18 Train MAE: 4.603897302047066 Train MSE: 66.45934023809815 Test MAE: 5.226544380187988 Test MSE: 97.74398040771484\n",
      "Epoch: 19 Train MAE: 4.5599424839019775 Train MSE: 65.70701159391652 Test MAE: 5.099696636199951 Test MSE: 87.87321472167969\n",
      "Training finished\n",
      "seq len: 2\n",
      "2021-06-30 00:00:00\n",
      "20220610_143309\n",
      "Shape of train_x: (13537, 2, 37, 1)\n",
      "Shape of train_y: (13537, 2, 37, 1)\n",
      "Shape of test_x: (389, 2, 37, 1)\n",
      "Shape of test_y: (389, 2, 37, 1)\n"
     ]
    },
    {
     "name": "stderr",
     "output_type": "stream",
     "text": [
      "C:\\Users\\Bened\\PycharmProjects\\madrid-traffic\\env\\lib\\site-packages\\torch\\autocast_mode.py:162: UserWarning: User provided device_type of 'cuda', but CUDA is not available. Disabling\n",
      "  warnings.warn('User provided device_type of \\'cuda\\', but CUDA is not available. Disabling')\n"
     ]
    },
    {
     "name": "stdout",
     "output_type": "stream",
     "text": [
      "Epoch: 0 Train MAE: 4.0766294396148535 Train MSE: 59.04535056835927 Test MAE: 3.5401476451328824 Test MSE: 40.441121622034224\n",
      "Epoch: 1 Train MAE: 4.073747570784587 Train MSE: 59.07681133935666 Test MAE: 3.7807548386710033 Test MSE: 44.522271579093804\n",
      "Epoch: 2 Train MAE: 4.059733820411394 Train MSE: 58.30280614176313 Test MAE: 3.5908664635249545 Test MSE: 41.641952093262226\n",
      "Epoch: 3 Train MAE: 4.059937416382556 Train MSE: 58.35732123885137 Test MAE: 3.6671831948416576 Test MSE: 44.91859302679823\n",
      "Epoch: 4 Train MAE: 4.058552824101358 Train MSE: 58.42233996756982 Test MAE: 3.6792875017438615 Test MSE: 44.11446016033198\n",
      "Epoch: 5 Train MAE: 4.0578922854279575 Train MSE: 58.527827800189904 Test MAE: 3.5531394481658936 Test MSE: 41.43968515351456\n",
      "Epoch: 6 Train MAE: 4.060843233792287 Train MSE: 58.509225364813815 Test MAE: 3.6390473502022878 Test MSE: 42.71945558300682\n",
      "Training finished\n",
      "seq len: 4\n",
      "2021-06-30 00:00:00\n",
      "20220610_144014\n",
      "Shape of train_x: (9785, 4, 37, 1)\n",
      "Shape of train_y: (9785, 4, 37, 1)\n",
      "Shape of test_x: (260, 4, 37, 1)\n",
      "Shape of test_y: (260, 4, 37, 1)\n"
     ]
    },
    {
     "name": "stderr",
     "output_type": "stream",
     "text": [
      "C:\\Users\\Bened\\PycharmProjects\\madrid-traffic\\env\\lib\\site-packages\\torch\\autocast_mode.py:162: UserWarning: User provided device_type of 'cuda', but CUDA is not available. Disabling\n",
      "  warnings.warn('User provided device_type of \\'cuda\\', but CUDA is not available. Disabling')\n"
     ]
    },
    {
     "name": "stdout",
     "output_type": "stream",
     "text": [
      "Epoch: 0 Train MAE: 4.558063067641913 Train MSE: 69.44442955365831 Test MAE: 4.19810733795166 Test MSE: 63.87488893558043\n",
      "Epoch: 1 Train MAE: 4.2376894452213465 Train MSE: 60.28505221164934 Test MAE: 3.7366608142852784 Test MSE: 46.71016778170604\n",
      "Epoch: 2 Train MAE: 4.186305611741309 Train MSE: 60.13581149099124 Test MAE: 3.9256144046783445 Test MSE: 55.43837525164643\n",
      "Epoch: 3 Train MAE: 4.1811399148180595 Train MSE: 60.22480451662851 Test MAE: 3.695947360992432 Test MSE: 49.32379655827792\n",
      "Epoch: 4 Train MAE: 4.178035927753823 Train MSE: 59.953044105658336 Test MAE: 3.700539207458496 Test MSE: 48.86486735124707\n",
      "Epoch: 5 Train MAE: 4.1774076324662355 Train MSE: 60.024778641338465 Test MAE: 3.8705280780792237 Test MSE: 51.43227698727518\n",
      "Epoch: 6 Train MAE: 4.177821196761786 Train MSE: 60.07722303192568 Test MAE: 3.7796680450439455 Test MSE: 47.723059141665544\n",
      "Epoch: 7 Train MAE: 4.177467218411514 Train MSE: 60.013864050696014 Test MAE: 3.5817444801330565 Test MSE: 44.25601746935555\n",
      "Epoch: 8 Train MAE: 4.177894006367603 Train MSE: 60.00380571563716 Test MAE: 4.067959213256836 Test MSE: 62.40420468172056\n",
      "Epoch: 9 Train MAE: 4.177317112879036 Train MSE: 59.9659863139256 Test MAE: 3.692657995223999 Test MSE: 46.885488972041145\n",
      "Epoch: 10 Train MAE: 4.177347479302899 Train MSE: 60.00271918913188 Test MAE: 3.7274770736694336 Test MSE: 48.128150606779194\n",
      "Epoch: 11 Train MAE: 4.1759367300794015 Train MSE: 59.892621316984076 Test MAE: 3.7002154350280763 Test MSE: 48.4344472126415\n",
      "Epoch: 12 Train MAE: 4.176271303027284 Train MSE: 59.984257544692845 Test MAE: 3.70615553855896 Test MSE: 49.387538711523796\n",
      "Epoch: 13 Train MAE: 4.175693014867945 Train MSE: 59.94117948100947 Test MAE: 3.7295006275177003 Test MSE: 49.799024958119396\n",
      "Epoch: 14 Train MAE: 4.175982911602344 Train MSE: 59.9671619210374 Test MAE: 3.7462048530578613 Test MSE: 49.39959649648053\n",
      "Epoch: 15 Train MAE: 4.175184807746239 Train MSE: 59.925702510220965 Test MAE: 4.066342544555664 Test MSE: 65.96436576004652\n",
      "Epoch: 16 Train MAE: 4.175434916627173 Train MSE: 60.017976604051526 Test MAE: 3.7357848644256593 Test MSE: 46.24491361306612\n",
      "Training finished\n",
      "seq len: 8\n",
      "2021-06-30 00:00:00\n",
      "20220610_150028\n",
      "Shape of train_x: (5185, 8, 37, 1)\n",
      "Shape of train_y: (5185, 8, 37, 1)\n",
      "Shape of test_x: (127, 8, 37, 1)\n",
      "Shape of test_y: (127, 8, 37, 1)\n"
     ]
    },
    {
     "name": "stderr",
     "output_type": "stream",
     "text": [
      "C:\\Users\\Bened\\PycharmProjects\\madrid-traffic\\env\\lib\\site-packages\\torch\\autocast_mode.py:162: UserWarning: User provided device_type of 'cuda', but CUDA is not available. Disabling\n",
      "  warnings.warn('User provided device_type of \\'cuda\\', but CUDA is not available. Disabling')\n"
     ]
    },
    {
     "name": "stdout",
     "output_type": "stream",
     "text": [
      "Epoch: 0 Train MAE: 5.874145461291802 Train MSE: 113.8933639786016 Test MAE: 6.23325514793396 Test MSE: 140.1210998900172\n",
      "Epoch: 1 Train MAE: 4.41611277766344 Train MSE: 64.90464077366902 Test MAE: 3.907339096069336 Test MSE: 53.59148480173467\n",
      "Epoch: 2 Train MAE: 4.490338587179417 Train MSE: 65.51490244373383 Test MAE: 4.03857421875 Test MSE: 54.52353460712825\n",
      "Epoch: 3 Train MAE: 4.309960955526771 Train MSE: 61.99819828666582 Test MAE: 3.777985453605652 Test MSE: 50.45383107036797\n",
      "Epoch: 4 Train MAE: 4.310251552884171 Train MSE: 62.213365264295234 Test MAE: 3.7880613803863525 Test MSE: 50.71305170308855\n",
      "Epoch: 5 Train MAE: 4.308690149609635 Train MSE: 61.845674313876735 Test MAE: 3.772747755050659 Test MSE: 50.20557696895884\n",
      "Epoch: 6 Train MAE: 4.318993004356942 Train MSE: 62.39141420553771 Test MAE: 3.7794649600982666 Test MSE: 50.39268267963452\n",
      "Epoch: 7 Train MAE: 4.30862739609509 Train MSE: 62.043240837456864 Test MAE: 3.7815284729003906 Test MSE: 50.64186794936946\n",
      "Epoch: 8 Train MAE: 4.305325833762565 Train MSE: 62.18781251876841 Test MAE: 3.781730890274048 Test MSE: 50.48776296277352\n",
      "Epoch: 9 Train MAE: 4.313992558456048 Train MSE: 61.98402307470704 Test MAE: 3.783476233482361 Test MSE: 50.57447186946103\n",
      "Epoch: 10 Train MAE: 4.306652766902272 Train MSE: 61.81985948761904 Test MAE: 3.791691303253174 Test MSE: 51.000385929810534\n",
      "Epoch: 11 Train MAE: 4.295266607912575 Train MSE: 61.69465526174833 Test MAE: 3.781549334526062 Test MSE: 50.42957515247854\n",
      "Epoch: 12 Train MAE: 4.306256465795563 Train MSE: 61.83818163200069 Test MAE: 3.7885568141937256 Test MSE: 50.808679770901534\n",
      "Epoch: 13 Train MAE: 4.3315622050587725 Train MSE: 62.67094966465514 Test MAE: 3.782304525375366 Test MSE: 50.63859436077842\n",
      "Training finished\n",
      "seq len: 16\n",
      "2021-06-30 00:00:00\n",
      "20220610_151831\n",
      "Shape of train_x: (1418, 16, 37, 1)\n",
      "Shape of train_y: (1418, 16, 37, 1)\n",
      "Shape of test_x: (29, 16, 37, 1)\n",
      "Shape of test_y: (29, 16, 37, 1)\n"
     ]
    },
    {
     "name": "stderr",
     "output_type": "stream",
     "text": [
      "C:\\Users\\Bened\\PycharmProjects\\madrid-traffic\\env\\lib\\site-packages\\torch\\autocast_mode.py:162: UserWarning: User provided device_type of 'cuda', but CUDA is not available. Disabling\n",
      "  warnings.warn('User provided device_type of \\'cuda\\', but CUDA is not available. Disabling')\n"
     ]
    },
    {
     "name": "stdout",
     "output_type": "stream",
     "text": [
      "Epoch: 0 Train MAE: 6.940103344295336 Train MSE: 132.79453183919858 Test MAE: 7.7616777420043945 Test MSE: 173.3102264404297\n",
      "Epoch: 1 Train MAE: 6.675815229830534 Train MSE: 139.0813961807112 Test MAE: 6.930776119232178 Test MSE: 171.51576232910156\n",
      "Epoch: 2 Train MAE: 6.6996738807014795 Train MSE: 139.25337435779085 Test MAE: 6.899850368499756 Test MSE: 171.7526092529297\n",
      "Epoch: 3 Train MAE: 5.8775025865306025 Train MSE: 102.79362586860375 Test MAE: 6.425356864929199 Test MSE: 117.45692443847656\n",
      "Epoch: 4 Train MAE: 5.4561258191647735 Train MSE: 96.22648568197812 Test MAE: 5.456747531890869 Test MSE: 106.84586334228516\n",
      "Epoch: 5 Train MAE: 5.028063152147376 Train MSE: 80.7535772717849 Test MAE: 5.226436138153076 Test MSE: 96.08760070800781\n",
      "Epoch: 6 Train MAE: 4.6414777506952705 Train MSE: 68.19774162974704 Test MAE: 4.800960063934326 Test MSE: 70.50957489013672\n",
      "Epoch: 7 Train MAE: 4.580221300539763 Train MSE: 70.12736870060061 Test MAE: 4.79843807220459 Test MSE: 75.13224792480469\n",
      "Epoch: 8 Train MAE: 4.538086746049964 Train MSE: 65.40988146504215 Test MAE: 4.615548610687256 Test MSE: 68.57588195800781\n",
      "Epoch: 9 Train MAE: 4.514689321103304 Train MSE: 63.87645448503059 Test MAE: 4.624880313873291 Test MSE: 66.2166519165039\n",
      "Epoch: 10 Train MAE: 4.516156984412151 Train MSE: 64.83239340655352 Test MAE: 4.528007507324219 Test MSE: 57.26335525512695\n",
      "Epoch: 11 Train MAE: 4.456541600434677 Train MSE: 65.7872130064257 Test MAE: 4.29091215133667 Test MSE: 56.046016693115234\n",
      "Epoch: 12 Train MAE: 4.418155276257059 Train MSE: 65.96688494860821 Test MAE: 4.246090412139893 Test MSE: 56.957210540771484\n",
      "Training finished\n",
      "seq len: 2\n",
      "2021-07-31 00:00:00\n",
      "20220610_152739\n",
      "Shape of train_x: (13956, 2, 37, 1)\n",
      "Shape of train_y: (13956, 2, 37, 1)\n",
      "Shape of test_x: (413, 2, 37, 1)\n",
      "Shape of test_y: (413, 2, 37, 1)\n"
     ]
    },
    {
     "name": "stderr",
     "output_type": "stream",
     "text": [
      "C:\\Users\\Bened\\PycharmProjects\\madrid-traffic\\env\\lib\\site-packages\\torch\\autocast_mode.py:162: UserWarning: User provided device_type of 'cuda', but CUDA is not available. Disabling\n",
      "  warnings.warn('User provided device_type of \\'cuda\\', but CUDA is not available. Disabling')\n"
     ]
    },
    {
     "name": "stdout",
     "output_type": "stream",
     "text": [
      "Epoch: 0 Train MAE: 4.393738227347805 Train MSE: 61.23348873709066 Test MAE: 3.888084990637643 Test MSE: 40.99611528960047\n",
      "Epoch: 1 Train MAE: 4.246459570105217 Train MSE: 60.59676097712278 Test MAE: 3.364478758403233 Test MSE: 37.812173850696354\n",
      "Epoch: 2 Train MAE: 4.23276926828846 Train MSE: 60.23698693979673 Test MAE: 3.4105128220149448 Test MSE: 38.28862039854581\n",
      "Epoch: 3 Train MAE: 4.228780358893686 Train MSE: 60.00469736952344 Test MAE: 3.434497356414795 Test MSE: 38.284063116515945\n",
      "Epoch: 4 Train MAE: 4.2235220142695455 Train MSE: 59.855350353347326 Test MAE: 3.385859421321324 Test MSE: 37.407297404996676\n",
      "Epoch: 5 Train MAE: 4.2346463595351125 Train MSE: 60.13167560829403 Test MAE: 3.4225225108010426 Test MSE: 38.554728832226736\n",
      "Epoch: 6 Train MAE: 4.221807014996602 Train MSE: 59.75064401693417 Test MAE: 3.401696137019566 Test MSE: 37.14192449431947\n",
      "Epoch: 7 Train MAE: 4.218866216537615 Train MSE: 59.81086284531701 Test MAE: 3.369941302708217 Test MSE: 36.93535469959943\n",
      "Epoch: 8 Train MAE: 4.223593999261725 Train MSE: 59.88940763488038 Test MAE: 3.3696461064474925 Test MSE: 37.07551268202595\n",
      "Epoch: 9 Train MAE: 4.223511224468004 Train MSE: 59.89389344968309 Test MAE: 3.408090795789446 Test MSE: 37.82058093058346\n",
      "Epoch: 10 Train MAE: 4.2249349154293805 Train MSE: 59.90627677891342 Test MAE: 3.3830911772591725 Test MSE: 37.418802521841066\n",
      "Training finished\n",
      "seq len: 4\n",
      "2021-07-31 00:00:00\n",
      "20220610_153654\n",
      "Shape of train_x: (10063, 4, 37, 1)\n",
      "Shape of train_y: (10063, 4, 37, 1)\n",
      "Shape of test_x: (234, 4, 37, 1)\n",
      "Shape of test_y: (234, 4, 37, 1)\n"
     ]
    },
    {
     "name": "stderr",
     "output_type": "stream",
     "text": [
      "C:\\Users\\Bened\\PycharmProjects\\madrid-traffic\\env\\lib\\site-packages\\torch\\autocast_mode.py:162: UserWarning: User provided device_type of 'cuda', but CUDA is not available. Disabling\n",
      "  warnings.warn('User provided device_type of \\'cuda\\', but CUDA is not available. Disabling')\n"
     ]
    },
    {
     "name": "stdout",
     "output_type": "stream",
     "text": [
      "Epoch: 0 Train MAE: 5.535962479023993 Train MSE: 104.90382106408697 Test MAE: 4.977453947067261 Test MSE: 101.12822607765112\n",
      "Epoch: 1 Train MAE: 4.316855104663704 Train MSE: 62.26561624659813 Test MAE: 3.235090434551239 Test MSE: 40.05377386037395\n",
      "Epoch: 2 Train MAE: 4.2377848760991155 Train MSE: 60.298063826025064 Test MAE: 3.225307047367096 Test MSE: 38.63371649618574\n",
      "Epoch: 3 Train MAE: 4.229550004005432 Train MSE: 60.24060676846376 Test MAE: 3.213444232940674 Test MSE: 40.18968749004958\n",
      "Epoch: 4 Train MAE: 4.215343215797521 Train MSE: 59.70114307542377 Test MAE: 3.179563581943512 Test MSE: 38.85547873250389\n",
      "Epoch: 5 Train MAE: 4.206083931500399 Train MSE: 59.57772680889708 Test MAE: 3.180455207824707 Test MSE: 38.948102225819646\n",
      "Epoch: 6 Train MAE: 4.214773063418232 Train MSE: 59.95673275461089 Test MAE: 3.2560054063796997 Test MSE: 41.3829188010468\n",
      "Epoch: 7 Train MAE: 4.220790611037725 Train MSE: 59.9558740767451 Test MAE: 3.1642653346061707 Test MSE: 37.67979365534006\n",
      "Epoch: 8 Train MAE: 4.21296796315833 Train MSE: 59.84112543557686 Test MAE: 3.140455961227417 Test MSE: 37.879546534751015\n",
      "Epoch: 9 Train MAE: 4.208878440192983 Train MSE: 59.6578116139479 Test MAE: 3.2278131246566772 Test MSE: 40.18677179222624\n",
      "Epoch: 10 Train MAE: 4.222495427614526 Train MSE: 59.83511085668282 Test MAE: 3.194839894771576 Test MSE: 39.79020568797395\n",
      "Training finished\n",
      "seq len: 8\n",
      "2021-07-31 00:00:00\n",
      "20220610_154900\n",
      "Shape of train_x: (5317, 8, 37, 1)\n",
      "Shape of train_y: (5317, 8, 37, 1)\n",
      "Shape of test_x: (64, 8, 37, 1)\n",
      "Shape of test_y: (64, 8, 37, 1)\n"
     ]
    },
    {
     "name": "stderr",
     "output_type": "stream",
     "text": [
      "C:\\Users\\Bened\\PycharmProjects\\madrid-traffic\\env\\lib\\site-packages\\torch\\autocast_mode.py:162: UserWarning: User provided device_type of 'cuda', but CUDA is not available. Disabling\n",
      "  warnings.warn('User provided device_type of \\'cuda\\', but CUDA is not available. Disabling')\n"
     ]
    },
    {
     "name": "stdout",
     "output_type": "stream",
     "text": [
      "Epoch: 0 Train MAE: 6.2375025522141225 Train MSE: 124.73121203756129 Test MAE: 7.343612194061279 Test MSE: 170.04642186805003\n",
      "Epoch: 1 Train MAE: 4.703950470402127 Train MSE: 65.62287914075814 Test MAE: 5.145273685455322 Test MSE: 60.196565451683384\n",
      "Epoch: 2 Train MAE: 4.514190284978776 Train MSE: 65.8941352310501 Test MAE: 4.416199684143066 Test MSE: 57.13158295872639\n",
      "Epoch: 3 Train MAE: 4.502938684963045 Train MSE: 63.02491523426552 Test MAE: 4.668514728546143 Test MSE: 55.4675068289766\n",
      "Epoch: 4 Train MAE: 4.45111932640984 Train MSE: 65.63892765182622 Test MAE: 4.231331825256348 Test MSE: 52.081101565268504\n",
      "Epoch: 5 Train MAE: 4.419217782361167 Train MSE: 63.50847485525208 Test MAE: 4.247513294219971 Test MSE: 51.784321308328096\n",
      "Epoch: 6 Train MAE: 4.417240284738087 Train MSE: 63.70522616314462 Test MAE: 4.179676055908203 Test MSE: 51.27938544331753\n",
      "Epoch: 7 Train MAE: 4.418170429411388 Train MSE: 63.384006634962546 Test MAE: 4.223499774932861 Test MSE: 51.18140404941825\n",
      "Epoch: 8 Train MAE: 4.42600819610414 Train MSE: 63.478135671515865 Test MAE: 4.236659526824951 Test MSE: 51.21604372924434\n",
      "Epoch: 9 Train MAE: 4.41568196387518 Train MSE: 63.20852955360545 Test MAE: 4.248643398284912 Test MSE: 51.19827995217281\n",
      "Epoch: 10 Train MAE: 4.421886796043033 Train MSE: 63.392171975291006 Test MAE: 4.243826389312744 Test MSE: 51.18863813674776\n",
      "Epoch: 11 Train MAE: 4.4207590364274525 Train MSE: 63.49655002706334 Test MAE: 4.231889724731445 Test MSE: 51.16576220716872\n",
      "Training finished\n",
      "seq len: 16\n",
      "2021-07-31 00:00:00\n",
      "20220610_160255\n",
      "Shape of train_x: (1447, 16, 37, 1)\n",
      "Shape of train_y: (1447, 16, 37, 1)\n",
      "Shape of test_x: (4, 16, 37, 1)\n",
      "Shape of test_y: (4, 16, 37, 1)\n"
     ]
    },
    {
     "name": "stderr",
     "output_type": "stream",
     "text": [
      "C:\\Users\\Bened\\PycharmProjects\\madrid-traffic\\env\\lib\\site-packages\\torch\\autocast_mode.py:162: UserWarning: User provided device_type of 'cuda', but CUDA is not available. Disabling\n",
      "  warnings.warn('User provided device_type of \\'cuda\\', but CUDA is not available. Disabling')\n"
     ]
    },
    {
     "name": "stdout",
     "output_type": "stream",
     "text": [
      "Epoch: 0 Train MAE: 6.930799774501635 Train MSE: 154.7586347317914 Test MAE: 7.044939041137695 Test MSE: 143.31948852539062\n",
      "Epoch: 1 Train MAE: 6.686203189518141 Train MSE: 132.20841395122744 Test MAE: 7.800992488861084 Test MSE: 180.888916015625\n",
      "Epoch: 2 Train MAE: 6.481956170952839 Train MSE: 117.29576620325892 Test MAE: 8.735513687133789 Test MSE: 180.9541015625\n",
      "Epoch: 3 Train MAE: 5.109889818274456 Train MSE: 84.94159824139271 Test MAE: 4.726516246795654 Test MSE: 82.90898132324219\n",
      "Epoch: 4 Train MAE: 4.604919081148894 Train MSE: 68.37737645796555 Test MAE: 4.09276819229126 Test MSE: 61.799476623535156\n",
      "Epoch: 5 Train MAE: 4.428503741388735 Train MSE: 64.06491515735718 Test MAE: 4.3122406005859375 Test MSE: 62.664833068847656\n",
      "Epoch: 6 Train MAE: 4.3975647636081865 Train MSE: 62.40452280842992 Test MAE: 4.24641227722168 Test MSE: 57.19110870361328\n",
      "Epoch: 7 Train MAE: 4.469620061957317 Train MSE: 65.13166766047685 Test MAE: 3.917965888977051 Test MSE: 57.93684005737305\n",
      "Epoch: 8 Train MAE: 4.362880540930706 Train MSE: 61.81555722891899 Test MAE: 4.1674933433532715 Test MSE: 56.775184631347656\n",
      "Epoch: 9 Train MAE: 4.339151703793069 Train MSE: 62.71662103646958 Test MAE: 3.8721792697906494 Test MSE: 56.37276840209961\n",
      "Epoch: 10 Train MAE: 4.349173462909201 Train MSE: 61.63758002503563 Test MAE: 4.122077941894531 Test MSE: 57.265506744384766\n",
      "Epoch: 11 Train MAE: 4.337984147279159 Train MSE: 61.98718185097697 Test MAE: 4.195843696594238 Test MSE: 60.961265563964844\n",
      "Epoch: 12 Train MAE: 4.36682941602624 Train MSE: 64.02207090306533 Test MAE: 3.9884941577911377 Test MSE: 59.74555969238281\n",
      "Training finished\n",
      "seq len: 2\n",
      "2021-08-31 00:00:00\n",
      "20220610_161226\n",
      "Shape of train_x: (14369, 2, 37, 1)\n",
      "Shape of train_y: (14369, 2, 37, 1)\n",
      "Shape of test_x: (10, 2, 37, 1)\n",
      "Shape of test_y: (10, 2, 37, 1)\n"
     ]
    },
    {
     "name": "stderr",
     "output_type": "stream",
     "text": [
      "C:\\Users\\Bened\\PycharmProjects\\madrid-traffic\\env\\lib\\site-packages\\torch\\autocast_mode.py:162: UserWarning: User provided device_type of 'cuda', but CUDA is not available. Disabling\n",
      "  warnings.warn('User provided device_type of \\'cuda\\', but CUDA is not available. Disabling')\n"
     ]
    },
    {
     "name": "stdout",
     "output_type": "stream",
     "text": [
      "Epoch: 0 Train MAE: 4.04170489417182 Train MSE: 57.896914170259954 Test MAE: 3.683448076248169 Test MSE: 43.3781623840332\n",
      "Epoch: 1 Train MAE: 4.014401914808485 Train MSE: 57.34521690224608 Test MAE: 4.633531093597412 Test MSE: 110.89997863769531\n",
      "Epoch: 2 Train MAE: 4.0152311812506785 Train MSE: 57.18882990302905 Test MAE: 5.380041599273682 Test MSE: 84.8658218383789\n",
      "Epoch: 3 Train MAE: 4.012109007305569 Train MSE: 57.19446957474468 Test MAE: 4.664575576782227 Test MSE: 110.72064971923828\n",
      "Epoch: 4 Train MAE: 4.01919482866923 Train MSE: 57.37877504577473 Test MAE: 4.537949085235596 Test MSE: 71.23441314697266\n",
      "Epoch: 5 Train MAE: 4.017200020684136 Train MSE: 57.27105673475773 Test MAE: 4.6923298835754395 Test MSE: 73.17729949951172\n",
      "Epoch: 6 Train MAE: 4.016582012176514 Train MSE: 57.23108079580381 Test MAE: 4.541363716125488 Test MSE: 71.2262954711914\n",
      "Epoch: 7 Train MAE: 4.012079188028971 Train MSE: 57.16230448824329 Test MAE: 5.438473224639893 Test MSE: 91.04595184326172\n",
      "Epoch: 8 Train MAE: 4.012626603444417 Train MSE: 57.156709015994714 Test MAE: 5.438015937805176 Test MSE: 90.99681854248047\n",
      "Epoch: 9 Train MAE: 4.0169643518659806 Train MSE: 57.2655414889311 Test MAE: 2.9841976165771484 Test MSE: 27.80095863342285\n",
      "Epoch: 10 Train MAE: 4.01305569436815 Train MSE: 57.13394508130281 Test MAE: 3.617213487625122 Test MSE: 42.328243255615234\n",
      "Epoch: 11 Train MAE: 4.0153653992546925 Train MSE: 57.286641798971026 Test MAE: 4.692178249359131 Test MSE: 73.27274322509766\n",
      "Training finished\n",
      "seq len: 4\n",
      "2021-08-31 00:00:00\n",
      "20220610_162358\n",
      "Shape of train_x: (10297, 4, 37, 1)\n",
      "Shape of train_y: (10297, 4, 37, 1)\n",
      "Shape of test_x: (0, 4, 37, 1)\n",
      "Shape of test_y: (0, 4, 37, 1)\n",
      "num_samples should be a positive integer value, but got num_samples=0\n",
      "seq len: 8\n",
      "2021-08-31 00:00:00\n",
      "20220610_162444\n",
      "Shape of train_x: (5381, 8, 37, 1)\n",
      "Shape of train_y: (5381, 8, 37, 1)\n",
      "Shape of test_x: (0, 8, 37, 1)\n",
      "Shape of test_y: (0, 8, 37, 1)\n",
      "num_samples should be a positive integer value, but got num_samples=0\n",
      "seq len: 16\n",
      "2021-08-31 00:00:00\n",
      "20220610_162519\n",
      "Shape of train_x: (1451, 16, 37, 1)\n",
      "Shape of train_y: (1451, 16, 37, 1)\n",
      "Shape of test_x: (0, 16, 37, 1)\n",
      "Shape of test_y: (0, 16, 37, 1)\n",
      "num_samples should be a positive integer value, but got num_samples=0\n",
      "seq len: 2\n",
      "2021-09-30 00:00:00\n",
      "20220610_162547\n",
      "Shape of train_x: (14379, 2, 37, 1)\n",
      "Shape of train_y: (14379, 2, 37, 1)\n",
      "Shape of test_x: (0, 2, 37, 1)\n",
      "Shape of test_y: (0, 2, 37, 1)\n",
      "num_samples should be a positive integer value, but got num_samples=0\n",
      "seq len: 4\n",
      "2021-09-30 00:00:00\n",
      "20220610_162645\n",
      "Shape of train_x: (10297, 4, 37, 1)\n",
      "Shape of train_y: (10297, 4, 37, 1)\n",
      "Shape of test_x: (0, 4, 37, 1)\n",
      "Shape of test_y: (0, 4, 37, 1)\n",
      "num_samples should be a positive integer value, but got num_samples=0\n",
      "seq len: 8\n",
      "2021-09-30 00:00:00\n",
      "20220610_162732\n",
      "Shape of train_x: (5381, 8, 37, 1)\n",
      "Shape of train_y: (5381, 8, 37, 1)\n",
      "Shape of test_x: (0, 8, 37, 1)\n",
      "Shape of test_y: (0, 8, 37, 1)\n",
      "num_samples should be a positive integer value, but got num_samples=0\n",
      "seq len: 16\n",
      "2021-09-30 00:00:00\n",
      "20220610_162813\n",
      "Shape of train_x: (1451, 16, 37, 1)\n",
      "Shape of train_y: (1451, 16, 37, 1)\n",
      "Shape of test_x: (0, 16, 37, 1)\n",
      "Shape of test_y: (0, 16, 37, 1)\n",
      "num_samples should be a positive integer value, but got num_samples=0\n",
      "seq len: 2\n",
      "2021-10-31 00:00:00\n",
      "20220610_162848\n",
      "Shape of train_x: (14379, 2, 37, 1)\n",
      "Shape of train_y: (14379, 2, 37, 1)\n",
      "Shape of test_x: (0, 2, 37, 1)\n",
      "Shape of test_y: (0, 2, 37, 1)\n",
      "num_samples should be a positive integer value, but got num_samples=0\n",
      "seq len: 4\n",
      "2021-10-31 00:00:00\n",
      "20220610_162955\n",
      "Shape of train_x: (10297, 4, 37, 1)\n",
      "Shape of train_y: (10297, 4, 37, 1)\n",
      "Shape of test_x: (0, 4, 37, 1)\n",
      "Shape of test_y: (0, 4, 37, 1)\n",
      "num_samples should be a positive integer value, but got num_samples=0\n",
      "seq len: 8\n",
      "2021-10-31 00:00:00\n",
      "20220610_163054\n",
      "Shape of train_x: (5381, 8, 37, 1)\n",
      "Shape of train_y: (5381, 8, 37, 1)\n",
      "Shape of test_x: (0, 8, 37, 1)\n",
      "Shape of test_y: (0, 8, 37, 1)\n",
      "num_samples should be a positive integer value, but got num_samples=0\n",
      "seq len: 16\n",
      "2021-10-31 00:00:00\n",
      "20220610_163140\n",
      "Shape of train_x: (1451, 16, 37, 1)\n",
      "Shape of train_y: (1451, 16, 37, 1)\n",
      "Shape of test_x: (0, 16, 37, 1)\n",
      "Shape of test_y: (0, 16, 37, 1)\n",
      "num_samples should be a positive integer value, but got num_samples=0\n",
      "seq len: 2\n",
      "2021-11-30 00:00:00\n",
      "20220610_163213\n",
      "Shape of train_x: (14379, 2, 37, 1)\n",
      "Shape of train_y: (14379, 2, 37, 1)\n",
      "Shape of test_x: (16, 2, 37, 1)\n",
      "Shape of test_y: (16, 2, 37, 1)\n"
     ]
    },
    {
     "name": "stderr",
     "output_type": "stream",
     "text": [
      "C:\\Users\\Bened\\PycharmProjects\\madrid-traffic\\env\\lib\\site-packages\\torch\\autocast_mode.py:162: UserWarning: User provided device_type of 'cuda', but CUDA is not available. Disabling\n",
      "  warnings.warn('User provided device_type of \\'cuda\\', but CUDA is not available. Disabling')\n"
     ]
    },
    {
     "name": "stdout",
     "output_type": "stream",
     "text": [
      "Epoch: 0 Train MAE: 4.108688051435682 Train MSE: 58.20926634192169 Test MAE: 2.7979445457458496 Test MSE: 26.38727378845215\n",
      "Epoch: 1 Train MAE: 4.042257940504286 Train MSE: 57.107417722074025 Test MAE: 2.207810401916504 Test MSE: 11.372186660766602\n",
      "Epoch: 2 Train MAE: 4.030210738711887 Train MSE: 57.19102019026951 Test MAE: 2.072390556335449 Test MSE: 11.503323554992676\n",
      "Epoch: 3 Train MAE: 4.032506643931071 Train MSE: 57.25900343891306 Test MAE: 2.6483328342437744 Test MSE: 25.009387969970703\n",
      "Epoch: 4 Train MAE: 4.033544907040066 Train MSE: 57.276338363091874 Test MAE: 2.205580711364746 Test MSE: 10.470924377441406\n",
      "Epoch: 5 Train MAE: 4.03023666381836 Train MSE: 57.203189129042784 Test MAE: 2.391447067260742 Test MSE: 18.28883171081543\n",
      "Epoch: 6 Train MAE: 4.031434761683146 Train MSE: 57.25123123485737 Test MAE: 2.635622501373291 Test MSE: 17.76114273071289\n",
      "Epoch: 7 Train MAE: 4.031749971177843 Train MSE: 57.244761493640496 Test MAE: 2.1755497455596924 Test MSE: 11.2169828414917\n",
      "Epoch: 8 Train MAE: 4.028005740907457 Train MSE: 57.14655150234028 Test MAE: 2.0708000659942627 Test MSE: 11.502291679382324\n",
      "Epoch: 9 Train MAE: 4.032033883200752 Train MSE: 57.283782008091286 Test MAE: 2.539435863494873 Test MSE: 18.220619201660156\n",
      "Training finished\n",
      "seq len: 4\n",
      "2021-11-30 00:00:00\n",
      "20220610_164228\n",
      "Shape of train_x: (10297, 4, 37, 1)\n",
      "Shape of train_y: (10297, 4, 37, 1)\n",
      "Shape of test_x: (7, 4, 37, 1)\n",
      "Shape of test_y: (7, 4, 37, 1)\n"
     ]
    },
    {
     "name": "stderr",
     "output_type": "stream",
     "text": [
      "C:\\Users\\Bened\\PycharmProjects\\madrid-traffic\\env\\lib\\site-packages\\torch\\autocast_mode.py:162: UserWarning: User provided device_type of 'cuda', but CUDA is not available. Disabling\n",
      "  warnings.warn('User provided device_type of \\'cuda\\', but CUDA is not available. Disabling')\n"
     ]
    },
    {
     "name": "stdout",
     "output_type": "stream",
     "text": [
      "Epoch: 0 Train MAE: 4.205517404568122 Train MSE: 57.71276809824275 Test MAE: 2.376912832260132 Test MSE: 13.926447868347168\n",
      "Epoch: 1 Train MAE: 4.13263427840997 Train MSE: 58.9545956296579 Test MAE: 2.339606285095215 Test MSE: 19.82468605041504\n",
      "Epoch: 2 Train MAE: 4.116885475490404 Train MSE: 58.1642871906503 Test MAE: 2.0675623416900635 Test MSE: 10.757471084594727\n",
      "Epoch: 3 Train MAE: 4.1166561301450555 Train MSE: 58.15995831406676 Test MAE: 2.4209632873535156 Test MSE: 15.751055717468262\n",
      "Epoch: 4 Train MAE: 4.114977774412735 Train MSE: 58.31981202914316 Test MAE: 2.2752792835235596 Test MSE: 14.240202903747559\n",
      "Epoch: 5 Train MAE: 4.1144379740176 Train MSE: 58.29373480292555 Test MAE: 2.294842004776001 Test MSE: 15.816638946533203\n",
      "Epoch: 6 Train MAE: 4.115849449027399 Train MSE: 58.352044689617586 Test MAE: 2.1502788066864014 Test MSE: 13.268630027770996\n",
      "Training finished\n",
      "seq len: 8\n",
      "2021-11-30 00:00:00\n",
      "20220610_165205\n",
      "Shape of train_x: (5381, 8, 37, 1)\n",
      "Shape of train_y: (5381, 8, 37, 1)\n",
      "Shape of test_x: (0, 8, 37, 1)\n",
      "Shape of test_y: (0, 8, 37, 1)\n",
      "num_samples should be a positive integer value, but got num_samples=0\n",
      "seq len: 16\n",
      "2021-11-30 00:00:00\n",
      "20220610_165247\n",
      "Shape of train_x: (1451, 16, 37, 1)\n",
      "Shape of train_y: (1451, 16, 37, 1)\n",
      "Shape of test_x: (0, 16, 37, 1)\n",
      "Shape of test_y: (0, 16, 37, 1)\n",
      "num_samples should be a positive integer value, but got num_samples=0\n"
     ]
    },
    {
     "data": {
      "text/plain": "<Figure size 432x288 with 0 Axes>"
     },
     "metadata": {},
     "output_type": "display_data"
    }
   ],
   "source": [
    "args[\"dir\"] = \"both\"\n",
    "temporal_dict = {k: \"drop\" for k in temporal_dict.keys()}\n",
    "meteo_dict = {k: \"drop\" for k in meteo_dict.keys()}\n",
    "args[\"out_feats\"] = 32\n",
    "args[\"num_layers\"] = 1\n",
    "\n",
    "for train_until in pd.date_range(\"2021-5-27\", \"2021-11-30\", freq=\"1M\"):\n",
    "    for seq_len in [2, 4, 8, 16]:\n",
    "        data_dict[\"seq_len\"] = seq_len\n",
    "        try:\n",
    "            train_with_args(args, data_dict, meteo_dict, temporal_dict, train_until=train_until)\n",
    "        except Exception as e:\n",
    "            print(e)"
   ],
   "metadata": {
    "collapsed": false,
    "pycharm": {
     "name": "#%%\n"
    }
   }
  },
  {
   "cell_type": "markdown",
   "source": [
    "# D:\n",
    "out_feats = 64\n",
    "num_layers = 1"
   ],
   "metadata": {
    "collapsed": false,
    "pycharm": {
     "name": "#%% md\n"
    }
   }
  },
  {
   "cell_type": "code",
   "execution_count": 6,
   "outputs": [
    {
     "name": "stdout",
     "output_type": "stream",
     "text": [
      "seq len: 2\n",
      "2021-05-31 00:00:00\n",
      "20220610_165317\n",
      "Shape of train_x: (13283, 2, 37, 1)\n",
      "Shape of train_y: (13283, 2, 37, 1)\n",
      "Shape of test_x: (254, 2, 37, 1)\n",
      "Shape of test_y: (254, 2, 37, 1)\n"
     ]
    },
    {
     "name": "stderr",
     "output_type": "stream",
     "text": [
      "C:\\Users\\Bened\\PycharmProjects\\madrid-traffic\\env\\lib\\site-packages\\torch\\autocast_mode.py:162: UserWarning: User provided device_type of 'cuda', but CUDA is not available. Disabling\n",
      "  warnings.warn('User provided device_type of \\'cuda\\', but CUDA is not available. Disabling')\n"
     ]
    },
    {
     "name": "stdout",
     "output_type": "stream",
     "text": [
      "Epoch: 0 Train MAE: 4.097273372686827 Train MSE: 58.95550171305373 Test MAE: 3.9110506176948547 Test MSE: 49.86886821558456\n",
      "Epoch: 1 Train MAE: 4.047420791708506 Train MSE: 57.66921295192136 Test MAE: 3.851807951927185 Test MSE: 48.28600893249761\n",
      "Epoch: 2 Train MAE: 4.043829829646991 Train MSE: 57.943689381022764 Test MAE: 3.8346771001815796 Test MSE: 48.20057334602773\n",
      "Epoch: 3 Train MAE: 4.041737033770635 Train MSE: 57.827897376203495 Test MAE: 3.8445467352867126 Test MSE: 48.51279073562011\n",
      "Epoch: 4 Train MAE: 4.044335744701899 Train MSE: 57.94866826505058 Test MAE: 3.845484673976898 Test MSE: 48.31766286101086\n",
      "Epoch: 5 Train MAE: 4.042024666300187 Train MSE: 57.86849556700591 Test MAE: 3.8497968912124634 Test MSE: 48.44614544682149\n",
      "Epoch: 6 Train MAE: 4.044062151358678 Train MSE: 57.94208935512453 Test MAE: 3.8460527062416077 Test MSE: 48.63839931247271\n",
      "Epoch: 7 Train MAE: 4.037185678115258 Train MSE: 57.70879777890941 Test MAE: 3.836678683757782 Test MSE: 48.20983082945746\n",
      "Epoch: 8 Train MAE: 4.040043232532648 Train MSE: 57.830417325365225 Test MAE: 3.8467085361480713 Test MSE: 48.58701918700505\n",
      "Epoch: 9 Train MAE: 4.041915609286382 Train MSE: 57.83878419271554 Test MAE: 3.8304859399795532 Test MSE: 48.11016320735923\n",
      "Epoch: 10 Train MAE: 4.041872938091938 Train MSE: 57.85628453969347 Test MAE: 3.838576078414917 Test MSE: 48.26354752972162\n",
      "Epoch: 11 Train MAE: 4.045240671588824 Train MSE: 58.0502354767596 Test MAE: 3.837012231349945 Test MSE: 48.25423234078145\n",
      "Training finished\n",
      "seq len: 4\n",
      "2021-05-31 00:00:00\n",
      "20220610_171342\n",
      "Shape of train_x: (9640, 4, 37, 1)\n",
      "Shape of train_y: (9640, 4, 37, 1)\n",
      "Shape of test_x: (145, 4, 37, 1)\n",
      "Shape of test_y: (145, 4, 37, 1)\n"
     ]
    },
    {
     "name": "stderr",
     "output_type": "stream",
     "text": [
      "C:\\Users\\Bened\\PycharmProjects\\madrid-traffic\\env\\lib\\site-packages\\torch\\autocast_mode.py:162: UserWarning: User provided device_type of 'cuda', but CUDA is not available. Disabling\n",
      "  warnings.warn('User provided device_type of \\'cuda\\', but CUDA is not available. Disabling')\n"
     ]
    },
    {
     "name": "stdout",
     "output_type": "stream",
     "text": [
      "Epoch: 0 Train MAE: 6.037178443757114 Train MSE: 117.71184622004134 Test MAE: 6.613150119781494 Test MSE: 151.6542229014161\n",
      "Epoch: 1 Train MAE: 4.247121477758648 Train MSE: 60.862444845284614 Test MAE: 4.24231751759847 Test MSE: 61.37680179888033\n",
      "Epoch: 2 Train MAE: 4.184243030105995 Train MSE: 60.30059408235864 Test MAE: 4.043240547180176 Test MSE: 55.695645410466945\n",
      "Epoch: 3 Train MAE: 4.180156251452616 Train MSE: 60.15388614791678 Test MAE: 4.1273423830668134 Test MSE: 51.66421360668065\n",
      "Epoch: 4 Train MAE: 4.178674121566166 Train MSE: 59.98640633987462 Test MAE: 3.841935078303019 Test MSE: 49.08045262082887\n",
      "Epoch: 5 Train MAE: 4.184332304442955 Train MSE: 60.16069246921551 Test MAE: 4.026512622833252 Test MSE: 53.714960039809036\n",
      "Epoch: 6 Train MAE: 4.179005403392362 Train MSE: 60.02679882956905 Test MAE: 3.8130330244700112 Test MSE: 48.64009321943431\n",
      "Epoch: 7 Train MAE: 4.176972551851083 Train MSE: 60.054247301135966 Test MAE: 4.153276681900024 Test MSE: 63.70603933765855\n",
      "Epoch: 8 Train MAE: 4.177053795745041 Train MSE: 60.0133907147874 Test MAE: 4.07595698038737 Test MSE: 52.78692900631861\n",
      "Epoch: 9 Train MAE: 4.182727580038917 Train MSE: 60.34495259916682 Test MAE: 4.10594383875529 Test MSE: 62.635442731274765\n",
      "Training finished\n",
      "seq len: 8\n",
      "2021-05-31 00:00:00\n",
      "20220610_173555\n",
      "Shape of train_x: (5142, 8, 37, 1)\n",
      "Shape of train_y: (5142, 8, 37, 1)\n",
      "Shape of test_x: (43, 8, 37, 1)\n",
      "Shape of test_y: (43, 8, 37, 1)\n"
     ]
    },
    {
     "name": "stderr",
     "output_type": "stream",
     "text": [
      "C:\\Users\\Bened\\PycharmProjects\\madrid-traffic\\env\\lib\\site-packages\\torch\\autocast_mode.py:162: UserWarning: User provided device_type of 'cuda', but CUDA is not available. Disabling\n",
      "  warnings.warn('User provided device_type of \\'cuda\\', but CUDA is not available. Disabling')\n"
     ]
    },
    {
     "name": "stdout",
     "output_type": "stream",
     "text": [
      "Epoch: 0 Train MAE: 4.98756010149732 Train MSE: 66.78191980731123 Test MAE: 5.0929036140441895 Test MSE: 82.08171081542969\n",
      "Epoch: 1 Train MAE: 4.677008152008057 Train MSE: 68.6539343721082 Test MAE: 5.641685485839844 Test MSE: 90.53469848632812\n",
      "Epoch: 2 Train MAE: 4.536196025801294 Train MSE: 67.23555874396637 Test MAE: 5.110829830169678 Test MSE: 89.20716094970703\n",
      "Epoch: 3 Train MAE: 4.290541595882839 Train MSE: 62.29185428157851 Test MAE: 4.634734153747559 Test MSE: 74.85508728027344\n",
      "Epoch: 4 Train MAE: 4.289796693825427 Train MSE: 62.30724988056509 Test MAE: 4.261458873748779 Test MSE: 67.79541778564453\n",
      "Epoch: 5 Train MAE: 4.265868825677001 Train MSE: 61.910795101537836 Test MAE: 4.361167907714844 Test MSE: 78.09191131591797\n",
      "Epoch: 6 Train MAE: 4.269365866978963 Train MSE: 62.242312013474844 Test MAE: 4.686211585998535 Test MSE: 79.85260009765625\n",
      "Epoch: 7 Train MAE: 4.275147520465615 Train MSE: 62.35588786810586 Test MAE: 4.458466529846191 Test MSE: 71.3630599975586\n",
      "Training finished\n",
      "seq len: 16\n",
      "2021-05-31 00:00:00\n",
      "20220610_175226\n",
      "Shape of train_x: (1416, 16, 37, 1)\n",
      "Shape of train_y: (1416, 16, 37, 1)\n",
      "Shape of test_x: (2, 16, 37, 1)\n",
      "Shape of test_y: (2, 16, 37, 1)\n"
     ]
    },
    {
     "name": "stderr",
     "output_type": "stream",
     "text": [
      "C:\\Users\\Bened\\PycharmProjects\\madrid-traffic\\env\\lib\\site-packages\\torch\\autocast_mode.py:162: UserWarning: User provided device_type of 'cuda', but CUDA is not available. Disabling\n",
      "  warnings.warn('User provided device_type of \\'cuda\\', but CUDA is not available. Disabling')\n"
     ]
    },
    {
     "name": "stdout",
     "output_type": "stream",
     "text": [
      "Epoch: 0 Train MAE: 6.780651838883109 Train MSE: 128.78966330465 Test MAE: 7.430354118347168 Test MSE: 218.54774475097656\n",
      "Epoch: 1 Train MAE: 6.585734408834706 Train MSE: 138.51802442484322 Test MAE: 7.548932075500488 Test MSE: 246.6793670654297\n",
      "Epoch: 2 Train MAE: 6.503755880438763 Train MSE: 135.45242864006454 Test MAE: 7.283404350280762 Test MSE: 232.117919921875\n",
      "Epoch: 3 Train MAE: 6.480652290841808 Train MSE: 128.50315574410016 Test MAE: 7.36524772644043 Test MSE: 231.80648803710938\n",
      "Epoch: 4 Train MAE: 6.3987338853918985 Train MSE: 133.74885228633858 Test MAE: 7.07857608795166 Test MSE: 218.72003173828125\n",
      "Epoch: 5 Train MAE: 6.134389379750127 Train MSE: 125.43832311569234 Test MAE: 6.675048828125 Test MSE: 205.17898559570312\n",
      "Epoch: 6 Train MAE: 5.937621883724047 Train MSE: 112.24874490185348 Test MAE: 6.393678665161133 Test MSE: 190.0159454345703\n",
      "Epoch: 7 Train MAE: 5.741689764935037 Train MSE: 104.12128108909207 Test MAE: 6.406843185424805 Test MSE: 188.70938110351562\n",
      "Epoch: 8 Train MAE: 5.3829508242399795 Train MSE: 95.27508481670067 Test MAE: 6.423232555389404 Test MSE: 183.49305725097656\n",
      "Epoch: 9 Train MAE: 4.997427981832753 Train MSE: 79.92830416280957 Test MAE: 5.664867401123047 Test MSE: 149.33941650390625\n",
      "Epoch: 10 Train MAE: 4.737082771632982 Train MSE: 72.940291495455 Test MAE: 5.770028114318848 Test MSE: 138.705810546875\n",
      "Epoch: 11 Train MAE: 4.575122853984004 Train MSE: 68.9423247818486 Test MAE: 5.619438171386719 Test MSE: 130.31886291503906\n",
      "Epoch: 12 Train MAE: 4.602385106294052 Train MSE: 70.30706833733628 Test MAE: 5.914067268371582 Test MSE: 133.27862548828125\n",
      "Epoch: 13 Train MAE: 4.544941518617713 Train MSE: 68.5603808339613 Test MAE: 5.7285356521606445 Test MSE: 127.92534637451172\n",
      "Epoch: 14 Train MAE: 4.498726886251698 Train MSE: 67.41802723142374 Test MAE: 5.249405384063721 Test MSE: 114.65422058105469\n",
      "Epoch: 15 Train MAE: 4.44765011123989 Train MSE: 65.75463813718983 Test MAE: 5.212069034576416 Test MSE: 112.40827941894531\n",
      "Epoch: 16 Train MAE: 4.479951651200004 Train MSE: 65.48275968056976 Test MAE: 5.041750907897949 Test MSE: 108.24235534667969\n",
      "Epoch: 17 Train MAE: 4.437312748121179 Train MSE: 65.99630167631001 Test MAE: 5.425499439239502 Test MSE: 118.39151000976562\n",
      "Epoch: 18 Train MAE: 4.42035610779472 Train MSE: 65.7819693803452 Test MAE: 5.5388569831848145 Test MSE: 120.23990631103516\n",
      "Epoch: 19 Train MAE: 4.487136861552363 Train MSE: 66.43160727208402 Test MAE: 5.025483131408691 Test MSE: 107.79674530029297\n",
      "Training finished\n",
      "seq len: 2\n",
      "2021-06-30 00:00:00\n",
      "20220610_181553\n",
      "Shape of train_x: (13537, 2, 37, 1)\n",
      "Shape of train_y: (13537, 2, 37, 1)\n",
      "Shape of test_x: (389, 2, 37, 1)\n",
      "Shape of test_y: (389, 2, 37, 1)\n"
     ]
    },
    {
     "name": "stderr",
     "output_type": "stream",
     "text": [
      "C:\\Users\\Bened\\PycharmProjects\\madrid-traffic\\env\\lib\\site-packages\\torch\\autocast_mode.py:162: UserWarning: User provided device_type of 'cuda', but CUDA is not available. Disabling\n",
      "  warnings.warn('User provided device_type of \\'cuda\\', but CUDA is not available. Disabling')\n"
     ]
    },
    {
     "name": "stdout",
     "output_type": "stream",
     "text": [
      "Epoch: 0 Train MAE: 4.622953597104774 Train MSE: 66.0268766952609 Test MAE: 4.494014876229422 Test MSE: 60.11829954767295\n",
      "Epoch: 1 Train MAE: 4.275459165843028 Train MSE: 60.239018539395026 Test MAE: 3.943325996398926 Test MSE: 48.5014126794257\n",
      "Epoch: 2 Train MAE: 4.230166841228053 Train MSE: 60.30159674595412 Test MAE: 3.907133068357195 Test MSE: 50.63159763311903\n",
      "Epoch: 3 Train MAE: 4.224185655701835 Train MSE: 60.18983598197324 Test MAE: 3.865281649998256 Test MSE: 46.39225559766624\n",
      "Epoch: 4 Train MAE: 4.2245032326230465 Train MSE: 60.22311645223462 Test MAE: 3.955301284790039 Test MSE: 54.737373114629854\n",
      "Epoch: 5 Train MAE: 4.226800520465059 Train MSE: 60.2892404775166 Test MAE: 3.8238124506814137 Test MSE: 47.70148143419404\n",
      "Epoch: 6 Train MAE: 4.224294172143036 Train MSE: 60.2215389696204 Test MAE: 4.198722771235874 Test MSE: 59.4938877335448\n",
      "Epoch: 7 Train MAE: 4.227227100786173 Train MSE: 60.499689711227084 Test MAE: 3.8436521121433804 Test MSE: 45.632735969969595\n",
      "Training finished\n",
      "seq len: 4\n",
      "2021-06-30 00:00:00\n",
      "20220610_182708\n",
      "Shape of train_x: (9785, 4, 37, 1)\n",
      "Shape of train_y: (9785, 4, 37, 1)\n",
      "Shape of test_x: (260, 4, 37, 1)\n",
      "Shape of test_y: (260, 4, 37, 1)\n"
     ]
    },
    {
     "name": "stderr",
     "output_type": "stream",
     "text": [
      "C:\\Users\\Bened\\PycharmProjects\\madrid-traffic\\env\\lib\\site-packages\\torch\\autocast_mode.py:162: UserWarning: User provided device_type of 'cuda', but CUDA is not available. Disabling\n",
      "  warnings.warn('User provided device_type of \\'cuda\\', but CUDA is not available. Disabling')\n"
     ]
    },
    {
     "name": "stdout",
     "output_type": "stream",
     "text": [
      "Epoch: 0 Train MAE: 4.551108575334736 Train MSE: 60.38518634060702 Test MAE: 4.1418732643127445 Test MSE: 48.513656531243655\n",
      "Epoch: 1 Train MAE: 4.353192598991145 Train MSE: 63.31144569647902 Test MAE: 3.9681747913360597 Test MSE: 50.507657774250184\n",
      "Epoch: 2 Train MAE: 4.162015858818503 Train MSE: 59.358655759898376 Test MAE: 4.023406028747559 Test MSE: 61.89113208485812\n",
      "Epoch: 3 Train MAE: 4.160288019117966 Train MSE: 59.61329258266448 Test MAE: 3.7077394008636473 Test MSE: 45.07557156897674\n",
      "Epoch: 4 Train MAE: 4.156462462119807 Train MSE: 59.41516411824473 Test MAE: 3.63600378036499 Test MSE: 45.371149892918595\n",
      "Epoch: 5 Train MAE: 4.157911243002399 Train MSE: 59.366642971578386 Test MAE: 3.365141582489014 Test MSE: 38.437701878554286\n",
      "Epoch: 6 Train MAE: 4.157191270317128 Train MSE: 59.398716025832805 Test MAE: 4.006939029693603 Test MSE: 61.76458375273753\n",
      "Epoch: 7 Train MAE: 4.1571968209509755 Train MSE: 59.312561128513536 Test MAE: 3.652876853942871 Test MSE: 43.75222669607301\n",
      "Epoch: 8 Train MAE: 4.156803832334631 Train MSE: 59.368531195010455 Test MAE: 3.6578874588012695 Test MSE: 44.569892225340396\n",
      "Epoch: 9 Train MAE: 4.156290997087566 Train MSE: 59.40475629371783 Test MAE: 3.6223191738128664 Test MSE: 46.55299124892555\n",
      "Training finished\n",
      "seq len: 8\n",
      "2021-06-30 00:00:00\n",
      "20220610_184624\n",
      "Shape of train_x: (5185, 8, 37, 1)\n",
      "Shape of train_y: (5185, 8, 37, 1)\n",
      "Shape of test_x: (127, 8, 37, 1)\n",
      "Shape of test_y: (127, 8, 37, 1)\n"
     ]
    },
    {
     "name": "stderr",
     "output_type": "stream",
     "text": [
      "C:\\Users\\Bened\\PycharmProjects\\madrid-traffic\\env\\lib\\site-packages\\torch\\autocast_mode.py:162: UserWarning: User provided device_type of 'cuda', but CUDA is not available. Disabling\n",
      "  warnings.warn('User provided device_type of \\'cuda\\', but CUDA is not available. Disabling')\n"
     ]
    },
    {
     "name": "stdout",
     "output_type": "stream",
     "text": [
      "Epoch: 0 Train MAE: 6.408078786803455 Train MSE: 130.6244022964084 Test MAE: 7.0582427978515625 Test MSE: 178.72596371650565\n",
      "Epoch: 1 Train MAE: 6.132368709982895 Train MSE: 112.2811725161919 Test MAE: 6.626077651977539 Test MSE: 138.9306531460665\n",
      "Epoch: 2 Train MAE: 4.733872686944356 Train MSE: 73.20084637437208 Test MAE: 4.490172863006592 Test MSE: 68.37565287255245\n",
      "Epoch: 3 Train MAE: 4.755253815069431 Train MSE: 65.77203687083437 Test MAE: 4.306786298751831 Test MSE: 57.21469131256102\n",
      "Epoch: 4 Train MAE: 4.508609056472778 Train MSE: 66.98218262074369 Test MAE: 4.114088535308838 Test MSE: 58.318964189512094\n",
      "Epoch: 5 Train MAE: 4.4912862079899485 Train MSE: 65.6476114240404 Test MAE: 4.064147472381592 Test MSE: 56.80168731027322\n",
      "Epoch: 6 Train MAE: 4.459950755282146 Train MSE: 65.27569806418892 Test MAE: 4.069453954696655 Test MSE: 57.558691422957544\n",
      "Epoch: 7 Train MAE: 4.468928758690997 Train MSE: 65.2145135548116 Test MAE: 4.065148115158081 Test MSE: 57.37465761213814\n",
      "Epoch: 8 Train MAE: 4.4605206948954885 Train MSE: 64.94233066287039 Test MAE: 4.044387578964233 Test MSE: 56.40274210263234\n",
      "Epoch: 9 Train MAE: 4.492959755222972 Train MSE: 66.02372722256953 Test MAE: 4.043261528015137 Test MSE: 56.61646247804873\n",
      "Training finished\n",
      "seq len: 16\n",
      "2021-06-30 00:00:00\n",
      "20220610_190700\n",
      "Shape of train_x: (1418, 16, 37, 1)\n",
      "Shape of train_y: (1418, 16, 37, 1)\n",
      "Shape of test_x: (29, 16, 37, 1)\n",
      "Shape of test_y: (29, 16, 37, 1)\n"
     ]
    },
    {
     "name": "stderr",
     "output_type": "stream",
     "text": [
      "C:\\Users\\Bened\\PycharmProjects\\madrid-traffic\\env\\lib\\site-packages\\torch\\autocast_mode.py:162: UserWarning: User provided device_type of 'cuda', but CUDA is not available. Disabling\n",
      "  warnings.warn('User provided device_type of \\'cuda\\', but CUDA is not available. Disabling')\n"
     ]
    },
    {
     "name": "stdout",
     "output_type": "stream",
     "text": [
      "Epoch: 0 Train MAE: 6.7358066932014795 Train MSE: 148.58734928476807 Test MAE: 6.3306660652160645 Test MSE: 145.5181884765625\n",
      "Epoch: 1 Train MAE: 6.82987293989762 Train MSE: 115.23739356115378 Test MAE: 8.086456298828125 Test MSE: 154.9564208984375\n",
      "Epoch: 2 Train MAE: 6.29638093450795 Train MSE: 106.85536719052051 Test MAE: 6.437113285064697 Test MSE: 112.7473373413086\n",
      "Epoch: 3 Train MAE: 5.430805372155231 Train MSE: 95.16152911471045 Test MAE: 5.382814407348633 Test MSE: 104.18513488769531\n",
      "Epoch: 4 Train MAE: 5.313922322314719 Train MSE: 81.70395540692907 Test MAE: 5.159943103790283 Test MSE: 77.62191009521484\n",
      "Epoch: 5 Train MAE: 5.10540305013242 Train MSE: 75.3743131183537 Test MAE: 4.963459491729736 Test MSE: 64.21102142333984\n",
      "Epoch: 6 Train MAE: 4.998533456221871 Train MSE: 70.00431827835804 Test MAE: 4.922377109527588 Test MSE: 73.8092041015625\n",
      "Epoch: 7 Train MAE: 4.709079638771389 Train MSE: 69.59559732717145 Test MAE: 4.4150896072387695 Test MSE: 68.38648223876953\n",
      "Epoch: 8 Train MAE: 4.971288411513619 Train MSE: 68.3859193561103 Test MAE: 4.724747657775879 Test MSE: 60.562808990478516\n",
      "Epoch: 9 Train MAE: 4.636111508245054 Train MSE: 69.17918712856263 Test MAE: 4.489302158355713 Test MSE: 72.99468994140625\n",
      "Epoch: 10 Train MAE: 4.476432053939156 Train MSE: 64.45809570774179 Test MAE: 4.1515793800354 Test MSE: 55.50654602050781\n",
      "Epoch: 11 Train MAE: 4.4520285025886865 Train MSE: 66.44317627123772 Test MAE: 4.2442426681518555 Test MSE: 65.42945098876953\n",
      "Epoch: 12 Train MAE: 4.460282014763874 Train MSE: 66.11358282955761 Test MAE: 4.076929569244385 Test MSE: 59.13454055786133\n",
      "Epoch: 13 Train MAE: 4.382028455319612 Train MSE: 63.60019792122222 Test MAE: 3.9503884315490723 Test MSE: 56.472984313964844\n",
      "Epoch: 14 Train MAE: 4.3862874818884805 Train MSE: 65.2017501672091 Test MAE: 4.051731586456299 Test MSE: 57.364166259765625\n",
      "Epoch: 15 Train MAE: 4.367232115372367 Train MSE: 64.64468494251233 Test MAE: 4.106959342956543 Test MSE: 61.046104431152344\n",
      "Epoch: 16 Train MAE: 4.318114819733993 Train MSE: 62.980199298399505 Test MAE: 3.945917844772339 Test MSE: 59.72342300415039\n",
      "Epoch: 17 Train MAE: 4.339711002681566 Train MSE: 63.88148242034426 Test MAE: 3.954251766204834 Test MSE: 51.24422073364258\n",
      "Epoch: 18 Train MAE: 4.337018821550452 Train MSE: 63.364013370562 Test MAE: 3.9253060817718506 Test MSE: 54.30461502075195\n",
      "Epoch: 19 Train MAE: 4.328184065611466 Train MSE: 63.298231814569455 Test MAE: 3.8926894664764404 Test MSE: 53.89512252807617\n",
      "Training finished\n",
      "seq len: 2\n",
      "2021-07-31 00:00:00\n",
      "20220610_193006\n",
      "Shape of train_x: (13956, 2, 37, 1)\n",
      "Shape of train_y: (13956, 2, 37, 1)\n",
      "Shape of test_x: (413, 2, 37, 1)\n",
      "Shape of test_y: (413, 2, 37, 1)\n"
     ]
    },
    {
     "name": "stderr",
     "output_type": "stream",
     "text": [
      "C:\\Users\\Bened\\PycharmProjects\\madrid-traffic\\env\\lib\\site-packages\\torch\\autocast_mode.py:162: UserWarning: User provided device_type of 'cuda', but CUDA is not available. Disabling\n",
      "  warnings.warn('User provided device_type of \\'cuda\\', but CUDA is not available. Disabling')\n"
     ]
    },
    {
     "name": "stdout",
     "output_type": "stream",
     "text": [
      "Epoch: 0 Train MAE: 4.055622772539043 Train MSE: 56.78437844023544 Test MAE: 3.1937174456460133 Test MSE: 37.445116686884816\n",
      "Epoch: 1 Train MAE: 4.017005134390914 Train MSE: 56.72571571410991 Test MAE: 3.1073946271623885 Test MSE: 36.98818049595078\n",
      "Epoch: 2 Train MAE: 4.011435650255038 Train MSE: 56.64050727147903 Test MAE: 2.976041010447911 Test MSE: 33.95618152959201\n",
      "Epoch: 3 Train MAE: 4.011345213406707 Train MSE: 56.7316763705452 Test MAE: 3.0041865280696323 Test MSE: 35.60887763508337\n",
      "Epoch: 4 Train MAE: 4.013290353017311 Train MSE: 56.78034894249318 Test MAE: 3.0640831334250316 Test MSE: 36.99235374337986\n",
      "Epoch: 5 Train MAE: 4.017664109190849 Train MSE: 57.17152519123365 Test MAE: 3.042716843741281 Test MSE: 37.238391920173264\n",
      "Training finished\n",
      "seq len: 4\n",
      "2021-07-31 00:00:00\n",
      "20220610_193906\n",
      "Shape of train_x: (10063, 4, 37, 1)\n",
      "Shape of train_y: (10063, 4, 37, 1)\n",
      "Shape of test_x: (234, 4, 37, 1)\n",
      "Shape of test_y: (234, 4, 37, 1)\n"
     ]
    },
    {
     "name": "stderr",
     "output_type": "stream",
     "text": [
      "C:\\Users\\Bened\\PycharmProjects\\madrid-traffic\\env\\lib\\site-packages\\torch\\autocast_mode.py:162: UserWarning: User provided device_type of 'cuda', but CUDA is not available. Disabling\n",
      "  warnings.warn('User provided device_type of \\'cuda\\', but CUDA is not available. Disabling')\n"
     ]
    },
    {
     "name": "stdout",
     "output_type": "stream",
     "text": [
      "Epoch: 0 Train MAE: 4.429382696936402 Train MSE: 59.54055264962949 Test MAE: 3.8566123247146606 Test MSE: 40.76622031175951\n",
      "Epoch: 1 Train MAE: 4.249513289596461 Train MSE: 61.02188104609378 Test MAE: 3.1488449573516846 Test MSE: 38.563822547950565\n",
      "Epoch: 2 Train MAE: 4.14055558548698 Train MSE: 58.54220004068769 Test MAE: 3.2518469095230103 Test MSE: 39.95883488744899\n",
      "Epoch: 3 Train MAE: 4.143701654446276 Train MSE: 58.856051454748034 Test MAE: 3.1454060077667236 Test MSE: 37.201100651495366\n",
      "Epoch: 4 Train MAE: 4.139534656005569 Train MSE: 58.60935125553108 Test MAE: 3.1644808650016785 Test MSE: 40.075414882709495\n",
      "Epoch: 5 Train MAE: 4.13431232488608 Train MSE: 58.630084332632705 Test MAE: 3.088586390018463 Test MSE: 36.49527278944268\n",
      "Epoch: 6 Train MAE: 4.138514932197861 Train MSE: 58.614137253491116 Test MAE: 3.200172245502472 Test MSE: 39.36195241980009\n",
      "Epoch: 7 Train MAE: 4.131764887254449 Train MSE: 58.55692215450983 Test MAE: 3.131782054901123 Test MSE: 37.218728519773336\n",
      "Epoch: 8 Train MAE: 4.133770242522035 Train MSE: 58.498496779408406 Test MAE: 3.0702783465385437 Test MSE: 35.88453764774016\n",
      "Epoch: 9 Train MAE: 4.138999782031095 Train MSE: 58.632396437802505 Test MAE: 3.1948196291923523 Test MSE: 39.927373847359505\n",
      "Training finished\n",
      "seq len: 8\n",
      "2021-07-31 00:00:00\n",
      "20220610_195854\n",
      "Shape of train_x: (5317, 8, 37, 1)\n",
      "Shape of train_y: (5317, 8, 37, 1)\n",
      "Shape of test_x: (64, 8, 37, 1)\n",
      "Shape of test_y: (64, 8, 37, 1)\n"
     ]
    },
    {
     "name": "stderr",
     "output_type": "stream",
     "text": [
      "C:\\Users\\Bened\\PycharmProjects\\madrid-traffic\\env\\lib\\site-packages\\torch\\autocast_mode.py:162: UserWarning: User provided device_type of 'cuda', but CUDA is not available. Disabling\n",
      "  warnings.warn('User provided device_type of \\'cuda\\', but CUDA is not available. Disabling')\n"
     ]
    },
    {
     "name": "stdout",
     "output_type": "stream",
     "text": [
      "Epoch: 0 Train MAE: 6.315458229609898 Train MSE: 133.54465573449522 Test MAE: 7.143171310424805 Test MSE: 177.00092936423013\n",
      "Epoch: 1 Train MAE: 5.927281748680842 Train MSE: 81.6235913459842 Test MAE: 5.989239692687988 Test MSE: 72.4436124041406\n",
      "Epoch: 2 Train MAE: 4.4418728578658335 Train MSE: 63.325000394965606 Test MAE: 3.6828126907348633 Test MSE: 44.25699887377129\n",
      "Epoch: 3 Train MAE: 4.357751023201716 Train MSE: 62.596858210334695 Test MAE: 3.512819766998291 Test MSE: 42.296701922154945\n",
      "Epoch: 4 Train MAE: 4.351678519021897 Train MSE: 62.728691595909595 Test MAE: 3.5081839561462402 Test MSE: 42.8944725208002\n",
      "Epoch: 5 Train MAE: 4.335980824061802 Train MSE: 62.0559558866638 Test MAE: 3.5528786182403564 Test MSE: 42.37238604615725\n",
      "Epoch: 6 Train MAE: 4.33340276990618 Train MSE: 62.04513087804524 Test MAE: 3.578589677810669 Test MSE: 42.435542303975595\n",
      "Epoch: 7 Train MAE: 4.333173757507687 Train MSE: 62.348144576881204 Test MAE: 3.562260866165161 Test MSE: 42.586475374399534\n",
      "Epoch: 8 Train MAE: 4.335538063730512 Train MSE: 62.61753302470851 Test MAE: 3.5423030853271484 Test MSE: 42.50919123226765\n",
      "Epoch: 9 Train MAE: 4.348484907831464 Train MSE: 62.715468760879084 Test MAE: 3.5432026386260986 Test MSE: 42.524247311196724\n",
      "Training finished\n",
      "seq len: 16\n",
      "2021-07-31 00:00:00\n",
      "20220610_201940\n",
      "Shape of train_x: (1447, 16, 37, 1)\n",
      "Shape of train_y: (1447, 16, 37, 1)\n",
      "Shape of test_x: (4, 16, 37, 1)\n",
      "Shape of test_y: (4, 16, 37, 1)\n"
     ]
    },
    {
     "name": "stderr",
     "output_type": "stream",
     "text": [
      "C:\\Users\\Bened\\PycharmProjects\\madrid-traffic\\env\\lib\\site-packages\\torch\\autocast_mode.py:162: UserWarning: User provided device_type of 'cuda', but CUDA is not available. Disabling\n",
      "  warnings.warn('User provided device_type of \\'cuda\\', but CUDA is not available. Disabling')\n"
     ]
    },
    {
     "name": "stdout",
     "output_type": "stream",
     "text": [
      "Epoch: 0 Train MAE: 12.099692759306535 Train MSE: 203.85295173580786 Test MAE: 16.82503318786621 Test MSE: 375.451171875\n",
      "Epoch: 1 Train MAE: 6.464437277420707 Train MSE: 129.1475149328708 Test MAE: 7.904351234436035 Test MSE: 185.83648681640625\n",
      "Epoch: 2 Train MAE: 6.77622243632441 Train MSE: 135.35436661001577 Test MAE: 6.209473609924316 Test MSE: 181.88784790039062\n",
      "Epoch: 3 Train MAE: 6.167012401249098 Train MSE: 88.15835631007212 Test MAE: 8.554100036621094 Test MSE: 143.1121368408203\n",
      "Epoch: 4 Train MAE: 4.536000168841818 Train MSE: 65.37290112106275 Test MAE: 4.871851921081543 Test MSE: 69.60533142089844\n",
      "Epoch: 5 Train MAE: 5.537956963414731 Train MSE: 71.37949813217257 Test MAE: 6.793522834777832 Test MSE: 99.68205261230469\n",
      "Epoch: 6 Train MAE: 4.918089742245882 Train MSE: 64.28449025255793 Test MAE: 5.843337535858154 Test MSE: 72.69735717773438\n",
      "Epoch: 7 Train MAE: 4.461509600929592 Train MSE: 64.48403167102494 Test MAE: 4.645168781280518 Test MSE: 67.0325927734375\n",
      "Epoch: 8 Train MAE: 4.419365903605586 Train MSE: 63.75327115270413 Test MAE: 4.598217010498047 Test MSE: 66.23350524902344\n",
      "Epoch: 9 Train MAE: 4.424332079680069 Train MSE: 61.75381886752841 Test MAE: 4.826111316680908 Test MSE: 65.36185455322266\n",
      "Epoch: 10 Train MAE: 4.3918864208719 Train MSE: 61.796297240627176 Test MAE: 4.632021427154541 Test MSE: 66.59235382080078\n",
      "Epoch: 11 Train MAE: 4.357887164406154 Train MSE: 61.96325745328892 Test MAE: 4.45583963394165 Test MSE: 63.05976104736328\n",
      "Epoch: 12 Train MAE: 4.358203514762547 Train MSE: 62.6952599382336 Test MAE: 4.298356056213379 Test MSE: 62.322120666503906\n",
      "Epoch: 13 Train MAE: 4.360471124234407 Train MSE: 62.66401474786461 Test MAE: 4.519880294799805 Test MSE: 65.3943099975586\n",
      "Epoch: 14 Train MAE: 4.350191924882972 Train MSE: 62.00364615403219 Test MAE: 4.496066570281982 Test MSE: 64.95428466796875\n",
      "Epoch: 15 Train MAE: 4.371249095253322 Train MSE: 62.78363311074604 Test MAE: 4.478174209594727 Test MSE: 65.06938934326172\n",
      "Training finished\n",
      "seq len: 2\n",
      "2021-08-31 00:00:00\n",
      "20220610_204026\n",
      "Shape of train_x: (14369, 2, 37, 1)\n",
      "Shape of train_y: (14369, 2, 37, 1)\n",
      "Shape of test_x: (10, 2, 37, 1)\n",
      "Shape of test_y: (10, 2, 37, 1)\n"
     ]
    },
    {
     "name": "stderr",
     "output_type": "stream",
     "text": [
      "C:\\Users\\Bened\\PycharmProjects\\madrid-traffic\\env\\lib\\site-packages\\torch\\autocast_mode.py:162: UserWarning: User provided device_type of 'cuda', but CUDA is not available. Disabling\n",
      "  warnings.warn('User provided device_type of \\'cuda\\', but CUDA is not available. Disabling')\n"
     ]
    },
    {
     "name": "stdout",
     "output_type": "stream",
     "text": [
      "Epoch: 0 Train MAE: 4.064475442038642 Train MSE: 58.2278842183842 Test MAE: 5.602516174316406 Test MSE: 89.60020446777344\n",
      "Epoch: 1 Train MAE: 4.00917144563463 Train MSE: 56.79862485200617 Test MAE: 4.531074047088623 Test MSE: 56.479698181152344\n",
      "Epoch: 2 Train MAE: 4.003898362053765 Train MSE: 57.00083886815429 Test MAE: 4.535872459411621 Test MSE: 103.80894470214844\n",
      "Epoch: 3 Train MAE: 4.002026761372884 Train MSE: 56.79379676738047 Test MAE: 4.439828395843506 Test MSE: 55.96207809448242\n",
      "Epoch: 4 Train MAE: 4.004542272355821 Train MSE: 56.82304924854239 Test MAE: 4.824655055999756 Test MSE: 68.60110473632812\n",
      "Epoch: 5 Train MAE: 4.001317152447171 Train MSE: 56.75878094062553 Test MAE: 2.8407509326934814 Test MSE: 22.197471618652344\n",
      "Epoch: 6 Train MAE: 4.002499217987061 Train MSE: 56.81273994982514 Test MAE: 5.344695568084717 Test MSE: 87.30826568603516\n",
      "Epoch: 7 Train MAE: 4.0019189876980255 Train MSE: 57.00876883195235 Test MAE: 4.529982089996338 Test MSE: 103.84304809570312\n",
      "Training finished\n",
      "seq len: 4\n",
      "2021-08-31 00:00:00\n",
      "20220610_205242\n",
      "Shape of train_x: (10297, 4, 37, 1)\n",
      "Shape of train_y: (10297, 4, 37, 1)\n",
      "Shape of test_x: (0, 4, 37, 1)\n",
      "Shape of test_y: (0, 4, 37, 1)\n",
      "num_samples should be a positive integer value, but got num_samples=0\n",
      "seq len: 8\n",
      "2021-08-31 00:00:00\n",
      "20220610_205325\n",
      "Shape of train_x: (5381, 8, 37, 1)\n",
      "Shape of train_y: (5381, 8, 37, 1)\n",
      "Shape of test_x: (0, 8, 37, 1)\n",
      "Shape of test_y: (0, 8, 37, 1)\n",
      "num_samples should be a positive integer value, but got num_samples=0\n",
      "seq len: 16\n",
      "2021-08-31 00:00:00\n",
      "20220610_205358\n",
      "Shape of train_x: (1451, 16, 37, 1)\n",
      "Shape of train_y: (1451, 16, 37, 1)\n",
      "Shape of test_x: (0, 16, 37, 1)\n",
      "Shape of test_y: (0, 16, 37, 1)\n",
      "num_samples should be a positive integer value, but got num_samples=0\n",
      "seq len: 2\n",
      "2021-09-30 00:00:00\n",
      "20220610_205423\n",
      "Shape of train_x: (14379, 2, 37, 1)\n",
      "Shape of train_y: (14379, 2, 37, 1)\n",
      "Shape of test_x: (0, 2, 37, 1)\n",
      "Shape of test_y: (0, 2, 37, 1)\n",
      "num_samples should be a positive integer value, but got num_samples=0\n",
      "seq len: 4\n",
      "2021-09-30 00:00:00\n",
      "20220610_205513\n",
      "Shape of train_x: (10297, 4, 37, 1)\n",
      "Shape of train_y: (10297, 4, 37, 1)\n",
      "Shape of test_x: (0, 4, 37, 1)\n",
      "Shape of test_y: (0, 4, 37, 1)\n",
      "num_samples should be a positive integer value, but got num_samples=0\n",
      "seq len: 8\n",
      "2021-09-30 00:00:00\n",
      "20220610_205555\n",
      "Shape of train_x: (5381, 8, 37, 1)\n",
      "Shape of train_y: (5381, 8, 37, 1)\n",
      "Shape of test_x: (0, 8, 37, 1)\n",
      "Shape of test_y: (0, 8, 37, 1)\n",
      "num_samples should be a positive integer value, but got num_samples=0\n",
      "seq len: 16\n",
      "2021-09-30 00:00:00\n",
      "20220610_205640\n",
      "Shape of train_x: (1451, 16, 37, 1)\n",
      "Shape of train_y: (1451, 16, 37, 1)\n",
      "Shape of test_x: (0, 16, 37, 1)\n",
      "Shape of test_y: (0, 16, 37, 1)\n",
      "num_samples should be a positive integer value, but got num_samples=0\n",
      "seq len: 2\n",
      "2021-10-31 00:00:00\n",
      "20220610_205706\n",
      "Shape of train_x: (14379, 2, 37, 1)\n",
      "Shape of train_y: (14379, 2, 37, 1)\n",
      "Shape of test_x: (0, 2, 37, 1)\n",
      "Shape of test_y: (0, 2, 37, 1)\n",
      "num_samples should be a positive integer value, but got num_samples=0\n",
      "seq len: 4\n",
      "2021-10-31 00:00:00\n",
      "20220610_205755\n",
      "Shape of train_x: (10297, 4, 37, 1)\n",
      "Shape of train_y: (10297, 4, 37, 1)\n",
      "Shape of test_x: (0, 4, 37, 1)\n",
      "Shape of test_y: (0, 4, 37, 1)\n",
      "num_samples should be a positive integer value, but got num_samples=0\n",
      "seq len: 8\n",
      "2021-10-31 00:00:00\n",
      "20220610_205837\n",
      "Shape of train_x: (5381, 8, 37, 1)\n",
      "Shape of train_y: (5381, 8, 37, 1)\n",
      "Shape of test_x: (0, 8, 37, 1)\n",
      "Shape of test_y: (0, 8, 37, 1)\n",
      "num_samples should be a positive integer value, but got num_samples=0\n",
      "seq len: 16\n",
      "2021-10-31 00:00:00\n",
      "20220610_205910\n",
      "Shape of train_x: (1451, 16, 37, 1)\n",
      "Shape of train_y: (1451, 16, 37, 1)\n",
      "Shape of test_x: (0, 16, 37, 1)\n",
      "Shape of test_y: (0, 16, 37, 1)\n",
      "num_samples should be a positive integer value, but got num_samples=0\n",
      "seq len: 2\n",
      "2021-11-30 00:00:00\n",
      "20220610_205936\n",
      "Shape of train_x: (14379, 2, 37, 1)\n",
      "Shape of train_y: (14379, 2, 37, 1)\n",
      "Shape of test_x: (16, 2, 37, 1)\n",
      "Shape of test_y: (16, 2, 37, 1)\n"
     ]
    },
    {
     "name": "stderr",
     "output_type": "stream",
     "text": [
      "C:\\Users\\Bened\\PycharmProjects\\madrid-traffic\\env\\lib\\site-packages\\torch\\autocast_mode.py:162: UserWarning: User provided device_type of 'cuda', but CUDA is not available. Disabling\n",
      "  warnings.warn('User provided device_type of \\'cuda\\', but CUDA is not available. Disabling')\n"
     ]
    },
    {
     "name": "stdout",
     "output_type": "stream",
     "text": [
      "Epoch: 0 Train MAE: 4.367537469863891 Train MSE: 63.13494417391839 Test MAE: 2.971158981323242 Test MSE: 25.312591552734375\n",
      "Epoch: 1 Train MAE: 4.108246065775553 Train MSE: 58.14822550784488 Test MAE: 2.412113904953003 Test MSE: 15.766822814941406\n",
      "Epoch: 2 Train MAE: 4.093582690556844 Train MSE: 58.12090956356318 Test MAE: 2.5175747871398926 Test MSE: 19.418441772460938\n",
      "Epoch: 3 Train MAE: 4.09057558801439 Train MSE: 58.1377563361954 Test MAE: 2.847285747528076 Test MSE: 19.6818790435791\n",
      "Epoch: 4 Train MAE: 4.089650513331096 Train MSE: 58.03682920120905 Test MAE: 2.157371759414673 Test MSE: 10.769371032714844\n",
      "Epoch: 5 Train MAE: 4.087691849602593 Train MSE: 58.00790365763914 Test MAE: 2.592475652694702 Test MSE: 22.619247436523438\n",
      "Epoch: 6 Train MAE: 4.088316022025214 Train MSE: 58.054536380101034 Test MAE: 2.5336966514587402 Test MSE: 15.78332233428955\n",
      "Epoch: 7 Train MAE: 4.087985028160943 Train MSE: 58.021343764937306 Test MAE: 2.5315325260162354 Test MSE: 15.761497497558594\n",
      "Epoch: 8 Train MAE: 4.0876097424825035 Train MSE: 58.08068385235966 Test MAE: 2.3193235397338867 Test MSE: 12.989889144897461\n",
      "Training finished\n",
      "seq len: 4\n",
      "2021-11-30 00:00:00\n",
      "20220610_211301\n",
      "Shape of train_x: (10297, 4, 37, 1)\n",
      "Shape of train_y: (10297, 4, 37, 1)\n",
      "Shape of test_x: (7, 4, 37, 1)\n",
      "Shape of test_y: (7, 4, 37, 1)\n"
     ]
    },
    {
     "name": "stderr",
     "output_type": "stream",
     "text": [
      "C:\\Users\\Bened\\PycharmProjects\\madrid-traffic\\env\\lib\\site-packages\\torch\\autocast_mode.py:162: UserWarning: User provided device_type of 'cuda', but CUDA is not available. Disabling\n",
      "  warnings.warn('User provided device_type of \\'cuda\\', but CUDA is not available. Disabling')\n"
     ]
    },
    {
     "name": "stdout",
     "output_type": "stream",
     "text": [
      "Epoch: 0 Train MAE: 5.366709475191484 Train MSE: 98.36550026460407 Test MAE: 3.5191962718963623 Test MSE: 38.80894470214844\n",
      "Epoch: 1 Train MAE: 4.365654071665698 Train MSE: 63.111487851196465 Test MAE: 2.493293285369873 Test MSE: 18.315044403076172\n",
      "Epoch: 2 Train MAE: 4.264718514791927 Train MSE: 60.899209232322235 Test MAE: 2.60855770111084 Test MSE: 19.24325180053711\n",
      "Epoch: 3 Train MAE: 4.246918065207345 Train MSE: 60.507962761024906 Test MAE: 2.5873024463653564 Test MSE: 18.932392120361328\n",
      "Epoch: 4 Train MAE: 4.240697016627152 Train MSE: 60.639559085764176 Test MAE: 2.443110466003418 Test MSE: 22.354074478149414\n",
      "Epoch: 5 Train MAE: 4.239900227659238 Train MSE: 60.53450512613388 Test MAE: 2.4325361251831055 Test MSE: 22.239980697631836\n",
      "Epoch: 6 Train MAE: 4.24051112565935 Train MSE: 60.57008920516012 Test MAE: 2.701888084411621 Test MSE: 19.65595817565918\n",
      "Epoch: 7 Train MAE: 4.239551410911987 Train MSE: 60.57849868406947 Test MAE: 2.5147159099578857 Test MSE: 18.294639587402344\n",
      "Epoch: 8 Train MAE: 4.239503783468875 Train MSE: 60.65298667587904 Test MAE: 2.992297887802124 Test MSE: 24.832788467407227\n",
      "Training finished\n",
      "seq len: 8\n",
      "2021-11-30 00:00:00\n",
      "20220610_213121\n",
      "Shape of train_x: (5381, 8, 37, 1)\n",
      "Shape of train_y: (5381, 8, 37, 1)\n",
      "Shape of test_x: (0, 8, 37, 1)\n",
      "Shape of test_y: (0, 8, 37, 1)\n",
      "num_samples should be a positive integer value, but got num_samples=0\n",
      "seq len: 16\n",
      "2021-11-30 00:00:00\n",
      "20220610_213154\n",
      "Shape of train_x: (1451, 16, 37, 1)\n",
      "Shape of train_y: (1451, 16, 37, 1)\n",
      "Shape of test_x: (0, 16, 37, 1)\n",
      "Shape of test_y: (0, 16, 37, 1)\n",
      "num_samples should be a positive integer value, but got num_samples=0\n"
     ]
    },
    {
     "data": {
      "text/plain": "<Figure size 432x288 with 0 Axes>"
     },
     "metadata": {},
     "output_type": "display_data"
    }
   ],
   "source": [
    "args[\"dir\"] = \"both\"\n",
    "temporal_dict = {k: \"drop\" for k in temporal_dict.keys()}\n",
    "meteo_dict = {k: \"drop\" for k in meteo_dict.keys()}\n",
    "args[\"out_feats\"] = 64\n",
    "args[\"num_layers\"] = 1\n",
    "\n",
    "for train_until in pd.date_range(\"2021-5-27\", \"2021-11-30\", freq=\"1M\"):\n",
    "    for seq_len in [2, 4, 8, 16]:\n",
    "        data_dict[\"seq_len\"] = seq_len\n",
    "        try:\n",
    "            train_with_args(args, data_dict, meteo_dict, temporal_dict, train_until=train_until)\n",
    "        except Exception as e:\n",
    "            print(e)"
   ],
   "metadata": {
    "collapsed": false,
    "pycharm": {
     "name": "#%%\n"
    }
   }
  },
  {
   "cell_type": "markdown",
   "source": [
    "# E:\n",
    "out_feats = 64\n",
    "num_layers = 2\n",
    "hour and workday passthrough"
   ],
   "metadata": {
    "collapsed": false,
    "pycharm": {
     "name": "#%% md\n"
    }
   }
  },
  {
   "cell_type": "code",
   "execution_count": 7,
   "outputs": [
    {
     "name": "stdout",
     "output_type": "stream",
     "text": [
      "seq len: 2\n",
      "2021-05-31 00:00:00\n",
      "20220610_213219\n",
      "Shape of train_x: (13283, 2, 37, 3)\n",
      "Shape of train_y: (13283, 2, 37, 3)\n",
      "Shape of test_x: (254, 2, 37, 3)\n",
      "Shape of test_y: (254, 2, 37, 3)\n"
     ]
    },
    {
     "name": "stderr",
     "output_type": "stream",
     "text": [
      "C:\\Users\\Bened\\PycharmProjects\\madrid-traffic\\env\\lib\\site-packages\\torch\\autocast_mode.py:162: UserWarning: User provided device_type of 'cuda', but CUDA is not available. Disabling\n",
      "  warnings.warn('User provided device_type of \\'cuda\\', but CUDA is not available. Disabling')\n"
     ]
    },
    {
     "name": "stdout",
     "output_type": "stream",
     "text": [
      "Epoch: 0 Train MAE: 4.108219126096139 Train MSE: 58.31029741636719 Test MAE: 3.977360963821411 Test MSE: 50.97067740755408\n",
      "Epoch: 1 Train MAE: 4.034799602169257 Train MSE: 58.00325196311702 Test MAE: 3.9010031819343567 Test MSE: 51.0243710190079\n",
      "Epoch: 2 Train MAE: 4.027190452584853 Train MSE: 57.452805326529706 Test MAE: 3.9064274430274963 Test MSE: 50.85887143844578\n",
      "Epoch: 3 Train MAE: 4.027385856096561 Train MSE: 57.56320817139695 Test MAE: 3.903870165348053 Test MSE: 50.84491387543392\n",
      "Epoch: 4 Train MAE: 4.025640296248289 Train MSE: 57.5304862404734 Test MAE: 3.896990478038788 Test MSE: 50.63862090413619\n",
      "Epoch: 5 Train MAE: 4.03101716706386 Train MSE: 57.719353444287314 Test MAE: 3.892828404903412 Test MSE: 50.5903476411041\n",
      "Epoch: 6 Train MAE: 4.029877387560331 Train MSE: 57.699811636559744 Test MAE: 3.895106554031372 Test MSE: 50.653097530350834\n",
      "Epoch: 7 Train MAE: 4.032112904466116 Train MSE: 57.717750679584626 Test MAE: 3.8944002389907837 Test MSE: 50.570901147578624\n",
      "Training finished\n",
      "seq len: 4\n",
      "2021-05-31 00:00:00\n",
      "20220610_215800\n",
      "Shape of train_x: (9640, 4, 37, 3)\n",
      "Shape of train_y: (9640, 4, 37, 3)\n",
      "Shape of test_x: (145, 4, 37, 3)\n",
      "Shape of test_y: (145, 4, 37, 3)\n"
     ]
    },
    {
     "name": "stderr",
     "output_type": "stream",
     "text": [
      "C:\\Users\\Bened\\PycharmProjects\\madrid-traffic\\env\\lib\\site-packages\\torch\\autocast_mode.py:162: UserWarning: User provided device_type of 'cuda', but CUDA is not available. Disabling\n",
      "  warnings.warn('User provided device_type of \\'cuda\\', but CUDA is not available. Disabling')\n"
     ]
    },
    {
     "name": "stdout",
     "output_type": "stream",
     "text": [
      "Epoch: 0 Train MAE: 5.426758396704465 Train MSE: 79.1454328887989 Test MAE: 6.134624322255452 Test MSE: 126.67717247052026\n",
      "Epoch: 1 Train MAE: 4.543412761182974 Train MSE: 67.86919414936942 Test MAE: 5.2612067858378095 Test MSE: 102.43926291785097\n",
      "Epoch: 2 Train MAE: 4.419257999255957 Train MSE: 65.8885014025705 Test MAE: 4.913722991943359 Test MSE: 85.53809826822385\n",
      "Epoch: 3 Train MAE: 4.403284243400523 Train MSE: 65.36873808679454 Test MAE: 4.9401631355285645 Test MSE: 85.74797324708912\n",
      "Epoch: 4 Train MAE: 4.3885230844384 Train MSE: 64.95023816652296 Test MAE: 5.032232920328776 Test MSE: 89.58235401345301\n",
      "Epoch: 5 Train MAE: 4.389756884795941 Train MSE: 65.1050113279859 Test MAE: 4.977929592132568 Test MSE: 87.58890165386691\n",
      "Epoch: 6 Train MAE: 4.38973185873979 Train MSE: 65.09376157500377 Test MAE: 4.73669449488322 Test MSE: 77.23445107124367\n",
      "Epoch: 7 Train MAE: 4.38516514348668 Train MSE: 65.0114173675911 Test MAE: 4.761241594950358 Test MSE: 79.05143268909542\n",
      "Epoch: 8 Train MAE: 4.39069054458315 Train MSE: 65.10360772307003 Test MAE: 4.979991912841797 Test MSE: 91.29414899453202\n",
      "Training finished\n",
      "seq len: 8\n",
      "2021-05-31 00:00:00\n",
      "20220610_224310\n",
      "Shape of train_x: (5142, 8, 37, 3)\n",
      "Shape of train_y: (5142, 8, 37, 3)\n",
      "Shape of test_x: (43, 8, 37, 3)\n",
      "Shape of test_y: (43, 8, 37, 3)\n"
     ]
    },
    {
     "name": "stderr",
     "output_type": "stream",
     "text": [
      "C:\\Users\\Bened\\PycharmProjects\\madrid-traffic\\env\\lib\\site-packages\\torch\\autocast_mode.py:162: UserWarning: User provided device_type of 'cuda', but CUDA is not available. Disabling\n",
      "  warnings.warn('User provided device_type of \\'cuda\\', but CUDA is not available. Disabling')\n"
     ]
    },
    {
     "name": "stdout",
     "output_type": "stream",
     "text": [
      "Epoch: 0 Train MAE: 6.6549683971169555 Train MSE: 125.01022273071642 Test MAE: 7.522865295410156 Test MSE: 210.97230529785156\n",
      "Epoch: 1 Train MAE: 4.5697473420037165 Train MSE: 66.40352459215194 Test MAE: 4.482178211212158 Test MSE: 65.641357421875\n",
      "Epoch: 2 Train MAE: 4.359013480904662 Train MSE: 62.93987527764154 Test MAE: 4.147826194763184 Test MSE: 55.58279800415039\n",
      "Epoch: 3 Train MAE: 4.40739729669359 Train MSE: 64.98746578998578 Test MAE: 4.018662929534912 Test MSE: 53.08830642700195\n",
      "Epoch: 4 Train MAE: 4.284141349203793 Train MSE: 60.952369442987234 Test MAE: 4.104030132293701 Test MSE: 54.53171157836914\n",
      "Epoch: 5 Train MAE: 4.279148696381369 Train MSE: 61.85442537263243 Test MAE: 4.133272647857666 Test MSE: 60.4116325378418\n",
      "Epoch: 6 Train MAE: 4.267659658267174 Train MSE: 61.40506486489059 Test MAE: 4.360428333282471 Test MSE: 57.76322937011719\n",
      "Epoch: 7 Train MAE: 4.264614799876272 Train MSE: 61.116459625413356 Test MAE: 3.943291664123535 Test MSE: 50.85215759277344\n",
      "Epoch: 8 Train MAE: 4.262810353879575 Train MSE: 60.991132067298864 Test MAE: 4.173742294311523 Test MSE: 68.4082260131836\n",
      "Epoch: 9 Train MAE: 4.269013540244397 Train MSE: 61.354912464823094 Test MAE: 4.090723991394043 Test MSE: 55.82872009277344\n",
      "Epoch: 10 Train MAE: 4.260692101937753 Train MSE: 61.00856359377485 Test MAE: 4.174940586090088 Test MSE: 68.5525894165039\n",
      "Epoch: 11 Train MAE: 4.256515597119743 Train MSE: 61.02408595656292 Test MAE: 4.2662129402160645 Test MSE: 52.93423080444336\n",
      "Epoch: 12 Train MAE: 4.261924237380793 Train MSE: 60.97821082592066 Test MAE: 4.05438232421875 Test MSE: 53.4555778503418\n",
      "Epoch: 13 Train MAE: 4.270404350610427 Train MSE: 61.37225958588671 Test MAE: 4.261406421661377 Test MSE: 52.83406448364258\n",
      "Training finished\n",
      "seq len: 16\n",
      "2021-05-31 00:00:00\n",
      "20220610_235204\n",
      "Shape of train_x: (1416, 16, 37, 3)\n",
      "Shape of train_y: (1416, 16, 37, 3)\n",
      "Shape of test_x: (2, 16, 37, 3)\n",
      "Shape of test_y: (2, 16, 37, 3)\n"
     ]
    },
    {
     "name": "stderr",
     "output_type": "stream",
     "text": [
      "C:\\Users\\Bened\\PycharmProjects\\madrid-traffic\\env\\lib\\site-packages\\torch\\autocast_mode.py:162: UserWarning: User provided device_type of 'cuda', but CUDA is not available. Disabling\n",
      "  warnings.warn('User provided device_type of \\'cuda\\', but CUDA is not available. Disabling')\n"
     ]
    },
    {
     "name": "stdout",
     "output_type": "stream",
     "text": [
      "Epoch: 0 Train MAE: 9.47755701645561 Train MSE: 209.28543113736924 Test MAE: 9.607314109802246 Test MSE: 270.61907958984375\n",
      "Epoch: 1 Train MAE: 9.350822780443275 Train MSE: 197.71766335561975 Test MAE: 9.865765571594238 Test MSE: 276.7342834472656\n",
      "Epoch: 2 Train MAE: 7.998789268991222 Train MSE: 125.98083342548952 Test MAE: 9.20002555847168 Test MSE: 225.392333984375\n",
      "Epoch: 3 Train MAE: 5.090341910071995 Train MSE: 77.018715386167 Test MAE: 5.8601908683776855 Test MSE: 135.5314483642578\n",
      "Epoch: 4 Train MAE: 5.20222168383391 Train MSE: 79.56818497035184 Test MAE: 6.079888343811035 Test MSE: 138.60940551757812\n",
      "Epoch: 5 Train MAE: 4.768986930017886 Train MSE: 66.30997634843624 Test MAE: 5.274684906005859 Test MSE: 100.42555236816406\n",
      "Epoch: 6 Train MAE: 4.441056137499602 Train MSE: 63.508292714930505 Test MAE: 4.798019886016846 Test MSE: 97.45894622802734\n",
      "Epoch: 7 Train MAE: 4.526891646177872 Train MSE: 67.08429776261016 Test MAE: 4.937029838562012 Test MSE: 107.86622619628906\n",
      "Epoch: 8 Train MAE: 4.328669755355172 Train MSE: 61.58760395402243 Test MAE: 4.711297988891602 Test MSE: 97.9923095703125\n",
      "Epoch: 9 Train MAE: 4.350334934566332 Train MSE: 60.66427093157151 Test MAE: 4.51798677444458 Test MSE: 89.4682388305664\n",
      "Epoch: 10 Train MAE: 4.394474485646123 Train MSE: 60.1620816456234 Test MAE: 4.552644729614258 Test MSE: 93.3147201538086\n",
      "Epoch: 11 Train MAE: 4.31414852971616 Train MSE: 60.97853878115884 Test MAE: 4.436935901641846 Test MSE: 86.95378112792969\n",
      "Epoch: 12 Train MAE: 4.240522405375605 Train MSE: 60.984248456257426 Test MAE: 4.39241886138916 Test MSE: 87.39104461669922\n",
      "Epoch: 13 Train MAE: 4.206195147141166 Train MSE: 61.87612953460116 Test MAE: 4.4234395027160645 Test MSE: 90.04535675048828\n",
      "Training finished\n",
      "seq len: 2\n",
      "2021-06-30 00:00:00\n",
      "20220611_002845\n",
      "Shape of train_x: (13537, 2, 37, 3)\n",
      "Shape of train_y: (13537, 2, 37, 3)\n",
      "Shape of test_x: (389, 2, 37, 3)\n",
      "Shape of test_y: (389, 2, 37, 3)\n"
     ]
    },
    {
     "name": "stderr",
     "output_type": "stream",
     "text": [
      "C:\\Users\\Bened\\PycharmProjects\\madrid-traffic\\env\\lib\\site-packages\\torch\\autocast_mode.py:162: UserWarning: User provided device_type of 'cuda', but CUDA is not available. Disabling\n",
      "  warnings.warn('User provided device_type of \\'cuda\\', but CUDA is not available. Disabling')\n"
     ]
    },
    {
     "name": "stdout",
     "output_type": "stream",
     "text": [
      "Epoch: 0 Train MAE: 4.077174609562136 Train MSE: 58.83366463757167 Test MAE: 3.7936296463012695 Test MSE: 46.680727315882926\n",
      "Epoch: 1 Train MAE: 3.9984618818984843 Train MSE: 56.79953737438261 Test MAE: 3.4980785846710205 Test MSE: 39.78179722085287\n",
      "Epoch: 2 Train MAE: 4.000026103460564 Train MSE: 56.78608887227735 Test MAE: 3.4860600403376987 Test MSE: 40.12053930757861\n",
      "Epoch: 3 Train MAE: 3.99681696914277 Train MSE: 56.89189210212164 Test MAE: 3.4728060449872697 Test MSE: 39.388052225976274\n",
      "Epoch: 4 Train MAE: 3.9951309910360373 Train MSE: 56.871781571702094 Test MAE: 3.6255477496555875 Test MSE: 45.51932803924298\n",
      "Epoch: 5 Train MAE: 3.9956086412915646 Train MSE: 56.9032196974243 Test MAE: 3.6031197479793002 Test MSE: 43.9056222849299\n",
      "Training finished\n",
      "seq len: 4\n",
      "2021-06-30 00:00:00\n",
      "20220611_004446\n",
      "Shape of train_x: (9785, 4, 37, 3)\n",
      "Shape of train_y: (9785, 4, 37, 3)\n",
      "Shape of test_x: (260, 4, 37, 3)\n",
      "Shape of test_y: (260, 4, 37, 3)\n"
     ]
    },
    {
     "name": "stderr",
     "output_type": "stream",
     "text": [
      "C:\\Users\\Bened\\PycharmProjects\\madrid-traffic\\env\\lib\\site-packages\\torch\\autocast_mode.py:162: UserWarning: User provided device_type of 'cuda', but CUDA is not available. Disabling\n",
      "  warnings.warn('User provided device_type of \\'cuda\\', but CUDA is not available. Disabling')\n"
     ]
    },
    {
     "name": "stdout",
     "output_type": "stream",
     "text": [
      "Epoch: 0 Train MAE: 4.476189887601565 Train MSE: 63.79912350528948 Test MAE: 4.211182355880737 Test MSE: 52.316902808410305\n",
      "Epoch: 1 Train MAE: 4.151286366718267 Train MSE: 59.44010294353988 Test MAE: 3.775152349472046 Test MSE: 50.90878229160498\n",
      "Epoch: 2 Train MAE: 4.133353725757474 Train MSE: 58.967733610862616 Test MAE: 3.618574380874634 Test MSE: 43.78041695758576\n",
      "Epoch: 3 Train MAE: 4.127645202711517 Train MSE: 59.14394988198778 Test MAE: 3.782007598876953 Test MSE: 48.252111040034016\n",
      "Epoch: 4 Train MAE: 4.125263633291706 Train MSE: 59.07570391009646 Test MAE: 3.5410736083984373 Test MSE: 43.669783724887345\n",
      "Epoch: 5 Train MAE: 4.124897514293396 Train MSE: 59.07126024107566 Test MAE: 3.6808265686035155 Test MSE: 47.63501653158287\n",
      "Epoch: 6 Train MAE: 4.1252106950173975 Train MSE: 59.00257804026573 Test MAE: 3.841177749633789 Test MSE: 49.90864883257734\n",
      "Epoch: 7 Train MAE: 4.125290431228339 Train MSE: 59.11104923909072 Test MAE: 3.673658561706543 Test MSE: 49.95957489626362\n",
      "Epoch: 8 Train MAE: 4.1251163358002705 Train MSE: 59.04490667427567 Test MAE: 3.5537506580352782 Test MSE: 43.297719806423764\n",
      "Epoch: 9 Train MAE: 4.124136131573347 Train MSE: 59.07764261055317 Test MAE: 3.600469732284546 Test MSE: 46.85588041097264\n",
      "Epoch: 10 Train MAE: 4.123895093506458 Train MSE: 59.007947852836615 Test MAE: 3.7101598739624024 Test MSE: 47.021372942399644\n",
      "Epoch: 11 Train MAE: 4.124470861908657 Train MSE: 59.029751762857416 Test MAE: 3.6998667240142824 Test MSE: 45.73074666520811\n",
      "Epoch: 12 Train MAE: 4.1246622995613444 Train MSE: 59.05190450246834 Test MAE: 3.618784856796265 Test MSE: 46.24515095379654\n",
      "Epoch: 13 Train MAE: 4.123806328555338 Train MSE: 58.989887074768774 Test MAE: 3.5991050720214846 Test MSE: 44.3451623209049\n",
      "Epoch: 14 Train MAE: 4.124476833281174 Train MSE: 59.164943513787684 Test MAE: 3.6740854263305662 Test MSE: 45.99037203073359\n",
      "Training finished\n",
      "seq len: 8\n",
      "2021-06-30 00:00:00\n",
      "20220611_013950\n",
      "Shape of train_x: (5185, 8, 37, 3)\n",
      "Shape of train_y: (5185, 8, 37, 3)\n",
      "Shape of test_x: (127, 8, 37, 3)\n",
      "Shape of test_y: (127, 8, 37, 3)\n"
     ]
    },
    {
     "name": "stderr",
     "output_type": "stream",
     "text": [
      "C:\\Users\\Bened\\PycharmProjects\\madrid-traffic\\env\\lib\\site-packages\\torch\\autocast_mode.py:162: UserWarning: User provided device_type of 'cuda', but CUDA is not available. Disabling\n",
      "  warnings.warn('User provided device_type of \\'cuda\\', but CUDA is not available. Disabling')\n"
     ]
    },
    {
     "name": "stdout",
     "output_type": "stream",
     "text": [
      "Epoch: 0 Train MAE: 7.4260553906603555 Train MSE: 155.6068825710018 Test MAE: 7.446968078613281 Test MSE: 184.68368592074052\n",
      "Epoch: 1 Train MAE: 6.27795367124604 Train MSE: 137.82064801701046 Test MAE: 7.096662282943726 Test MSE: 193.09756856415214\n",
      "Epoch: 2 Train MAE: 6.059941204582772 Train MSE: 126.98843220399253 Test MAE: 7.057695150375366 Test MSE: 184.17523553632066\n",
      "Epoch: 3 Train MAE: 5.4432221505700085 Train MSE: 100.72872556689768 Test MAE: 6.0455100536346436 Test MSE: 135.93152931049679\n",
      "Epoch: 4 Train MAE: 5.088703952184537 Train MSE: 85.98282474465412 Test MAE: 5.477830171585083 Test MSE: 106.1255728964164\n",
      "Epoch: 5 Train MAE: 4.935392996159996 Train MSE: 78.72947571913417 Test MAE: 5.321110486984253 Test MSE: 97.04673122541809\n",
      "Epoch: 6 Train MAE: 4.879765621045741 Train MSE: 77.87393837123952 Test MAE: 5.281078815460205 Test MSE: 95.21056598015586\n",
      "Epoch: 7 Train MAE: 4.894691885971442 Train MSE: 77.6878779734849 Test MAE: 5.292591333389282 Test MSE: 95.15203529727165\n",
      "Epoch: 8 Train MAE: 4.859429469922694 Train MSE: 77.05739426404507 Test MAE: 5.260483503341675 Test MSE: 94.2267197580442\n",
      "Epoch: 9 Train MAE: 4.851344672645011 Train MSE: 76.90883526872895 Test MAE: 5.255289554595947 Test MSE: 93.90251313523004\n",
      "Epoch: 10 Train MAE: 4.857330886329093 Train MSE: 77.39170345858157 Test MAE: 5.243165731430054 Test MSE: 93.29380380995056\n",
      "Epoch: 11 Train MAE: 4.831564397346683 Train MSE: 76.94905429659609 Test MAE: 5.251060724258423 Test MSE: 93.46666170940492\n",
      "Epoch: 12 Train MAE: 4.823489340340219 Train MSE: 75.79169377236406 Test MAE: 5.245771646499634 Test MSE: 93.53514667645747\n",
      "Epoch: 13 Train MAE: 4.843510819644463 Train MSE: 76.67586687773553 Test MAE: 5.243002891540527 Test MSE: 93.16940903423271\n",
      "Epoch: 14 Train MAE: 4.847936705845158 Train MSE: 77.01832851658965 Test MAE: 5.250001430511475 Test MSE: 93.49944860137467\n",
      "Epoch: 15 Train MAE: 4.833571323534337 Train MSE: 76.3748262954589 Test MAE: 5.232794523239136 Test MSE: 92.86046779120984\n",
      "Epoch: 16 Train MAE: 4.822034324087748 Train MSE: 75.78218415344746 Test MAE: 5.240777492523193 Test MSE: 93.08648975900292\n",
      "Epoch: 17 Train MAE: 4.8288482921879465 Train MSE: 76.11606842588928 Test MAE: 5.234582901000977 Test MSE: 92.85410976726281\n",
      "Epoch: 18 Train MAE: 4.836823975167623 Train MSE: 76.2801366913249 Test MAE: 5.226278781890869 Test MSE: 92.56876114498857\n",
      "Epoch: 19 Train MAE: 4.829788056815543 Train MSE: 76.01012827288058 Test MAE: 5.234841823577881 Test MSE: 92.81805613677841\n",
      "Training finished\n",
      "seq len: 16\n",
      "2021-06-30 00:00:00\n",
      "20220611_025936\n",
      "Shape of train_x: (1418, 16, 37, 3)\n",
      "Shape of train_y: (1418, 16, 37, 3)\n",
      "Shape of test_x: (29, 16, 37, 3)\n",
      "Shape of test_y: (29, 16, 37, 3)\n"
     ]
    },
    {
     "name": "stderr",
     "output_type": "stream",
     "text": [
      "C:\\Users\\Bened\\PycharmProjects\\madrid-traffic\\env\\lib\\site-packages\\torch\\autocast_mode.py:162: UserWarning: User provided device_type of 'cuda', but CUDA is not available. Disabling\n",
      "  warnings.warn('User provided device_type of \\'cuda\\', but CUDA is not available. Disabling')\n"
     ]
    },
    {
     "name": "stdout",
     "output_type": "stream",
     "text": [
      "Epoch: 0 Train MAE: 13.27060438239056 Train MSE: 235.03371618385955 Test MAE: 15.281331062316895 Test MSE: 315.44696044921875\n",
      "Epoch: 1 Train MAE: 8.81526818482772 Train MSE: 148.5283520361871 Test MAE: 10.79920768737793 Test MSE: 232.7446746826172\n",
      "Epoch: 2 Train MAE: 7.052900998488717 Train MSE: 131.4561164991694 Test MAE: 8.502561569213867 Test MSE: 197.60025024414062\n",
      "Epoch: 3 Train MAE: 6.603836992512578 Train MSE: 137.58622071054128 Test MAE: 7.00004768371582 Test MSE: 169.76034545898438\n",
      "Epoch: 4 Train MAE: 6.596684974172841 Train MSE: 130.84717955030172 Test MAE: 7.279638290405273 Test MSE: 169.30178833007812\n",
      "Epoch: 5 Train MAE: 6.376065772512685 Train MSE: 128.56471336702865 Test MAE: 7.262875080108643 Test MSE: 177.1455535888672\n",
      "Epoch: 6 Train MAE: 6.153573595959207 Train MSE: 122.47185251780147 Test MAE: 7.080699920654297 Test MSE: 185.66688537597656\n",
      "Epoch: 7 Train MAE: 5.926296897556471 Train MSE: 115.2977366113796 Test MAE: 7.470754146575928 Test MSE: 204.75071716308594\n",
      "Epoch: 8 Train MAE: 5.619053612584653 Train MSE: 101.60385197989021 Test MAE: 6.79611349105835 Test MSE: 164.5240478515625\n",
      "Epoch: 9 Train MAE: 5.057534508083178 Train MSE: 82.20541152881259 Test MAE: 5.9870452880859375 Test MSE: 126.2744140625\n",
      "Epoch: 10 Train MAE: 4.738523711328921 Train MSE: 70.37353777424758 Test MAE: 5.608553886413574 Test MSE: 96.60939025878906\n",
      "Epoch: 11 Train MAE: 4.5126972405806836 Train MSE: 70.59720915630754 Test MAE: 5.286407470703125 Test MSE: 100.16324615478516\n",
      "Epoch: 12 Train MAE: 4.473694822062617 Train MSE: 69.55541048526392 Test MAE: 5.253990173339844 Test MSE: 91.47123718261719\n",
      "Epoch: 13 Train MAE: 4.411166916722837 Train MSE: 68.62997510806692 Test MAE: 4.993196964263916 Test MSE: 91.23421478271484\n",
      "Epoch: 14 Train MAE: 4.396818181742793 Train MSE: 67.03845093449212 Test MAE: 5.057106018066406 Test MSE: 85.45137023925781\n",
      "Epoch: 15 Train MAE: 4.34974275464597 Train MSE: 66.4653257304463 Test MAE: 4.65438175201416 Test MSE: 74.4909439086914\n",
      "Epoch: 16 Train MAE: 4.396760360054348 Train MSE: 66.65898984464046 Test MAE: 4.813945770263672 Test MSE: 71.55900573730469\n",
      "Epoch: 17 Train MAE: 4.358013464056927 Train MSE: 65.94392369032671 Test MAE: 4.693503379821777 Test MSE: 71.36751556396484\n",
      "Epoch: 18 Train MAE: 4.344142747961956 Train MSE: 66.29649314147734 Test MAE: 4.638015270233154 Test MSE: 69.57589721679688\n",
      "Epoch: 19 Train MAE: 4.320150624150815 Train MSE: 65.04533724645427 Test MAE: 4.645746231079102 Test MSE: 70.3647232055664\n",
      "Training finished\n",
      "seq len: 2\n",
      "2021-07-31 00:00:00\n",
      "20220611_034540\n",
      "Shape of train_x: (13956, 2, 37, 3)\n",
      "Shape of train_y: (13956, 2, 37, 3)\n",
      "Shape of test_x: (413, 2, 37, 3)\n",
      "Shape of test_y: (413, 2, 37, 3)\n"
     ]
    },
    {
     "name": "stderr",
     "output_type": "stream",
     "text": [
      "C:\\Users\\Bened\\PycharmProjects\\madrid-traffic\\env\\lib\\site-packages\\torch\\autocast_mode.py:162: UserWarning: User provided device_type of 'cuda', but CUDA is not available. Disabling\n",
      "  warnings.warn('User provided device_type of \\'cuda\\', but CUDA is not available. Disabling')\n"
     ]
    },
    {
     "name": "stdout",
     "output_type": "stream",
     "text": [
      "Epoch: 0 Train MAE: 4.319518242796806 Train MSE: 61.911229205693836 Test MAE: 3.1150074345724925 Test MSE: 35.75595028091815\n",
      "Epoch: 1 Train MAE: 4.010948691738251 Train MSE: 57.13700735426473 Test MAE: 2.9473748888288225 Test MSE: 33.801932767835936\n",
      "Epoch: 2 Train MAE: 4.001156837428542 Train MSE: 56.53253303628107 Test MAE: 3.1008335522242954 Test MSE: 35.799421202209565\n",
      "Epoch: 3 Train MAE: 4.0058954654763275 Train MSE: 56.659301539482676 Test MAE: 3.035231828689575 Test MSE: 34.45175165994767\n",
      "Epoch: 4 Train MAE: 3.999642678047424 Train MSE: 56.56810611539094 Test MAE: 2.9652369022369385 Test MSE: 33.43700843203909\n",
      "Epoch: 5 Train MAE: 3.9958306022974996 Train MSE: 56.45122379113569 Test MAE: 2.9867689268929616 Test MSE: 33.7156466220392\n",
      "Epoch: 6 Train MAE: 4.000618412070079 Train MSE: 56.57261215771587 Test MAE: 2.9358416966029575 Test MSE: 33.37203127393519\n",
      "Epoch: 7 Train MAE: 4.000550321248024 Train MSE: 56.510664789067185 Test MAE: 2.97243138722011 Test MSE: 34.33729454897328\n",
      "Epoch: 8 Train MAE: 3.9973107614473666 Train MSE: 56.451222770205085 Test MAE: 2.9426069600241527 Test MSE: 33.852559152551315\n",
      "Epoch: 9 Train MAE: 3.995994587467141 Train MSE: 56.50005064559913 Test MAE: 3.050767728260585 Test MSE: 36.98159804891652\n",
      "Epoch: 10 Train MAE: 3.9998818216802867 Train MSE: 56.51304662343164 Test MAE: 3.059711899076189 Test MSE: 36.21912046141312\n",
      "Epoch: 11 Train MAE: 4.001746189648702 Train MSE: 56.49526884627011 Test MAE: 2.9931395735059465 Test MSE: 34.48724473519646\n",
      "Training finished\n",
      "seq len: 4\n",
      "2021-07-31 00:00:00\n",
      "20220611_041854\n",
      "Shape of train_x: (10063, 4, 37, 3)\n",
      "Shape of train_y: (10063, 4, 37, 3)\n",
      "Shape of test_x: (234, 4, 37, 3)\n",
      "Shape of test_y: (234, 4, 37, 3)\n"
     ]
    },
    {
     "name": "stderr",
     "output_type": "stream",
     "text": [
      "C:\\Users\\Bened\\PycharmProjects\\madrid-traffic\\env\\lib\\site-packages\\torch\\autocast_mode.py:162: UserWarning: User provided device_type of 'cuda', but CUDA is not available. Disabling\n",
      "  warnings.warn('User provided device_type of \\'cuda\\', but CUDA is not available. Disabling')\n"
     ]
    },
    {
     "name": "stdout",
     "output_type": "stream",
     "text": [
      "Epoch: 0 Train MAE: 4.272763967514038 Train MSE: 60.2243462745507 Test MAE: 3.724898397922516 Test MSE: 42.27385527469625\n",
      "Epoch: 1 Train MAE: 4.1156528237499765 Train MSE: 57.988742033584714 Test MAE: 3.2578675746917725 Test MSE: 40.12946691424296\n",
      "Epoch: 2 Train MAE: 4.096328435064871 Train MSE: 58.40552535311213 Test MAE: 2.9396369457244873 Test MSE: 34.71043950612915\n",
      "Epoch: 3 Train MAE: 4.092740816406057 Train MSE: 58.09074781044233 Test MAE: 3.054622530937195 Test MSE: 35.927875765052306\n",
      "Epoch: 4 Train MAE: 4.099348997767968 Train MSE: 58.217732002000666 Test MAE: 3.0977944135665894 Test MSE: 36.692084003570116\n",
      "Epoch: 5 Train MAE: 4.085556086105637 Train MSE: 57.852004848564 Test MAE: 3.1159858107566833 Test MSE: 37.780702128635454\n",
      "Epoch: 6 Train MAE: 4.091427631016019 Train MSE: 58.032083759581276 Test MAE: 3.071341097354889 Test MSE: 36.61929104823555\n",
      "Epoch: 7 Train MAE: 4.0902486617052105 Train MSE: 58.082571935423175 Test MAE: 3.095270097255707 Test MSE: 38.374564562327095\n",
      "Epoch: 8 Train MAE: 4.081818524795242 Train MSE: 57.807417494434034 Test MAE: 3.016802966594696 Test MSE: 35.445590655106656\n",
      "Epoch: 9 Train MAE: 4.083714444426041 Train MSE: 57.925762679510065 Test MAE: 3.0956596732139587 Test MSE: 38.367710828141355\n",
      "Epoch: 10 Train MAE: 4.096402815625638 Train MSE: 58.386578747102455 Test MAE: 3.0116410851478577 Test MSE: 35.13971157627313\n",
      "Training finished\n",
      "seq len: 8\n",
      "2021-07-31 00:00:00\n",
      "20220611_050141\n",
      "Shape of train_x: (5317, 8, 37, 3)\n",
      "Shape of train_y: (5317, 8, 37, 3)\n",
      "Shape of test_x: (64, 8, 37, 3)\n",
      "Shape of test_y: (64, 8, 37, 3)\n"
     ]
    },
    {
     "name": "stderr",
     "output_type": "stream",
     "text": [
      "C:\\Users\\Bened\\PycharmProjects\\madrid-traffic\\env\\lib\\site-packages\\torch\\autocast_mode.py:162: UserWarning: User provided device_type of 'cuda', but CUDA is not available. Disabling\n",
      "  warnings.warn('User provided device_type of \\'cuda\\', but CUDA is not available. Disabling')\n"
     ]
    },
    {
     "name": "stdout",
     "output_type": "stream",
     "text": [
      "Epoch: 0 Train MAE: 4.991880700701759 Train MSE: 77.96710333564681 Test MAE: 5.027150630950928 Test MSE: 71.08641260249378\n",
      "Epoch: 1 Train MAE: 4.364021482921782 Train MSE: 63.400247321050365 Test MAE: 3.7499101161956787 Test MSE: 49.463883088214\n",
      "Epoch: 2 Train MAE: 4.333301856404259 Train MSE: 60.64825365001417 Test MAE: 3.9777143001556396 Test MSE: 47.89162728709578\n",
      "Epoch: 3 Train MAE: 4.275970436277843 Train MSE: 62.10413024448328 Test MAE: 3.7137351036071777 Test MSE: 47.9248459315132\n",
      "Epoch: 4 Train MAE: 4.255958670661563 Train MSE: 61.191547929253495 Test MAE: 3.72624135017395 Test MSE: 47.981284978387905\n",
      "Epoch: 5 Train MAE: 4.2441298848106745 Train MSE: 61.351071441182654 Test MAE: 3.7002909183502197 Test MSE: 48.1815206606175\n",
      "Epoch: 6 Train MAE: 4.252066271645682 Train MSE: 61.996431186297364 Test MAE: 3.645028591156006 Test MSE: 48.157729118366554\n",
      "Epoch: 7 Train MAE: 4.250291966256642 Train MSE: 61.67245894689337 Test MAE: 3.655632257461548 Test MSE: 48.17029986173691\n",
      "Epoch: 8 Train MAE: 4.24031727938425 Train MSE: 61.5440596318602 Test MAE: 3.6410024166107178 Test MSE: 48.1997153787763\n",
      "Epoch: 9 Train MAE: 4.233070816312518 Train MSE: 61.3567845168733 Test MAE: 3.639496326446533 Test MSE: 48.19880347365319\n",
      "Epoch: 10 Train MAE: 4.242709466389248 Train MSE: 61.587060007883665 Test MAE: 3.652853012084961 Test MSE: 48.22539370988081\n",
      "Epoch: 11 Train MAE: 4.246550917625427 Train MSE: 61.78119914021155 Test MAE: 3.6531755924224854 Test MSE: 48.204395323706066\n",
      "Training finished\n",
      "seq len: 16\n",
      "2021-07-31 00:00:00\n",
      "20220611_054957\n",
      "Shape of train_x: (1447, 16, 37, 3)\n",
      "Shape of train_y: (1447, 16, 37, 3)\n",
      "Shape of test_x: (4, 16, 37, 3)\n",
      "Shape of test_y: (4, 16, 37, 3)\n"
     ]
    },
    {
     "name": "stderr",
     "output_type": "stream",
     "text": [
      "C:\\Users\\Bened\\PycharmProjects\\madrid-traffic\\env\\lib\\site-packages\\torch\\autocast_mode.py:162: UserWarning: User provided device_type of 'cuda', but CUDA is not available. Disabling\n",
      "  warnings.warn('User provided device_type of \\'cuda\\', but CUDA is not available. Disabling')\n"
     ]
    },
    {
     "name": "stdout",
     "output_type": "stream",
     "text": [
      "Epoch: 0 Train MAE: 7.359830441682235 Train MSE: 128.7740107993854 Test MAE: 10.469151496887207 Test MSE: 211.7280731201172\n",
      "Epoch: 1 Train MAE: 7.321179141169009 Train MSE: 154.45391558773696 Test MAE: 8.655721664428711 Test MSE: 159.2760467529297\n",
      "Epoch: 2 Train MAE: 7.0350035169850225 Train MSE: 162.36932331874684 Test MAE: 7.669511795043945 Test MSE: 254.52169799804688\n",
      "Epoch: 3 Train MAE: 6.747499735459037 Train MSE: 154.44621430066599 Test MAE: 6.226571083068848 Test MSE: 160.62449645996094\n",
      "Epoch: 4 Train MAE: 5.812969124835471 Train MSE: 112.61740291232555 Test MAE: 6.330402374267578 Test MSE: 165.1317901611328\n",
      "Epoch: 5 Train MAE: 4.933178445567256 Train MSE: 74.37277419044638 Test MAE: 6.081944465637207 Test MSE: 100.0217514038086\n",
      "Epoch: 6 Train MAE: 4.978345083153767 Train MSE: 69.27453185636014 Test MAE: 6.40231466293335 Test MSE: 90.71817779541016\n",
      "Epoch: 7 Train MAE: 4.813808814339016 Train MSE: 67.66733430070565 Test MAE: 6.249668598175049 Test MSE: 90.9944076538086\n",
      "Epoch: 8 Train MAE: 4.678972161334494 Train MSE: 66.00662270037155 Test MAE: 5.843127250671387 Test MSE: 84.41764831542969\n",
      "Epoch: 9 Train MAE: 4.558541899142058 Train MSE: 66.77511952987791 Test MAE: 5.524509906768799 Test MSE: 83.7539291381836\n",
      "Epoch: 10 Train MAE: 4.507938302081564 Train MSE: 65.6709110723052 Test MAE: 5.291402339935303 Test MSE: 80.33088684082031\n",
      "Epoch: 11 Train MAE: 4.418762673502383 Train MSE: 64.4181759815538 Test MAE: 5.277943134307861 Test MSE: 79.44092559814453\n",
      "Epoch: 12 Train MAE: 4.38633099846218 Train MSE: 64.92543697923031 Test MAE: 5.359288692474365 Test MSE: 85.19465637207031\n",
      "Epoch: 13 Train MAE: 4.352149921914806 Train MSE: 63.58015118688702 Test MAE: 5.3199462890625 Test MSE: 81.6728286743164\n",
      "Epoch: 14 Train MAE: 4.313914506331734 Train MSE: 63.952351288778125 Test MAE: 4.999465465545654 Test MSE: 80.4731216430664\n",
      "Epoch: 15 Train MAE: 4.319072122159212 Train MSE: 63.9351265404256 Test MAE: 5.0433244705200195 Test MSE: 80.64069366455078\n",
      "Epoch: 16 Train MAE: 4.285914317421291 Train MSE: 63.715370536965885 Test MAE: 4.754190444946289 Test MSE: 74.28021240234375\n",
      "Epoch: 17 Train MAE: 4.286805982175081 Train MSE: 64.53933795590669 Test MAE: 4.736353874206543 Test MSE: 76.58490753173828\n",
      "Training finished\n",
      "seq len: 2\n",
      "2021-08-31 00:00:00\n",
      "20220611_063055\n",
      "Shape of train_x: (14369, 2, 37, 3)\n",
      "Shape of train_y: (14369, 2, 37, 3)\n",
      "Shape of test_x: (10, 2, 37, 3)\n",
      "Shape of test_y: (10, 2, 37, 3)\n"
     ]
    },
    {
     "name": "stderr",
     "output_type": "stream",
     "text": [
      "C:\\Users\\Bened\\PycharmProjects\\madrid-traffic\\env\\lib\\site-packages\\torch\\autocast_mode.py:162: UserWarning: User provided device_type of 'cuda', but CUDA is not available. Disabling\n",
      "  warnings.warn('User provided device_type of \\'cuda\\', but CUDA is not available. Disabling')\n"
     ]
    },
    {
     "name": "stdout",
     "output_type": "stream",
     "text": [
      "Epoch: 0 Train MAE: 4.167556189431084 Train MSE: 58.413868401016614 Test MAE: 4.18486213684082 Test MSE: 51.2489128112793\n",
      "Epoch: 1 Train MAE: 4.0346824338701035 Train MSE: 58.472223221878686 Test MAE: 4.493137359619141 Test MSE: 67.18556213378906\n",
      "Epoch: 2 Train MAE: 4.0261902162763805 Train MSE: 57.794376659872995 Test MAE: 3.0964152812957764 Test MSE: 28.864177703857422\n",
      "Epoch: 3 Train MAE: 4.026246218151516 Train MSE: 57.88492571068282 Test MAE: 5.073134899139404 Test MSE: 84.73546600341797\n",
      "Epoch: 4 Train MAE: 4.024596135881212 Train MSE: 57.83648543850891 Test MAE: 3.0927236080169678 Test MSE: 28.929767608642578\n",
      "Epoch: 5 Train MAE: 4.027301433351305 Train MSE: 57.95601957291187 Test MAE: 3.0896432399749756 Test MSE: 28.954856872558594\n",
      "Epoch: 6 Train MAE: 4.022565515306261 Train MSE: 57.78506629285958 Test MAE: 2.957613706588745 Test MSE: 24.555950164794922\n",
      "Epoch: 7 Train MAE: 4.026829378339979 Train MSE: 57.87647275356185 Test MAE: 4.340607643127441 Test MSE: 106.83905792236328\n",
      "Epoch: 8 Train MAE: 4.023588539759318 Train MSE: 57.81500274553007 Test MAE: 2.9564461708068848 Test MSE: 24.534835815429688\n",
      "Epoch: 9 Train MAE: 4.027635739644368 Train MSE: 58.0269579319681 Test MAE: 4.4494099617004395 Test MSE: 65.88670349121094\n",
      "Training finished\n",
      "seq len: 4\n",
      "2021-08-31 00:00:00\n",
      "20220611_065904\n",
      "Shape of train_x: (10297, 4, 37, 3)\n",
      "Shape of train_y: (10297, 4, 37, 3)\n",
      "Shape of test_x: (0, 4, 37, 3)\n",
      "Shape of test_y: (0, 4, 37, 3)\n",
      "num_samples should be a positive integer value, but got num_samples=0\n",
      "seq len: 8\n",
      "2021-08-31 00:00:00\n",
      "20220611_065943\n",
      "Shape of train_x: (5381, 8, 37, 3)\n",
      "Shape of train_y: (5381, 8, 37, 3)\n",
      "Shape of test_x: (0, 8, 37, 3)\n",
      "Shape of test_y: (0, 8, 37, 3)\n",
      "num_samples should be a positive integer value, but got num_samples=0\n",
      "seq len: 16\n",
      "2021-08-31 00:00:00\n",
      "20220611_070014\n",
      "Shape of train_x: (1451, 16, 37, 3)\n",
      "Shape of train_y: (1451, 16, 37, 3)\n",
      "Shape of test_x: (0, 16, 37, 3)\n",
      "Shape of test_y: (0, 16, 37, 3)\n",
      "num_samples should be a positive integer value, but got num_samples=0\n",
      "seq len: 2\n",
      "2021-09-30 00:00:00\n",
      "20220611_070037\n",
      "Shape of train_x: (14379, 2, 37, 3)\n",
      "Shape of train_y: (14379, 2, 37, 3)\n",
      "Shape of test_x: (0, 2, 37, 3)\n",
      "Shape of test_y: (0, 2, 37, 3)\n",
      "num_samples should be a positive integer value, but got num_samples=0\n",
      "seq len: 4\n",
      "2021-09-30 00:00:00\n",
      "20220611_070123\n",
      "Shape of train_x: (10297, 4, 37, 3)\n",
      "Shape of train_y: (10297, 4, 37, 3)\n",
      "Shape of test_x: (0, 4, 37, 3)\n",
      "Shape of test_y: (0, 4, 37, 3)\n",
      "num_samples should be a positive integer value, but got num_samples=0\n",
      "seq len: 8\n",
      "2021-09-30 00:00:00\n",
      "20220611_070201\n",
      "Shape of train_x: (5381, 8, 37, 3)\n",
      "Shape of train_y: (5381, 8, 37, 3)\n",
      "Shape of test_x: (0, 8, 37, 3)\n",
      "Shape of test_y: (0, 8, 37, 3)\n",
      "num_samples should be a positive integer value, but got num_samples=0\n",
      "seq len: 16\n",
      "2021-09-30 00:00:00\n",
      "20220611_070232\n",
      "Shape of train_x: (1451, 16, 37, 3)\n",
      "Shape of train_y: (1451, 16, 37, 3)\n",
      "Shape of test_x: (0, 16, 37, 3)\n",
      "Shape of test_y: (0, 16, 37, 3)\n",
      "num_samples should be a positive integer value, but got num_samples=0\n",
      "seq len: 2\n",
      "2021-10-31 00:00:00\n",
      "20220611_070255\n",
      "Shape of train_x: (14379, 2, 37, 3)\n",
      "Shape of train_y: (14379, 2, 37, 3)\n",
      "Shape of test_x: (0, 2, 37, 3)\n",
      "Shape of test_y: (0, 2, 37, 3)\n",
      "num_samples should be a positive integer value, but got num_samples=0\n",
      "seq len: 4\n",
      "2021-10-31 00:00:00\n",
      "20220611_070341\n",
      "Shape of train_x: (10297, 4, 37, 3)\n",
      "Shape of train_y: (10297, 4, 37, 3)\n",
      "Shape of test_x: (0, 4, 37, 3)\n",
      "Shape of test_y: (0, 4, 37, 3)\n",
      "num_samples should be a positive integer value, but got num_samples=0\n",
      "seq len: 8\n",
      "2021-10-31 00:00:00\n",
      "20220611_070420\n",
      "Shape of train_x: (5381, 8, 37, 3)\n",
      "Shape of train_y: (5381, 8, 37, 3)\n",
      "Shape of test_x: (0, 8, 37, 3)\n",
      "Shape of test_y: (0, 8, 37, 3)\n",
      "num_samples should be a positive integer value, but got num_samples=0\n",
      "seq len: 16\n",
      "2021-10-31 00:00:00\n",
      "20220611_070450\n",
      "Shape of train_x: (1451, 16, 37, 3)\n",
      "Shape of train_y: (1451, 16, 37, 3)\n",
      "Shape of test_x: (0, 16, 37, 3)\n",
      "Shape of test_y: (0, 16, 37, 3)\n",
      "num_samples should be a positive integer value, but got num_samples=0\n",
      "seq len: 2\n",
      "2021-11-30 00:00:00\n",
      "20220611_070513\n",
      "Shape of train_x: (14379, 2, 37, 3)\n",
      "Shape of train_y: (14379, 2, 37, 3)\n",
      "Shape of test_x: (16, 2, 37, 3)\n",
      "Shape of test_y: (16, 2, 37, 3)\n"
     ]
    },
    {
     "name": "stderr",
     "output_type": "stream",
     "text": [
      "C:\\Users\\Bened\\PycharmProjects\\madrid-traffic\\env\\lib\\site-packages\\torch\\autocast_mode.py:162: UserWarning: User provided device_type of 'cuda', but CUDA is not available. Disabling\n",
      "  warnings.warn('User provided device_type of \\'cuda\\', but CUDA is not available. Disabling')\n"
     ]
    },
    {
     "name": "stdout",
     "output_type": "stream",
     "text": [
      "Epoch: 0 Train MAE: 4.064991223017374 Train MSE: 59.038285964556636 Test MAE: 2.4242563247680664 Test MSE: 21.346214294433594\n",
      "Epoch: 1 Train MAE: 4.004069978925917 Train MSE: 56.69828440512471 Test MAE: 1.828072428703308 Test MSE: 9.29370403289795\n",
      "Epoch: 2 Train MAE: 3.987786749733819 Train MSE: 56.88181639792432 Test MAE: 1.8344000577926636 Test MSE: 9.363851547241211\n",
      "Epoch: 3 Train MAE: 3.9878203137715658 Train MSE: 56.803790389366256 Test MAE: 2.3596208095550537 Test MSE: 14.704903602600098\n",
      "Epoch: 4 Train MAE: 3.989671582116021 Train MSE: 56.8701366651376 Test MAE: 2.1265296936035156 Test MSE: 12.047861099243164\n",
      "Epoch: 5 Train MAE: 3.989497638278537 Train MSE: 56.849994012415 Test MAE: 2.363827705383301 Test MSE: 14.718497276306152\n",
      "Epoch: 6 Train MAE: 3.9866142654418946 Train MSE: 56.82922475829952 Test MAE: 2.3908004760742188 Test MSE: 18.08481788635254\n",
      "Epoch: 7 Train MAE: 3.989547628826565 Train MSE: 56.877026648299925 Test MAE: 2.442741632461548 Test MSE: 13.358835220336914\n",
      "Training finished\n",
      "seq len: 4\n",
      "2021-11-30 00:00:00\n",
      "20220611_072824\n",
      "Shape of train_x: (10297, 4, 37, 3)\n",
      "Shape of train_y: (10297, 4, 37, 3)\n",
      "Shape of test_x: (7, 4, 37, 3)\n",
      "Shape of test_y: (7, 4, 37, 3)\n"
     ]
    },
    {
     "name": "stderr",
     "output_type": "stream",
     "text": [
      "C:\\Users\\Bened\\PycharmProjects\\madrid-traffic\\env\\lib\\site-packages\\torch\\autocast_mode.py:162: UserWarning: User provided device_type of 'cuda', but CUDA is not available. Disabling\n",
      "  warnings.warn('User provided device_type of \\'cuda\\', but CUDA is not available. Disabling')\n"
     ]
    },
    {
     "name": "stdout",
     "output_type": "stream",
     "text": [
      "Epoch: 0 Train MAE: 4.386625837835466 Train MSE: 59.35771083926621 Test MAE: 2.817110300064087 Test MSE: 22.172536849975586\n",
      "Epoch: 1 Train MAE: 4.044362996675954 Train MSE: 57.05773710816607 Test MAE: 2.7507259845733643 Test MSE: 16.802913665771484\n",
      "Epoch: 2 Train MAE: 4.030548834652635 Train MSE: 57.238771777562995 Test MAE: 2.285001039505005 Test MSE: 19.370426177978516\n",
      "Epoch: 3 Train MAE: 4.027123935474372 Train MSE: 57.240353116023044 Test MAE: 2.388158082962036 Test MSE: 15.80819320678711\n",
      "Epoch: 4 Train MAE: 4.025862119212654 Train MSE: 57.10481945062292 Test MAE: 2.1730575561523438 Test MSE: 10.111711502075195\n",
      "Epoch: 5 Train MAE: 4.0266800756039824 Train MSE: 57.06546458481791 Test MAE: 2.3923373222351074 Test MSE: 15.78062629699707\n",
      "Epoch: 6 Train MAE: 4.026470773708747 Train MSE: 57.09495897235159 Test MAE: 2.6203789710998535 Test MSE: 16.43268585205078\n",
      "Epoch: 7 Train MAE: 4.025313963801224 Train MSE: 57.07995430880179 Test MAE: 2.387977123260498 Test MSE: 15.76153564453125\n",
      "Epoch: 8 Train MAE: 4.027122792249881 Train MSE: 57.178512957518656 Test MAE: 2.6086602210998535 Test MSE: 16.3665828704834\n",
      "Training finished\n",
      "seq len: 8\n",
      "2021-11-30 00:00:00\n",
      "20220611_080506\n",
      "Shape of train_x: (5381, 8, 37, 3)\n",
      "Shape of train_y: (5381, 8, 37, 3)\n",
      "Shape of test_x: (0, 8, 37, 3)\n",
      "Shape of test_y: (0, 8, 37, 3)\n",
      "num_samples should be a positive integer value, but got num_samples=0\n",
      "seq len: 16\n",
      "2021-11-30 00:00:00\n",
      "20220611_080537\n",
      "Shape of train_x: (1451, 16, 37, 3)\n",
      "Shape of train_y: (1451, 16, 37, 3)\n",
      "Shape of test_x: (0, 16, 37, 3)\n",
      "Shape of test_y: (0, 16, 37, 3)\n",
      "num_samples should be a positive integer value, but got num_samples=0\n"
     ]
    },
    {
     "data": {
      "text/plain": "<Figure size 432x288 with 0 Axes>"
     },
     "metadata": {},
     "output_type": "display_data"
    }
   ],
   "source": [
    "args[\"dir\"] = \"both\"\n",
    "temporal_dict = {k: \"drop\" for k in temporal_dict.keys()}\n",
    "meteo_dict = {k: \"drop\" for k in meteo_dict.keys()}\n",
    "args[\"out_feats\"] = 64\n",
    "args[\"num_layers\"] = 2\n",
    "temporal_dict[\"hour\"] = \"passthrough\"\n",
    "temporal_dict[\"working_day\"] = \"passthrough\"\n",
    "\n",
    "for train_until in pd.date_range(\"2021-5-27\", \"2021-11-30\", freq=\"1M\"):\n",
    "    for seq_len in [2, 4, 8, 16]:\n",
    "        data_dict[\"seq_len\"] = seq_len\n",
    "        try:\n",
    "            train_with_args(args, data_dict, meteo_dict, temporal_dict, train_until=train_until)\n",
    "        except Exception as e:\n",
    "            print(e)"
   ],
   "metadata": {
    "collapsed": false,
    "pycharm": {
     "name": "#%%\n"
    }
   }
  }
 ],
 "metadata": {
  "kernelspec": {
   "display_name": "Python 3",
   "language": "python",
   "name": "python3"
  },
  "language_info": {
   "codemirror_mode": {
    "name": "ipython",
    "version": 2
   },
   "file_extension": ".py",
   "mimetype": "text/x-python",
   "name": "python",
   "nbconvert_exporter": "python",
   "pygments_lexer": "ipython2",
   "version": "2.7.6"
  }
 },
 "nbformat": 4,
 "nbformat_minor": 0
}