{
 "cells": [
  {
   "cell_type": "code",
   "execution_count": 1,
   "outputs": [
    {
     "name": "stderr",
     "output_type": "stream",
     "text": [
      "C:\\Users\\Bened\\PycharmProjects\\madrid-traffic\\env\\lib\\site-packages\\tqdm\\auto.py:22: TqdmWarning: IProgress not found. Please update jupyter and ipywidgets. See https://ipywidgets.readthedocs.io/en/stable/user_install.html\n",
      "  from .autonotebook import tqdm as notebook_tqdm\n"
     ]
    },
    {
     "name": "stdout",
     "output_type": "stream",
     "text": [
      "20220520_142259\n"
     ]
    }
   ],
   "source": [
    "import os\n",
    "import pickle\n",
    "\n",
    "from graph_traffic.dataloading import graph_dataset, npzDataset\n",
    "from graph_traffic.dcrnn import DiffConv\n",
    "from graph_traffic.config import project_path\n",
    "from graph_traffic.model import GraphRNN\n",
    "from graph_traffic.train import train, eval, predict\n",
    "from graph_traffic.utils import NormalizationLayer, masked_mae_loss\n",
    "from graph_traffic.get_data import get_data, plot_graph\n",
    "\n",
    "import matplotlib.pyplot as plt\n",
    "import matplotlib\n",
    "#matplotlib.use('Agg')\n",
    "\n",
    "from datetime import datetime\n",
    "from torch.utils.data import DataLoader\n",
    "import dgl\n",
    "import torch\n",
    "from functools import partial\n",
    "\n",
    "training_time = datetime.now().strftime(\"%Y%m%d_%H%M%S\")\n",
    "print(training_time)"
   ],
   "metadata": {
    "collapsed": false,
    "pycharm": {
     "name": "#%%\n"
    }
   }
  },
  {
   "cell_type": "markdown",
   "source": [
    "## 0. Define training parameters"
   ],
   "metadata": {
    "collapsed": false,
    "pycharm": {
     "name": "#%% md\n"
    }
   }
  },
  {
   "cell_type": "code",
   "execution_count": 2,
   "outputs": [],
   "source": [
    "args = dict(\n",
    "    n_points=None,\n",
    "    batch_size=64,\n",
    "    diffsteps=2,\n",
    "    decay_steps=2000,\n",
    "    lr=0.01,\n",
    "    minimum_lr=2e-6,\n",
    "    epochs=100,\n",
    "    max_grad_norm=5.0,\n",
    "    num_workers=0,\n",
    "    model=\"dcrnn\",\n",
    "    gpu=-1,\n",
    "    num_heads=2, # relevant for model=\"gaan\"\n",
    "    out_feats=1*64,\n",
    "    num_layers=2\n",
    ")\n",
    "\n",
    "n_points = args[\"n_points\"]\n",
    "batch_size = args[\"batch_size\"]\n",
    "diffsteps = args[\"diffsteps\"]\n",
    "decay_steps = args[\"decay_steps\"]\n",
    "lr = args[\"lr\"]\n",
    "minimum_lr = args[\"minimum_lr\"]\n",
    "epochs = args[\"epochs\"]\n",
    "max_grad_norm = args[\"max_grad_norm\"]\n",
    "num_workers = args[\"num_workers\"]\n",
    "model = args[\"model\"]\n",
    "gpu = args[\"gpu\"]\n",
    "num_heads = args[\"num_heads\"]\n",
    "out_feats = args[\"out_feats\"]\n",
    "num_layers = args[\"num_layers\"]\n"
   ],
   "metadata": {
    "collapsed": false,
    "pycharm": {
     "name": "#%%\n"
    }
   }
  },
  {
   "cell_type": "code",
   "execution_count": 3,
   "outputs": [],
   "source": [
    "if gpu == -1:\n",
    "    device = torch.device('cpu')\n",
    "else:\n",
    "    device = torch.device('cuda:{}'.format(gpu))"
   ],
   "metadata": {
    "collapsed": false,
    "pycharm": {
     "name": "#%%\n"
    }
   }
  },
  {
   "cell_type": "markdown",
   "source": [
    "## 1. Load data"
   ],
   "metadata": {
    "collapsed": false,
    "pycharm": {
     "name": "#%% md\n"
    }
   }
  },
  {
   "cell_type": "code",
   "execution_count": 4,
   "outputs": [],
   "source": [
    "data_dict = dict(\n",
    "    ids_list=[1001, 1002, 1003],#[3954, 3973],#, 3976, 3977, 3978],\n",
    "\n",
    "    seq_len=12,\n",
    "    with_graph=True,\n",
    "    from_date=\"2019-01-01\",\n",
    "    to_date=\"2019-01-31\",\n",
    "    dataset_name=\"small\",\n",
    "    target=\"intensidad\",  # 1\n",
    "    interactions=\"drop\"\n",
    ")\n",
    "\n",
    "meteo_dict = dict(\n",
    "    rain=\"drop\",  # 1\n",
    "    wind=\"drop\",\n",
    "    temperature=\"drop\",  # 0\n",
    "    humidity=\"drop\",  # 1\n",
    "    pressure=\"drop\",  # 0\n",
    "    radiation=\"drop\"  # 0\n",
    ")\n",
    "\n",
    "temporal_dict = dict(\n",
    "    season=\"drop\",\n",
    "    month=\"drop\",\n",
    "    day_of_month=\"drop\",\n",
    "    hour=\"drop\",\n",
    "    bank_holiday=\"drop\",\n",
    "    working_day=\"drop\",\n",
    "    school_holiday=\"drop\",\n",
    "    minute=\"drop\",\n",
    "    year=\"drop\",\n",
    "    weekday=\"drop\"\n",
    ")\n",
    "\n",
    "ids_list = data_dict[\"ids_list\"]\n",
    "rain = meteo_dict[\"rain\"]\n",
    "wind = meteo_dict[\"wind\"]\n",
    "season = temporal_dict[\"season\"]\n",
    "month = temporal_dict[\"month\"]\n",
    "day_of_month = temporal_dict[\"day_of_month\"]\n",
    "hour = temporal_dict[\"hour\"]\n",
    "interactions = data_dict[\"interactions\"]\n",
    "seq_len = data_dict[\"seq_len\"]\n",
    "with_graph = data_dict[\"with_graph\"]\n",
    "from_date = data_dict[\"from_date\"]\n",
    "to_date = data_dict[\"to_date\"]\n",
    "dataset_name = data_dict[\"dataset_name\"]"
   ],
   "metadata": {
    "collapsed": false,
    "pycharm": {
     "name": "#%%\n"
    }
   }
  },
  {
   "cell_type": "markdown",
   "source": [
    "### Save variables in text file for the records"
   ],
   "metadata": {
    "collapsed": false,
    "pycharm": {
     "name": "#%% md\n"
    }
   }
  },
  {
   "cell_type": "code",
   "execution_count": 5,
   "outputs": [],
   "source": [
    "training_folder = f\"{project_path}/training_history/{training_time}\"\n",
    "os.mkdir(training_folder)\n",
    "with open(f\"{training_folder}/learning_args.pkl\", \"wb\") as f:\n",
    "    pickle.dump(args, f)\n",
    "with open(f\"{training_folder}/data_dict.pkl\", \"wb\") as f:\n",
    "    pickle.dump(data_dict, f)\n",
    "with open(f\"{training_folder}/meteo_dict.pkl\", \"wb\") as f:\n",
    "    pickle.dump(meteo_dict, f)\n",
    "with open(f\"{training_folder}/temporal_dict.pkl\", \"wb\") as f:\n",
    "    pickle.dump(temporal_dict, f)"
   ],
   "metadata": {
    "collapsed": false,
    "pycharm": {
     "name": "#%%\n"
    }
   }
  },
  {
   "cell_type": "code",
   "execution_count": 6,
   "outputs": [
    {
     "data": {
      "text/plain": "<Figure size 432x288 with 1 Axes>",
      "image/png": "[encoded data removed]"
     },
     "metadata": {},
     "output_type": "display_data"
    }
   ],
   "source": [
    "x, y, g = get_data(data_dict, meteo_dict, temporal_dict)\n",
    "plot_graph(g, ids_list, save_dir=training_folder)"
   ],
   "metadata": {
    "collapsed": false,
    "pycharm": {
     "name": "#%%\n"
    }
   }
  },
  {
   "cell_type": "code",
   "execution_count": 7,
   "outputs": [
    {
     "data": {
      "text/plain": "{'weight': tensor([0.0110, 0.0150, 0.9938, 0.0108, 0.9772, 0.9946], dtype=torch.float64)}"
     },
     "execution_count": 7,
     "metadata": {},
     "output_type": "execute_result"
    }
   ],
   "source": [
    "g.edata"
   ],
   "metadata": {
    "collapsed": false,
    "pycharm": {
     "name": "#%%\n"
    }
   }
  },
  {
   "cell_type": "code",
   "execution_count": 8,
   "outputs": [],
   "source": [
    "dataset_name = \"metr_la\"\n",
    "# n_points=1000\n",
    "g = graph_dataset(dataset_name)\n",
    "train_data = npzDataset(dataset_name, \"train\", n_points)\n",
    "test_data = npzDataset(dataset_name, \"test\", n_points)\n",
    "#valid_data = npzDataset(dataset_name, \"valid\", n_points)\n",
    "\n",
    "seq_len = train_data.x.shape[1]\n",
    "in_feats = train_data.x.shape[-1]"
   ],
   "metadata": {
    "collapsed": false,
    "pycharm": {
     "name": "#%%\n"
    }
   }
  },
  {
   "cell_type": "code",
   "execution_count": 9,
   "outputs": [
    {
     "data": {
      "text/plain": "((23974, 12, 207, 2), (23974, 12, 207, 2))"
     },
     "execution_count": 9,
     "metadata": {},
     "output_type": "execute_result"
    }
   ],
   "source": [
    "train_data.x.shape, train_data.y.shape"
   ],
   "metadata": {
    "collapsed": false,
    "pycharm": {
     "name": "#%%\n"
    }
   }
  },
  {
   "cell_type": "code",
   "execution_count": 10,
   "outputs": [
    {
     "data": {
      "text/plain": "((6850, 12, 207, 2), (6850, 12, 207, 2))"
     },
     "execution_count": 10,
     "metadata": {},
     "output_type": "execute_result"
    }
   ],
   "source": [
    "test_data.x.shape, test_data.y.shape"
   ],
   "metadata": {
    "collapsed": false,
    "pycharm": {
     "name": "#%%\n"
    }
   }
  },
  {
   "cell_type": "code",
   "execution_count": 11,
   "outputs": [],
   "source": [
    "train_loader = DataLoader(\n",
    "    train_data, batch_size=batch_size, num_workers=num_workers, shuffle=True)\n",
    "#valid_loader = DataLoader(\n",
    "#    valid_data, batch_size=batch_size, num_workers=num_workers, shuffle=True)\n",
    "test_loader = DataLoader(\n",
    "    test_data, batch_size=batch_size, num_workers=num_workers, shuffle=True)\n",
    "\n",
    "normalizer = NormalizationLayer(train_data.min, train_data.max)"
   ],
   "metadata": {
    "collapsed": false,
    "pycharm": {
     "name": "#%%\n"
    }
   }
  },
  {
   "cell_type": "code",
   "execution_count": 12,
   "outputs": [
    {
     "data": {
      "text/plain": "(23974, 12, 207, 2)"
     },
     "execution_count": 12,
     "metadata": {},
     "output_type": "execute_result"
    }
   ],
   "source": [
    "train_data.x.shape"
   ],
   "metadata": {
    "collapsed": false,
    "pycharm": {
     "name": "#%%\n"
    }
   }
  },
  {
   "cell_type": "markdown",
   "source": [
    "## 2. Define the model"
   ],
   "metadata": {
    "collapsed": false,
    "pycharm": {
     "name": "#%% md\n"
    }
   }
  },
  {
   "cell_type": "code",
   "execution_count": 13,
   "outputs": [],
   "source": [
    "if model == \"dcrnn\":\n",
    "    batch_g = dgl.batch([g] * batch_size).to(device)\n",
    "    out_gs, in_gs = DiffConv.attach_graph(batch_g, diffsteps)\n",
    "    net = partial(DiffConv, k=diffsteps, in_graph_list=in_gs, out_graph_list=out_gs)\n",
    "elif model == 'gaan':\n",
    "    print(\"not available\")\n",
    "\n",
    "dcrnn = GraphRNN(in_feats=in_feats,\n",
    "                 out_feats=out_feats,\n",
    "                 seq_len=seq_len,\n",
    "                 num_layers=num_layers,\n",
    "                 net=net,\n",
    "                 decay_steps=decay_steps).to(device)"
   ],
   "metadata": {
    "collapsed": false,
    "pycharm": {
     "name": "#%%\n"
    }
   }
  },
  {
   "cell_type": "markdown",
   "source": [
    "## 3. Define learning parameters"
   ],
   "metadata": {
    "collapsed": false,
    "pycharm": {
     "name": "#%% md\n"
    }
   }
  },
  {
   "cell_type": "code",
   "execution_count": 14,
   "outputs": [],
   "source": [
    "optimizer = torch.optim.Adam(dcrnn.parameters(), lr=lr)\n",
    "scheduler = torch.optim.lr_scheduler.ExponentialLR(optimizer, gamma=0.99)\n",
    "\n",
    "loss_fn = masked_mae_loss"
   ],
   "metadata": {
    "collapsed": false,
    "pycharm": {
     "name": "#%%\n"
    }
   }
  },
  {
   "cell_type": "markdown",
   "source": [
    "## 4. Train model"
   ],
   "metadata": {
    "collapsed": false,
    "pycharm": {
     "name": "#%% md\n"
    }
   }
  },
  {
   "cell_type": "markdown",
   "source": [
    "Después de hacer el cambio sigmoid -> tanh"
   ],
   "metadata": {
    "collapsed": false,
    "pycharm": {
     "name": "#%% md\n"
    }
   }
  },
  {
   "cell_type": "code",
   "execution_count": null,
   "outputs": [
    {
     "name": "stderr",
     "output_type": "stream",
     "text": [
      "C:\\Users\\Bened\\PycharmProjects\\madrid-traffic\\env\\lib\\site-packages\\torch\\autocast_mode.py:162: UserWarning: User provided device_type of 'cuda', but CUDA is not available. Disabling\n",
      "  warnings.warn('User provided device_type of \\'cuda\\', but CUDA is not available. Disabling')\n"
     ]
    },
    {
     "name": "stdout",
     "output_type": "stream",
     "text": [
      "Batch:  91\r"
     ]
    }
   ],
   "source": [
    "train_losses = []\n",
    "#valid_losses = []\n",
    "test_losses = []\n",
    "for e in range(epochs):\n",
    "    train(dcrnn, g, train_loader, optimizer, scheduler, normalizer, loss_fn, device, batch_size, max_grad_norm, minimum_lr)\n",
    "    train_loss = eval(dcrnn, g, train_loader, normalizer, loss_fn, device, batch_size)\n",
    "    #valid_loss = eval(dcrnn, g, valid_loader, normalizer, loss_fn, device, batch_size)\n",
    "    test_loss = eval(dcrnn, g, test_loader, normalizer, loss_fn, device, batch_size)\n",
    "    print(f\"Epoch: {e} Train Loss: {train_loss} Test Loss: {test_loss}\")\n",
    "\n",
    "    train_losses.append(train_loss)\n",
    "    #valid_losses.append(valid_loss)\n",
    "    test_losses.append(test_loss)\n",
    "\n",
    "    fig, ax = plt.subplots(figsize=(14, 4))\n",
    "    ax.plot(train_losses, label=\"train\")\n",
    "    #ax.plot(valid_losses, label=\"validation\")\n",
    "    ax.plot(test_losses, label=\"test\")\n",
    "    plt.legend()\n",
    "    plt.savefig(f\"{training_folder}/learning_curve.svg\")\n",
    "    plt.close(fig)"
   ],
   "metadata": {
    "collapsed": false,
    "pycharm": {
     "name": "#%%\n",
     "is_executing": true
    }
   }
  },
  {
   "cell_type": "code",
   "execution_count": null,
   "outputs": [],
   "source": [
    "os.mkdir(f\"{training_folder}/losses\")\n",
    "with open(f\"{training_folder}/losses/train.pkl\", \"wb\") as f:\n",
    "    pickle.dump(train_losses, f)\n",
    "#with open(f\"{training_folder}/losses/valid.pkl\", \"wb\") as f:\n",
    "#    pickle.dump(valid_losses, f)\n",
    "with open(f\"{training_folder}/losses/test.pkl\", \"wb\") as f:\n",
    "    pickle.dump(test_losses, f)"
   ],
   "metadata": {
    "collapsed": false,
    "pycharm": {
     "name": "#%%\n",
     "is_executing": true
    }
   }
  },
  {
   "cell_type": "markdown",
   "source": [
    "## 5. Save model"
   ],
   "metadata": {
    "collapsed": false,
    "pycharm": {
     "name": "#%% md\n"
    }
   }
  },
  {
   "cell_type": "code",
   "execution_count": null,
   "outputs": [],
   "source": [
    "torch.save(dcrnn.state_dict(), f\"{training_folder}/model.pt\")"
   ],
   "metadata": {
    "collapsed": false,
    "pycharm": {
     "name": "#%%\n",
     "is_executing": true
    }
   }
  },
  {
   "cell_type": "markdown",
   "source": [
    "## 6. Try model"
   ],
   "metadata": {
    "collapsed": false,
    "pycharm": {
     "name": "#%% md\n"
    }
   }
  },
  {
   "cell_type": "code",
   "execution_count": null,
   "outputs": [],
   "source": [
    "matplotlib.use(\"TkAgg\")"
   ],
   "metadata": {
    "collapsed": false,
    "pycharm": {
     "name": "#%%\n",
     "is_executing": true
    }
   }
  },
  {
   "cell_type": "markdown",
   "source": [],
   "metadata": {
    "collapsed": false,
    "pycharm": {
     "name": "#%% md\n"
    }
   }
  },
  {
   "cell_type": "code",
   "execution_count": null,
   "outputs": [],
   "source": [
    "for i, (x, y) in enumerate(train_loader):\n",
    "    #x, y, x_norm, y_norm, batch_graph = prepare_data(g.to(device), x, y, normalizer, args.batch_size, device)\n",
    "    #y_pred = predict(dcrnn, batch_graph, x_norm, y_norm, normalizer, device, i)\n",
    "    dcrnn.eval()\n",
    "    y, y_pred = predict(x, y, batch_size, g.to(device), dcrnn, device, normalizer)\n",
    "    break\n",
    "\n",
    "for i in range(10):\n",
    "    fig, ax = plt.subplots()\n",
    "    #ax.set_title(f\"de {(y[:, i, 1]*24).min().numpy()} a  {(y[:, i, 1]*24).max().numpy()}, sensor{i%5+1}\")\n",
    "    ax.plot(y[:, i, 0].detach().numpy(), label=\"real\")\n",
    "    ax.plot(y_pred[:, i, 0].detach().numpy(), label=\"pred\")\n",
    "    plt.legend()"
   ],
   "metadata": {
    "collapsed": false,
    "pycharm": {
     "name": "#%%\n",
     "is_executing": true
    }
   }
  },
  {
   "cell_type": "code",
   "execution_count": null,
   "outputs": [],
   "source": [
    "plt.scatter(y.detach().numpy().ravel(), y_pred.detach().numpy().ravel())\n",
    "plt.show()"
   ],
   "metadata": {
    "collapsed": false,
    "pycharm": {
     "name": "#%%\n",
     "is_executing": true
    }
   }
  },
  {
   "cell_type": "code",
   "execution_count": null,
   "outputs": [],
   "source": [
    "for i, (x, y) in enumerate(valid_loader):\n",
    "    #x, y, x_norm, y_norm, batch_graph = prepare_data(g.to(device), x, y, normalizer, args.batch_size, device)\n",
    "    #y_pred = predict(dcrnn, batch_graph, x_norm, y_norm, normalizer, device, i)\n",
    "    dcrnn.eval()\n",
    "    y, y_pred = predict(x, y, batch_size, g.to(device), dcrnn, device, normalizer)\n",
    "    break\n",
    "plt.scatter(y.detach().numpy().ravel(), y_pred.detach().numpy().ravel())"
   ],
   "metadata": {
    "collapsed": false,
    "pycharm": {
     "name": "#%%\n",
     "is_executing": true
    }
   }
  },
  {
   "cell_type": "code",
   "execution_count": null,
   "outputs": [],
   "source": [
    "for i, (x, y) in enumerate(test_loader):\n",
    "    #x, y, x_norm, y_norm, batch_graph = prepare_data(g.to(device), x, y, normalizer, args.batch_size, device)\n",
    "    #y_pred = predict(dcrnn, batch_graph, x_norm, y_norm, normalizer, device, i)\n",
    "    dcrnn.eval()\n",
    "    y, y_pred = predict(x, y, batch_size, g.to(device), dcrnn, device, normalizer)\n",
    "    break\n",
    "plt.scatter(y.detach().numpy().ravel(), y_pred.detach().numpy().ravel())"
   ],
   "metadata": {
    "collapsed": false,
    "pycharm": {
     "name": "#%%\n",
     "is_executing": true
    }
   }
  }
 ],
 "metadata": {
  "kernelspec": {
   "display_name": "Python 3",
   "language": "python",
   "name": "python3"
  },
  "language_info": {
   "codemirror_mode": {
    "name": "ipython",
    "version": 2
   },
   "file_extension": ".py",
   "mimetype": "text/x-python",
   "name": "python",
   "nbconvert_exporter": "python",
   "pygments_lexer": "ipython2",
   "version": "2.7.6"
  }
 },
 "nbformat": 4,
 "nbformat_minor": 0
}