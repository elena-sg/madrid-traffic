{
 "cells": [
  {
   "cell_type": "code",
   "execution_count": 1,
   "outputs": [
    {
     "name": "stderr",
     "output_type": "stream",
     "text": [
      "C:\\Users\\Bened\\PycharmProjects\\madrid-traffic\\env\\lib\\site-packages\\tqdm\\auto.py:22: TqdmWarning: IProgress not found. Please update jupyter and ipywidgets. See https://ipywidgets.readthedocs.io/en/stable/user_install.html\n",
      "  from .autonotebook import tqdm as notebook_tqdm\n"
     ]
    }
   ],
   "source": [
    "from graph_traffic.train_gnn import train_with_args\n",
    "from graph_traffic.model_selection import get_node_ids\n",
    "from random import choice"
   ],
   "metadata": {
    "collapsed": false,
    "pycharm": {
     "name": "#%%\n"
    }
   }
  },
  {
   "cell_type": "code",
   "execution_count": 2,
   "outputs": [],
   "source": [
    "ids_to_use = get_node_ids(longitud_lims=(-3.744399888121435, -3.73088591780862),\n",
    "                          latitud_lims=(40.383067309465936, 40.3904))"
   ],
   "metadata": {
    "collapsed": false,
    "pycharm": {
     "name": "#%%\n"
    }
   }
  },
  {
   "cell_type": "code",
   "execution_count": 3,
   "outputs": [
    {
     "data": {
      "text/plain": "36"
     },
     "execution_count": 3,
     "metadata": {},
     "output_type": "execute_result"
    }
   ],
   "source": [
    "len(ids_to_use)"
   ],
   "metadata": {
    "collapsed": false,
    "pycharm": {
     "name": "#%%\n"
    }
   }
  },
  {
   "cell_type": "markdown",
   "source": [
    "## 0. Define training parameters"
   ],
   "metadata": {
    "collapsed": false,
    "pycharm": {
     "name": "#%% md\n"
    }
   }
  },
  {
   "cell_type": "code",
   "execution_count": 4,
   "outputs": [],
   "source": [
    "args_alternatives = {\n",
    "    \"diffsteps\": [2, 4, 6, 8],\n",
    "    \"lr\": [0.001, 0.005, 0.01, 0.05, 0.1, 1],\n",
    "    \"max_grad_norm\": [1, 5, 10],\n",
    "    \"out_feats\": [32, 64, 2*64, 4*64],\n",
    "    \"num_layers\": [2, 4, 6, 8],\n",
    "    \"dir\": [\"both\", \"in\", \"out\"],\n",
    "}\n",
    "data_alternatives = {\n",
    "    \"seq_len\": [2, 4, 8, 16],\n",
    "    \"graph_weight_threshold\": [0.1, 0.3, 0.5, 0.7]\n",
    "}\n",
    "alternatives_temporal = {\n",
    "    \"working_day\": [\"drop\", \"passthrough\"],\n",
    "    \"hour\": [\"one_hot\", \"spline\", \"drop\"],\n",
    "}"
   ],
   "metadata": {
    "collapsed": false,
    "pycharm": {
     "name": "#%%\n"
    }
   }
  },
  {
   "cell_type": "code",
   "execution_count": 5,
   "outputs": [],
   "source": [
    "args = dict(\n",
    "    n_points=None,\n",
    "    batch_size=64,\n",
    "    diffsteps=2,\n",
    "    decay_steps=2000,\n",
    "    lr=0.01,\n",
    "    minimum_lr=2e-6,\n",
    "    epochs=10,\n",
    "    max_grad_norm=5.0,\n",
    "    num_workers=0,\n",
    "    model=\"dcrnn\",\n",
    "    gpu=-1,\n",
    "    num_heads=2, # relevant for model=\"gaan\"\n",
    "    out_feats=32,\n",
    "    num_layers=4,\n",
    "    dir=\"both\",\n",
    ")\n",
    "\n",
    "data_dict = dict(\n",
    "    ids_list=ids_to_use,#[3532, 3542, 3544, 3545, 3546, 3577, 3637, 3640, 3641, 4761, 4763],#[3954, 3973],#, 3976, 3977, 3978],\n",
    "    seq_len=4*1,\n",
    "    with_graph=True,\n",
    "    from_date=\"2019-01-01\",\n",
    "    to_date=\"2019-12-31\",\n",
    "    target=\"ocupacion\",  # 1\n",
    "    interactions=\"drop\",\n",
    "    graph_weight_threshold=0.3\n",
    ")\n",
    "\n",
    "meteo_dict = dict(\n",
    "    rain=\"drop\",  # 1\n",
    "    wind=\"drop\",\n",
    "    temperature=\"drop\",  # 0\n",
    "    humidity=\"drop\",  # 1\n",
    "    pressure=\"drop\",  # 0\n",
    "    radiation=\"drop\"  # 0\n",
    ")\n",
    "\n",
    "temporal_dict = dict(\n",
    "    season=\"drop\",\n",
    "    month=\"drop\",\n",
    "    day_of_month=\"drop\",\n",
    "    hour=\"drop\",\n",
    "    bank_holiday=\"drop\",\n",
    "    working_day=\"drop\",\n",
    "    school_holiday=\"drop\",\n",
    "    state_of_alarm=\"drop\",\n",
    "    minute=\"drop\",\n",
    "    year=\"drop\",\n",
    "    weekday=\"drop\"\n",
    ")"
   ],
   "metadata": {
    "collapsed": false,
    "pycharm": {
     "name": "#%%\n"
    }
   }
  },
  {
   "cell_type": "markdown",
   "source": [
    "## 1 Train model"
   ],
   "metadata": {
    "collapsed": false,
    "pycharm": {
     "name": "#%% md\n"
    }
   }
  },
  {
   "cell_type": "code",
   "execution_count": null,
   "outputs": [
    {
     "name": "stdout",
     "output_type": "stream",
     "text": [
      "{'n_points': None, 'batch_size': 64, 'diffsteps': 4, 'decay_steps': 2000, 'lr': 0.05, 'minimum_lr': 2e-06, 'epochs': 10, 'max_grad_norm': 1, 'num_workers': 0, 'model': 'dcrnn', 'gpu': -1, 'num_heads': 2, 'out_feats': 64, 'num_layers': 2, 'dir': 'in'}\n",
      "{'ids_list': [5126, 9847, 5045, 3685, 5046, 5125, 5110, 5061, 5122, 5047, 5055, 5054, 5108, 3686, 5050, 5051, 5048, 10025, 3576, 5105, 5121, 5044, 5120, 5049, 5118, 3628, 3572, 5114, 3684, 5102, 3481, 5100, 5119, 5101, 5099, 5109], 'seq_len': 4, 'with_graph': True, 'from_date': '2019-01-01', 'to_date': '2019-12-31', 'target': 'ocupacion', 'interactions': 'drop', 'graph_weight_threshold': 0.5}\n",
      "{'season': 'drop', 'month': 'drop', 'day_of_month': 'drop', 'hour': 'one_hot', 'bank_holiday': 'drop', 'working_day': 'drop', 'school_holiday': 'drop', 'state_of_alarm': 'drop', 'minute': 'drop', 'year': 'drop', 'weekday': 'drop'}\n",
      "Shape of train_x: (5212, 4, 36, 25)\n",
      "Shape of train_y: (5212, 4, 36, 25)\n",
      "Shape of test_x: (1303, 4, 36, 25)\n",
      "Shape of test_y: (1303, 4, 36, 25)\n"
     ]
    },
    {
     "name": "stderr",
     "output_type": "stream",
     "text": [
      "C:\\Users\\Bened\\PycharmProjects\\madrid-traffic\\env\\lib\\site-packages\\torch\\autocast_mode.py:162: UserWarning: User provided device_type of 'cuda', but CUDA is not available. Disabling\n",
      "  warnings.warn('User provided device_type of \\'cuda\\', but CUDA is not available. Disabling')\n"
     ]
    },
    {
     "name": "stdout",
     "output_type": "stream",
     "text": [
      "Epoch: 0 Train MAE: 5.666244553356636 Train MSE: 103.19825169534381 Test MAE: 6.120941298348563 Test MSE: 109.71493966246709\n",
      "Epoch: 1 Train MAE: 6.189812631141849 Train MSE: 104.26759588249674 Test MAE: 6.692381472814651 Test MSE: 111.2969129162878\n",
      "Epoch: 2 Train MAE: 12.012959108120057 Train MSE: 371.60380787126036 Test MAE: 12.660208384195963 Test MSE: 405.07711099122196\n",
      "Epoch: 3 Train MAE: 14.341359731627673 Train MSE: 417.0484429946629 Test MAE: 15.038422993251256 Test MSE: 453.96455743536256\n",
      "Epoch: 4 Train MAE: 12.650435831488632 Train MSE: 360.0932005533936 Test MAE: 13.356255349658785 Test MSE: 394.5201246559648\n",
      "Epoch: 5 Train MAE: 12.521989694455774 Train MSE: 350.6154324103709 Test MAE: 13.228944369724818 Test MSE: 384.4428560792412\n",
      "Epoch: 6 Train MAE: 12.745779258448904 Train MSE: 355.0617871500885 Test MAE: 13.284521965753465 Test MSE: 381.82820451478517\n",
      "Epoch: 7 Train MAE: 12.216021142354826 Train MSE: 332.3410587029109 Test MAE: 12.798325266156878 Test MSE: 359.72816491993865\n",
      "Epoch: 8 Train MAE: 12.263381213676638 Train MSE: 333.57408151040397 Test MAE: 12.89765453338623 Test MSE: 363.4136962717232\n",
      "Epoch: 9 Train MAE: 12.259826020496648 Train MSE: 333.4127261107435 Test MAE: 12.933920951116653 Test MSE: 365.5332794823977\n",
      "Training finished\n",
      "{'n_points': None, 'batch_size': 64, 'diffsteps': 6, 'decay_steps': 2000, 'lr': 0.005, 'minimum_lr': 2e-06, 'epochs': 10, 'max_grad_norm': 5, 'num_workers': 0, 'model': 'dcrnn', 'gpu': -1, 'num_heads': 2, 'out_feats': 64, 'num_layers': 6, 'dir': 'in'}\n",
      "{'ids_list': [5126, 9847, 5045, 3685, 5046, 5125, 5110, 5061, 5122, 5047, 5055, 5054, 5108, 3686, 5050, 5051, 5048, 10025, 3576, 5105, 5121, 5044, 5120, 5049, 5118, 3628, 3572, 5114, 3684, 5102, 3481, 5100, 5119, 5101, 5099, 5109], 'seq_len': 8, 'with_graph': True, 'from_date': '2019-01-01', 'to_date': '2019-12-31', 'target': 'ocupacion', 'interactions': 'drop', 'graph_weight_threshold': 0.5, 'dataset_name': '20220602_223921'}\n",
      "{'season': 'drop', 'month': 'drop', 'day_of_month': 'drop', 'hour': 'spline', 'bank_holiday': 'drop', 'working_day': 'drop', 'school_holiday': 'drop', 'state_of_alarm': 'drop', 'minute': 'drop', 'year': 'drop', 'weekday': 'drop'}\n",
      "Shape of train_x: (2712, 8, 36, 13)\n",
      "Shape of train_y: (2712, 8, 36, 13)\n",
      "Shape of test_x: (678, 8, 36, 13)\n",
      "Shape of test_y: (678, 8, 36, 13)\n"
     ]
    },
    {
     "name": "stderr",
     "output_type": "stream",
     "text": [
      "C:\\Users\\Bened\\PycharmProjects\\madrid-traffic\\env\\lib\\site-packages\\torch\\autocast_mode.py:162: UserWarning: User provided device_type of 'cuda', but CUDA is not available. Disabling\n",
      "  warnings.warn('User provided device_type of \\'cuda\\', but CUDA is not available. Disabling')\n"
     ]
    },
    {
     "name": "stdout",
     "output_type": "stream",
     "text": [
      "Epoch: 0 Train MAE: 7.656305911929109 Train MSE: 182.7696436609411 Test MAE: 8.103092800487172 Test MSE: 196.11114845694294\n",
      "Epoch: 1 Train MAE: 7.144412561904552 Train MSE: 173.61063095818682 Test MAE: 7.486831058155406 Test MSE: 183.47355105376735\n",
      "Epoch: 2 Train MAE: 6.268126143965611 Train MSE: 114.00392701790237 Test MAE: 6.447848406704989 Test MSE: 121.406443623856\n",
      "Epoch: 3 Train MAE: 7.269805420276731 Train MSE: 135.3742778718181 Test MAE: 7.720820470289751 Test MSE: 146.21272437985078\n",
      "Epoch: 4 Train MAE: 5.159313767455345 Train MSE: 88.26770070956894 Test MAE: 5.292445616288618 Test MSE: 89.02543057352555\n",
      "Epoch: 5 Train MAE: 4.999002268148023 Train MSE: 84.87727893420198 Test MAE: 5.120134657079523 Test MSE: 84.18578197756797\n",
      "Epoch: 6 Train MAE: 4.913803721583167 Train MSE: 81.57141154741922 Test MAE: 5.014704834331166 Test MSE: 79.50529736612683\n",
      "Epoch: 7 Train MAE: 4.858537208202273 Train MSE: 79.36642195907774 Test MAE: 4.9384072043678975 Test MSE: 77.37157346394908\n",
      "Epoch: 8 Train MAE: 4.838817773863327 Train MSE: 78.91960810677877 Test MAE: 4.977050737901167 Test MSE: 78.97557135314285\n",
      "Epoch: 9 Train MAE: 4.833637403887372 Train MSE: 76.67005074622138 Test MAE: 4.903063383969394 Test MSE: 74.0055467513044\n",
      "Training finished\n",
      "{'n_points': None, 'batch_size': 64, 'diffsteps': 2, 'decay_steps': 2000, 'lr': 0.005, 'minimum_lr': 2e-06, 'epochs': 10, 'max_grad_norm': 1, 'num_workers': 0, 'model': 'dcrnn', 'gpu': -1, 'num_heads': 2, 'out_feats': 64, 'num_layers': 8, 'dir': 'out'}\n",
      "{'ids_list': [5126, 9847, 5045, 3685, 5046, 5125, 5110, 5061, 5122, 5047, 5055, 5054, 5108, 3686, 5050, 5051, 5048, 10025, 3576, 5105, 5121, 5044, 5120, 5049, 5118, 3628, 3572, 5114, 3684, 5102, 3481, 5100, 5119, 5101, 5099, 5109], 'seq_len': 4, 'with_graph': True, 'from_date': '2019-01-01', 'to_date': '2019-12-31', 'target': 'ocupacion', 'interactions': 'drop', 'graph_weight_threshold': 0.5, 'dataset_name': '20220602_232659'}\n",
      "{'season': 'drop', 'month': 'drop', 'day_of_month': 'drop', 'hour': 'drop', 'bank_holiday': 'drop', 'working_day': 'drop', 'school_holiday': 'drop', 'state_of_alarm': 'drop', 'minute': 'drop', 'year': 'drop', 'weekday': 'drop'}\n",
      "Shape of train_x: (5212, 4, 36, 1)\n",
      "Shape of train_y: (5212, 4, 36, 1)\n",
      "Shape of test_x: (1303, 4, 36, 1)\n",
      "Shape of test_y: (1303, 4, 36, 1)\n"
     ]
    },
    {
     "name": "stderr",
     "output_type": "stream",
     "text": [
      "C:\\Users\\Bened\\PycharmProjects\\madrid-traffic\\env\\lib\\site-packages\\torch\\autocast_mode.py:162: UserWarning: User provided device_type of 'cuda', but CUDA is not available. Disabling\n",
      "  warnings.warn('User provided device_type of \\'cuda\\', but CUDA is not available. Disabling')\n"
     ]
    },
    {
     "name": "stdout",
     "output_type": "stream",
     "text": [
      "Epoch: 0 Train MAE: 6.373066402063137 Train MSE: 130.35512157721865 Test MAE: 6.976477236974807 Test MSE: 144.14328769828933\n",
      "Epoch: 1 Train MAE: 5.099200056820381 Train MSE: 85.86646750929339 Test MAE: 5.271757875170026 Test MSE: 85.82580335055596\n",
      "Epoch: 2 Train MAE: 4.808894954076627 Train MSE: 77.743512125543 Test MAE: 5.045898187728155 Test MSE: 76.24026276745118\n",
      "Epoch: 3 Train MAE: 4.733965367805667 Train MSE: 71.22448450315028 Test MAE: 4.81667457308088 Test MSE: 66.9219461709775\n",
      "Epoch: 4 Train MAE: 4.606079741222103 Train MSE: 71.78334018590938 Test MAE: 4.740637256985619 Test MSE: 67.52455193564799\n",
      "Epoch: 5 Train MAE: 4.579794238253338 Train MSE: 71.37274274093485 Test MAE: 4.806874706631615 Test MSE: 68.49917878807906\n",
      "Epoch: 6 Train MAE: 4.569285270644397 Train MSE: 71.35363529653209 Test MAE: 4.796713079724993 Test MSE: 70.34590351085495\n",
      "Epoch: 7 Train MAE: 4.561809208334946 Train MSE: 70.92482184449581 Test MAE: 4.7524125008356 Test MSE: 67.6881705994747\n",
      "Epoch: 8 Train MAE: 4.560640788659817 Train MSE: 70.70781600150664 Test MAE: 4.765567802247547 Test MSE: 67.99869463990643\n",
      "Epoch: 9 Train MAE: 4.560411191568142 Train MSE: 70.67833280491989 Test MAE: 4.763291699545724 Test MSE: 68.23612258246439\n",
      "Training finished\n",
      "{'n_points': None, 'batch_size': 64, 'diffsteps': 8, 'decay_steps': 2000, 'lr': 0.005, 'minimum_lr': 2e-06, 'epochs': 10, 'max_grad_norm': 1, 'num_workers': 0, 'model': 'dcrnn', 'gpu': -1, 'num_heads': 2, 'out_feats': 128, 'num_layers': 4, 'dir': 'in'}\n",
      "{'ids_list': [5126, 9847, 5045, 3685, 5046, 5125, 5110, 5061, 5122, 5047, 5055, 5054, 5108, 3686, 5050, 5051, 5048, 10025, 3576, 5105, 5121, 5044, 5120, 5049, 5118, 3628, 3572, 5114, 3684, 5102, 3481, 5100, 5119, 5101, 5099, 5109], 'seq_len': 8, 'with_graph': True, 'from_date': '2019-01-01', 'to_date': '2019-12-31', 'target': 'ocupacion', 'interactions': 'drop', 'graph_weight_threshold': 0.1, 'dataset_name': '20220603_034013'}\n",
      "{'season': 'drop', 'month': 'drop', 'day_of_month': 'drop', 'hour': 'spline', 'bank_holiday': 'drop', 'working_day': 'passthrough', 'school_holiday': 'drop', 'state_of_alarm': 'drop', 'minute': 'drop', 'year': 'drop', 'weekday': 'drop'}\n",
      "Shape of train_x: (2712, 8, 36, 14)\n",
      "Shape of train_y: (2712, 8, 36, 14)\n",
      "Shape of test_x: (678, 8, 36, 14)\n",
      "Shape of test_y: (678, 8, 36, 14)\n"
     ]
    },
    {
     "name": "stderr",
     "output_type": "stream",
     "text": [
      "C:\\Users\\Bened\\PycharmProjects\\madrid-traffic\\env\\lib\\site-packages\\torch\\autocast_mode.py:162: UserWarning: User provided device_type of 'cuda', but CUDA is not available. Disabling\n",
      "  warnings.warn('User provided device_type of \\'cuda\\', but CUDA is not available. Disabling')\n"
     ]
    },
    {
     "name": "stdout",
     "output_type": "stream",
     "text": [
      "Epoch: 0 Train MAE: 7.502569575642431 Train MSE: 109.51298316583421 Test MAE: 7.36939170143821 Test MSE: 105.58834613567927\n",
      "Epoch: 1 Train MAE: 6.231857687927956 Train MSE: 100.04430677743181 Test MAE: 6.188370531255549 Test MSE: 94.83467174873755\n",
      "Epoch: 2 Train MAE: 5.740297860877458 Train MSE: 99.41847265570253 Test MAE: 5.815776391462847 Test MSE: 96.96838695668026\n",
      "Batch:  5\r"
     ]
    }
   ],
   "source": [
    "for i in range(100):\n",
    "    for key, values in args_alternatives.items():\n",
    "        args[key] = choice(args_alternatives[key])\n",
    "    for key, values in data_alternatives.items():\n",
    "        data_dict[key] = choice(data_alternatives[key])\n",
    "    for key, values in alternatives_temporal.items():\n",
    "        temporal_dict[key] = choice(alternatives_temporal[key])\n",
    "    print(args)\n",
    "    print(data_dict)\n",
    "    print(temporal_dict)\n",
    "    args[\"dir\"] = \"both\"\n",
    "    train_with_args(args, data_dict, meteo_dict, temporal_dict)"
   ],
   "metadata": {
    "collapsed": false,
    "pycharm": {
     "name": "#%%\n",
     "is_executing": true
    }
   }
  },
  {
   "cell_type": "code",
   "execution_count": null,
   "outputs": [],
   "source": [],
   "metadata": {
    "collapsed": false,
    "pycharm": {
     "name": "#%%\n",
     "is_executing": true
    }
   }
  }
 ],
 "metadata": {
  "kernelspec": {
   "display_name": "Python 3",
   "language": "python",
   "name": "python3"
  },
  "language_info": {
   "codemirror_mode": {
    "name": "ipython",
    "version": 2
   },
   "file_extension": ".py",
   "mimetype": "text/x-python",
   "name": "python",
   "nbconvert_exporter": "python",
   "pygments_lexer": "ipython2",
   "version": "2.7.6"
  }
 },
 "nbformat": 4,
 "nbformat_minor": 0
}