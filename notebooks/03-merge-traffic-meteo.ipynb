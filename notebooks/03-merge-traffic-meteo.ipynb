{
 "cells": [
  {
   "cell_type": "code",
   "execution_count": 6,
   "outputs": [
    {
     "name": "stdout",
     "output_type": "stream",
     "text": [
      "4609/4609\r"
     ]
    },
    {
     "data": {
      "text/plain": "                       id  intensidad  ocupacion  vmed  temperatura  \\\nfecha                                                                 \n2019-02-01 00:00:00  9999        10.0        NaN   NaN          6.0   \n2019-02-01 00:15:00  9999        10.0        NaN   NaN          6.0   \n2019-02-01 00:30:00  9999         9.0        NaN   NaN          6.0   \n2019-02-01 00:45:00  9999        11.0        NaN   NaN          6.0   \n2019-02-01 01:00:00  9999        10.0        NaN   NaN          6.0   \n\n                     humedad_relativa  presion_barometrica  radiacion_solar  \\\nfecha                                                                         \n2019-02-01 00:00:00             96.00               929.00              0.0   \n2019-02-01 00:15:00             96.25               928.75              0.0   \n2019-02-01 00:30:00             96.50               928.50              0.0   \n2019-02-01 00:45:00             96.75               928.25              0.0   \n2019-02-01 01:00:00             97.00               928.00              0.0   \n\n                     precipitacion   vientox   vientoy  domingo/festivo  \\\nfecha                                                                     \n2019-02-01 00:00:00            0.3 -1.593149 -1.290107                0   \n2019-02-01 00:15:00            0.5 -1.644327 -1.248437                0   \n2019-02-01 00:30:00            0.7 -1.695506 -1.206768                0   \n2019-02-01 00:45:00            0.9 -1.746684 -1.165098                0   \n2019-02-01 01:00:00            1.1 -1.797862 -1.123429                0   \n\n                     laborable  sabado  \nfecha                                   \n2019-02-01 00:00:00          1       0  \n2019-02-01 00:15:00          1       0  \n2019-02-01 00:30:00          1       0  \n2019-02-01 00:45:00          1       0  \n2019-02-01 01:00:00          1       0  ",
      "text/html": "<div>\n<style scoped>\n    .dataframe tbody tr th:only-of-type {\n        vertical-align: middle;\n    }\n\n    .dataframe tbody tr th {\n        vertical-align: top;\n    }\n\n    .dataframe thead th {\n        text-align: right;\n    }\n</style>\n<table border=\"1\" class=\"dataframe\">\n  <thead>\n    <tr style=\"text-align: right;\">\n      <th></th>\n      <th>id</th>\n      <th>intensidad</th>\n      <th>ocupacion</th>\n      <th>vmed</th>\n      <th>temperatura</th>\n      <th>humedad_relativa</th>\n      <th>presion_barometrica</th>\n      <th>radiacion_solar</th>\n      <th>precipitacion</th>\n      <th>vientox</th>\n      <th>vientoy</th>\n      <th>domingo/festivo</th>\n      <th>laborable</th>\n      <th>sabado</th>\n    </tr>\n    <tr>\n      <th>fecha</th>\n      <th></th>\n      <th></th>\n      <th></th>\n      <th></th>\n      <th></th>\n      <th></th>\n      <th></th>\n      <th></th>\n      <th></th>\n      <th></th>\n      <th></th>\n      <th></th>\n      <th></th>\n      <th></th>\n    </tr>\n  </thead>\n  <tbody>\n    <tr>\n      <th>2019-02-01 00:00:00</th>\n      <td>9999</td>\n      <td>10.0</td>\n      <td>NaN</td>\n      <td>NaN</td>\n      <td>6.0</td>\n      <td>96.00</td>\n      <td>929.00</td>\n      <td>0.0</td>\n      <td>0.3</td>\n      <td>-1.593149</td>\n      <td>-1.290107</td>\n      <td>0</td>\n      <td>1</td>\n      <td>0</td>\n    </tr>\n    <tr>\n      <th>2019-02-01 00:15:00</th>\n      <td>9999</td>\n      <td>10.0</td>\n      <td>NaN</td>\n      <td>NaN</td>\n      <td>6.0</td>\n      <td>96.25</td>\n      <td>928.75</td>\n      <td>0.0</td>\n      <td>0.5</td>\n      <td>-1.644327</td>\n      <td>-1.248437</td>\n      <td>0</td>\n      <td>1</td>\n      <td>0</td>\n    </tr>\n    <tr>\n      <th>2019-02-01 00:30:00</th>\n      <td>9999</td>\n      <td>9.0</td>\n      <td>NaN</td>\n      <td>NaN</td>\n      <td>6.0</td>\n      <td>96.50</td>\n      <td>928.50</td>\n      <td>0.0</td>\n      <td>0.7</td>\n      <td>-1.695506</td>\n      <td>-1.206768</td>\n      <td>0</td>\n      <td>1</td>\n      <td>0</td>\n    </tr>\n    <tr>\n      <th>2019-02-01 00:45:00</th>\n      <td>9999</td>\n      <td>11.0</td>\n      <td>NaN</td>\n      <td>NaN</td>\n      <td>6.0</td>\n      <td>96.75</td>\n      <td>928.25</td>\n      <td>0.0</td>\n      <td>0.9</td>\n      <td>-1.746684</td>\n      <td>-1.165098</td>\n      <td>0</td>\n      <td>1</td>\n      <td>0</td>\n    </tr>\n    <tr>\n      <th>2019-02-01 01:00:00</th>\n      <td>9999</td>\n      <td>10.0</td>\n      <td>NaN</td>\n      <td>NaN</td>\n      <td>6.0</td>\n      <td>97.00</td>\n      <td>928.00</td>\n      <td>0.0</td>\n      <td>1.1</td>\n      <td>-1.797862</td>\n      <td>-1.123429</td>\n      <td>0</td>\n      <td>1</td>\n      <td>0</td>\n    </tr>\n  </tbody>\n</table>\n</div>"
     },
     "execution_count": 6,
     "metadata": {},
     "output_type": "execute_result"
    }
   ],
   "source": [
    "import numpy as np\n",
    "import os\n",
    "import pandas as pd\n",
    "from graph_traffic.custom_funcs import  make_stable_values_null, rows_no_change\n",
    "from graph_traffic.config import data_path\n",
    "öo\n",
    "traffic_path = os.path.join(data_path, \"03-by-location\", \"traffic\")\n",
    "meteo_path = os.path.join(data_path, \"03-by-location\", \"meteo\")\n",
    "\n",
    "\n",
    "tmagns = ['intensidad', 'ocupacion', 'vmed']\n",
    "mmagns = ['temperatura', 'humedad_relativa', 'presion_barometrica', 'radiacion_solar',\n",
    "          'precipitacion', 'vientox', 'vientoy']\n",
    "\n",
    "mapping = pd.read_csv(os.path.join(data_path, '03-by-location', 'id_mapping.csv'))\n",
    "\n",
    "traffic_files = os.listdir(traffic_path)\n",
    "n_traffic_files = len(traffic_files)\n",
    "\n",
    "for i, t_file in enumerate(traffic_files):\n",
    "    print(f\"{i+1}/{n_traffic_files}\", end=\"\\r\")\n",
    "    t_location = t_file.split(\".\")[0]\n",
    "    # id de la estación meteorológica correspondiente a cada magnitud\n",
    "    ids_m = mapping[mapping.id_t == int(t_location)].iloc[0][[f'id_{magn}' for magn in mmagns]].astype(int)\n",
    "\n",
    "    # Leer los datos de tráfico\n",
    "    dft = pd.read_csv(f'{traffic_path}/{t_location}.csv', parse_dates=['fecha'], index_col='fecha')\n",
    "    if dft.empty:\n",
    "        continue\n",
    "    # Para cada estación, leemos los datos necesarios\n",
    "    dfm = {estacion: pd.read_csv(f'{meteo_path}/estacion-{estacion:.0f}.csv', parse_dates=['fecha'], index_col='fecha') for estacion in ids_m.unique()}\n",
    "\n",
    "    # Si hay más de 4 filas sin cambio, damos el valor por nulo\n",
    "    dft[tmagns] = dft[tmagns].apply(make_stable_values_null, nrows=4)\n",
    "    for estacion, dfmi in dfm.items():\n",
    "        nm = dfmi[mmagns].apply(rows_no_change)\n",
    "        for m in mmagns:\n",
    "            if m in ['precipitacion', 'radiacion_solar', 'presion_barometrica']:\n",
    "                continue\n",
    "            dfmi[m] = np.where((nm[m]>4) & (dfmi[m]!=0), np.nan, dfmi[m])\n",
    "        dfm[estacion] = dfmi\n",
    "\n",
    "    # Hacer el merge de todas las variables meteorológicas con el tráfico\n",
    "    df = dft\n",
    "    for m in mmagns:\n",
    "        df = df.merge(dfm[ids_m[f\"id_{m}\"]][[m]],\n",
    "                     left_index=True, right_index=True,\n",
    "                    how='left')\n",
    "\n",
    "    #del dft, dfm\n",
    "    df = df.sort_index()\n",
    "    #df[mmagns] = df[mmagns].fillna(method=\"ffill\", limit=4)\n",
    "    df[mmagns] = df[mmagns].interpolate(method=\"linear\", limit=4)\n",
    "\n",
    "    cal = pd.read_csv(data_path+'/03-by-location/calendario.csv', sep=';')\n",
    "    cal['fecha'] = pd.to_datetime(cal['Día'], dayfirst=True)\n",
    "    cal['laborable / festivo / domingo festivo'] = cal['laborable / festivo / domingo festivo'].str.lower()\n",
    "    festivos = cal[cal['laborable / festivo / domingo festivo']=='festivo'].fecha.dt.date.unique()\n",
    "\n",
    "    df['dia_semana'] = df.index.day_of_week\n",
    "    df.loc[df.dia_semana < 5, 'tipo_dia'] = 'laborable'\n",
    "    df.loc[df.dia_semana == 5, 'tipo_dia'] = 'sabado'\n",
    "    df.loc[(df.dia_semana == 6 ) | (pd.Series(df.index.date).isin(festivos)), 'tipo_dia'] = 'domingo/festivo'\n",
    "    df = df.merge(df.tipo_dia.str.get_dummies(), left_index=True, right_index=True, how=\"left\")\n",
    "    del df['dia_semana'], df['tipo_dia']\n",
    "    df.loc[\"2019\":].to_csv(f\"{data_path}/04-traffic-meteo-merged/{t_location}.csv\")\n",
    "\n",
    "    # timestamp_s = df.index.map(pd.Timestamp.timestamp)\n",
    "    #\n",
    "    # day = 24*60*60\n",
    "    # year = (365.2425)*day\n",
    "    #\n",
    "    # df['dia_sen'] = np.sin(timestamp_s * (2 * np.pi / day))\n",
    "    # df['dia_cos'] = np.cos(timestamp_s * (2 * np.pi / day))\n",
    "    # df['ano_sen'] = np.sin(timestamp_s * (2 * np.pi / year))\n",
    "    # df['ano_cos'] = np.cos(timestamp_s * (2 * np.pi / year))\n",
    "\n",
    "df.head()"
   ],
   "metadata": {
    "collapsed": false,
    "pycharm": {
     "name": "#%%\n"
    }
   }
  },
  {
   "cell_type": "code",
   "execution_count": 4,
   "outputs": [
    {
     "data": {
      "text/plain": "                        id  intensidad  ocupacion  vmed  temperatura  \\\nfecha                                                                  \n2019-01-01 03:45:00  10000        15.0        NaN   NaN          NaN   \n2019-01-01 07:00:00  10000        18.0        NaN   NaN    -1.500000   \n2019-01-01 07:15:00  10000        18.0        NaN   NaN     0.077778   \n2019-01-01 08:30:00  10000        15.0        NaN   NaN     1.655556   \n2019-01-01 08:45:00  10000        15.0        NaN   NaN     3.233333   \n...                    ...         ...        ...   ...          ...   \n2020-12-31 03:30:00  10000        18.0        NaN   NaN          NaN   \n2020-12-31 03:45:00  10000        10.0        NaN   NaN          NaN   \n2020-12-31 10:30:00  10000        24.0        NaN   NaN          NaN   \n2020-12-31 12:15:00  10000        60.0        NaN   NaN          NaN   \n2020-12-31 12:30:00  10000         0.0        NaN   NaN          NaN   \n\n                     humedad_relativa  presion_barometrica  radiacion_solar  \\\nfecha                                                                         \n2019-01-01 03:45:00               NaN                  NaN              NaN   \n2019-01-01 07:00:00         97.000000                959.0         0.000000   \n2019-01-01 07:15:00         90.222222                959.0        47.666667   \n2019-01-01 08:30:00         83.444444                959.0        95.333333   \n2019-01-01 08:45:00         76.666667                959.0       143.000000   \n...                               ...                  ...              ...   \n2020-12-31 03:30:00               NaN                  NaN              NaN   \n2020-12-31 03:45:00               NaN                  NaN              NaN   \n2020-12-31 10:30:00               NaN                  NaN              NaN   \n2020-12-31 12:15:00               NaN                  NaN              NaN   \n2020-12-31 12:30:00               NaN                  NaN              NaN   \n\n                     precipitacion   vientox   vientoy  domingo/festivo  \\\nfecha                                                                     \n2019-01-01 03:45:00            NaN       NaN       NaN                0   \n2019-01-01 07:00:00            0.0  0.000000 -0.000000                0   \n2019-01-01 07:15:00            0.0 -0.112902 -0.009878                0   \n2019-01-01 08:30:00            0.0 -0.225804 -0.019755                0   \n2019-01-01 08:45:00            0.0 -0.338706 -0.029633                0   \n...                            ...       ...       ...              ...   \n2020-12-31 03:30:00            NaN       NaN       NaN                0   \n2020-12-31 03:45:00            NaN       NaN       NaN                0   \n2020-12-31 10:30:00            NaN       NaN       NaN                0   \n2020-12-31 12:15:00            NaN       NaN       NaN                0   \n2020-12-31 12:30:00            NaN       NaN       NaN                0   \n\n                     laborable  sabado  \nfecha                                   \n2019-01-01 03:45:00          1       0  \n2019-01-01 07:00:00          1       0  \n2019-01-01 07:15:00          1       0  \n2019-01-01 08:30:00          1       0  \n2019-01-01 08:45:00          1       0  \n...                        ...     ...  \n2020-12-31 03:30:00          1       0  \n2020-12-31 03:45:00          1       0  \n2020-12-31 10:30:00          1       0  \n2020-12-31 12:15:00          1       0  \n2020-12-31 12:30:00          1       0  \n\n[18658 rows x 14 columns]",
      "text/html": "<div>\n<style scoped>\n    .dataframe tbody tr th:only-of-type {\n        vertical-align: middle;\n    }\n\n    .dataframe tbody tr th {\n        vertical-align: top;\n    }\n\n    .dataframe thead th {\n        text-align: right;\n    }\n</style>\n<table border=\"1\" class=\"dataframe\">\n  <thead>\n    <tr style=\"text-align: right;\">\n      <th></th>\n      <th>id</th>\n      <th>intensidad</th>\n      <th>ocupacion</th>\n      <th>vmed</th>\n      <th>temperatura</th>\n      <th>humedad_relativa</th>\n      <th>presion_barometrica</th>\n      <th>radiacion_solar</th>\n      <th>precipitacion</th>\n      <th>vientox</th>\n      <th>vientoy</th>\n      <th>domingo/festivo</th>\n      <th>laborable</th>\n      <th>sabado</th>\n    </tr>\n    <tr>\n      <th>fecha</th>\n      <th></th>\n      <th></th>\n      <th></th>\n      <th></th>\n      <th></th>\n      <th></th>\n      <th></th>\n      <th></th>\n      <th></th>\n      <th></th>\n      <th></th>\n      <th></th>\n      <th></th>\n      <th></th>\n    </tr>\n  </thead>\n  <tbody>\n    <tr>\n      <th>2019-01-01 03:45:00</th>\n      <td>10000</td>\n      <td>15.0</td>\n      <td>NaN</td>\n      <td>NaN</td>\n      <td>NaN</td>\n      <td>NaN</td>\n      <td>NaN</td>\n      <td>NaN</td>\n      <td>NaN</td>\n      <td>NaN</td>\n      <td>NaN</td>\n      <td>0</td>\n      <td>1</td>\n      <td>0</td>\n    </tr>\n    <tr>\n      <th>2019-01-01 07:00:00</th>\n      <td>10000</td>\n      <td>18.0</td>\n      <td>NaN</td>\n      <td>NaN</td>\n      <td>-1.500000</td>\n      <td>97.000000</td>\n      <td>959.0</td>\n      <td>0.000000</td>\n      <td>0.0</td>\n      <td>0.000000</td>\n      <td>-0.000000</td>\n      <td>0</td>\n      <td>1</td>\n      <td>0</td>\n    </tr>\n    <tr>\n      <th>2019-01-01 07:15:00</th>\n      <td>10000</td>\n      <td>18.0</td>\n      <td>NaN</td>\n      <td>NaN</td>\n      <td>0.077778</td>\n      <td>90.222222</td>\n      <td>959.0</td>\n      <td>47.666667</td>\n      <td>0.0</td>\n      <td>-0.112902</td>\n      <td>-0.009878</td>\n      <td>0</td>\n      <td>1</td>\n      <td>0</td>\n    </tr>\n    <tr>\n      <th>2019-01-01 08:30:00</th>\n      <td>10000</td>\n      <td>15.0</td>\n      <td>NaN</td>\n      <td>NaN</td>\n      <td>1.655556</td>\n      <td>83.444444</td>\n      <td>959.0</td>\n      <td>95.333333</td>\n      <td>0.0</td>\n      <td>-0.225804</td>\n      <td>-0.019755</td>\n      <td>0</td>\n      <td>1</td>\n      <td>0</td>\n    </tr>\n    <tr>\n      <th>2019-01-01 08:45:00</th>\n      <td>10000</td>\n      <td>15.0</td>\n      <td>NaN</td>\n      <td>NaN</td>\n      <td>3.233333</td>\n      <td>76.666667</td>\n      <td>959.0</td>\n      <td>143.000000</td>\n      <td>0.0</td>\n      <td>-0.338706</td>\n      <td>-0.029633</td>\n      <td>0</td>\n      <td>1</td>\n      <td>0</td>\n    </tr>\n    <tr>\n      <th>...</th>\n      <td>...</td>\n      <td>...</td>\n      <td>...</td>\n      <td>...</td>\n      <td>...</td>\n      <td>...</td>\n      <td>...</td>\n      <td>...</td>\n      <td>...</td>\n      <td>...</td>\n      <td>...</td>\n      <td>...</td>\n      <td>...</td>\n      <td>...</td>\n    </tr>\n    <tr>\n      <th>2020-12-31 03:30:00</th>\n      <td>10000</td>\n      <td>18.0</td>\n      <td>NaN</td>\n      <td>NaN</td>\n      <td>NaN</td>\n      <td>NaN</td>\n      <td>NaN</td>\n      <td>NaN</td>\n      <td>NaN</td>\n      <td>NaN</td>\n      <td>NaN</td>\n      <td>0</td>\n      <td>1</td>\n      <td>0</td>\n    </tr>\n    <tr>\n      <th>2020-12-31 03:45:00</th>\n      <td>10000</td>\n      <td>10.0</td>\n      <td>NaN</td>\n      <td>NaN</td>\n      <td>NaN</td>\n      <td>NaN</td>\n      <td>NaN</td>\n      <td>NaN</td>\n      <td>NaN</td>\n      <td>NaN</td>\n      <td>NaN</td>\n      <td>0</td>\n      <td>1</td>\n      <td>0</td>\n    </tr>\n    <tr>\n      <th>2020-12-31 10:30:00</th>\n      <td>10000</td>\n      <td>24.0</td>\n      <td>NaN</td>\n      <td>NaN</td>\n      <td>NaN</td>\n      <td>NaN</td>\n      <td>NaN</td>\n      <td>NaN</td>\n      <td>NaN</td>\n      <td>NaN</td>\n      <td>NaN</td>\n      <td>0</td>\n      <td>1</td>\n      <td>0</td>\n    </tr>\n    <tr>\n      <th>2020-12-31 12:15:00</th>\n      <td>10000</td>\n      <td>60.0</td>\n      <td>NaN</td>\n      <td>NaN</td>\n      <td>NaN</td>\n      <td>NaN</td>\n      <td>NaN</td>\n      <td>NaN</td>\n      <td>NaN</td>\n      <td>NaN</td>\n      <td>NaN</td>\n      <td>0</td>\n      <td>1</td>\n      <td>0</td>\n    </tr>\n    <tr>\n      <th>2020-12-31 12:30:00</th>\n      <td>10000</td>\n      <td>0.0</td>\n      <td>NaN</td>\n      <td>NaN</td>\n      <td>NaN</td>\n      <td>NaN</td>\n      <td>NaN</td>\n      <td>NaN</td>\n      <td>NaN</td>\n      <td>NaN</td>\n      <td>NaN</td>\n      <td>0</td>\n      <td>1</td>\n      <td>0</td>\n    </tr>\n  </tbody>\n</table>\n<p>18658 rows × 14 columns</p>\n</div>"
     },
     "execution_count": 4,
     "metadata": {},
     "output_type": "execute_result"
    }
   ],
   "source": [
    "df"
   ],
   "metadata": {
    "collapsed": false,
    "pycharm": {
     "name": "#%%\n"
    }
   }
  },
  {
   "cell_type": "code",
   "execution_count": 23,
   "outputs": [
    {
     "data": {
      "text/plain": "'10001'"
     },
     "execution_count": 23,
     "metadata": {},
     "output_type": "execute_result"
    }
   ],
   "source": [
    "t_location"
   ],
   "metadata": {
    "collapsed": false,
    "pycharm": {
     "name": "#%%\n"
    }
   }
  },
  {
   "cell_type": "code",
   "execution_count": 25,
   "outputs": [
    {
     "data": {
      "text/plain": "'10001.csv'"
     },
     "execution_count": 25,
     "metadata": {},
     "output_type": "execute_result"
    }
   ],
   "source": [
    "t_file"
   ],
   "metadata": {
    "collapsed": false,
    "pycharm": {
     "name": "#%%\n"
    }
   }
  },
  {
   "cell_type": "code",
   "execution_count": null,
   "outputs": [],
   "source": [],
   "metadata": {
    "collapsed": false,
    "pycharm": {
     "name": "#%%\n"
    }
   }
  }
 ],
 "metadata": {
  "kernelspec": {
   "display_name": "Python 3",
   "language": "python",
   "name": "python3"
  },
  "language_info": {
   "codemirror_mode": {
    "name": "ipython",
    "version": 2
   },
   "file_extension": ".py",
   "mimetype": "text/x-python",
   "name": "python",
   "nbconvert_exporter": "python",
   "pygments_lexer": "ipython2",
   "version": "2.7.6"
  }
 },
 "nbformat": 4,
 "nbformat_minor": 0
}