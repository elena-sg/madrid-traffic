{
 "cells": [
  {
   "cell_type": "code",
   "execution_count": 4,
   "outputs": [],
   "source": [
    "import pickle\n",
    "from graph_traffic.config import training_path\n",
    "import pandas as pd"
   ],
   "metadata": {
    "collapsed": false,
    "pycharm": {
     "name": "#%%\n"
    }
   }
  },
  {
   "cell_type": "markdown",
   "source": [
    "# 1. Baseline models"
   ],
   "metadata": {
    "collapsed": false,
    "pycharm": {
     "name": "#%% md\n"
    }
   }
  },
  {
   "cell_type": "markdown",
   "source": [
    "### 1.1 Mean regressor"
   ],
   "metadata": {
    "collapsed": false,
    "pycharm": {
     "name": "#%% md\n"
    }
   }
  },
  {
   "cell_type": "markdown",
   "source": [
    "### 1.2 Median regressor"
   ],
   "metadata": {
    "collapsed": false,
    "pycharm": {
     "name": "#%% md\n"
    }
   }
  },
  {
   "cell_type": "markdown",
   "source": [
    "### 1.3 Repeat regressor"
   ],
   "metadata": {
    "collapsed": false,
    "pycharm": {
     "name": "#%% md\n"
    }
   }
  },
  {
   "cell_type": "code",
   "execution_count": 5,
   "outputs": [],
   "source": [
    "for seq_len in [2, 4, 8, 16]:\n",
    "    with open(f\"{training_path}/baseline/repeat/maes_{seq_len}.pkl\", \"rb\") as f:\n",
    "        maes = pickle.load(f)\n",
    "    maes = pd.DataFrame(maes).T\n",
    "    maes.columns = [\"Jun\", \"Jul\", \"Aug\",\"Sep\", \"Oct\", \"Nov\", \"Dec\"]\n",
    "    maes[\"avg\"] = maes.mean(axis=1)\n",
    "    maes[\"std\"] = maes.std(axis=1)\n",
    "\n",
    "    with open(f\"{training_path}/baseline/repeat/mses_{seq_len}.pkl\", \"rb\") as f:\n",
    "        mses = pickle.load(f)\n",
    "    mses = pd.DataFrame(mses).T\n",
    "    mses.columns = [\"Jun\", \"Jul\", \"Aug\",\"Sep\", \"Oct\", \"Nov\", \"Dec\"]\n",
    "    mses[\"avg\"] = mses.mean(axis=1)\n",
    "    mses[\"std\"] = mses.std(axis=1)\n",
    "\n",
    "    df = pd.merge(maes, mses, left_index=True, right_index=True).round(4)\n",
    "    df.to_csv(f\"{training_path}/baseline/repeat/losses_{seq_len}.csv\")"
   ],
   "metadata": {
    "collapsed": false,
    "pycharm": {
     "name": "#%%\n"
    }
   }
  },
  {
   "cell_type": "markdown",
   "source": [
    "### 1.4 Repeat last regressor"
   ],
   "metadata": {
    "collapsed": false,
    "pycharm": {
     "name": "#%% md\n"
    }
   }
  },
  {
   "cell_type": "code",
   "execution_count": null,
   "outputs": [],
   "source": [
    "for seq_len in [2, 4, 8, 16]:\n",
    "    with open(f\"{training_path}/baseline/repeat/maes_{seq_len}.pkl\", \"rb\") as f:\n",
    "        maes = pickle.load(f)\n",
    "    maes = pd.DataFrame(maes).T\n",
    "    maes.columns = [\"Jun\", \"Jul\", \"Aug\",\"Sep\", \"Oct\", \"Nov\", \"Dec\"]\n",
    "    maes[\"avg\"] = maes.mean(axis=1)\n",
    "    maes[\"std\"] = maes.std(axis=1)\n",
    "\n",
    "    with open(f\"{training_path}/baseline/repeat/mses_{seq_len}.pkl\", \"rb\") as f:\n",
    "        mses = pickle.load(f)\n",
    "    mses = pd.DataFrame(mses).T\n",
    "    mses.columns = [\"Jun\", \"Jul\", \"Aug\",\"Sep\", \"Oct\", \"Nov\", \"Dec\"]\n",
    "    mses[\"avg\"] = mses.mean(axis=1)\n",
    "    mses[\"std\"] = mses.std(axis=1)\n",
    "\n",
    "    df = pd.merge(maes, mses, left_index=True, right_index=True).round(4)\n",
    "    df.to_csv(f\"{training_path}/baseline/repeat/losses_{seq_len}.csv\")"
   ],
   "metadata": {
    "collapsed": false,
    "pycharm": {
     "name": "#%%\n"
    }
   }
  },
  {
   "cell_type": "markdown",
   "source": [
    "# 2. Lineal regression"
   ],
   "metadata": {
    "collapsed": false,
    "pycharm": {
     "name": "#%% md\n"
    }
   }
  },
  {
   "cell_type": "markdown",
   "source": [
    "\n",
    "# 3. XGBoost"
   ],
   "metadata": {
    "collapsed": false,
    "pycharm": {
     "name": "#%% md\n"
    }
   }
  },
  {
   "cell_type": "markdown",
   "source": [
    "# 4. GNN"
   ],
   "metadata": {
    "collapsed": false,
    "pycharm": {
     "name": "#%% md\n"
    }
   }
  },
  {
   "cell_type": "code",
   "execution_count": null,
   "outputs": [],
   "source": [],
   "metadata": {
    "collapsed": false,
    "pycharm": {
     "name": "#%%\n"
    }
   }
  }
 ],
 "metadata": {
  "kernelspec": {
   "display_name": "Python 3",
   "language": "python",
   "name": "python3"
  },
  "language_info": {
   "codemirror_mode": {
    "name": "ipython",
    "version": 2
   },
   "file_extension": ".py",
   "mimetype": "text/x-python",
   "name": "python",
   "nbconvert_exporter": "python",
   "pygments_lexer": "ipython2",
   "version": "2.7.6"
  }
 },
 "nbformat": 4,
 "nbformat_minor": 0
}