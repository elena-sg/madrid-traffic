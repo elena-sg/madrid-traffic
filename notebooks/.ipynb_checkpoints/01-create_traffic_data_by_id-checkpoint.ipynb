{
 "cells": [
  {
   "cell_type": "markdown",
   "id": "e06d424f",
   "metadata": {
    "pycharm": {
     "name": "#%% md\n"
    }
   },
   "source": [
    "# Process the files"
   ]
  },
  {
   "cell_type": "code",
   "execution_count": 7,
   "id": "f8e68604",
   "metadata": {
    "pycharm": {
     "name": "#%%\n"
    }
   },
   "outputs": [
    {
     "data": {
      "text/plain": [
       "24"
      ]
     },
     "execution_count": 7,
     "metadata": {},
     "output_type": "execute_result"
    }
   ],
   "source": [
    "import numpy as np\n",
    "import pandas as pd\n",
    "import os\n",
    "from graph_traffic.config import data_path\n",
    "\n",
    "raw_traffic_path = f\"{data_path}/01-raw/traffic\""
   ]
  },
  {
   "cell_type": "markdown",
   "id": "060ccfde",
   "metadata": {
    "pycharm": {
     "name": "#%% md\n"
    }
   },
   "source": [
    "#### Historical traffic data"
   ]
  },
  {
   "cell_type": "code",
   "execution_count": null,
   "id": "1bdabfc6",
   "metadata": {
    "pycharm": {
     "name": "#%%\n"
    }
   },
   "outputs": [],
   "source": [
    "files = [file for file in os.listdir(f\"{raw_traffic_path}/history\") if file.endswith('.csv')]\n",
    "n_files = len(files)\n",
    "n_files"
   ]
  },
  {
   "cell_type": "markdown",
   "id": "cdc70f9a",
   "metadata": {
    "pycharm": {
     "name": "#%% md\n"
    }
   },
   "source": [
    "#### Locations data"
   ]
  },
  {
   "cell_type": "code",
   "execution_count": 9,
   "id": "2afc393c-499d-4218-943c-5ab6d6ca5861",
   "metadata": {
    "pycharm": {
     "name": "#%%\n"
    },
    "tags": []
   },
   "outputs": [
    {
     "name": "stdout",
     "output_type": "stream",
     "text": [
      "4609\n"
     ]
    },
    {
     "data": {
      "text/plain": [
       "[1001, 1002, 1003, 1006, 1009, 1010, 1011, 1012, 1013, 1014]"
      ]
     },
     "execution_count": 9,
     "metadata": {},
     "output_type": "execute_result"
    }
   ],
   "source": [
    "locations = sorted(pd.read_csv(f'{raw_traffic_path}/ubs.csv').id.values)\n",
    "n_locations = len(locations)\n",
    "print(n_locations)\n",
    "locations[:10]"
   ]
  },
  {
   "cell_type": "markdown",
   "id": "dd43e047",
   "metadata": {
    "pycharm": {
     "name": "#%% md\n"
    }
   },
   "source": [
    "## 1. Files by month --> Files by locations and id"
   ]
  },
  {
   "cell_type": "code",
   "execution_count": 17,
   "id": "f2671562-08b7-4e96-8203-8b20498bea4c",
   "metadata": {
    "pycharm": {
     "name": "#%%\n"
    },
    "tags": []
   },
   "outputs": [
    {
     "name": "stdout",
     "output_type": "stream",
     "text": [
      "file 1/24     01-2018.csv\n",
      "file 2/24     01-2019.csv920\n",
      "file 3/24     02-2018.csv920\n",
      "file 4/24     02-2019.csv920\n",
      "file 5/24     03-2018.csv920\n",
      "file 6/24     03-2019.csv920\n",
      "file 7/24     04-2018.csv920\n",
      "file 8/24     04-2019.csv920\n",
      "file 9/24     05-2018.csv920\n",
      "file 10/24     05-2019.csv20\n",
      "file 11/24     06-2018.csv20\n",
      "file 12/24     06-2019.csv20\n",
      "file 13/24     07-2018.csv20\n",
      "file 14/24     07-2019.csv20\n",
      "file 15/24     08-2018.csv20\n",
      "file 16/24     08-2019.csv20\n",
      "file 17/24     09-2018.csv20\n",
      "file 18/24     09-2019.csv20\n",
      "file 19/24     10-2018.csv20\n",
      "file 20/24     10-2019.csv20\n",
      "file 21/24     11-2018.csv20\n",
      "file 22/24     11-2019.csv20\n",
      "file 23/24     12-2018.csv20\n",
      "file 24/24     12-2019.csv20\n",
      "location 4609/4609     10920\r"
     ]
    }
   ],
   "source": [
    "for j, file in enumerate(files):\n",
    "    print(f\"file {j+1}/{n_files}     {file}\")\n",
    "    df = pd.read_csv(f\"{raw_traffic_path}/history/{file}\", sep=';', parse_dates=['fecha'])\n",
    "    year = file.split(\"-\")[1].split(\".\")[0]\n",
    "    month = file.split(\"-\")[0]\n",
    "    for i, location_id in enumerate(locations):\n",
    "        print(f\"location {i+1}/{n_locations}     {location_id}\", end=\"\\r\")\n",
    "        df_i = df[df.id==location_id].copy()\n",
    "        for c in ['intensidad', 'ocupacion', 'vmed']:\n",
    "            df_i.loc[:, c] = np.where(df_i['error'].isna(), np.nan, df_i[c])\n",
    "        df_i = df_i[['id', 'fecha', 'intensidad', 'ocupacion', 'vmed']]\n",
    "        df_i.set_index('fecha', inplace=True)\n",
    "        df_i.to_csv(f\"{data_path}/02-by-location-month/traffic/{location_id}_{year}_{month}.csv\")"
   ]
  },
  {
   "cell_type": "markdown",
   "id": "82d5e550",
   "metadata": {
    "pycharm": {
     "name": "#%% md\n"
    }
   },
   "source": [
    "## 2. Concatenate all the files for the same location"
   ]
  },
  {
   "cell_type": "code",
   "execution_count": 20,
   "id": "3e5f484a-a0f4-4208-9521-b35b13b25ed8",
   "metadata": {
    "pycharm": {
     "name": "#%%\n"
    },
    "tags": []
   },
   "outputs": [
    {
     "name": "stdout",
     "output_type": "stream",
     "text": [
      "location 4609/4609     10920\r"
     ]
    }
   ],
   "source": [
    "all_loc_files = os.listdir(f\"{data_path}/02-by-location-month/traffic\")\n",
    "for i, location in enumerate(locations):\n",
    "    print(f\"location {i+1}/{n_locations}     {location}\", end=\"\\r\")\n",
    "    loc_files = [x for x in all_loc_files if x.startswith(f\"{location}_\")]\n",
    "    df = pd.DataFrame([])\n",
    "    for l in sorted(loc_files):\n",
    "        df_i = pd.read_csv(f'{data_path}/02-by-location-month/traffic/{l}')\n",
    "        df = pd.concat([df, df_i])\n",
    "    df.to_csv(f'{data_path}/03-by-location/traffic/{location}.csv', index=False)"
   ]
  },
  {
   "cell_type": "code",
   "execution_count": null,
   "id": "a741fbb1",
   "metadata": {},
   "outputs": [],
   "source": []
  }
 ],
 "metadata": {
  "kernelspec": {
   "display_name": "Python 3 (ipykernel)",
   "language": "python",
   "name": "python3"
  },
  "language_info": {
   "codemirror_mode": {
    "name": "ipython",
    "version": 3
   },
   "file_extension": ".py",
   "mimetype": "text/x-python",
   "name": "python",
   "nbconvert_exporter": "python",
   "pygments_lexer": "ipython3",
   "version": "3.9.12"
  }
 },
 "nbformat": 4,
 "nbformat_minor": 5
}
