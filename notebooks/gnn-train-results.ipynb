{
 "cells": [
  {
   "cell_type": "code",
   "execution_count": 3,
   "metadata": {
    "collapsed": true,
    "pycharm": {
     "name": "#%%\n"
    }
   },
   "outputs": [],
   "source": [
    "from graph_traffic.config import project_path\n",
    "import pandas as pd\n",
    "import pickle\n",
    "\n",
    "training_folder = f\"{project_path}/training_history/\"\n",
    "training_datetime = \"20220512_000432\"\n",
    "#training_datetime = \"20220525_083624\"\n",
    "\n",
    "with open(f\"{training_folder}/{training_datetime}/data_dict.pkl\", \"rb\") as f:\n",
    "    data_dict = pickle.load(f)\n",
    "\n",
    "with open(f\"{training_folder}/{training_datetime}/temporal_dict.pkl\", \"rb\") as f:\n",
    "    temporal_dict = pickle.load(f)\n",
    "\n",
    "with open(f\"{training_folder}/{training_datetime}/meteo_dict.pkl\", \"rb\") as f:\n",
    "    meteo_dict = pickle.load(f)\n",
    "\n",
    "with open(f\"{training_folder}/{training_datetime}/learning_args.pkl\", \"rb\") as f:\n",
    "    learning_args = pickle.load(f)"
   ]
  },
  {
   "cell_type": "code",
   "execution_count": 4,
   "outputs": [
    {
     "data": {
      "text/plain": "{'ids_list': [3954, 3973, 3976, 3977, 3978],\n 'seq_len': 3,\n 'with_graph': True,\n 'from_date': '2019-03-01',\n 'to_date': '2019-03-31',\n 'dataset_name': 'small',\n 'target': 'intensidad',\n 'interactions': None}"
     },
     "execution_count": 4,
     "metadata": {},
     "output_type": "execute_result"
    }
   ],
   "source": [
    "data_dict"
   ],
   "metadata": {
    "collapsed": false,
    "pycharm": {
     "name": "#%%\n"
    }
   }
  },
  {
   "cell_type": "code",
   "execution_count": 5,
   "outputs": [
    {
     "data": {
      "text/plain": "{'rain': 'ordinal',\n 'wind': 'wind_speed',\n 'temperature': 'drop',\n 'humidity': 'passthrough',\n 'pressure': 'drop',\n 'radiation': 'drop'}"
     },
     "execution_count": 5,
     "metadata": {},
     "output_type": "execute_result"
    }
   ],
   "source": [
    "meteo_dict"
   ],
   "metadata": {
    "collapsed": false,
    "pycharm": {
     "name": "#%%\n"
    }
   }
  },
  {
   "cell_type": "code",
   "execution_count": 6,
   "outputs": [
    {
     "data": {
      "text/plain": "{'season': 'ordinal',\n 'month': 'spline',\n 'day_of_month': 'trigonometric',\n 'hour': 'spline'}"
     },
     "execution_count": 6,
     "metadata": {},
     "output_type": "execute_result"
    }
   ],
   "source": [
    "temporal_dict"
   ],
   "metadata": {
    "collapsed": false,
    "pycharm": {
     "name": "#%%\n"
    }
   }
  },
  {
   "cell_type": "code",
   "execution_count": 7,
   "outputs": [
    {
     "data": {
      "text/plain": "{'n_points': None,\n 'batch_size': 64,\n 'diffsteps': 2,\n 'decay_steps': 2000,\n 'lr': 0.01,\n 'minimum_lr': 2e-06,\n 'epochs': 100,\n 'max_grad_norm': 5.0,\n 'num_workers': 0,\n 'model': 'dcrnn',\n 'gpu': -1,\n 'num_heads': 2,\n 'out_feats': 64,\n 'num_layers': 2}"
     },
     "execution_count": 7,
     "metadata": {},
     "output_type": "execute_result"
    }
   ],
   "source": [
    "learning_args"
   ],
   "metadata": {
    "collapsed": false,
    "pycharm": {
     "name": "#%%\n"
    }
   }
  },
  {
   "cell_type": "code",
   "execution_count": null,
   "outputs": [],
   "source": [],
   "metadata": {
    "collapsed": false,
    "pycharm": {
     "name": "#%%\n"
    }
   }
  }
 ],
 "metadata": {
  "kernelspec": {
   "display_name": "Python 3",
   "language": "python",
   "name": "python3"
  },
  "language_info": {
   "codemirror_mode": {
    "name": "ipython",
    "version": 2
   },
   "file_extension": ".py",
   "mimetype": "text/x-python",
   "name": "python",
   "nbconvert_exporter": "python",
   "pygments_lexer": "ipython2",
   "version": "2.7.6"
  }
 },
 "nbformat": 4,
 "nbformat_minor": 0
}