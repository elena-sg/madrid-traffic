{
 "cells": [
  {
   "cell_type": "code",
   "execution_count": null,
   "outputs": [
    {
     "name": "stdout",
     "output_type": "stream",
     "text": [
      "3634/4609\r"
     ]
    }
   ],
   "source": [
    "import numpy as np\n",
    "import os\n",
    "import pandas as pd\n",
    "from graph_traffic.custom_funcs import  make_stable_values_null, rows_no_change\n",
    "from graph_traffic.config import data_path\n",
    "\n",
    "traffic_path = os.path.join(data_path, \"03-by-location\", \"traffic\")\n",
    "meteo_path = os.path.join(data_path, \"03-by-location\", \"meteo\")\n",
    "\n",
    "\n",
    "tmagns = ['intensidad', 'ocupacion', 'vmed']\n",
    "mmagns = ['temperatura', 'humedad_relativa', 'presion_barometrica', 'radiacion_solar',\n",
    "          'precipitacion', 'dir_viento', 'velocidad_viento']\n",
    "\n",
    "mapping = pd.read_csv(os.path.join(data_path, '03-by-location', 'id_mapping.csv'))\n",
    "\n",
    "traffic_files = os.listdir(traffic_path)\n",
    "n_traffic_files = len(traffic_files)\n",
    "\n",
    "for i, t_file in enumerate(traffic_files):\n",
    "    print(f\"{i+1}/{n_traffic_files}\", end=\"\\r\")\n",
    "    t_location = t_file.split(\".\")[0]\n",
    "    # id de la estación meteorológica correspondiente a cada magnitud\n",
    "    ids_m = mapping[mapping.id_t == int(t_location)].iloc[0][[f'id_{magn}' for magn in mmagns]].astype(int)\n",
    "\n",
    "    # Leer los datos de tráfico\n",
    "    dft = pd.read_csv(f'{traffic_path}/{t_location}.csv', parse_dates=['fecha'], index_col='fecha')\n",
    "    if dft.empty:\n",
    "        continue\n",
    "    # Para cada estación, leemos los datos necesarios\n",
    "    dfm = {estacion: pd.read_csv(f'{meteo_path}/estacion-{estacion:.0f}.csv', parse_dates=['fecha'], index_col='fecha') for estacion in ids_m.unique()}\n",
    "\n",
    "    # Si hay más de 4 filas sin cambio, damos el valor por nulo\n",
    "    dft[tmagns] = dft[tmagns].apply(make_stable_values_null, nrows=4)\n",
    "    for estacion, dfmi in dfm.items():\n",
    "        nm = dfmi[mmagns].apply(rows_no_change)\n",
    "        for m in mmagns:\n",
    "            if m in ['precipitacion', 'radiacion_solar', 'presion_barometrica']:\n",
    "                continue\n",
    "            dfmi[m] = np.where((nm[m]>4) & (dfmi[m]!=0), np.nan, dfmi[m])\n",
    "        dfm[estacion] = dfmi\n",
    "\n",
    "    # Hacer el merge de todas las variables meteorológicas con el tráfico\n",
    "    df = dft\n",
    "    for m in mmagns:\n",
    "        df = df.merge(dfm[ids_m[f\"id_{m}\"]][[m]],\n",
    "                     left_index=True, right_index=True,\n",
    "                    how='left')\n",
    "\n",
    "    del dft, dfm\n",
    "    df = df.sort_index()\n",
    "    df[mmagns] = df[mmagns].interpolate(method=\"linear\", limit=4)\n",
    "\n",
    "    df.to_csv(f\"{data_path}/04-traffic-meteo-merged/{t_location}.csv\")\n",
    "\n",
    "df.head()"
   ],
   "metadata": {
    "collapsed": false,
    "pycharm": {
     "name": "#%%\n",
     "is_executing": true
    }
   }
  },
  {
   "cell_type": "code",
   "execution_count": 6,
   "outputs": [
    {
     "data": {
      "text/plain": "                       id  intensidad  ocupacion  vmed  temperatura  \\\nfecha                                                                 \n2019-02-01 00:00:00  9999        10.0        NaN   NaN        6.000   \n2019-02-01 00:15:00  9999        10.0        NaN   NaN        6.000   \n2019-02-01 00:30:00  9999         9.0        NaN   NaN        6.000   \n2019-02-01 00:45:00  9999        11.0        NaN   NaN        6.000   \n2019-02-01 01:00:00  9999        10.0        NaN   NaN        6.000   \n...                   ...         ...        ...   ...          ...   \n2020-12-31 22:15:00  9999        14.0        2.0   NaN        2.425   \n2020-12-31 22:30:00  9999        14.0        1.0   NaN        2.350   \n2020-12-31 22:45:00  9999         6.0        0.0   NaN        2.275   \n2020-12-31 23:00:00  9999        10.0        0.0   NaN        2.200   \n2020-12-31 23:15:00  9999         6.0        0.0   NaN        2.200   \n\n                     humedad_relativa  presion_barometrica  radiacion_solar  \\\nfecha                                                                         \n2019-02-01 00:00:00             96.00               929.00              0.0   \n2019-02-01 00:15:00             96.25               928.75              0.0   \n2019-02-01 00:30:00             96.50               928.50              0.0   \n2019-02-01 00:45:00             96.75               928.25              0.0   \n2019-02-01 01:00:00             97.00               928.00              0.0   \n...                               ...                  ...              ...   \n2020-12-31 22:15:00             93.00               937.00              0.0   \n2020-12-31 22:30:00             93.00               937.00              0.0   \n2020-12-31 22:45:00             93.00               937.00              0.0   \n2020-12-31 23:00:00             93.00               937.00              0.0   \n2020-12-31 23:15:00             93.00               937.00              0.0   \n\n                     precipitacion  dir_viento  velocidad_viento  \nfecha                                                             \n2019-02-01 00:00:00          0.300      219.00            2.0500  \n2019-02-01 00:15:00          0.500      217.25            2.0675  \n2019-02-01 00:30:00          0.700      215.50            2.0850  \n2019-02-01 00:45:00          0.900      213.75            2.1025  \n2019-02-01 01:00:00          1.100      212.00            2.1200  \n...                            ...         ...               ...  \n2020-12-31 22:15:00          0.225      211.50            1.4550  \n2020-12-31 22:30:00          0.450      216.00            1.3300  \n2020-12-31 22:45:00          0.675      220.50            1.2050  \n2020-12-31 23:00:00          0.900      225.00            1.0800  \n2020-12-31 23:15:00          0.900      225.00            1.0800  \n\n[56533 rows x 11 columns]",
      "text/html": "<div>\n<style scoped>\n    .dataframe tbody tr th:only-of-type {\n        vertical-align: middle;\n    }\n\n    .dataframe tbody tr th {\n        vertical-align: top;\n    }\n\n    .dataframe thead th {\n        text-align: right;\n    }\n</style>\n<table border=\"1\" class=\"dataframe\">\n  <thead>\n    <tr style=\"text-align: right;\">\n      <th></th>\n      <th>id</th>\n      <th>intensidad</th>\n      <th>ocupacion</th>\n      <th>vmed</th>\n      <th>temperatura</th>\n      <th>humedad_relativa</th>\n      <th>presion_barometrica</th>\n      <th>radiacion_solar</th>\n      <th>precipitacion</th>\n      <th>dir_viento</th>\n      <th>velocidad_viento</th>\n    </tr>\n    <tr>\n      <th>fecha</th>\n      <th></th>\n      <th></th>\n      <th></th>\n      <th></th>\n      <th></th>\n      <th></th>\n      <th></th>\n      <th></th>\n      <th></th>\n      <th></th>\n      <th></th>\n    </tr>\n  </thead>\n  <tbody>\n    <tr>\n      <th>2019-02-01 00:00:00</th>\n      <td>9999</td>\n      <td>10.0</td>\n      <td>NaN</td>\n      <td>NaN</td>\n      <td>6.000</td>\n      <td>96.00</td>\n      <td>929.00</td>\n      <td>0.0</td>\n      <td>0.300</td>\n      <td>219.00</td>\n      <td>2.0500</td>\n    </tr>\n    <tr>\n      <th>2019-02-01 00:15:00</th>\n      <td>9999</td>\n      <td>10.0</td>\n      <td>NaN</td>\n      <td>NaN</td>\n      <td>6.000</td>\n      <td>96.25</td>\n      <td>928.75</td>\n      <td>0.0</td>\n      <td>0.500</td>\n      <td>217.25</td>\n      <td>2.0675</td>\n    </tr>\n    <tr>\n      <th>2019-02-01 00:30:00</th>\n      <td>9999</td>\n      <td>9.0</td>\n      <td>NaN</td>\n      <td>NaN</td>\n      <td>6.000</td>\n      <td>96.50</td>\n      <td>928.50</td>\n      <td>0.0</td>\n      <td>0.700</td>\n      <td>215.50</td>\n      <td>2.0850</td>\n    </tr>\n    <tr>\n      <th>2019-02-01 00:45:00</th>\n      <td>9999</td>\n      <td>11.0</td>\n      <td>NaN</td>\n      <td>NaN</td>\n      <td>6.000</td>\n      <td>96.75</td>\n      <td>928.25</td>\n      <td>0.0</td>\n      <td>0.900</td>\n      <td>213.75</td>\n      <td>2.1025</td>\n    </tr>\n    <tr>\n      <th>2019-02-01 01:00:00</th>\n      <td>9999</td>\n      <td>10.0</td>\n      <td>NaN</td>\n      <td>NaN</td>\n      <td>6.000</td>\n      <td>97.00</td>\n      <td>928.00</td>\n      <td>0.0</td>\n      <td>1.100</td>\n      <td>212.00</td>\n      <td>2.1200</td>\n    </tr>\n    <tr>\n      <th>...</th>\n      <td>...</td>\n      <td>...</td>\n      <td>...</td>\n      <td>...</td>\n      <td>...</td>\n      <td>...</td>\n      <td>...</td>\n      <td>...</td>\n      <td>...</td>\n      <td>...</td>\n      <td>...</td>\n    </tr>\n    <tr>\n      <th>2020-12-31 22:15:00</th>\n      <td>9999</td>\n      <td>14.0</td>\n      <td>2.0</td>\n      <td>NaN</td>\n      <td>2.425</td>\n      <td>93.00</td>\n      <td>937.00</td>\n      <td>0.0</td>\n      <td>0.225</td>\n      <td>211.50</td>\n      <td>1.4550</td>\n    </tr>\n    <tr>\n      <th>2020-12-31 22:30:00</th>\n      <td>9999</td>\n      <td>14.0</td>\n      <td>1.0</td>\n      <td>NaN</td>\n      <td>2.350</td>\n      <td>93.00</td>\n      <td>937.00</td>\n      <td>0.0</td>\n      <td>0.450</td>\n      <td>216.00</td>\n      <td>1.3300</td>\n    </tr>\n    <tr>\n      <th>2020-12-31 22:45:00</th>\n      <td>9999</td>\n      <td>6.0</td>\n      <td>0.0</td>\n      <td>NaN</td>\n      <td>2.275</td>\n      <td>93.00</td>\n      <td>937.00</td>\n      <td>0.0</td>\n      <td>0.675</td>\n      <td>220.50</td>\n      <td>1.2050</td>\n    </tr>\n    <tr>\n      <th>2020-12-31 23:00:00</th>\n      <td>9999</td>\n      <td>10.0</td>\n      <td>0.0</td>\n      <td>NaN</td>\n      <td>2.200</td>\n      <td>93.00</td>\n      <td>937.00</td>\n      <td>0.0</td>\n      <td>0.900</td>\n      <td>225.00</td>\n      <td>1.0800</td>\n    </tr>\n    <tr>\n      <th>2020-12-31 23:15:00</th>\n      <td>9999</td>\n      <td>6.0</td>\n      <td>0.0</td>\n      <td>NaN</td>\n      <td>2.200</td>\n      <td>93.00</td>\n      <td>937.00</td>\n      <td>0.0</td>\n      <td>0.900</td>\n      <td>225.00</td>\n      <td>1.0800</td>\n    </tr>\n  </tbody>\n</table>\n<p>56533 rows × 11 columns</p>\n</div>"
     },
     "execution_count": 6,
     "metadata": {},
     "output_type": "execute_result"
    }
   ],
   "source": [
    "df"
   ],
   "metadata": {
    "collapsed": false,
    "pycharm": {
     "name": "#%%\n"
    }
   }
  },
  {
   "cell_type": "code",
   "execution_count": null,
   "outputs": [],
   "source": [],
   "metadata": {
    "collapsed": false,
    "pycharm": {
     "name": "#%%\n"
    }
   }
  }
 ],
 "metadata": {
  "kernelspec": {
   "display_name": "Python 3",
   "language": "python",
   "name": "python3"
  },
  "language_info": {
   "codemirror_mode": {
    "name": "ipython",
    "version": 2
   },
   "file_extension": ".py",
   "mimetype": "text/x-python",
   "name": "python",
   "nbconvert_exporter": "python",
   "pygments_lexer": "ipython2",
   "version": "2.7.6"
  }
 },
 "nbformat": 4,
 "nbformat_minor": 0
}